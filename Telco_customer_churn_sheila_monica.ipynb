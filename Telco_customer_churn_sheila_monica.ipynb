{
  "cells": [
    {
      "cell_type": "markdown",
      "metadata": {
        "id": "X5BPrbo56fbb"
      },
      "source": [
        "# Milestone 1"
      ]
    },
    {
      "cell_type": "markdown",
      "metadata": {
        "id": "Una7Dx1Y6fbc"
      },
      "source": [
        "# I. Perkenalan"
      ]
    },
    {
      "cell_type": "markdown",
      "metadata": {
        "id": "cmyGW4gX6fbd"
      },
      "source": [
        "- Nama: Sheila Monica\n",
        "- Batch: FTDS 013\n",
        "- Dataset: Telco-Customer-Churn.csv from Telco Customer Churn Dataset\n",
        "- Dataset Link: https://www.kaggle.com/datasets/blastchar/telco-customer-churn\n",
        "- Objective: To implement artificial neural network with given dataset"
      ]
    },
    {
      "cell_type": "markdown",
      "metadata": {
        "id": "sn3D_zb16fbd"
      },
      "source": [
        "# II. Import Libraries"
      ]
    },
    {
      "cell_type": "code",
      "execution_count": 1,
      "metadata": {
        "id": "PEK19ync6fbd"
      },
      "outputs": [],
      "source": [
        "# Import Libraries\n",
        "\n",
        "import numpy as np\n",
        "import pandas as pd\n",
        "import matplotlib.pyplot as plt\n",
        "import seaborn as sns\n",
        "import copy\n",
        "import tensorflow as tf \n",
        "import pathlib\n",
        "from sklearn.model_selection import train_test_split\n",
        "from sklearn.pipeline import Pipeline\n",
        "from sklearn.impute import SimpleImputer\n",
        "from sklearn.preprocessing import OneHotEncoder,StandardScaler\n",
        "from sklearn.compose import ColumnTransformer\n",
        "import keras\n",
        "from keras.models import Sequential, Functional\n",
        "from keras.layers import Dropout, Input, BatchNormalization, Dense\n",
        "from sklearn.metrics import ConfusionMatrixDisplay,confusion_matrix\n",
        "from sklearn.metrics import classification_report\n",
        "from sklearn.metrics import accuracy_score\n",
        "from scipy.stats import reciprocal\n",
        "from sklearn.model_selection import RandomizedSearchCV"
      ]
    },
    {
      "cell_type": "markdown",
      "metadata": {
        "id": "x9hBWs7E6fbe"
      },
      "source": [
        "# III. Data Loading"
      ]
    },
    {
      "cell_type": "code",
      "execution_count": 2,
      "metadata": {
        "id": "gh4565TO6fbe"
      },
      "outputs": [],
      "source": [
        "# Load Dataset\n",
        "\n",
        "data = pd.read_csv('Telco-Customer-Churn.csv')"
      ]
    },
    {
      "cell_type": "code",
      "execution_count": 3,
      "metadata": {
        "colab": {
          "base_uri": "https://localhost:8080/",
          "height": 387
        },
        "id": "CT6dqTMu6fbe",
        "outputId": "d65e7fa7-c8ca-46f4-acce-84ff260ea3cd"
      },
      "outputs": [
        {
          "data": {
            "text/html": [
              "\n",
              "  <div id=\"df-5f32029e-5f94-453c-bec4-ff860bf2fec5\">\n",
              "    <div class=\"colab-df-container\">\n",
              "      <div>\n",
              "<style scoped>\n",
              "    .dataframe tbody tr th:only-of-type {\n",
              "        vertical-align: middle;\n",
              "    }\n",
              "\n",
              "    .dataframe tbody tr th {\n",
              "        vertical-align: top;\n",
              "    }\n",
              "\n",
              "    .dataframe thead th {\n",
              "        text-align: right;\n",
              "    }\n",
              "</style>\n",
              "<table border=\"1\" class=\"dataframe\">\n",
              "  <thead>\n",
              "    <tr style=\"text-align: right;\">\n",
              "      <th></th>\n",
              "      <th>customerID</th>\n",
              "      <th>gender</th>\n",
              "      <th>SeniorCitizen</th>\n",
              "      <th>Partner</th>\n",
              "      <th>Dependents</th>\n",
              "      <th>tenure</th>\n",
              "      <th>PhoneService</th>\n",
              "      <th>MultipleLines</th>\n",
              "      <th>InternetService</th>\n",
              "      <th>OnlineSecurity</th>\n",
              "      <th>...</th>\n",
              "      <th>DeviceProtection</th>\n",
              "      <th>TechSupport</th>\n",
              "      <th>StreamingTV</th>\n",
              "      <th>StreamingMovies</th>\n",
              "      <th>Contract</th>\n",
              "      <th>PaperlessBilling</th>\n",
              "      <th>PaymentMethod</th>\n",
              "      <th>MonthlyCharges</th>\n",
              "      <th>TotalCharges</th>\n",
              "      <th>Churn</th>\n",
              "    </tr>\n",
              "  </thead>\n",
              "  <tbody>\n",
              "    <tr>\n",
              "      <th>0</th>\n",
              "      <td>7590-VHVEG</td>\n",
              "      <td>Female</td>\n",
              "      <td>0</td>\n",
              "      <td>Yes</td>\n",
              "      <td>No</td>\n",
              "      <td>1</td>\n",
              "      <td>No</td>\n",
              "      <td>No phone service</td>\n",
              "      <td>DSL</td>\n",
              "      <td>No</td>\n",
              "      <td>...</td>\n",
              "      <td>No</td>\n",
              "      <td>No</td>\n",
              "      <td>No</td>\n",
              "      <td>No</td>\n",
              "      <td>Month-to-month</td>\n",
              "      <td>Yes</td>\n",
              "      <td>Electronic check</td>\n",
              "      <td>29.85</td>\n",
              "      <td>29.85</td>\n",
              "      <td>No</td>\n",
              "    </tr>\n",
              "    <tr>\n",
              "      <th>1</th>\n",
              "      <td>5575-GNVDE</td>\n",
              "      <td>Male</td>\n",
              "      <td>0</td>\n",
              "      <td>No</td>\n",
              "      <td>No</td>\n",
              "      <td>34</td>\n",
              "      <td>Yes</td>\n",
              "      <td>No</td>\n",
              "      <td>DSL</td>\n",
              "      <td>Yes</td>\n",
              "      <td>...</td>\n",
              "      <td>Yes</td>\n",
              "      <td>No</td>\n",
              "      <td>No</td>\n",
              "      <td>No</td>\n",
              "      <td>One year</td>\n",
              "      <td>No</td>\n",
              "      <td>Mailed check</td>\n",
              "      <td>56.95</td>\n",
              "      <td>1889.5</td>\n",
              "      <td>No</td>\n",
              "    </tr>\n",
              "    <tr>\n",
              "      <th>2</th>\n",
              "      <td>3668-QPYBK</td>\n",
              "      <td>Male</td>\n",
              "      <td>0</td>\n",
              "      <td>No</td>\n",
              "      <td>No</td>\n",
              "      <td>2</td>\n",
              "      <td>Yes</td>\n",
              "      <td>No</td>\n",
              "      <td>DSL</td>\n",
              "      <td>Yes</td>\n",
              "      <td>...</td>\n",
              "      <td>No</td>\n",
              "      <td>No</td>\n",
              "      <td>No</td>\n",
              "      <td>No</td>\n",
              "      <td>Month-to-month</td>\n",
              "      <td>Yes</td>\n",
              "      <td>Mailed check</td>\n",
              "      <td>53.85</td>\n",
              "      <td>108.15</td>\n",
              "      <td>Yes</td>\n",
              "    </tr>\n",
              "    <tr>\n",
              "      <th>3</th>\n",
              "      <td>7795-CFOCW</td>\n",
              "      <td>Male</td>\n",
              "      <td>0</td>\n",
              "      <td>No</td>\n",
              "      <td>No</td>\n",
              "      <td>45</td>\n",
              "      <td>No</td>\n",
              "      <td>No phone service</td>\n",
              "      <td>DSL</td>\n",
              "      <td>Yes</td>\n",
              "      <td>...</td>\n",
              "      <td>Yes</td>\n",
              "      <td>Yes</td>\n",
              "      <td>No</td>\n",
              "      <td>No</td>\n",
              "      <td>One year</td>\n",
              "      <td>No</td>\n",
              "      <td>Bank transfer (automatic)</td>\n",
              "      <td>42.30</td>\n",
              "      <td>1840.75</td>\n",
              "      <td>No</td>\n",
              "    </tr>\n",
              "    <tr>\n",
              "      <th>4</th>\n",
              "      <td>9237-HQITU</td>\n",
              "      <td>Female</td>\n",
              "      <td>0</td>\n",
              "      <td>No</td>\n",
              "      <td>No</td>\n",
              "      <td>2</td>\n",
              "      <td>Yes</td>\n",
              "      <td>No</td>\n",
              "      <td>Fiber optic</td>\n",
              "      <td>No</td>\n",
              "      <td>...</td>\n",
              "      <td>No</td>\n",
              "      <td>No</td>\n",
              "      <td>No</td>\n",
              "      <td>No</td>\n",
              "      <td>Month-to-month</td>\n",
              "      <td>Yes</td>\n",
              "      <td>Electronic check</td>\n",
              "      <td>70.70</td>\n",
              "      <td>151.65</td>\n",
              "      <td>Yes</td>\n",
              "    </tr>\n",
              "  </tbody>\n",
              "</table>\n",
              "<p>5 rows × 21 columns</p>\n",
              "</div>\n",
              "      <button class=\"colab-df-convert\" onclick=\"convertToInteractive('df-5f32029e-5f94-453c-bec4-ff860bf2fec5')\"\n",
              "              title=\"Convert this dataframe to an interactive table.\"\n",
              "              style=\"display:none;\">\n",
              "        \n",
              "  <svg xmlns=\"http://www.w3.org/2000/svg\" height=\"24px\"viewBox=\"0 0 24 24\"\n",
              "       width=\"24px\">\n",
              "    <path d=\"M0 0h24v24H0V0z\" fill=\"none\"/>\n",
              "    <path d=\"M18.56 5.44l.94 2.06.94-2.06 2.06-.94-2.06-.94-.94-2.06-.94 2.06-2.06.94zm-11 1L8.5 8.5l.94-2.06 2.06-.94-2.06-.94L8.5 2.5l-.94 2.06-2.06.94zm10 10l.94 2.06.94-2.06 2.06-.94-2.06-.94-.94-2.06-.94 2.06-2.06.94z\"/><path d=\"M17.41 7.96l-1.37-1.37c-.4-.4-.92-.59-1.43-.59-.52 0-1.04.2-1.43.59L10.3 9.45l-7.72 7.72c-.78.78-.78 2.05 0 2.83L4 21.41c.39.39.9.59 1.41.59.51 0 1.02-.2 1.41-.59l7.78-7.78 2.81-2.81c.8-.78.8-2.07 0-2.86zM5.41 20L4 18.59l7.72-7.72 1.47 1.35L5.41 20z\"/>\n",
              "  </svg>\n",
              "      </button>\n",
              "      \n",
              "  <style>\n",
              "    .colab-df-container {\n",
              "      display:flex;\n",
              "      flex-wrap:wrap;\n",
              "      gap: 12px;\n",
              "    }\n",
              "\n",
              "    .colab-df-convert {\n",
              "      background-color: #E8F0FE;\n",
              "      border: none;\n",
              "      border-radius: 50%;\n",
              "      cursor: pointer;\n",
              "      display: none;\n",
              "      fill: #1967D2;\n",
              "      height: 32px;\n",
              "      padding: 0 0 0 0;\n",
              "      width: 32px;\n",
              "    }\n",
              "\n",
              "    .colab-df-convert:hover {\n",
              "      background-color: #E2EBFA;\n",
              "      box-shadow: 0px 1px 2px rgba(60, 64, 67, 0.3), 0px 1px 3px 1px rgba(60, 64, 67, 0.15);\n",
              "      fill: #174EA6;\n",
              "    }\n",
              "\n",
              "    [theme=dark] .colab-df-convert {\n",
              "      background-color: #3B4455;\n",
              "      fill: #D2E3FC;\n",
              "    }\n",
              "\n",
              "    [theme=dark] .colab-df-convert:hover {\n",
              "      background-color: #434B5C;\n",
              "      box-shadow: 0px 1px 3px 1px rgba(0, 0, 0, 0.15);\n",
              "      filter: drop-shadow(0px 1px 2px rgba(0, 0, 0, 0.3));\n",
              "      fill: #FFFFFF;\n",
              "    }\n",
              "  </style>\n",
              "\n",
              "      <script>\n",
              "        const buttonEl =\n",
              "          document.querySelector('#df-5f32029e-5f94-453c-bec4-ff860bf2fec5 button.colab-df-convert');\n",
              "        buttonEl.style.display =\n",
              "          google.colab.kernel.accessAllowed ? 'block' : 'none';\n",
              "\n",
              "        async function convertToInteractive(key) {\n",
              "          const element = document.querySelector('#df-5f32029e-5f94-453c-bec4-ff860bf2fec5');\n",
              "          const dataTable =\n",
              "            await google.colab.kernel.invokeFunction('convertToInteractive',\n",
              "                                                     [key], {});\n",
              "          if (!dataTable) return;\n",
              "\n",
              "          const docLinkHtml = 'Like what you see? Visit the ' +\n",
              "            '<a target=\"_blank\" href=https://colab.research.google.com/notebooks/data_table.ipynb>data table notebook</a>'\n",
              "            + ' to learn more about interactive tables.';\n",
              "          element.innerHTML = '';\n",
              "          dataTable['output_type'] = 'display_data';\n",
              "          await google.colab.output.renderOutput(dataTable, element);\n",
              "          const docLink = document.createElement('div');\n",
              "          docLink.innerHTML = docLinkHtml;\n",
              "          element.appendChild(docLink);\n",
              "        }\n",
              "      </script>\n",
              "    </div>\n",
              "  </div>\n",
              "  "
            ],
            "text/plain": [
              "   customerID  gender  SeniorCitizen Partner Dependents  tenure PhoneService  \\\n",
              "0  7590-VHVEG  Female              0     Yes         No       1           No   \n",
              "1  5575-GNVDE    Male              0      No         No      34          Yes   \n",
              "2  3668-QPYBK    Male              0      No         No       2          Yes   \n",
              "3  7795-CFOCW    Male              0      No         No      45           No   \n",
              "4  9237-HQITU  Female              0      No         No       2          Yes   \n",
              "\n",
              "      MultipleLines InternetService OnlineSecurity  ... DeviceProtection  \\\n",
              "0  No phone service             DSL             No  ...               No   \n",
              "1                No             DSL            Yes  ...              Yes   \n",
              "2                No             DSL            Yes  ...               No   \n",
              "3  No phone service             DSL            Yes  ...              Yes   \n",
              "4                No     Fiber optic             No  ...               No   \n",
              "\n",
              "  TechSupport StreamingTV StreamingMovies        Contract PaperlessBilling  \\\n",
              "0          No          No              No  Month-to-month              Yes   \n",
              "1          No          No              No        One year               No   \n",
              "2          No          No              No  Month-to-month              Yes   \n",
              "3         Yes          No              No        One year               No   \n",
              "4          No          No              No  Month-to-month              Yes   \n",
              "\n",
              "               PaymentMethod MonthlyCharges  TotalCharges Churn  \n",
              "0           Electronic check          29.85         29.85    No  \n",
              "1               Mailed check          56.95        1889.5    No  \n",
              "2               Mailed check          53.85        108.15   Yes  \n",
              "3  Bank transfer (automatic)          42.30       1840.75    No  \n",
              "4           Electronic check          70.70        151.65   Yes  \n",
              "\n",
              "[5 rows x 21 columns]"
            ]
          },
          "execution_count": 3,
          "metadata": {},
          "output_type": "execute_result"
        }
      ],
      "source": [
        "# Checking Data\n",
        "\n",
        "data.head()"
      ]
    },
    {
      "cell_type": "code",
      "execution_count": 4,
      "metadata": {
        "colab": {
          "base_uri": "https://localhost:8080/",
          "height": 387
        },
        "id": "q0Uh5SRr6fbf",
        "outputId": "7ac8e3b3-eb71-4cff-a1fa-a2d72483e378"
      },
      "outputs": [
        {
          "data": {
            "text/html": [
              "\n",
              "  <div id=\"df-f30f6747-4330-43a6-ad64-205c737c0bf1\">\n",
              "    <div class=\"colab-df-container\">\n",
              "      <div>\n",
              "<style scoped>\n",
              "    .dataframe tbody tr th:only-of-type {\n",
              "        vertical-align: middle;\n",
              "    }\n",
              "\n",
              "    .dataframe tbody tr th {\n",
              "        vertical-align: top;\n",
              "    }\n",
              "\n",
              "    .dataframe thead th {\n",
              "        text-align: right;\n",
              "    }\n",
              "</style>\n",
              "<table border=\"1\" class=\"dataframe\">\n",
              "  <thead>\n",
              "    <tr style=\"text-align: right;\">\n",
              "      <th></th>\n",
              "      <th>customerID</th>\n",
              "      <th>gender</th>\n",
              "      <th>SeniorCitizen</th>\n",
              "      <th>Partner</th>\n",
              "      <th>Dependents</th>\n",
              "      <th>tenure</th>\n",
              "      <th>PhoneService</th>\n",
              "      <th>MultipleLines</th>\n",
              "      <th>InternetService</th>\n",
              "      <th>OnlineSecurity</th>\n",
              "      <th>...</th>\n",
              "      <th>DeviceProtection</th>\n",
              "      <th>TechSupport</th>\n",
              "      <th>StreamingTV</th>\n",
              "      <th>StreamingMovies</th>\n",
              "      <th>Contract</th>\n",
              "      <th>PaperlessBilling</th>\n",
              "      <th>PaymentMethod</th>\n",
              "      <th>MonthlyCharges</th>\n",
              "      <th>TotalCharges</th>\n",
              "      <th>Churn</th>\n",
              "    </tr>\n",
              "  </thead>\n",
              "  <tbody>\n",
              "    <tr>\n",
              "      <th>7038</th>\n",
              "      <td>6840-RESVB</td>\n",
              "      <td>Male</td>\n",
              "      <td>0</td>\n",
              "      <td>Yes</td>\n",
              "      <td>Yes</td>\n",
              "      <td>24</td>\n",
              "      <td>Yes</td>\n",
              "      <td>Yes</td>\n",
              "      <td>DSL</td>\n",
              "      <td>Yes</td>\n",
              "      <td>...</td>\n",
              "      <td>Yes</td>\n",
              "      <td>Yes</td>\n",
              "      <td>Yes</td>\n",
              "      <td>Yes</td>\n",
              "      <td>One year</td>\n",
              "      <td>Yes</td>\n",
              "      <td>Mailed check</td>\n",
              "      <td>84.80</td>\n",
              "      <td>1990.5</td>\n",
              "      <td>No</td>\n",
              "    </tr>\n",
              "    <tr>\n",
              "      <th>7039</th>\n",
              "      <td>2234-XADUH</td>\n",
              "      <td>Female</td>\n",
              "      <td>0</td>\n",
              "      <td>Yes</td>\n",
              "      <td>Yes</td>\n",
              "      <td>72</td>\n",
              "      <td>Yes</td>\n",
              "      <td>Yes</td>\n",
              "      <td>Fiber optic</td>\n",
              "      <td>No</td>\n",
              "      <td>...</td>\n",
              "      <td>Yes</td>\n",
              "      <td>No</td>\n",
              "      <td>Yes</td>\n",
              "      <td>Yes</td>\n",
              "      <td>One year</td>\n",
              "      <td>Yes</td>\n",
              "      <td>Credit card (automatic)</td>\n",
              "      <td>103.20</td>\n",
              "      <td>7362.9</td>\n",
              "      <td>No</td>\n",
              "    </tr>\n",
              "    <tr>\n",
              "      <th>7040</th>\n",
              "      <td>4801-JZAZL</td>\n",
              "      <td>Female</td>\n",
              "      <td>0</td>\n",
              "      <td>Yes</td>\n",
              "      <td>Yes</td>\n",
              "      <td>11</td>\n",
              "      <td>No</td>\n",
              "      <td>No phone service</td>\n",
              "      <td>DSL</td>\n",
              "      <td>Yes</td>\n",
              "      <td>...</td>\n",
              "      <td>No</td>\n",
              "      <td>No</td>\n",
              "      <td>No</td>\n",
              "      <td>No</td>\n",
              "      <td>Month-to-month</td>\n",
              "      <td>Yes</td>\n",
              "      <td>Electronic check</td>\n",
              "      <td>29.60</td>\n",
              "      <td>346.45</td>\n",
              "      <td>No</td>\n",
              "    </tr>\n",
              "    <tr>\n",
              "      <th>7041</th>\n",
              "      <td>8361-LTMKD</td>\n",
              "      <td>Male</td>\n",
              "      <td>1</td>\n",
              "      <td>Yes</td>\n",
              "      <td>No</td>\n",
              "      <td>4</td>\n",
              "      <td>Yes</td>\n",
              "      <td>Yes</td>\n",
              "      <td>Fiber optic</td>\n",
              "      <td>No</td>\n",
              "      <td>...</td>\n",
              "      <td>No</td>\n",
              "      <td>No</td>\n",
              "      <td>No</td>\n",
              "      <td>No</td>\n",
              "      <td>Month-to-month</td>\n",
              "      <td>Yes</td>\n",
              "      <td>Mailed check</td>\n",
              "      <td>74.40</td>\n",
              "      <td>306.6</td>\n",
              "      <td>Yes</td>\n",
              "    </tr>\n",
              "    <tr>\n",
              "      <th>7042</th>\n",
              "      <td>3186-AJIEK</td>\n",
              "      <td>Male</td>\n",
              "      <td>0</td>\n",
              "      <td>No</td>\n",
              "      <td>No</td>\n",
              "      <td>66</td>\n",
              "      <td>Yes</td>\n",
              "      <td>No</td>\n",
              "      <td>Fiber optic</td>\n",
              "      <td>Yes</td>\n",
              "      <td>...</td>\n",
              "      <td>Yes</td>\n",
              "      <td>Yes</td>\n",
              "      <td>Yes</td>\n",
              "      <td>Yes</td>\n",
              "      <td>Two year</td>\n",
              "      <td>Yes</td>\n",
              "      <td>Bank transfer (automatic)</td>\n",
              "      <td>105.65</td>\n",
              "      <td>6844.5</td>\n",
              "      <td>No</td>\n",
              "    </tr>\n",
              "  </tbody>\n",
              "</table>\n",
              "<p>5 rows × 21 columns</p>\n",
              "</div>\n",
              "      <button class=\"colab-df-convert\" onclick=\"convertToInteractive('df-f30f6747-4330-43a6-ad64-205c737c0bf1')\"\n",
              "              title=\"Convert this dataframe to an interactive table.\"\n",
              "              style=\"display:none;\">\n",
              "        \n",
              "  <svg xmlns=\"http://www.w3.org/2000/svg\" height=\"24px\"viewBox=\"0 0 24 24\"\n",
              "       width=\"24px\">\n",
              "    <path d=\"M0 0h24v24H0V0z\" fill=\"none\"/>\n",
              "    <path d=\"M18.56 5.44l.94 2.06.94-2.06 2.06-.94-2.06-.94-.94-2.06-.94 2.06-2.06.94zm-11 1L8.5 8.5l.94-2.06 2.06-.94-2.06-.94L8.5 2.5l-.94 2.06-2.06.94zm10 10l.94 2.06.94-2.06 2.06-.94-2.06-.94-.94-2.06-.94 2.06-2.06.94z\"/><path d=\"M17.41 7.96l-1.37-1.37c-.4-.4-.92-.59-1.43-.59-.52 0-1.04.2-1.43.59L10.3 9.45l-7.72 7.72c-.78.78-.78 2.05 0 2.83L4 21.41c.39.39.9.59 1.41.59.51 0 1.02-.2 1.41-.59l7.78-7.78 2.81-2.81c.8-.78.8-2.07 0-2.86zM5.41 20L4 18.59l7.72-7.72 1.47 1.35L5.41 20z\"/>\n",
              "  </svg>\n",
              "      </button>\n",
              "      \n",
              "  <style>\n",
              "    .colab-df-container {\n",
              "      display:flex;\n",
              "      flex-wrap:wrap;\n",
              "      gap: 12px;\n",
              "    }\n",
              "\n",
              "    .colab-df-convert {\n",
              "      background-color: #E8F0FE;\n",
              "      border: none;\n",
              "      border-radius: 50%;\n",
              "      cursor: pointer;\n",
              "      display: none;\n",
              "      fill: #1967D2;\n",
              "      height: 32px;\n",
              "      padding: 0 0 0 0;\n",
              "      width: 32px;\n",
              "    }\n",
              "\n",
              "    .colab-df-convert:hover {\n",
              "      background-color: #E2EBFA;\n",
              "      box-shadow: 0px 1px 2px rgba(60, 64, 67, 0.3), 0px 1px 3px 1px rgba(60, 64, 67, 0.15);\n",
              "      fill: #174EA6;\n",
              "    }\n",
              "\n",
              "    [theme=dark] .colab-df-convert {\n",
              "      background-color: #3B4455;\n",
              "      fill: #D2E3FC;\n",
              "    }\n",
              "\n",
              "    [theme=dark] .colab-df-convert:hover {\n",
              "      background-color: #434B5C;\n",
              "      box-shadow: 0px 1px 3px 1px rgba(0, 0, 0, 0.15);\n",
              "      filter: drop-shadow(0px 1px 2px rgba(0, 0, 0, 0.3));\n",
              "      fill: #FFFFFF;\n",
              "    }\n",
              "  </style>\n",
              "\n",
              "      <script>\n",
              "        const buttonEl =\n",
              "          document.querySelector('#df-f30f6747-4330-43a6-ad64-205c737c0bf1 button.colab-df-convert');\n",
              "        buttonEl.style.display =\n",
              "          google.colab.kernel.accessAllowed ? 'block' : 'none';\n",
              "\n",
              "        async function convertToInteractive(key) {\n",
              "          const element = document.querySelector('#df-f30f6747-4330-43a6-ad64-205c737c0bf1');\n",
              "          const dataTable =\n",
              "            await google.colab.kernel.invokeFunction('convertToInteractive',\n",
              "                                                     [key], {});\n",
              "          if (!dataTable) return;\n",
              "\n",
              "          const docLinkHtml = 'Like what you see? Visit the ' +\n",
              "            '<a target=\"_blank\" href=https://colab.research.google.com/notebooks/data_table.ipynb>data table notebook</a>'\n",
              "            + ' to learn more about interactive tables.';\n",
              "          element.innerHTML = '';\n",
              "          dataTable['output_type'] = 'display_data';\n",
              "          await google.colab.output.renderOutput(dataTable, element);\n",
              "          const docLink = document.createElement('div');\n",
              "          docLink.innerHTML = docLinkHtml;\n",
              "          element.appendChild(docLink);\n",
              "        }\n",
              "      </script>\n",
              "    </div>\n",
              "  </div>\n",
              "  "
            ],
            "text/plain": [
              "      customerID  gender  SeniorCitizen Partner Dependents  tenure  \\\n",
              "7038  6840-RESVB    Male              0     Yes        Yes      24   \n",
              "7039  2234-XADUH  Female              0     Yes        Yes      72   \n",
              "7040  4801-JZAZL  Female              0     Yes        Yes      11   \n",
              "7041  8361-LTMKD    Male              1     Yes         No       4   \n",
              "7042  3186-AJIEK    Male              0      No         No      66   \n",
              "\n",
              "     PhoneService     MultipleLines InternetService OnlineSecurity  ...  \\\n",
              "7038          Yes               Yes             DSL            Yes  ...   \n",
              "7039          Yes               Yes     Fiber optic             No  ...   \n",
              "7040           No  No phone service             DSL            Yes  ...   \n",
              "7041          Yes               Yes     Fiber optic             No  ...   \n",
              "7042          Yes                No     Fiber optic            Yes  ...   \n",
              "\n",
              "     DeviceProtection TechSupport StreamingTV StreamingMovies        Contract  \\\n",
              "7038              Yes         Yes         Yes             Yes        One year   \n",
              "7039              Yes          No         Yes             Yes        One year   \n",
              "7040               No          No          No              No  Month-to-month   \n",
              "7041               No          No          No              No  Month-to-month   \n",
              "7042              Yes         Yes         Yes             Yes        Two year   \n",
              "\n",
              "     PaperlessBilling              PaymentMethod MonthlyCharges  TotalCharges  \\\n",
              "7038              Yes               Mailed check          84.80        1990.5   \n",
              "7039              Yes    Credit card (automatic)         103.20        7362.9   \n",
              "7040              Yes           Electronic check          29.60        346.45   \n",
              "7041              Yes               Mailed check          74.40         306.6   \n",
              "7042              Yes  Bank transfer (automatic)         105.65        6844.5   \n",
              "\n",
              "     Churn  \n",
              "7038    No  \n",
              "7039    No  \n",
              "7040    No  \n",
              "7041   Yes  \n",
              "7042    No  \n",
              "\n",
              "[5 rows x 21 columns]"
            ]
          },
          "execution_count": 4,
          "metadata": {},
          "output_type": "execute_result"
        }
      ],
      "source": [
        "# Checking Data\n",
        "\n",
        "data.tail()"
      ]
    },
    {
      "cell_type": "code",
      "execution_count": 5,
      "metadata": {
        "colab": {
          "base_uri": "https://localhost:8080/"
        },
        "id": "hHnb49iZ6fbf",
        "outputId": "4d98b411-1e3b-4055-aa51-43fca9eacb4f"
      },
      "outputs": [
        {
          "name": "stdout",
          "output_type": "stream",
          "text": [
            "<class 'pandas.core.frame.DataFrame'>\n",
            "RangeIndex: 7043 entries, 0 to 7042\n",
            "Data columns (total 21 columns):\n",
            " #   Column            Non-Null Count  Dtype  \n",
            "---  ------            --------------  -----  \n",
            " 0   customerID        7043 non-null   object \n",
            " 1   gender            7043 non-null   object \n",
            " 2   SeniorCitizen     7043 non-null   int64  \n",
            " 3   Partner           7043 non-null   object \n",
            " 4   Dependents        7043 non-null   object \n",
            " 5   tenure            7043 non-null   int64  \n",
            " 6   PhoneService      7043 non-null   object \n",
            " 7   MultipleLines     7043 non-null   object \n",
            " 8   InternetService   7043 non-null   object \n",
            " 9   OnlineSecurity    7043 non-null   object \n",
            " 10  OnlineBackup      7043 non-null   object \n",
            " 11  DeviceProtection  7043 non-null   object \n",
            " 12  TechSupport       7043 non-null   object \n",
            " 13  StreamingTV       7043 non-null   object \n",
            " 14  StreamingMovies   7043 non-null   object \n",
            " 15  Contract          7043 non-null   object \n",
            " 16  PaperlessBilling  7043 non-null   object \n",
            " 17  PaymentMethod     7043 non-null   object \n",
            " 18  MonthlyCharges    7043 non-null   float64\n",
            " 19  TotalCharges      7043 non-null   object \n",
            " 20  Churn             7043 non-null   object \n",
            "dtypes: float64(1), int64(2), object(18)\n",
            "memory usage: 1.1+ MB\n"
          ]
        }
      ],
      "source": [
        "# Checking Data\n",
        "\n",
        "data.info()"
      ]
    },
    {
      "cell_type": "markdown",
      "metadata": {
        "id": "zkhCuBRI6fbg"
      },
      "source": [
        "We can see that the TotalCharges column are interestingly written as a string. I will be converting this into a float value column instead."
      ]
    },
    {
      "cell_type": "code",
      "execution_count": 6,
      "metadata": {
        "id": "m7GYjklA6fbg"
      },
      "outputs": [],
      "source": [
        "# Converting TotalCharges column\n",
        "data['TotalCharges'] = data['TotalCharges'].str.replace(\"'\",\"\")\n",
        "data['TotalCharges'] = data['TotalCharges'].apply(pd.to_numeric, errors='coerce')"
      ]
    },
    {
      "cell_type": "code",
      "execution_count": 7,
      "metadata": {
        "colab": {
          "base_uri": "https://localhost:8080/",
          "height": 175
        },
        "id": "xR7muSoe6fbg",
        "outputId": "0a957478-385c-43e0-e8d0-9d6c46c605f2"
      },
      "outputs": [
        {
          "data": {
            "text/html": [
              "\n",
              "  <div id=\"df-6ccc2414-6651-4cfd-8716-09c123b12647\">\n",
              "    <div class=\"colab-df-container\">\n",
              "      <div>\n",
              "<style scoped>\n",
              "    .dataframe tbody tr th:only-of-type {\n",
              "        vertical-align: middle;\n",
              "    }\n",
              "\n",
              "    .dataframe tbody tr th {\n",
              "        vertical-align: top;\n",
              "    }\n",
              "\n",
              "    .dataframe thead th {\n",
              "        text-align: right;\n",
              "    }\n",
              "</style>\n",
              "<table border=\"1\" class=\"dataframe\">\n",
              "  <thead>\n",
              "    <tr style=\"text-align: right;\">\n",
              "      <th></th>\n",
              "      <th>count</th>\n",
              "      <th>mean</th>\n",
              "      <th>std</th>\n",
              "      <th>min</th>\n",
              "      <th>25%</th>\n",
              "      <th>50%</th>\n",
              "      <th>75%</th>\n",
              "      <th>max</th>\n",
              "    </tr>\n",
              "  </thead>\n",
              "  <tbody>\n",
              "    <tr>\n",
              "      <th>SeniorCitizen</th>\n",
              "      <td>7043.0</td>\n",
              "      <td>0.162147</td>\n",
              "      <td>0.368612</td>\n",
              "      <td>0.00</td>\n",
              "      <td>0.00</td>\n",
              "      <td>0.000</td>\n",
              "      <td>0.0000</td>\n",
              "      <td>1.00</td>\n",
              "    </tr>\n",
              "    <tr>\n",
              "      <th>tenure</th>\n",
              "      <td>7043.0</td>\n",
              "      <td>32.371149</td>\n",
              "      <td>24.559481</td>\n",
              "      <td>0.00</td>\n",
              "      <td>9.00</td>\n",
              "      <td>29.000</td>\n",
              "      <td>55.0000</td>\n",
              "      <td>72.00</td>\n",
              "    </tr>\n",
              "    <tr>\n",
              "      <th>MonthlyCharges</th>\n",
              "      <td>7043.0</td>\n",
              "      <td>64.761692</td>\n",
              "      <td>30.090047</td>\n",
              "      <td>18.25</td>\n",
              "      <td>35.50</td>\n",
              "      <td>70.350</td>\n",
              "      <td>89.8500</td>\n",
              "      <td>118.75</td>\n",
              "    </tr>\n",
              "    <tr>\n",
              "      <th>TotalCharges</th>\n",
              "      <td>7032.0</td>\n",
              "      <td>2283.300441</td>\n",
              "      <td>2266.771362</td>\n",
              "      <td>18.80</td>\n",
              "      <td>401.45</td>\n",
              "      <td>1397.475</td>\n",
              "      <td>3794.7375</td>\n",
              "      <td>8684.80</td>\n",
              "    </tr>\n",
              "  </tbody>\n",
              "</table>\n",
              "</div>\n",
              "      <button class=\"colab-df-convert\" onclick=\"convertToInteractive('df-6ccc2414-6651-4cfd-8716-09c123b12647')\"\n",
              "              title=\"Convert this dataframe to an interactive table.\"\n",
              "              style=\"display:none;\">\n",
              "        \n",
              "  <svg xmlns=\"http://www.w3.org/2000/svg\" height=\"24px\"viewBox=\"0 0 24 24\"\n",
              "       width=\"24px\">\n",
              "    <path d=\"M0 0h24v24H0V0z\" fill=\"none\"/>\n",
              "    <path d=\"M18.56 5.44l.94 2.06.94-2.06 2.06-.94-2.06-.94-.94-2.06-.94 2.06-2.06.94zm-11 1L8.5 8.5l.94-2.06 2.06-.94-2.06-.94L8.5 2.5l-.94 2.06-2.06.94zm10 10l.94 2.06.94-2.06 2.06-.94-2.06-.94-.94-2.06-.94 2.06-2.06.94z\"/><path d=\"M17.41 7.96l-1.37-1.37c-.4-.4-.92-.59-1.43-.59-.52 0-1.04.2-1.43.59L10.3 9.45l-7.72 7.72c-.78.78-.78 2.05 0 2.83L4 21.41c.39.39.9.59 1.41.59.51 0 1.02-.2 1.41-.59l7.78-7.78 2.81-2.81c.8-.78.8-2.07 0-2.86zM5.41 20L4 18.59l7.72-7.72 1.47 1.35L5.41 20z\"/>\n",
              "  </svg>\n",
              "      </button>\n",
              "      \n",
              "  <style>\n",
              "    .colab-df-container {\n",
              "      display:flex;\n",
              "      flex-wrap:wrap;\n",
              "      gap: 12px;\n",
              "    }\n",
              "\n",
              "    .colab-df-convert {\n",
              "      background-color: #E8F0FE;\n",
              "      border: none;\n",
              "      border-radius: 50%;\n",
              "      cursor: pointer;\n",
              "      display: none;\n",
              "      fill: #1967D2;\n",
              "      height: 32px;\n",
              "      padding: 0 0 0 0;\n",
              "      width: 32px;\n",
              "    }\n",
              "\n",
              "    .colab-df-convert:hover {\n",
              "      background-color: #E2EBFA;\n",
              "      box-shadow: 0px 1px 2px rgba(60, 64, 67, 0.3), 0px 1px 3px 1px rgba(60, 64, 67, 0.15);\n",
              "      fill: #174EA6;\n",
              "    }\n",
              "\n",
              "    [theme=dark] .colab-df-convert {\n",
              "      background-color: #3B4455;\n",
              "      fill: #D2E3FC;\n",
              "    }\n",
              "\n",
              "    [theme=dark] .colab-df-convert:hover {\n",
              "      background-color: #434B5C;\n",
              "      box-shadow: 0px 1px 3px 1px rgba(0, 0, 0, 0.15);\n",
              "      filter: drop-shadow(0px 1px 2px rgba(0, 0, 0, 0.3));\n",
              "      fill: #FFFFFF;\n",
              "    }\n",
              "  </style>\n",
              "\n",
              "      <script>\n",
              "        const buttonEl =\n",
              "          document.querySelector('#df-6ccc2414-6651-4cfd-8716-09c123b12647 button.colab-df-convert');\n",
              "        buttonEl.style.display =\n",
              "          google.colab.kernel.accessAllowed ? 'block' : 'none';\n",
              "\n",
              "        async function convertToInteractive(key) {\n",
              "          const element = document.querySelector('#df-6ccc2414-6651-4cfd-8716-09c123b12647');\n",
              "          const dataTable =\n",
              "            await google.colab.kernel.invokeFunction('convertToInteractive',\n",
              "                                                     [key], {});\n",
              "          if (!dataTable) return;\n",
              "\n",
              "          const docLinkHtml = 'Like what you see? Visit the ' +\n",
              "            '<a target=\"_blank\" href=https://colab.research.google.com/notebooks/data_table.ipynb>data table notebook</a>'\n",
              "            + ' to learn more about interactive tables.';\n",
              "          element.innerHTML = '';\n",
              "          dataTable['output_type'] = 'display_data';\n",
              "          await google.colab.output.renderOutput(dataTable, element);\n",
              "          const docLink = document.createElement('div');\n",
              "          docLink.innerHTML = docLinkHtml;\n",
              "          element.appendChild(docLink);\n",
              "        }\n",
              "      </script>\n",
              "    </div>\n",
              "  </div>\n",
              "  "
            ],
            "text/plain": [
              "                 count         mean          std    min     25%       50%  \\\n",
              "SeniorCitizen   7043.0     0.162147     0.368612   0.00    0.00     0.000   \n",
              "tenure          7043.0    32.371149    24.559481   0.00    9.00    29.000   \n",
              "MonthlyCharges  7043.0    64.761692    30.090047  18.25   35.50    70.350   \n",
              "TotalCharges    7032.0  2283.300441  2266.771362  18.80  401.45  1397.475   \n",
              "\n",
              "                      75%      max  \n",
              "SeniorCitizen      0.0000     1.00  \n",
              "tenure            55.0000    72.00  \n",
              "MonthlyCharges    89.8500   118.75  \n",
              "TotalCharges    3794.7375  8684.80  "
            ]
          },
          "execution_count": 7,
          "metadata": {},
          "output_type": "execute_result"
        }
      ],
      "source": [
        "# Checking Data\n",
        "\n",
        "data.describe().T"
      ]
    },
    {
      "cell_type": "code",
      "execution_count": 8,
      "metadata": {
        "colab": {
          "base_uri": "https://localhost:8080/",
          "height": 708
        },
        "id": "gyvaQmas6fbg",
        "outputId": "523ccdd8-ae7d-4565-8c62-425c010f7184"
      },
      "outputs": [
        {
          "data": {
            "text/html": [
              "\n",
              "  <div id=\"df-82cb2afe-76d9-41cd-a870-f737c3254d92\">\n",
              "    <div class=\"colab-df-container\">\n",
              "      <div>\n",
              "<style scoped>\n",
              "    .dataframe tbody tr th:only-of-type {\n",
              "        vertical-align: middle;\n",
              "    }\n",
              "\n",
              "    .dataframe tbody tr th {\n",
              "        vertical-align: top;\n",
              "    }\n",
              "\n",
              "    .dataframe thead th {\n",
              "        text-align: right;\n",
              "    }\n",
              "</style>\n",
              "<table border=\"1\" class=\"dataframe\">\n",
              "  <thead>\n",
              "    <tr style=\"text-align: right;\">\n",
              "      <th></th>\n",
              "      <th>Missing Value</th>\n",
              "      <th>Percent</th>\n",
              "    </tr>\n",
              "  </thead>\n",
              "  <tbody>\n",
              "    <tr>\n",
              "      <th>TotalCharges</th>\n",
              "      <td>11</td>\n",
              "      <td>0.001562</td>\n",
              "    </tr>\n",
              "    <tr>\n",
              "      <th>customerID</th>\n",
              "      <td>0</td>\n",
              "      <td>0.000000</td>\n",
              "    </tr>\n",
              "    <tr>\n",
              "      <th>DeviceProtection</th>\n",
              "      <td>0</td>\n",
              "      <td>0.000000</td>\n",
              "    </tr>\n",
              "    <tr>\n",
              "      <th>MonthlyCharges</th>\n",
              "      <td>0</td>\n",
              "      <td>0.000000</td>\n",
              "    </tr>\n",
              "    <tr>\n",
              "      <th>PaymentMethod</th>\n",
              "      <td>0</td>\n",
              "      <td>0.000000</td>\n",
              "    </tr>\n",
              "    <tr>\n",
              "      <th>PaperlessBilling</th>\n",
              "      <td>0</td>\n",
              "      <td>0.000000</td>\n",
              "    </tr>\n",
              "    <tr>\n",
              "      <th>Contract</th>\n",
              "      <td>0</td>\n",
              "      <td>0.000000</td>\n",
              "    </tr>\n",
              "    <tr>\n",
              "      <th>StreamingMovies</th>\n",
              "      <td>0</td>\n",
              "      <td>0.000000</td>\n",
              "    </tr>\n",
              "    <tr>\n",
              "      <th>StreamingTV</th>\n",
              "      <td>0</td>\n",
              "      <td>0.000000</td>\n",
              "    </tr>\n",
              "    <tr>\n",
              "      <th>TechSupport</th>\n",
              "      <td>0</td>\n",
              "      <td>0.000000</td>\n",
              "    </tr>\n",
              "    <tr>\n",
              "      <th>OnlineBackup</th>\n",
              "      <td>0</td>\n",
              "      <td>0.000000</td>\n",
              "    </tr>\n",
              "    <tr>\n",
              "      <th>gender</th>\n",
              "      <td>0</td>\n",
              "      <td>0.000000</td>\n",
              "    </tr>\n",
              "    <tr>\n",
              "      <th>OnlineSecurity</th>\n",
              "      <td>0</td>\n",
              "      <td>0.000000</td>\n",
              "    </tr>\n",
              "    <tr>\n",
              "      <th>InternetService</th>\n",
              "      <td>0</td>\n",
              "      <td>0.000000</td>\n",
              "    </tr>\n",
              "    <tr>\n",
              "      <th>MultipleLines</th>\n",
              "      <td>0</td>\n",
              "      <td>0.000000</td>\n",
              "    </tr>\n",
              "    <tr>\n",
              "      <th>PhoneService</th>\n",
              "      <td>0</td>\n",
              "      <td>0.000000</td>\n",
              "    </tr>\n",
              "    <tr>\n",
              "      <th>tenure</th>\n",
              "      <td>0</td>\n",
              "      <td>0.000000</td>\n",
              "    </tr>\n",
              "    <tr>\n",
              "      <th>Dependents</th>\n",
              "      <td>0</td>\n",
              "      <td>0.000000</td>\n",
              "    </tr>\n",
              "    <tr>\n",
              "      <th>Partner</th>\n",
              "      <td>0</td>\n",
              "      <td>0.000000</td>\n",
              "    </tr>\n",
              "    <tr>\n",
              "      <th>SeniorCitizen</th>\n",
              "      <td>0</td>\n",
              "      <td>0.000000</td>\n",
              "    </tr>\n",
              "    <tr>\n",
              "      <th>Churn</th>\n",
              "      <td>0</td>\n",
              "      <td>0.000000</td>\n",
              "    </tr>\n",
              "  </tbody>\n",
              "</table>\n",
              "</div>\n",
              "      <button class=\"colab-df-convert\" onclick=\"convertToInteractive('df-82cb2afe-76d9-41cd-a870-f737c3254d92')\"\n",
              "              title=\"Convert this dataframe to an interactive table.\"\n",
              "              style=\"display:none;\">\n",
              "        \n",
              "  <svg xmlns=\"http://www.w3.org/2000/svg\" height=\"24px\"viewBox=\"0 0 24 24\"\n",
              "       width=\"24px\">\n",
              "    <path d=\"M0 0h24v24H0V0z\" fill=\"none\"/>\n",
              "    <path d=\"M18.56 5.44l.94 2.06.94-2.06 2.06-.94-2.06-.94-.94-2.06-.94 2.06-2.06.94zm-11 1L8.5 8.5l.94-2.06 2.06-.94-2.06-.94L8.5 2.5l-.94 2.06-2.06.94zm10 10l.94 2.06.94-2.06 2.06-.94-2.06-.94-.94-2.06-.94 2.06-2.06.94z\"/><path d=\"M17.41 7.96l-1.37-1.37c-.4-.4-.92-.59-1.43-.59-.52 0-1.04.2-1.43.59L10.3 9.45l-7.72 7.72c-.78.78-.78 2.05 0 2.83L4 21.41c.39.39.9.59 1.41.59.51 0 1.02-.2 1.41-.59l7.78-7.78 2.81-2.81c.8-.78.8-2.07 0-2.86zM5.41 20L4 18.59l7.72-7.72 1.47 1.35L5.41 20z\"/>\n",
              "  </svg>\n",
              "      </button>\n",
              "      \n",
              "  <style>\n",
              "    .colab-df-container {\n",
              "      display:flex;\n",
              "      flex-wrap:wrap;\n",
              "      gap: 12px;\n",
              "    }\n",
              "\n",
              "    .colab-df-convert {\n",
              "      background-color: #E8F0FE;\n",
              "      border: none;\n",
              "      border-radius: 50%;\n",
              "      cursor: pointer;\n",
              "      display: none;\n",
              "      fill: #1967D2;\n",
              "      height: 32px;\n",
              "      padding: 0 0 0 0;\n",
              "      width: 32px;\n",
              "    }\n",
              "\n",
              "    .colab-df-convert:hover {\n",
              "      background-color: #E2EBFA;\n",
              "      box-shadow: 0px 1px 2px rgba(60, 64, 67, 0.3), 0px 1px 3px 1px rgba(60, 64, 67, 0.15);\n",
              "      fill: #174EA6;\n",
              "    }\n",
              "\n",
              "    [theme=dark] .colab-df-convert {\n",
              "      background-color: #3B4455;\n",
              "      fill: #D2E3FC;\n",
              "    }\n",
              "\n",
              "    [theme=dark] .colab-df-convert:hover {\n",
              "      background-color: #434B5C;\n",
              "      box-shadow: 0px 1px 3px 1px rgba(0, 0, 0, 0.15);\n",
              "      filter: drop-shadow(0px 1px 2px rgba(0, 0, 0, 0.3));\n",
              "      fill: #FFFFFF;\n",
              "    }\n",
              "  </style>\n",
              "\n",
              "      <script>\n",
              "        const buttonEl =\n",
              "          document.querySelector('#df-82cb2afe-76d9-41cd-a870-f737c3254d92 button.colab-df-convert');\n",
              "        buttonEl.style.display =\n",
              "          google.colab.kernel.accessAllowed ? 'block' : 'none';\n",
              "\n",
              "        async function convertToInteractive(key) {\n",
              "          const element = document.querySelector('#df-82cb2afe-76d9-41cd-a870-f737c3254d92');\n",
              "          const dataTable =\n",
              "            await google.colab.kernel.invokeFunction('convertToInteractive',\n",
              "                                                     [key], {});\n",
              "          if (!dataTable) return;\n",
              "\n",
              "          const docLinkHtml = 'Like what you see? Visit the ' +\n",
              "            '<a target=\"_blank\" href=https://colab.research.google.com/notebooks/data_table.ipynb>data table notebook</a>'\n",
              "            + ' to learn more about interactive tables.';\n",
              "          element.innerHTML = '';\n",
              "          dataTable['output_type'] = 'display_data';\n",
              "          await google.colab.output.renderOutput(dataTable, element);\n",
              "          const docLink = document.createElement('div');\n",
              "          docLink.innerHTML = docLinkHtml;\n",
              "          element.appendChild(docLink);\n",
              "        }\n",
              "      </script>\n",
              "    </div>\n",
              "  </div>\n",
              "  "
            ],
            "text/plain": [
              "                  Missing Value   Percent\n",
              "TotalCharges                 11  0.001562\n",
              "customerID                    0  0.000000\n",
              "DeviceProtection              0  0.000000\n",
              "MonthlyCharges                0  0.000000\n",
              "PaymentMethod                 0  0.000000\n",
              "PaperlessBilling              0  0.000000\n",
              "Contract                      0  0.000000\n",
              "StreamingMovies               0  0.000000\n",
              "StreamingTV                   0  0.000000\n",
              "TechSupport                   0  0.000000\n",
              "OnlineBackup                  0  0.000000\n",
              "gender                        0  0.000000\n",
              "OnlineSecurity                0  0.000000\n",
              "InternetService               0  0.000000\n",
              "MultipleLines                 0  0.000000\n",
              "PhoneService                  0  0.000000\n",
              "tenure                        0  0.000000\n",
              "Dependents                    0  0.000000\n",
              "Partner                       0  0.000000\n",
              "SeniorCitizen                 0  0.000000\n",
              "Churn                         0  0.000000"
            ]
          },
          "execution_count": 8,
          "metadata": {},
          "output_type": "execute_result"
        }
      ],
      "source": [
        "# Checking null value\n",
        "\n",
        "def missing_data_table(df):\n",
        "    miss_value = df.isnull().sum().sort_values(ascending=False)\n",
        "    percentage = (df.isnull().sum()/df.isnull().count()).sort_values(ascending=False)\n",
        "    missing_data = pd.concat([miss_value, percentage], axis=1, keys=['Missing Value', 'Percent'])\n",
        "    return missing_data\n",
        "\n",
        "missing_data_table(data)"
      ]
    },
    {
      "cell_type": "markdown",
      "metadata": {
        "id": "vIDx6Utb6fbg"
      },
      "source": [
        "We can see that there are  missing datas in the TotalCharges column in the dataset. Since there is only 11 missing datas, I will be dropping these missing datas."
      ]
    },
    {
      "cell_type": "code",
      "execution_count": 9,
      "metadata": {
        "id": "wTrEtP336fbh"
      },
      "outputs": [],
      "source": [
        "# Removing missing values\n",
        "data = data.dropna()"
      ]
    },
    {
      "cell_type": "markdown",
      "metadata": {
        "id": "ZQoHlus56fbh"
      },
      "source": [
        "# IV. Exploratory Data Analysis (EDA)"
      ]
    },
    {
      "cell_type": "code",
      "execution_count": 10,
      "metadata": {
        "id": "x3-aVfEB6fbh"
      },
      "outputs": [],
      "source": [
        "# Create a duplicate dataframe\n",
        "\n",
        "data_clone = copy.copy(data)"
      ]
    },
    {
      "cell_type": "code",
      "execution_count": 11,
      "metadata": {
        "id": "YubSR7Hv6fbh"
      },
      "outputs": [],
      "source": [
        "# Create a duplicate dataframe of only yes or no to churn\n",
        "\n",
        "data_chn = data_clone[data_clone['Churn'] == 'Yes']\n",
        "data_nchn = data_clone[data_clone['Churn'] == 'No']"
      ]
    },
    {
      "cell_type": "code",
      "execution_count": 12,
      "metadata": {
        "colab": {
          "base_uri": "https://localhost:8080/",
          "height": 347
        },
        "id": "0-tA2lFU6fbi",
        "outputId": "c556adf4-8ba2-41cd-8848-0b4710b51128"
      },
      "outputs": [
        {
          "name": "stdout",
          "output_type": "stream",
          "text": [
            "Customers who stopped using Telco: 73.0%\n",
            "Customers who stopped using Telco: 27.0%\n"
          ]
        },
        {
          "data": {
            "text/plain": [
              "<matplotlib.axes._subplots.AxesSubplot at 0x7ff9eab8ced0>"
            ]
          },
          "execution_count": 12,
          "metadata": {},
          "output_type": "execute_result"
        },
        {
          "data": {
            "image/png": "[encoded data removed]",
            "text/plain": [
              "<Figure size 2160x360 with 1 Axes>"
            ]
          },
          "metadata": {},
          "output_type": "display_data"
        }
      ],
      "source": [
        "# Graphing Churn count\n",
        "churncount = data_clone['Churn'].value_counts()\n",
        "\n",
        "print(f\"Customers who stopped using Telco: {round(churncount[0]/(churncount[0]+churncount[1])*100, 0)}%\")\n",
        "print(f\"Customers who stopped using Telco: {round(churncount[1]/(churncount[0]+churncount[1])*100, 0)}%\")\n",
        "\n",
        "sns.set(rc={'figure.figsize':(30,5)})\n",
        "sns.countplot(x='Churn', data=data_clone)"
      ]
    },
    {
      "cell_type": "markdown",
      "metadata": {
        "id": "2HY3ttG06fbi"
      },
      "source": [
        "From the graph, we can see that 1/4 of the customers from the data are stopped using Telco's product or service during a certain time frame."
      ]
    },
    {
      "cell_type": "code",
      "execution_count": 13,
      "metadata": {
        "colab": {
          "base_uri": "https://localhost:8080/",
          "height": 399
        },
        "id": "HrIDS2rN6fbi",
        "outputId": "fabb82cb-bfec-43cc-a72c-01dd2ed403d2"
      },
      "outputs": [
        {
          "name": "stdout",
          "output_type": "stream",
          "text": [
            "Male customers who stopped using Telco: 50.0%\n",
            "Female customers who stopped using Telco: 50.0%\n",
            " \n",
            "Male customers who continue using Telco: 51.0%\n",
            "Female customers who continue using Telco: 49.0%\n"
          ]
        },
        {
          "data": {
            "text/plain": [
              "<matplotlib.axes._subplots.AxesSubplot at 0x7ff9ea9716d0>"
            ]
          },
          "execution_count": 13,
          "metadata": {},
          "output_type": "execute_result"
        },
        {
          "data": {
            "image/png": "[encoded data removed]",
            "text/plain": [
              "<Figure size 2160x360 with 1 Axes>"
            ]
          },
          "metadata": {},
          "output_type": "display_data"
        }
      ],
      "source": [
        "# Counting the Churn gender ratio from the data\n",
        "gencount = data_chn['gender'].value_counts()\n",
        "ngencount = data_nchn['gender'].value_counts()\n",
        "\n",
        "print(f\"Male customers who stopped using Telco: {round(gencount[1]/(gencount[0]+gencount[1])*100, 0)}%\")\n",
        "print(f\"Female customers who stopped using Telco: {round(gencount[0]/(gencount[0]+gencount[1])*100, 0)}%\")\n",
        "print(\" \")\n",
        "print(f\"Male customers who continue using Telco: {round(ngencount[0]/(ngencount[0]+ngencount[1])*100, 0)}%\")\n",
        "print(f\"Female customers who continue using Telco: {round(ngencount[1]/(ngencount[0]+ngencount[1])*100, 0)}%\")\n",
        "\n",
        "# Graphing gender count based on Churn\n",
        "sns.set(rc={'figure.figsize':(30,5)})\n",
        "sns.countplot(x='gender', data=data_clone, hue='Churn')"
      ]
    },
    {
      "cell_type": "markdown",
      "metadata": {
        "id": "jP_D5y6K6fbj"
      },
      "source": [
        "From the graph, we can see that gender ratio of the customers from the data between those who continue and stopped using Telco's product or service during a certain time frame is quite similar, hence we can see that gender does not affect churn rate."
      ]
    },
    {
      "cell_type": "code",
      "execution_count": 14,
      "metadata": {
        "colab": {
          "base_uri": "https://localhost:8080/",
          "height": 399
        },
        "id": "JfsFrPu-6fbj",
        "outputId": "0224374e-1837-40b2-d8fc-f19ba4d3b35b"
      },
      "outputs": [
        {
          "name": "stdout",
          "output_type": "stream",
          "text": [
            "Senior customers who stopped using Telco: 25.0%\n",
            "Non-senior customers who stopped using Telco: 75.0%\n",
            " \n",
            "Senior customers who continue using Telco: 13.0%\n",
            "Non-senior customers who continue using Telco: 87.0%\n"
          ]
        },
        {
          "data": {
            "text/plain": [
              "<matplotlib.axes._subplots.AxesSubplot at 0x7ff9ea4a5f90>"
            ]
          },
          "execution_count": 14,
          "metadata": {},
          "output_type": "execute_result"
        },
        {
          "data": {
            "image/png": "[encoded data removed]",
            "text/plain": [
              "<Figure size 2160x360 with 1 Axes>"
            ]
          },
          "metadata": {},
          "output_type": "display_data"
        }
      ],
      "source": [
        "# Changing to better text for visualization \n",
        "data_clone['SeniorCitizen'] = data_clone['SeniorCitizen'].replace([0, 1],['Non Senior Citizen','Senior Citizen'])\n",
        "\n",
        "# Counting the Churn SeniorCitizen ratio from the data\n",
        "sencount = data_chn['SeniorCitizen'].value_counts()\n",
        "nsencount = data_nchn['SeniorCitizen'].value_counts()\n",
        "\n",
        "print(f\"Senior customers who stopped using Telco: {round(sencount[1]/(sencount[0]+sencount[1])*100, 0)}%\")\n",
        "print(f\"Non-senior customers who stopped using Telco: {round(sencount[0]/(sencount[0]+sencount[1])*100, 0)}%\")\n",
        "print(\" \")\n",
        "print(f\"Senior customers who continue using Telco: {round(nsencount[1]/(nsencount[0]+nsencount[1])*100, 0)}%\")\n",
        "print(f\"Non-senior customers who continue using Telco: {round(nsencount[0]/(nsencount[0]+nsencount[1])*100, 0)}%\")\n",
        "\n",
        "\n",
        "# Graphing SeniorCitizen count based on Churn\n",
        "sns.set(rc={'figure.figsize':(30,5)})\n",
        "sns.countplot(x='SeniorCitizen', data=data_clone, hue='Churn')"
      ]
    },
    {
      "cell_type": "markdown",
      "metadata": {
        "id": "_j1bgc8p6fbj"
      },
      "source": [
        "From the graph, we can see that the ratio of the customers from the data between those who continue and stopped using Telco's product or service during a certain time frame is quite different between senior customers and non senior customers. Senior customers have more tendency to churn, hence we can see that age does affect churn rate."
      ]
    },
    {
      "cell_type": "code",
      "execution_count": 15,
      "metadata": {
        "colab": {
          "base_uri": "https://localhost:8080/",
          "height": 399
        },
        "id": "OTSgSbdS6fbk",
        "outputId": "5786a747-5775-45b1-f048-af20683da280"
      },
      "outputs": [
        {
          "name": "stdout",
          "output_type": "stream",
          "text": [
            "Partnered customers who stopped using Telco: 36.0%\n",
            "Non-partnered customers who stopped using Telco: 64.0%\n",
            " \n",
            "Partnered customers who continue using Telco: 53.0%\n",
            "Non-partnered customers who continue using Telco: 47.0%\n"
          ]
        },
        {
          "data": {
            "text/plain": [
              "<matplotlib.axes._subplots.AxesSubplot at 0x7ff9ea41b4d0>"
            ]
          },
          "execution_count": 15,
          "metadata": {},
          "output_type": "execute_result"
        },
        {
          "data": {
            "image/png": "[encoded data removed]",
            "text/plain": [
              "<Figure size 2160x360 with 1 Axes>"
            ]
          },
          "metadata": {},
          "output_type": "display_data"
        }
      ],
      "source": [
        "# Counting the Churn Partner ratio from the data\n",
        "partcount = data_chn['Partner'].value_counts()\n",
        "npartcount = data_nchn['Partner'].value_counts()\n",
        "\n",
        "print(f\"Partnered customers who stopped using Telco: {round(partcount[1]/(partcount[0]+partcount[1])*100, 0)}%\")\n",
        "print(f\"Non-partnered customers who stopped using Telco: {round(partcount[0]/(partcount[0]+partcount[1])*100, 0)}%\")\n",
        "print(\" \")\n",
        "print(f\"Partnered customers who continue using Telco: {round(npartcount[0]/(npartcount[0]+npartcount[1])*100, 0)}%\")\n",
        "print(f\"Non-partnered customers who continue using Telco: {round(npartcount[1]/(npartcount[0]+npartcount[1])*100, 0)}%\")\n",
        "\n",
        "# Graphing Partner count based on Churn\n",
        "sns.set(rc={'figure.figsize':(30,5)})\n",
        "sns.countplot(x='Partner', data=data_clone, hue='Churn')"
      ]
    },
    {
      "cell_type": "code",
      "execution_count": 16,
      "metadata": {
        "colab": {
          "base_uri": "https://localhost:8080/",
          "height": 399
        },
        "id": "EYu6hUBR6fbk",
        "outputId": "de5ba889-affc-4a59-e73b-159f6fa499c0"
      },
      "outputs": [
        {
          "name": "stdout",
          "output_type": "stream",
          "text": [
            "Customers with dependents who stopped using Telco: 17.0%\n",
            "Customers with no dependents who stopped using Telco: 83.0%\n",
            " \n",
            "Customers with dependents who continue using Telco: 34.0%\n",
            "Customers with no dependents who continue using Telco: 66.0%\n"
          ]
        },
        {
          "data": {
            "text/plain": [
              "<matplotlib.axes._subplots.AxesSubplot at 0x7ff9ea395bd0>"
            ]
          },
          "execution_count": 16,
          "metadata": {},
          "output_type": "execute_result"
        },
        {
          "data": {
            "image/png": "[encoded data removed]",
            "text/plain": [
              "<Figure size 2160x360 with 1 Axes>"
            ]
          },
          "metadata": {},
          "output_type": "display_data"
        }
      ],
      "source": [
        "# Counting the Churn Dependents ratio from the data\n",
        "depcount = data_chn['Dependents'].value_counts()\n",
        "ndepcount = data_nchn['Dependents'].value_counts()\n",
        "\n",
        "print(f\"Customers with dependents who stopped using Telco: {round(depcount[1]/(depcount[0]+depcount[1])*100, 0)}%\")\n",
        "print(f\"Customers with no dependents who stopped using Telco: {round(depcount[0]/(depcount[0]+depcount[1])*100, 0)}%\")\n",
        "print(\" \")\n",
        "print(f\"Customers with dependents who continue using Telco: {round(ndepcount[1]/(ndepcount[0]+ndepcount[1])*100, 0)}%\")\n",
        "print(f\"Customers with no dependents who continue using Telco: {round(ndepcount[0]/(ndepcount[0]+ndepcount[1])*100, 0)}%\")\n",
        "\n",
        "# Graphing Dependents count based on Churn\n",
        "sns.set(rc={'figure.figsize':(30,5)})\n",
        "sns.countplot(x='Dependents', data=data_clone, hue='Churn')"
      ]
    },
    {
      "cell_type": "markdown",
      "metadata": {
        "id": "qg1x44WE6fbk"
      },
      "source": [
        "From the two graphs, we can see that the ratio of the customers from the data between those who continue and stopped using Telco's product or service during a certain time frame is quite different between customers with partners or dependents and customers without partners or dependents. Customers without partners or dependents have more tendency to churn, as they do not require telecommunication services as much as customers with partners or dependents. Hence we can see that customers status does affect churn rate."
      ]
    },
    {
      "cell_type": "code",
      "execution_count": 17,
      "metadata": {
        "colab": {
          "base_uri": "https://localhost:8080/",
          "height": 313
        },
        "id": "y3kfR6fb6fbk",
        "outputId": "24660335-f480-43fe-a805-290f7c29c929"
      },
      "outputs": [
        {
          "data": {
            "text/plain": [
              "<matplotlib.axes._subplots.AxesSubplot at 0x7ff9ea378910>"
            ]
          },
          "execution_count": 17,
          "metadata": {},
          "output_type": "execute_result"
        },
        {
          "data": {
            "image/png": "[encoded data removed]",
            "text/plain": [
              "<Figure size 2160x360 with 1 Axes>"
            ]
          },
          "metadata": {},
          "output_type": "display_data"
        }
      ],
      "source": [
        "# Graphing tenure count with Churn hue\n",
        "sns.set(rc={'figure.figsize':(30,5)})\n",
        "sns.histplot(x='tenure', data=data_clone, bins=30, hue='Churn')"
      ]
    },
    {
      "cell_type": "markdown",
      "metadata": {
        "id": "QDcPhuaE6fbk"
      },
      "source": [
        "From the graph, we can see that the ratio of the customers from the data between those who continue and stopped using Telco's product or service during a certain time frame is quite different between new customers and old customers. New customers have more tendency to churn, hence we can see that tenure does affect churn rate."
      ]
    },
    {
      "cell_type": "code",
      "execution_count": 18,
      "metadata": {
        "colab": {
          "base_uri": "https://localhost:8080/",
          "height": 399
        },
        "id": "x2CbLG4T6fbl",
        "outputId": "804d8761-184f-4113-a4ec-25a73b920eee"
      },
      "outputs": [
        {
          "name": "stdout",
          "output_type": "stream",
          "text": [
            "Phone service customers who stopped using Telco: 64.0%\n",
            "Non-phone service customers who stopped using Telco: 36.0%\n",
            " \n",
            "Phone service customers who continue using Telco: 53.0%\n",
            "Non-phone service customers who continue using Telco: 47.0%\n"
          ]
        },
        {
          "data": {
            "text/plain": [
              "<matplotlib.axes._subplots.AxesSubplot at 0x7ff9ea4848d0>"
            ]
          },
          "execution_count": 18,
          "metadata": {},
          "output_type": "execute_result"
        },
        {
          "data": {
            "image/png": "[encoded data removed]",
            "text/plain": [
              "<Figure size 2160x360 with 1 Axes>"
            ]
          },
          "metadata": {},
          "output_type": "display_data"
        }
      ],
      "source": [
        "# Counting the Churn PhoneService ratio from the data\n",
        "phcount = data_chn['PhoneService'].value_counts()\n",
        "nphcount = data_nchn['PhoneService'].value_counts()\n",
        "\n",
        "print(f\"Phone service customers who stopped using Telco: {round(partcount[0]/(partcount[0]+partcount[1])*100, 0)}%\")\n",
        "print(f\"Non-phone service customers who stopped using Telco: {round(partcount[1]/(partcount[0]+partcount[1])*100, 0)}%\")\n",
        "print(\" \")\n",
        "print(f\"Phone service customers who continue using Telco: {round(npartcount[0]/(npartcount[0]+npartcount[1])*100, 0)}%\")\n",
        "print(f\"Non-phone service customers who continue using Telco: {round(npartcount[1]/(npartcount[0]+npartcount[1])*100, 0)}%\")\n",
        "\n",
        "# Graphing PhoneService count based on Churn\n",
        "sns.set(rc={'figure.figsize':(30,5)})\n",
        "sns.countplot(x='PhoneService', data=data_clone, hue='Churn')"
      ]
    },
    {
      "cell_type": "markdown",
      "metadata": {
        "id": "0sexm3Ru6fbl"
      },
      "source": [
        "From the graph, we can see that the ratio of the customers from the data between those who continue and stopped using Telco's product or service during a certain time frame is quite different between phone customers and non phone customers. Phone customers have more tendency to churn, which implies that Telco's phone services showed high customer dissatisfaction. Hence we can see that services does affect churn rate."
      ]
    },
    {
      "cell_type": "code",
      "execution_count": 19,
      "metadata": {
        "colab": {
          "base_uri": "https://localhost:8080/",
          "height": 434
        },
        "id": "5xZSBZzp6fbl",
        "outputId": "1b7e3832-609f-471a-9580-3e6365dcc6e9"
      },
      "outputs": [
        {
          "name": "stdout",
          "output_type": "stream",
          "text": [
            "Multiple lines phone service customers who stopped using Telco: 45.0%\n",
            "Single line phone service customers who stopped using Telco: 45.0%\n",
            "Non-phone service customers who stopped using Telco: 9.0%\n",
            " \n",
            "Multiple lines phone service customers who continue using Telco: 41.0%\n",
            "Single line phone service customers who continue using Telco: 49.0%\n",
            "Non-phone service customers who continue using Telco: 10.0%\n"
          ]
        },
        {
          "data": {
            "text/plain": [
              "<matplotlib.axes._subplots.AxesSubplot at 0x7ff9ea1b2150>"
            ]
          },
          "execution_count": 19,
          "metadata": {},
          "output_type": "execute_result"
        },
        {
          "data": {
            "image/png": "[encoded data removed]",
            "text/plain": [
              "<Figure size 2160x360 with 1 Axes>"
            ]
          },
          "metadata": {},
          "output_type": "display_data"
        }
      ],
      "source": [
        "# Counting the Churn MultipleLines ratio from the data\n",
        "mlcount = data_chn['MultipleLines'].value_counts()\n",
        "nmlcount = data_nchn['MultipleLines'].value_counts()\n",
        "\n",
        "print(f\"Multiple lines phone service customers who stopped using Telco: {round(mlcount[0]/(mlcount[0]+mlcount[1]+mlcount[2])*100, 0)}%\")\n",
        "print(f\"Single line phone service customers who stopped using Telco: {round(mlcount[1]/(mlcount[0]+mlcount[1]+mlcount[2])*100, 0)}%\")\n",
        "print(f\"Non-phone service customers who stopped using Telco: {round(mlcount[2]/(mlcount[0]+mlcount[1]+mlcount[2])*100, 0)}%\")\n",
        "print(\" \")\n",
        "print(f\"Multiple lines phone service customers who continue using Telco: {round(nmlcount[1]/(nmlcount[0]+nmlcount[1]+nmlcount[2])*100, 0)}%\")\n",
        "print(f\"Single line phone service customers who continue using Telco: {round(nmlcount[0]/(nmlcount[0]+nmlcount[1]+nmlcount[2])*100, 0)}%\")\n",
        "print(f\"Non-phone service customers who continue using Telco: {round(nmlcount[2]/(nmlcount[0]+nmlcount[1]+nmlcount[2])*100, 0)}%\")\n",
        "\n",
        "# Graphing MultipleLines count based on Churn\n",
        "sns.set(rc={'figure.figsize':(30,5)})\n",
        "sns.countplot(x='MultipleLines', data=data_clone, hue='Churn')"
      ]
    },
    {
      "cell_type": "markdown",
      "metadata": {
        "id": "xEiOORNL6fbl"
      },
      "source": [
        "From the graph, we can see that the ratio of the customers from the data between those who continue and stopped using Telco's product or service during a certain time frame is quite similar between multiple lines phone customers and non multiple lines phone customers. Hence we can see that multiple lines phone services does affect churn rate."
      ]
    },
    {
      "cell_type": "code",
      "execution_count": 20,
      "metadata": {
        "colab": {
          "base_uri": "https://localhost:8080/",
          "height": 434
        },
        "id": "Qu64TF-R6fbl",
        "outputId": "4d0b2f7e-68f9-482a-b079-8172d3dbbd9b"
      },
      "outputs": [
        {
          "name": "stdout",
          "output_type": "stream",
          "text": [
            "Fiber optic customers who stopped using Telco: 69.0%\n",
            "DSL customers who stopped using Telco: 25.0%\n",
            "Non-internet service customers who stopped using Telco: 6.0%\n",
            " \n",
            "Fiber optic customers who continue using Telco: 35.0%\n",
            "DSL customers who continue using Telco: 38.0%\n",
            "Non-internet service customers who continue using Telco: 27.0%\n"
          ]
        },
        {
          "data": {
            "text/plain": [
              "<matplotlib.axes._subplots.AxesSubplot at 0x7ff9ea124b90>"
            ]
          },
          "execution_count": 20,
          "metadata": {},
          "output_type": "execute_result"
        },
        {
          "data": {
            "image/png": "[encoded data removed]",
            "text/plain": [
              "<Figure size 2160x360 with 1 Axes>"
            ]
          },
          "metadata": {},
          "output_type": "display_data"
        }
      ],
      "source": [
        "# Counting the Churn InternetService ratio from the data\n",
        "intercount = data_chn['InternetService'].value_counts()\n",
        "nintercount = data_nchn['InternetService'].value_counts()\n",
        "\n",
        "print(f\"Fiber optic customers who stopped using Telco: {round(intercount[0]/(intercount[0]+intercount[1]+intercount[2])*100, 0)}%\")\n",
        "print(f\"DSL customers who stopped using Telco: {round(intercount[1]/(intercount[0]+intercount[1]+intercount[2])*100, 0)}%\")\n",
        "print(f\"Non-internet service customers who stopped using Telco: {round(intercount[2]/(intercount[0]+intercount[1]+intercount[2])*100, 0)}%\")\n",
        "print(\" \")\n",
        "print(f\"Fiber optic customers who continue using Telco: {round(nintercount[1]/(nintercount[0]+nintercount[1]+nintercount[2])*100, 0)}%\")\n",
        "print(f\"DSL customers who continue using Telco: {round(nintercount[0]/(nintercount[0]+nintercount[1]+nintercount[2])*100, 0)}%\")\n",
        "print(f\"Non-internet service customers who continue using Telco: {round(nintercount[2]/(nintercount[0]+nintercount[1]+nintercount[2])*100, 0)}%\")\n",
        "\n",
        "# Graphing InternetService count based on Churn\n",
        "sns.set(rc={'figure.figsize':(30,5)})\n",
        "sns.countplot(x='InternetService', data=data_clone, hue='Churn')"
      ]
    },
    {
      "cell_type": "markdown",
      "metadata": {
        "id": "qz0inD9A6fbm"
      },
      "source": [
        "From the graph, we can see that the ratio of the customers from the data between those who continue and stopped using Telco's product or service during a certain time frame is quite different between customers with different internet services. Customers with fiber optics internet have more tendency to churn, unlike customers with DSL internet. This implies a problem in fiber optics internet service from Telco, hence we can see that internet services does affect churn rate."
      ]
    },
    {
      "cell_type": "code",
      "execution_count": 21,
      "metadata": {
        "colab": {
          "base_uri": "https://localhost:8080/",
          "height": 434
        },
        "id": "u1zvROze6fbm",
        "outputId": "322d50c1-5867-4d98-e6f8-5ddaa1edb2b9"
      },
      "outputs": [
        {
          "name": "stdout",
          "output_type": "stream",
          "text": [
            "Online security customers who stopped using Telco: 16.0%\n",
            "Non-online security who stopped using Telco: 78.0%\n",
            "Non-internet service customers who stopped using Telco: 6.0%\n",
            " \n",
            "Online security customers who continue using Telco: 33.0%\n",
            "Non-online security customers who continue using Telco: 39.0%\n",
            "Non-internet service customers who continue using Telco: 27.0%\n"
          ]
        },
        {
          "data": {
            "text/plain": [
              "<matplotlib.axes._subplots.AxesSubplot at 0x7ff9ea0a5210>"
            ]
          },
          "execution_count": 21,
          "metadata": {},
          "output_type": "execute_result"
        },
        {
          "data": {
            "image/png": "[encoded data removed]",
            "text/plain": [
              "<Figure size 2160x360 with 1 Axes>"
            ]
          },
          "metadata": {},
          "output_type": "display_data"
        }
      ],
      "source": [
        "# Counting the Churn OnlineSecurity ratio from the data\n",
        "onseccount = data_chn['OnlineSecurity'].value_counts()\n",
        "nonseccount = data_nchn['OnlineSecurity'].value_counts()\n",
        "\n",
        "print(f\"Online security customers who stopped using Telco: {round(onseccount[1]/(onseccount[0]+onseccount[1]+onseccount[2])*100, 0)}%\")\n",
        "print(f\"Non-online security who stopped using Telco: {round(onseccount[0]/(onseccount[0]+onseccount[1]+onseccount[2])*100, 0)}%\")\n",
        "print(f\"Non-internet service customers who stopped using Telco: {round(onseccount[2]/(onseccount[0]+onseccount[1]+onseccount[2])*100, 0)}%\")\n",
        "print(\" \")\n",
        "print(f\"Online security customers who continue using Telco: {round(nonseccount[1]/(nonseccount[0]+nonseccount[1]+nonseccount[2])*100, 0)}%\")\n",
        "print(f\"Non-online security customers who continue using Telco: {round(nonseccount[0]/(nonseccount[0]+nonseccount[1]+nonseccount[2])*100, 0)}%\")\n",
        "print(f\"Non-internet service customers who continue using Telco: {round(nonseccount[2]/(nonseccount[0]+nonseccount[1]+nonseccount[2])*100, 0)}%\")\n",
        "\n",
        "# Graphing OnlineSecurity count based on Churn\n",
        "sns.set(rc={'figure.figsize':(30,5)})\n",
        "sns.countplot(x='OnlineSecurity', data=data_clone, hue='Churn')"
      ]
    },
    {
      "cell_type": "markdown",
      "metadata": {
        "id": "cYHGBq6j6fbm"
      },
      "source": [
        "From the graph, we can see that the ratio of the customers from the data between those who continue and stopped using Telco's product or service during a certain time frame is quite different between customers with and without online security. Customers without online security have more tendency to churn, unlike customers with online security. Hence we can see that the lack of online security services does affect churn rate."
      ]
    },
    {
      "cell_type": "code",
      "execution_count": 22,
      "metadata": {
        "colab": {
          "base_uri": "https://localhost:8080/",
          "height": 434
        },
        "id": "krRiFo_v6fbm",
        "outputId": "44287d36-be24-4456-92a5-2d649225dbb5"
      },
      "outputs": [
        {
          "name": "stdout",
          "output_type": "stream",
          "text": [
            "Online backup customers who stopped using Telco: 28.0%\n",
            "Non-online backup who stopped using Telco: 66.0%\n",
            "Non-internet service customers who stopped using Telco: 6.0%\n",
            " \n",
            "Online backup customers who continue using Telco: 37.0%\n",
            "Non-online backup customers who continue using Telco: 36.0%\n",
            "Non-internet service customers who continue using Telco: 27.0%\n"
          ]
        },
        {
          "data": {
            "text/plain": [
              "<matplotlib.axes._subplots.AxesSubplot at 0x7ff9ea029450>"
            ]
          },
          "execution_count": 22,
          "metadata": {},
          "output_type": "execute_result"
        },
        {
          "data": {
            "image/png": "[encoded data removed]",
            "text/plain": [
              "<Figure size 2160x360 with 1 Axes>"
            ]
          },
          "metadata": {},
          "output_type": "display_data"
        }
      ],
      "source": [
        "# Counting the Churn OnlineBackup ratio from the data\n",
        "onbackcount = data_chn['OnlineBackup'].value_counts()\n",
        "nonbackcount = data_nchn['OnlineBackup'].value_counts()\n",
        "\n",
        "print(f\"Online backup customers who stopped using Telco: {round(onbackcount[1]/(onbackcount[0]+onbackcount[1]+onbackcount[2])*100, 0)}%\")\n",
        "print(f\"Non-online backup who stopped using Telco: {round(onbackcount[0]/(onbackcount[0]+onbackcount[1]+onbackcount[2])*100, 0)}%\")\n",
        "print(f\"Non-internet service customers who stopped using Telco: {round(onbackcount[2]/(onbackcount[0]+onbackcount[1]+onbackcount[2])*100, 0)}%\")\n",
        "print(\" \")\n",
        "print(f\"Online backup customers who continue using Telco: {round(nonbackcount[0]/(nonbackcount[0]+nonbackcount[1]+nonbackcount[2])*100, 0)}%\")\n",
        "print(f\"Non-online backup customers who continue using Telco: {round(nonbackcount[1]/(nonbackcount[0]+nonbackcount[1]+nonbackcount[2])*100, 0)}%\")\n",
        "print(f\"Non-internet service customers who continue using Telco: {round(nonbackcount[2]/(nonbackcount[0]+nonbackcount[1]+nonbackcount[2])*100, 0)}%\")\n",
        "\n",
        "# Graphing OnlineBackup count based on Churn\n",
        "sns.set(rc={'figure.figsize':(30,5)})\n",
        "sns.countplot(x='OnlineBackup', data=data_clone, hue='Churn')"
      ]
    },
    {
      "cell_type": "markdown",
      "metadata": {
        "id": "08TSsK7h6fbm"
      },
      "source": [
        "From the graph, we can see that the ratio of the customers from the data between those who continue and stopped using Telco's product or service during a certain time frame is quite different between customers with and without online backup services. Customers without online backup service have more tendency to churn, unlike customers with online backup services. Hence we can see that the lack of online backup services does affect churn rate."
      ]
    },
    {
      "cell_type": "code",
      "execution_count": 23,
      "metadata": {
        "colab": {
          "base_uri": "https://localhost:8080/",
          "height": 434
        },
        "id": "IsfBeEx36fbn",
        "outputId": "90a4ee30-5963-4b0d-fb07-e4a66722d75e"
      },
      "outputs": [
        {
          "name": "stdout",
          "output_type": "stream",
          "text": [
            "Customers with device protection who stopped using Telco: 29.0%\n",
            "Customers without device protection who stopped using Telco: 65.0%\n",
            "Non-internet service customers who stopped using Telco: 6.0%\n",
            " \n",
            "Customers with device protection who continue using Telco: 36.0%\n",
            "Customers without device protection who continue using Telco: 36.0%\n",
            "Non-internet service customers who continue using Telco: 27.0%\n"
          ]
        },
        {
          "data": {
            "text/plain": [
              "<matplotlib.axes._subplots.AxesSubplot at 0x7ff9e9fab390>"
            ]
          },
          "execution_count": 23,
          "metadata": {},
          "output_type": "execute_result"
        },
        {
          "data": {
            "image/png": "[encoded data removed]",
            "text/plain": [
              "<Figure size 2160x360 with 1 Axes>"
            ]
          },
          "metadata": {},
          "output_type": "display_data"
        }
      ],
      "source": [
        "# Counting the Churn DeviceProtection ratio from the data\n",
        "devprotcount = data_chn['DeviceProtection'].value_counts()\n",
        "ndevprotcount = data_nchn['DeviceProtection'].value_counts()\n",
        "\n",
        "print(f\"Customers with device protection who stopped using Telco: {round(devprotcount[1]/(devprotcount[0]+devprotcount[1]+devprotcount[2])*100, 0)}%\")\n",
        "print(f\"Customers without device protection who stopped using Telco: {round(devprotcount[0]/(devprotcount[0]+devprotcount[1]+devprotcount[2])*100, 0)}%\")\n",
        "print(f\"Non-internet service customers who stopped using Telco: {round(devprotcount[2]/(devprotcount[0]+devprotcount[1]+devprotcount[2])*100, 0)}%\")\n",
        "print(\" \")\n",
        "print(f\"Customers with device protection who continue using Telco: {round(ndevprotcount[0]/(ndevprotcount[0]+ndevprotcount[1]+ndevprotcount[2])*100, 0)}%\")\n",
        "print(f\"Customers without device protection who continue using Telco: {round(ndevprotcount[1]/(ndevprotcount[0]+ndevprotcount[1]+ndevprotcount[2])*100, 0)}%\")\n",
        "print(f\"Non-internet service customers who continue using Telco: {round(ndevprotcount[2]/(ndevprotcount[0]+ndevprotcount[1]+ndevprotcount[2])*100, 0)}%\")\n",
        "\n",
        "# Graphing DeviceProtection count based on Churn\n",
        "sns.set(rc={'figure.figsize':(30,5)})\n",
        "sns.countplot(x='DeviceProtection', data=data_clone, hue='Churn')"
      ]
    },
    {
      "cell_type": "markdown",
      "metadata": {
        "id": "lfJPVULn6fbn"
      },
      "source": [
        "From the graph, we can see that the ratio of the customers from the data between those who continue and stopped using Telco's product or service during a certain time frame is quite different between customers with and without device protection. Customers without device protection have more tendency to churn, unlike customers with device protection. Hence we can see that the lack of device protection services does affect churn rate."
      ]
    },
    {
      "cell_type": "code",
      "execution_count": 24,
      "metadata": {
        "colab": {
          "base_uri": "https://localhost:8080/",
          "height": 434
        },
        "id": "aICjIvke6fbn",
        "outputId": "2e01f367-028e-4908-b74c-399949190838"
      },
      "outputs": [
        {
          "name": "stdout",
          "output_type": "stream",
          "text": [
            "Customers with tech support who stopped using Telco: 17.0%\n",
            "Customers without tech support who stopped using Telco: 77.0%\n",
            "Non-internet service customers who stopped using Telco: 6.0%\n",
            " \n",
            "Customers with tech support who continue using Telco: 39.0%\n",
            "Customers without tech support who continue using Telco: 34.0%\n",
            "Non-internet service customers who continue using Telco: 27.0%\n"
          ]
        },
        {
          "data": {
            "text/plain": [
              "<matplotlib.axes._subplots.AxesSubplot at 0x7ff9e9f2f210>"
            ]
          },
          "execution_count": 24,
          "metadata": {},
          "output_type": "execute_result"
        },
        {
          "data": {
            "image/png": "[encoded data removed]",
            "text/plain": [
              "<Figure size 2160x360 with 1 Axes>"
            ]
          },
          "metadata": {},
          "output_type": "display_data"
        }
      ],
      "source": [
        "# Counting the Churn TechSupport ratio from the data\n",
        "techsupcount = data_chn['TechSupport'].value_counts()\n",
        "ntechsupcount = data_nchn['TechSupport'].value_counts()\n",
        "\n",
        "print(f\"Customers with tech support who stopped using Telco: {round(techsupcount[1]/(techsupcount[0]+techsupcount[1]+techsupcount[2])*100, 0)}%\")\n",
        "print(f\"Customers without tech support who stopped using Telco: {round(techsupcount[0]/(techsupcount[0]+techsupcount[1]+techsupcount[2])*100, 0)}%\")\n",
        "print(f\"Non-internet service customers who stopped using Telco: {round(techsupcount[2]/(techsupcount[0]+techsupcount[1]+techsupcount[2])*100, 0)}%\")\n",
        "print(\" \")\n",
        "print(f\"Customers with tech support who continue using Telco: {round(ntechsupcount[0]/(ntechsupcount[0]+ntechsupcount[1]+ntechsupcount[2])*100, 0)}%\")\n",
        "print(f\"Customers without tech support who continue using Telco: {round(ntechsupcount[1]/(ntechsupcount[0]+ntechsupcount[1]+ntechsupcount[2])*100, 0)}%\")\n",
        "print(f\"Non-internet service customers who continue using Telco: {round(ntechsupcount[2]/(ntechsupcount[0]+ntechsupcount[1]+ntechsupcount[2])*100, 0)}%\")\n",
        "\n",
        "# Graphing TechSupport count based on Churn\n",
        "sns.set(rc={'figure.figsize':(30,5)})\n",
        "sns.countplot(x='TechSupport', data=data_clone, hue='Churn')"
      ]
    },
    {
      "cell_type": "markdown",
      "metadata": {
        "id": "ocMp7e306fbo"
      },
      "source": [
        "From the graph, we can see that the ratio of the customers from the data between those who continue and stopped using Telco's product or service during a certain time frame is quite different between customers with and without tech support services. Customers without tech support services have more tendency to churn, unlike customers with tech support services. Hence we can see that the lack of online backup service services does affect churn rate."
      ]
    },
    {
      "cell_type": "code",
      "execution_count": 25,
      "metadata": {
        "colab": {
          "base_uri": "https://localhost:8080/",
          "height": 434
        },
        "id": "CT9oAwmy6fbo",
        "outputId": "0f5eb5ff-344e-403b-da72-c7284b8e1e38"
      },
      "outputs": [
        {
          "name": "stdout",
          "output_type": "stream",
          "text": [
            "Customers with TV streaming who stopped using Telco: 44.0%\n",
            "Customers without TV streaming who stopped using Telco: 50.0%\n",
            "Non-internet service customers who stopped using Telco: 6.0%\n",
            " \n",
            "Customers with TV streaming who continue using Telco: 37.0%\n",
            "Customers without TV streaming who continue using Telco: 36.0%\n",
            "Non-internet service customers who continue using Telco: 27.0%\n"
          ]
        },
        {
          "data": {
            "text/plain": [
              "<matplotlib.axes._subplots.AxesSubplot at 0x7ff9e9eb2410>"
            ]
          },
          "execution_count": 25,
          "metadata": {},
          "output_type": "execute_result"
        },
        {
          "data": {
            "image/png": "[encoded data removed]",
            "text/plain": [
              "<Figure size 2160x360 with 1 Axes>"
            ]
          },
          "metadata": {},
          "output_type": "display_data"
        }
      ],
      "source": [
        "# Counting the Churn StreamingTV ratio from the data\n",
        "tvstreamcount = data_chn['StreamingTV'].value_counts()\n",
        "ntvstreamcount = data_nchn['StreamingTV'].value_counts()\n",
        "\n",
        "print(f\"Customers with TV streaming who stopped using Telco: {round(tvstreamcount[1]/(tvstreamcount[0]+tvstreamcount[1]+tvstreamcount[2])*100, 0)}%\")\n",
        "print(f\"Customers without TV streaming who stopped using Telco: {round(tvstreamcount[0]/(tvstreamcount[0]+tvstreamcount[1]+tvstreamcount[2])*100, 0)}%\")\n",
        "print(f\"Non-internet service customers who stopped using Telco: {round(tvstreamcount[2]/(tvstreamcount[0]+tvstreamcount[1]+tvstreamcount[2])*100, 0)}%\")\n",
        "print(\" \")\n",
        "print(f\"Customers with TV streaming who continue using Telco: {round(ntvstreamcount[0]/(ntvstreamcount[0]+ntvstreamcount[1]+ntvstreamcount[2])*100, 0)}%\")\n",
        "print(f\"Customers without TV streaming who continue using Telco: {round(ntvstreamcount[1]/(ntvstreamcount[0]+ntvstreamcount[1]+ntvstreamcount[2])*100, 0)}%\")\n",
        "print(f\"Non-internet service customers who continue using Telco: {round(ntvstreamcount[2]/(ntvstreamcount[0]+ntvstreamcount[1]+ntvstreamcount[2])*100, 0)}%\")\n",
        "\n",
        "# Graphing StreamingTV count based on Churn\n",
        "sns.set(rc={'figure.figsize':(30,5)})\n",
        "sns.countplot(x='StreamingTV', data=data_clone, hue='Churn')"
      ]
    },
    {
      "cell_type": "markdown",
      "metadata": {
        "id": "QOmqVlsj6fbp"
      },
      "source": [
        "From the graph, we can see that the ratio of the customers from the data between those who continue and stopped using Telco's product or service during a certain time frame is quite similar between customers with and without TV streaming services. Hence we can see that TV streaming services does not affect churn rate."
      ]
    },
    {
      "cell_type": "code",
      "execution_count": 26,
      "metadata": {
        "colab": {
          "base_uri": "https://localhost:8080/",
          "height": 436
        },
        "id": "EoYwFlmZ6fbp",
        "outputId": "d7c33b9a-ac39-401d-9166-1f2667cdb58a"
      },
      "outputs": [
        {
          "name": "stdout",
          "output_type": "stream",
          "text": [
            "Customers with movies streaming who stopped using Telco: 44.0%\n",
            "Customers without movies streaming who stopped using Telco: 50.0%\n",
            "Non-internet service customers who stopped using Telco: 6.0%\n",
            " \n",
            "Customers with movies streaming who continue using Telco: 37.0%\n",
            "Customers without movies streaming who continue using Telco: 36.0%\n",
            "Non-internet service customers who continue using Telco: 27.0%\n"
          ]
        },
        {
          "data": {
            "text/plain": [
              "<matplotlib.axes._subplots.AxesSubplot at 0x7ff9e9e342d0>"
            ]
          },
          "execution_count": 26,
          "metadata": {},
          "output_type": "execute_result"
        },
        {
          "data": {
            "image/png": "[encoded data removed]",
            "text/plain": [
              "<Figure size 2160x360 with 1 Axes>"
            ]
          },
          "metadata": {},
          "output_type": "display_data"
        }
      ],
      "source": [
        "# Counting the Churn StreamingMovies ratio from the data\n",
        "movstreamcount = data_chn['StreamingMovies'].value_counts()\n",
        "nmovstreamcount = data_nchn['StreamingMovies'].value_counts()\n",
        "\n",
        "print(f\"Customers with movies streaming who stopped using Telco: {round(movstreamcount[1]/(movstreamcount[0]+movstreamcount[1]+movstreamcount[2])*100, 0)}%\")\n",
        "print(f\"Customers without movies streaming who stopped using Telco: {round(movstreamcount[0]/(movstreamcount[0]+movstreamcount[1]+movstreamcount[2])*100, 0)}%\")\n",
        "print(f\"Non-internet service customers who stopped using Telco: {round(movstreamcount[2]/(movstreamcount[0]+movstreamcount[1]+movstreamcount[2])*100, 0)}%\")\n",
        "print(\" \")\n",
        "print(f\"Customers with movies streaming who continue using Telco: {round(nmovstreamcount[0]/(nmovstreamcount[0]+nmovstreamcount[1]+nmovstreamcount[2])*100, 0)}%\")\n",
        "print(f\"Customers without movies streaming who continue using Telco: {round(nmovstreamcount[1]/(nmovstreamcount[0]+nmovstreamcount[1]+nmovstreamcount[2])*100, 0)}%\")\n",
        "print(f\"Non-internet service customers who continue using Telco: {round(nmovstreamcount[2]/(nmovstreamcount[0]+nmovstreamcount[1]+nmovstreamcount[2])*100, 0)}%\")\n",
        "\n",
        "# Graphing StreamingMovies count based on Churn\n",
        "sns.set(rc={'figure.figsize':(30,5)})\n",
        "sns.countplot(x='StreamingMovies', data=data_clone, hue='Churn')"
      ]
    },
    {
      "cell_type": "markdown",
      "metadata": {
        "id": "ShjSVVpb6fbp"
      },
      "source": [
        "From the graph, we can see that the ratio of the customers from the data between those who continue and stopped using Telco's product or service during a certain time frame is quite similar between customers with and without movies streaming services. Hence we can see that movies streaming services does not affect churn rate."
      ]
    },
    {
      "cell_type": "code",
      "execution_count": 27,
      "metadata": {
        "colab": {
          "base_uri": "https://localhost:8080/",
          "height": 434
        },
        "id": "T79vQl-16fbp",
        "outputId": "97e5ac7b-6fb2-4afe-b266-6eb645aeb672"
      },
      "outputs": [
        {
          "name": "stdout",
          "output_type": "stream",
          "text": [
            "Customers with month to month contract who stopped using Telco: 89.0%\n",
            "Customers with one year contract who stopped using Telco: 9.0%\n",
            "Customers with two year contract who stopped using Telco: 3.0%\n",
            " \n",
            "Customers with month to month contract who continue using Telco: 43.0%\n",
            "Customers with one year contract who continue using Telco: 25.0%\n",
            "Customers with two year contract who continue using Telco: 32.0%\n"
          ]
        },
        {
          "data": {
            "text/plain": [
              "<matplotlib.axes._subplots.AxesSubplot at 0x7ff9e9db3790>"
            ]
          },
          "execution_count": 27,
          "metadata": {},
          "output_type": "execute_result"
        },
        {
          "data": {
            "image/png": "[encoded data removed]",
            "text/plain": [
              "<Figure size 2160x360 with 1 Axes>"
            ]
          },
          "metadata": {},
          "output_type": "display_data"
        }
      ],
      "source": [
        "# Counting the Churn Contract ratio from the data\n",
        "contcount = data_chn['Contract'].value_counts()\n",
        "ncontcount = data_nchn['Contract'].value_counts()\n",
        "\n",
        "print(f\"Customers with month to month contract who stopped using Telco: {round(contcount[0]/(contcount[0]+contcount[1]+contcount[2])*100, 0)}%\")\n",
        "print(f\"Customers with one year contract who stopped using Telco: {round(contcount[1]/(contcount[0]+contcount[1]+contcount[2])*100, 0)}%\")\n",
        "print(f\"Customers with two year contract who stopped using Telco: {round(contcount[2]/(contcount[0]+contcount[1]+contcount[2])*100, 0)}%\")\n",
        "print(\" \")\n",
        "print(f\"Customers with month to month contract who continue using Telco: {round(ncontcount[0]/(ncontcount[0]+ncontcount[1]+ncontcount[2])*100, 0)}%\")\n",
        "print(f\"Customers with one year contract who continue using Telco: {round(ncontcount[2]/(ncontcount[0]+ncontcount[1]+ncontcount[2])*100, 0)}%\")\n",
        "print(f\"Customers with two year contract who continue using Telco: {round(ncontcount[1]/(ncontcount[0]+ncontcount[1]+ncontcount[2])*100, 0)}%\")\n",
        "\n",
        "# Graphing Contract count based on Churn\n",
        "sns.set(rc={'figure.figsize':(30,5)})\n",
        "sns.countplot(x='Contract', data=data_clone, hue='Churn')"
      ]
    },
    {
      "cell_type": "markdown",
      "metadata": {
        "id": "D8zJLjuq6fbp"
      },
      "source": [
        "From the graph, we can see that the longer the customers contract is, the less tendency they have to churn. This shows that customers with longer contracts show more commitment and loyalty, while those on shorter contract might just want to try the services or less commitment to Telco."
      ]
    },
    {
      "cell_type": "code",
      "execution_count": 28,
      "metadata": {
        "colab": {
          "base_uri": "https://localhost:8080/",
          "height": 399
        },
        "id": "Ny6ctLht6fbp",
        "outputId": "512a6cd1-d7e4-4cfb-c32c-8c7b4ac8662e"
      },
      "outputs": [
        {
          "name": "stdout",
          "output_type": "stream",
          "text": [
            "Paperless customers who stopped using Telco: 75.0%\n",
            "Non-paperless customers who stopped using Telco: 25.0%\n",
            " \n",
            "Paperless customers who continue using Telco: 54.0%\n",
            "Non-paperless customers who continue using Telco: 46.0%\n"
          ]
        },
        {
          "data": {
            "text/plain": [
              "<matplotlib.axes._subplots.AxesSubplot at 0x7ff9e9d25a90>"
            ]
          },
          "execution_count": 28,
          "metadata": {},
          "output_type": "execute_result"
        },
        {
          "data": {
            "image/png": "[encoded data removed]",
            "text/plain": [
              "<Figure size 2160x360 with 1 Axes>"
            ]
          },
          "metadata": {},
          "output_type": "display_data"
        }
      ],
      "source": [
        "# Counting the Churn PaperlessBilling ratio from the data\n",
        "billcount = data_chn['PaperlessBilling'].value_counts()\n",
        "nbillcount = data_nchn['PaperlessBilling'].value_counts()\n",
        "\n",
        "print(f\"Paperless customers who stopped using Telco: {round(billcount[0]/(billcount[0]+billcount[1])*100, 0)}%\")\n",
        "print(f\"Non-paperless customers who stopped using Telco: {round(billcount[1]/(billcount[0]+billcount[1])*100, 0)}%\")\n",
        "print(\" \")\n",
        "print(f\"Paperless customers who continue using Telco: {round(nbillcount[0]/(nbillcount[0]+nbillcount[1])*100, 0)}%\")\n",
        "print(f\"Non-paperless customers who continue using Telco: {round(nbillcount[1]/(nbillcount[0]+nbillcount[1])*100, 0)}%\")\n",
        "\n",
        "# Graphing PaperlessBilling count based on Churn\n",
        "sns.set(rc={'figure.figsize':(30,5)})\n",
        "sns.countplot(x='PaperlessBilling', data=data_clone, hue='Churn')"
      ]
    },
    {
      "cell_type": "markdown",
      "metadata": {
        "id": "wOgr8_tO6fbq"
      },
      "source": [
        "From the graph, we can see that there are more tendency to churn on customers with paperless bill."
      ]
    },
    {
      "cell_type": "code",
      "execution_count": 29,
      "metadata": {
        "colab": {
          "base_uri": "https://localhost:8080/",
          "height": 468
        },
        "id": "uURACPCJ6fbq",
        "outputId": "b9bc5aa1-a9b4-40d1-b161-ec50b65455d9"
      },
      "outputs": [
        {
          "name": "stdout",
          "output_type": "stream",
          "text": [
            "Electronic check customers who stopped using Telco: 57.0%\n",
            "Mailed check customers who stopped using Telco: 16.0%\n",
            "Bank transfer (automatic) check customers who stopped using Telco: 14.0%\n",
            "Credit card (automatic) check customers who stopped using Telco: 12.0%\n",
            " \n",
            "Electronic check customers who continue using Telco: 25.0%\n",
            "Mailed check customers who continue using Telco: 25.0%\n",
            "Bank transfer (automatic) check customers who continue using Telco: 25.0%\n",
            "Credit card (automatic) check customers who continue using Telco: 25.0%\n"
          ]
        },
        {
          "data": {
            "text/plain": [
              "<matplotlib.axes._subplots.AxesSubplot at 0x7ff9e9c9ad10>"
            ]
          },
          "execution_count": 29,
          "metadata": {},
          "output_type": "execute_result"
        },
        {
          "data": {
            "image/png": "[encoded data removed]",
            "text/plain": [
              "<Figure size 2160x360 with 1 Axes>"
            ]
          },
          "metadata": {},
          "output_type": "display_data"
        }
      ],
      "source": [
        "# Counting the Churn PaymentMethod ratio from the data\n",
        "paymetcount = data_chn['PaymentMethod'].value_counts()\n",
        "npaymetcount = data_nchn['PaymentMethod'].value_counts()\n",
        "\n",
        "print(f\"Electronic check customers who stopped using Telco: {round(paymetcount[0]/(paymetcount[0]+paymetcount[1]+paymetcount[2]+paymetcount[3])*100, 0)}%\")\n",
        "print(f\"Mailed check customers who stopped using Telco: {round(paymetcount[1]/(paymetcount[0]+paymetcount[1]+paymetcount[2]+paymetcount[3])*100, 0)}%\")\n",
        "print(f\"Bank transfer (automatic) check customers who stopped using Telco: {round(paymetcount[2]/(paymetcount[0]+paymetcount[1]+paymetcount[2]+paymetcount[3])*100, 0)}%\")\n",
        "print(f\"Credit card (automatic) check customers who stopped using Telco: {round(paymetcount[3]/(paymetcount[0]+paymetcount[1]+paymetcount[2]+paymetcount[3])*100, 0)}%\")\n",
        "print(\" \")\n",
        "print(f\"Electronic check customers who continue using Telco: {round(npaymetcount[1]/(npaymetcount[0]+npaymetcount[1]+npaymetcount[2]+npaymetcount[3])*100, 0)}%\")\n",
        "print(f\"Mailed check customers who continue using Telco: {round(npaymetcount[0]/(npaymetcount[0]+npaymetcount[1]+npaymetcount[2]+npaymetcount[3])*100, 0)}%\")\n",
        "print(f\"Bank transfer (automatic) check customers who continue using Telco: {round(npaymetcount[3]/(npaymetcount[0]+npaymetcount[1]+npaymetcount[2]+npaymetcount[3])*100, 0)}%\")\n",
        "print(f\"Credit card (automatic) check customers who continue using Telco: {round(npaymetcount[2]/(npaymetcount[0]+npaymetcount[1]+npaymetcount[2]+npaymetcount[3])*100, 0)}%\")\n",
        "\n",
        "# Graphing PaymentMethod count based on Churn\n",
        "sns.set(rc={'figure.figsize':(30,5)})\n",
        "sns.countplot(x='PaymentMethod', data=data_clone, hue='Churn')"
      ]
    },
    {
      "cell_type": "markdown",
      "metadata": {
        "id": "bzDx5Ei06fbq"
      },
      "source": [
        "From the graph, we can see that although the ratio for continuing customers are similar between each payment methods, there are more tendency to churn on customers with electronic check compared to other payment methods. This could implies a problem in electronic check payment."
      ]
    },
    {
      "cell_type": "code",
      "execution_count": 30,
      "metadata": {
        "colab": {
          "base_uri": "https://localhost:8080/",
          "height": 312
        },
        "id": "1YR5hwKN6fbq",
        "outputId": "ad155a38-8c87-4096-b552-58143f36888d"
      },
      "outputs": [
        {
          "data": {
            "text/plain": [
              "<matplotlib.axes._subplots.AxesSubplot at 0x7ff9e9c9a350>"
            ]
          },
          "execution_count": 30,
          "metadata": {},
          "output_type": "execute_result"
        },
        {
          "data": {
            "image/png": "[encoded data removed]",
            "text/plain": [
              "<Figure size 2160x360 with 1 Axes>"
            ]
          },
          "metadata": {},
          "output_type": "display_data"
        }
      ],
      "source": [
        "# Graphing MonthlyCharges count with Churn hue\n",
        "sns.set(rc={'figure.figsize':(30,5)})\n",
        "sns.histplot(x='MonthlyCharges', data=data_clone, bins=30, hue='Churn')"
      ]
    },
    {
      "cell_type": "markdown",
      "metadata": {
        "id": "V8PNVX8X6fbq"
      },
      "source": [
        "From the graph, we can see that there are not much difference in monthly payments between those who continue and stopped using Telco's product or service during a certain time frame."
      ]
    },
    {
      "cell_type": "code",
      "execution_count": 31,
      "metadata": {
        "colab": {
          "base_uri": "https://localhost:8080/",
          "height": 313
        },
        "id": "Cb9bpT5U6fbq",
        "outputId": "a9f89492-84a7-4fe9-fe2f-769d7503625c"
      },
      "outputs": [
        {
          "data": {
            "text/plain": [
              "<matplotlib.axes._subplots.AxesSubplot at 0x7ff9e9b32f10>"
            ]
          },
          "execution_count": 31,
          "metadata": {},
          "output_type": "execute_result"
        },
        {
          "data": {
            "image/png": "[encoded data removed]",
            "text/plain": [
              "<Figure size 2160x360 with 1 Axes>"
            ]
          },
          "metadata": {},
          "output_type": "display_data"
        }
      ],
      "source": [
        "# Graphing TotalCharges count with Churn hue\n",
        "sns.set(rc={'figure.figsize':(30,5)})\n",
        "sns.histplot(x='TotalCharges', data=data_clone, bins=30, hue='Churn')"
      ]
    },
    {
      "cell_type": "markdown",
      "metadata": {
        "id": "IhdT_mz16fbq"
      },
      "source": [
        "From the graph, we can see that there are not much difference in total payments between those who continue and stopped using Telco's product or service during a certain time frame."
      ]
    },
    {
      "cell_type": "markdown",
      "metadata": {
        "id": "g2J1nu9X6fbr"
      },
      "source": [
        "From the exploratory data analysis (EDA) we found out that:\n",
        "- a quarter of the customers from the data are stopped using Telco's product or service during a certain time frame.\n",
        "- Senior customers have more tendency to churn, hence we can see that age does affect churn rate.\n",
        "- Customers without partners or dependents have more tendency to churn, as they do not require telecommunication services as much as customers with partners or dependents. \n",
        "- Phone customers have more tendency to churn, which implies that Telco's phone services showed high customer dissatisfaction.\n",
        "- Customers with fiber optics internet have more tendency to churn, unlike customers with DSL internet. This implies a problem in fiber optics internet service from Telco.\n",
        "- Internet customers without online security, online backup, device protection, and tech support services have more tendency to churn.\n",
        "- TV and movies streaming services in internet customers does not affect customers tendency to churn.\n",
        "- Customers with longer tenure and contracts show more commitment and loyalty, as shown by the less churn tendency the longer they became Telco's customers.\n",
        "- From the graph, we can see that there are more tendency to churn on customers with paperless bill and on customers with electronic check compared to other payment methods. This could implies a problem in electronic check payment system or e-billing system.\n",
        "- There are not much difference in monthly payments between customers who continue and stopped using Telco's product or service during a certain time frame."
      ]
    },
    {
      "cell_type": "markdown",
      "metadata": {
        "id": "L47dOu1R6fbr"
      },
      "source": [
        "# V. Data Preprocessing"
      ]
    },
    {
      "cell_type": "markdown",
      "metadata": {
        "id": "B87w4U9D8SoH"
      },
      "source": [
        "### Featured Selection"
      ]
    },
    {
      "cell_type": "code",
      "execution_count": 32,
      "metadata": {
        "id": "CyRGiyd38N5l"
      },
      "outputs": [],
      "source": [
        "# Dropping unnecessary columns and changing values for easier calculation\n",
        "data = data.drop('customerID', axis=1)\n",
        "data['SeniorCitizen'] = data['SeniorCitizen'].replace([0, 1],['No','Yes'])\n",
        "data['Churn'] = data['Churn'].replace(['No','Yes'], [0, 1])"
      ]
    },
    {
      "cell_type": "markdown",
      "metadata": {
        "id": "jIt-zgy6-oBF"
      },
      "source": [
        "For this case, since I have removed the missing values beforehand in the data loading section, I decided to not process missing value again. Additionally, I choose not to handle outliers in this case to see the model as accurately as possible."
      ]
    },
    {
      "cell_type": "markdown",
      "metadata": {
        "id": "08GinqI8tAXF"
      },
      "source": [
        "### Get Inference Data"
      ]
    },
    {
      "cell_type": "code",
      "execution_count": 33,
      "metadata": {
        "colab": {
          "base_uri": "https://localhost:8080/",
          "height": 601
        },
        "id": "0EM6F2kXtDHI",
        "outputId": "3fee9d59-3a97-40fb-cd6f-9337ab610d1f"
      },
      "outputs": [
        {
          "data": {
            "text/html": [
              "\n",
              "  <div id=\"df-ad60d084-2bbb-48a6-b2b7-d9c05724858f\">\n",
              "    <div class=\"colab-df-container\">\n",
              "      <div>\n",
              "<style scoped>\n",
              "    .dataframe tbody tr th:only-of-type {\n",
              "        vertical-align: middle;\n",
              "    }\n",
              "\n",
              "    .dataframe tbody tr th {\n",
              "        vertical-align: top;\n",
              "    }\n",
              "\n",
              "    .dataframe thead th {\n",
              "        text-align: right;\n",
              "    }\n",
              "</style>\n",
              "<table border=\"1\" class=\"dataframe\">\n",
              "  <thead>\n",
              "    <tr style=\"text-align: right;\">\n",
              "      <th></th>\n",
              "      <th>gender</th>\n",
              "      <th>SeniorCitizen</th>\n",
              "      <th>Partner</th>\n",
              "      <th>Dependents</th>\n",
              "      <th>tenure</th>\n",
              "      <th>PhoneService</th>\n",
              "      <th>MultipleLines</th>\n",
              "      <th>InternetService</th>\n",
              "      <th>OnlineSecurity</th>\n",
              "      <th>OnlineBackup</th>\n",
              "      <th>DeviceProtection</th>\n",
              "      <th>TechSupport</th>\n",
              "      <th>StreamingTV</th>\n",
              "      <th>StreamingMovies</th>\n",
              "      <th>Contract</th>\n",
              "      <th>PaperlessBilling</th>\n",
              "      <th>PaymentMethod</th>\n",
              "      <th>MonthlyCharges</th>\n",
              "      <th>TotalCharges</th>\n",
              "      <th>Churn</th>\n",
              "    </tr>\n",
              "  </thead>\n",
              "  <tbody>\n",
              "    <tr>\n",
              "      <th>1888</th>\n",
              "      <td>Female</td>\n",
              "      <td>No</td>\n",
              "      <td>No</td>\n",
              "      <td>No</td>\n",
              "      <td>23</td>\n",
              "      <td>Yes</td>\n",
              "      <td>No</td>\n",
              "      <td>DSL</td>\n",
              "      <td>No</td>\n",
              "      <td>Yes</td>\n",
              "      <td>Yes</td>\n",
              "      <td>No</td>\n",
              "      <td>No</td>\n",
              "      <td>No</td>\n",
              "      <td>One year</td>\n",
              "      <td>No</td>\n",
              "      <td>Bank transfer (automatic)</td>\n",
              "      <td>55.80</td>\n",
              "      <td>1327.85</td>\n",
              "      <td>0</td>\n",
              "    </tr>\n",
              "    <tr>\n",
              "      <th>5398</th>\n",
              "      <td>Male</td>\n",
              "      <td>No</td>\n",
              "      <td>No</td>\n",
              "      <td>No</td>\n",
              "      <td>2</td>\n",
              "      <td>Yes</td>\n",
              "      <td>No</td>\n",
              "      <td>No</td>\n",
              "      <td>No internet service</td>\n",
              "      <td>No internet service</td>\n",
              "      <td>No internet service</td>\n",
              "      <td>No internet service</td>\n",
              "      <td>No internet service</td>\n",
              "      <td>No internet service</td>\n",
              "      <td>Month-to-month</td>\n",
              "      <td>No</td>\n",
              "      <td>Mailed check</td>\n",
              "      <td>19.75</td>\n",
              "      <td>39.30</td>\n",
              "      <td>0</td>\n",
              "    </tr>\n",
              "    <tr>\n",
              "      <th>2622</th>\n",
              "      <td>Male</td>\n",
              "      <td>Yes</td>\n",
              "      <td>Yes</td>\n",
              "      <td>Yes</td>\n",
              "      <td>28</td>\n",
              "      <td>Yes</td>\n",
              "      <td>Yes</td>\n",
              "      <td>DSL</td>\n",
              "      <td>No</td>\n",
              "      <td>No</td>\n",
              "      <td>No</td>\n",
              "      <td>No</td>\n",
              "      <td>No</td>\n",
              "      <td>No</td>\n",
              "      <td>One year</td>\n",
              "      <td>Yes</td>\n",
              "      <td>Electronic check</td>\n",
              "      <td>51.00</td>\n",
              "      <td>1381.80</td>\n",
              "      <td>0</td>\n",
              "    </tr>\n",
              "    <tr>\n",
              "      <th>531</th>\n",
              "      <td>Male</td>\n",
              "      <td>No</td>\n",
              "      <td>Yes</td>\n",
              "      <td>Yes</td>\n",
              "      <td>70</td>\n",
              "      <td>Yes</td>\n",
              "      <td>No</td>\n",
              "      <td>No</td>\n",
              "      <td>No internet service</td>\n",
              "      <td>No internet service</td>\n",
              "      <td>No internet service</td>\n",
              "      <td>No internet service</td>\n",
              "      <td>No internet service</td>\n",
              "      <td>No internet service</td>\n",
              "      <td>Two year</td>\n",
              "      <td>No</td>\n",
              "      <td>Credit card (automatic)</td>\n",
              "      <td>20.05</td>\n",
              "      <td>1360.25</td>\n",
              "      <td>0</td>\n",
              "    </tr>\n",
              "    <tr>\n",
              "      <th>1472</th>\n",
              "      <td>Male</td>\n",
              "      <td>No</td>\n",
              "      <td>Yes</td>\n",
              "      <td>Yes</td>\n",
              "      <td>13</td>\n",
              "      <td>Yes</td>\n",
              "      <td>Yes</td>\n",
              "      <td>Fiber optic</td>\n",
              "      <td>No</td>\n",
              "      <td>No</td>\n",
              "      <td>No</td>\n",
              "      <td>No</td>\n",
              "      <td>No</td>\n",
              "      <td>No</td>\n",
              "      <td>Month-to-month</td>\n",
              "      <td>Yes</td>\n",
              "      <td>Credit card (automatic)</td>\n",
              "      <td>74.40</td>\n",
              "      <td>896.75</td>\n",
              "      <td>1</td>\n",
              "    </tr>\n",
              "    <tr>\n",
              "      <th>2035</th>\n",
              "      <td>Female</td>\n",
              "      <td>No</td>\n",
              "      <td>No</td>\n",
              "      <td>Yes</td>\n",
              "      <td>43</td>\n",
              "      <td>Yes</td>\n",
              "      <td>No</td>\n",
              "      <td>DSL</td>\n",
              "      <td>Yes</td>\n",
              "      <td>Yes</td>\n",
              "      <td>No</td>\n",
              "      <td>No</td>\n",
              "      <td>No</td>\n",
              "      <td>Yes</td>\n",
              "      <td>Month-to-month</td>\n",
              "      <td>Yes</td>\n",
              "      <td>Electronic check</td>\n",
              "      <td>63.95</td>\n",
              "      <td>2737.05</td>\n",
              "      <td>0</td>\n",
              "    </tr>\n",
              "    <tr>\n",
              "      <th>4838</th>\n",
              "      <td>Female</td>\n",
              "      <td>No</td>\n",
              "      <td>Yes</td>\n",
              "      <td>No</td>\n",
              "      <td>67</td>\n",
              "      <td>Yes</td>\n",
              "      <td>Yes</td>\n",
              "      <td>Fiber optic</td>\n",
              "      <td>No</td>\n",
              "      <td>Yes</td>\n",
              "      <td>Yes</td>\n",
              "      <td>Yes</td>\n",
              "      <td>Yes</td>\n",
              "      <td>Yes</td>\n",
              "      <td>One year</td>\n",
              "      <td>Yes</td>\n",
              "      <td>Credit card (automatic)</td>\n",
              "      <td>109.70</td>\n",
              "      <td>7344.45</td>\n",
              "      <td>0</td>\n",
              "    </tr>\n",
              "    <tr>\n",
              "      <th>5505</th>\n",
              "      <td>Female</td>\n",
              "      <td>No</td>\n",
              "      <td>Yes</td>\n",
              "      <td>Yes</td>\n",
              "      <td>12</td>\n",
              "      <td>No</td>\n",
              "      <td>No phone service</td>\n",
              "      <td>DSL</td>\n",
              "      <td>No</td>\n",
              "      <td>No</td>\n",
              "      <td>No</td>\n",
              "      <td>Yes</td>\n",
              "      <td>No</td>\n",
              "      <td>No</td>\n",
              "      <td>One year</td>\n",
              "      <td>No</td>\n",
              "      <td>Credit card (automatic)</td>\n",
              "      <td>30.25</td>\n",
              "      <td>368.85</td>\n",
              "      <td>0</td>\n",
              "    </tr>\n",
              "    <tr>\n",
              "      <th>3528</th>\n",
              "      <td>Male</td>\n",
              "      <td>No</td>\n",
              "      <td>No</td>\n",
              "      <td>No</td>\n",
              "      <td>16</td>\n",
              "      <td>Yes</td>\n",
              "      <td>No</td>\n",
              "      <td>No</td>\n",
              "      <td>No internet service</td>\n",
              "      <td>No internet service</td>\n",
              "      <td>No internet service</td>\n",
              "      <td>No internet service</td>\n",
              "      <td>No internet service</td>\n",
              "      <td>No internet service</td>\n",
              "      <td>Month-to-month</td>\n",
              "      <td>Yes</td>\n",
              "      <td>Mailed check</td>\n",
              "      <td>19.70</td>\n",
              "      <td>342.40</td>\n",
              "      <td>1</td>\n",
              "    </tr>\n",
              "    <tr>\n",
              "      <th>3279</th>\n",
              "      <td>Male</td>\n",
              "      <td>No</td>\n",
              "      <td>Yes</td>\n",
              "      <td>Yes</td>\n",
              "      <td>23</td>\n",
              "      <td>Yes</td>\n",
              "      <td>No</td>\n",
              "      <td>DSL</td>\n",
              "      <td>Yes</td>\n",
              "      <td>No</td>\n",
              "      <td>No</td>\n",
              "      <td>Yes</td>\n",
              "      <td>No</td>\n",
              "      <td>No</td>\n",
              "      <td>One year</td>\n",
              "      <td>No</td>\n",
              "      <td>Credit card (automatic)</td>\n",
              "      <td>57.20</td>\n",
              "      <td>1423.35</td>\n",
              "      <td>0</td>\n",
              "    </tr>\n",
              "  </tbody>\n",
              "</table>\n",
              "</div>\n",
              "      <button class=\"colab-df-convert\" onclick=\"convertToInteractive('df-ad60d084-2bbb-48a6-b2b7-d9c05724858f')\"\n",
              "              title=\"Convert this dataframe to an interactive table.\"\n",
              "              style=\"display:none;\">\n",
              "        \n",
              "  <svg xmlns=\"http://www.w3.org/2000/svg\" height=\"24px\"viewBox=\"0 0 24 24\"\n",
              "       width=\"24px\">\n",
              "    <path d=\"M0 0h24v24H0V0z\" fill=\"none\"/>\n",
              "    <path d=\"M18.56 5.44l.94 2.06.94-2.06 2.06-.94-2.06-.94-.94-2.06-.94 2.06-2.06.94zm-11 1L8.5 8.5l.94-2.06 2.06-.94-2.06-.94L8.5 2.5l-.94 2.06-2.06.94zm10 10l.94 2.06.94-2.06 2.06-.94-2.06-.94-.94-2.06-.94 2.06-2.06.94z\"/><path d=\"M17.41 7.96l-1.37-1.37c-.4-.4-.92-.59-1.43-.59-.52 0-1.04.2-1.43.59L10.3 9.45l-7.72 7.72c-.78.78-.78 2.05 0 2.83L4 21.41c.39.39.9.59 1.41.59.51 0 1.02-.2 1.41-.59l7.78-7.78 2.81-2.81c.8-.78.8-2.07 0-2.86zM5.41 20L4 18.59l7.72-7.72 1.47 1.35L5.41 20z\"/>\n",
              "  </svg>\n",
              "      </button>\n",
              "      \n",
              "  <style>\n",
              "    .colab-df-container {\n",
              "      display:flex;\n",
              "      flex-wrap:wrap;\n",
              "      gap: 12px;\n",
              "    }\n",
              "\n",
              "    .colab-df-convert {\n",
              "      background-color: #E8F0FE;\n",
              "      border: none;\n",
              "      border-radius: 50%;\n",
              "      cursor: pointer;\n",
              "      display: none;\n",
              "      fill: #1967D2;\n",
              "      height: 32px;\n",
              "      padding: 0 0 0 0;\n",
              "      width: 32px;\n",
              "    }\n",
              "\n",
              "    .colab-df-convert:hover {\n",
              "      background-color: #E2EBFA;\n",
              "      box-shadow: 0px 1px 2px rgba(60, 64, 67, 0.3), 0px 1px 3px 1px rgba(60, 64, 67, 0.15);\n",
              "      fill: #174EA6;\n",
              "    }\n",
              "\n",
              "    [theme=dark] .colab-df-convert {\n",
              "      background-color: #3B4455;\n",
              "      fill: #D2E3FC;\n",
              "    }\n",
              "\n",
              "    [theme=dark] .colab-df-convert:hover {\n",
              "      background-color: #434B5C;\n",
              "      box-shadow: 0px 1px 3px 1px rgba(0, 0, 0, 0.15);\n",
              "      filter: drop-shadow(0px 1px 2px rgba(0, 0, 0, 0.3));\n",
              "      fill: #FFFFFF;\n",
              "    }\n",
              "  </style>\n",
              "\n",
              "      <script>\n",
              "        const buttonEl =\n",
              "          document.querySelector('#df-ad60d084-2bbb-48a6-b2b7-d9c05724858f button.colab-df-convert');\n",
              "        buttonEl.style.display =\n",
              "          google.colab.kernel.accessAllowed ? 'block' : 'none';\n",
              "\n",
              "        async function convertToInteractive(key) {\n",
              "          const element = document.querySelector('#df-ad60d084-2bbb-48a6-b2b7-d9c05724858f');\n",
              "          const dataTable =\n",
              "            await google.colab.kernel.invokeFunction('convertToInteractive',\n",
              "                                                     [key], {});\n",
              "          if (!dataTable) return;\n",
              "\n",
              "          const docLinkHtml = 'Like what you see? Visit the ' +\n",
              "            '<a target=\"_blank\" href=https://colab.research.google.com/notebooks/data_table.ipynb>data table notebook</a>'\n",
              "            + ' to learn more about interactive tables.';\n",
              "          element.innerHTML = '';\n",
              "          dataTable['output_type'] = 'display_data';\n",
              "          await google.colab.output.renderOutput(dataTable, element);\n",
              "          const docLink = document.createElement('div');\n",
              "          docLink.innerHTML = docLinkHtml;\n",
              "          element.appendChild(docLink);\n",
              "        }\n",
              "      </script>\n",
              "    </div>\n",
              "  </div>\n",
              "  "
            ],
            "text/plain": [
              "      gender SeniorCitizen Partner Dependents  tenure PhoneService  \\\n",
              "1888  Female            No      No         No      23          Yes   \n",
              "5398    Male            No      No         No       2          Yes   \n",
              "2622    Male           Yes     Yes        Yes      28          Yes   \n",
              "531     Male            No     Yes        Yes      70          Yes   \n",
              "1472    Male            No     Yes        Yes      13          Yes   \n",
              "2035  Female            No      No        Yes      43          Yes   \n",
              "4838  Female            No     Yes         No      67          Yes   \n",
              "5505  Female            No     Yes        Yes      12           No   \n",
              "3528    Male            No      No         No      16          Yes   \n",
              "3279    Male            No     Yes        Yes      23          Yes   \n",
              "\n",
              "         MultipleLines InternetService       OnlineSecurity  \\\n",
              "1888                No             DSL                   No   \n",
              "5398                No              No  No internet service   \n",
              "2622               Yes             DSL                   No   \n",
              "531                 No              No  No internet service   \n",
              "1472               Yes     Fiber optic                   No   \n",
              "2035                No             DSL                  Yes   \n",
              "4838               Yes     Fiber optic                   No   \n",
              "5505  No phone service             DSL                   No   \n",
              "3528                No              No  No internet service   \n",
              "3279                No             DSL                  Yes   \n",
              "\n",
              "             OnlineBackup     DeviceProtection          TechSupport  \\\n",
              "1888                  Yes                  Yes                   No   \n",
              "5398  No internet service  No internet service  No internet service   \n",
              "2622                   No                   No                   No   \n",
              "531   No internet service  No internet service  No internet service   \n",
              "1472                   No                   No                   No   \n",
              "2035                  Yes                   No                   No   \n",
              "4838                  Yes                  Yes                  Yes   \n",
              "5505                   No                   No                  Yes   \n",
              "3528  No internet service  No internet service  No internet service   \n",
              "3279                   No                   No                  Yes   \n",
              "\n",
              "              StreamingTV      StreamingMovies        Contract  \\\n",
              "1888                   No                   No        One year   \n",
              "5398  No internet service  No internet service  Month-to-month   \n",
              "2622                   No                   No        One year   \n",
              "531   No internet service  No internet service        Two year   \n",
              "1472                   No                   No  Month-to-month   \n",
              "2035                   No                  Yes  Month-to-month   \n",
              "4838                  Yes                  Yes        One year   \n",
              "5505                   No                   No        One year   \n",
              "3528  No internet service  No internet service  Month-to-month   \n",
              "3279                   No                   No        One year   \n",
              "\n",
              "     PaperlessBilling              PaymentMethod  MonthlyCharges  \\\n",
              "1888               No  Bank transfer (automatic)           55.80   \n",
              "5398               No               Mailed check           19.75   \n",
              "2622              Yes           Electronic check           51.00   \n",
              "531                No    Credit card (automatic)           20.05   \n",
              "1472              Yes    Credit card (automatic)           74.40   \n",
              "2035              Yes           Electronic check           63.95   \n",
              "4838              Yes    Credit card (automatic)          109.70   \n",
              "5505               No    Credit card (automatic)           30.25   \n",
              "3528              Yes               Mailed check           19.70   \n",
              "3279               No    Credit card (automatic)           57.20   \n",
              "\n",
              "      TotalCharges  Churn  \n",
              "1888       1327.85      0  \n",
              "5398         39.30      0  \n",
              "2622       1381.80      0  \n",
              "531        1360.25      0  \n",
              "1472        896.75      1  \n",
              "2035       2737.05      0  \n",
              "4838       7344.45      0  \n",
              "5505        368.85      0  \n",
              "3528        342.40      1  \n",
              "3279       1423.35      0  "
            ]
          },
          "execution_count": 33,
          "metadata": {},
          "output_type": "execute_result"
        }
      ],
      "source": [
        "# Get Data for Model Inference\n",
        "\n",
        "data_inf = data.sample(10, random_state=9)\n",
        "data_inf"
      ]
    },
    {
      "cell_type": "code",
      "execution_count": 34,
      "metadata": {
        "colab": {
          "base_uri": "https://localhost:8080/",
          "height": 627
        },
        "id": "GiephvyVtDMU",
        "outputId": "bb5aabe0-7ed7-42e6-956f-7fc5dfb215b0"
      },
      "outputs": [
        {
          "data": {
            "text/html": [
              "\n",
              "  <div id=\"df-110efb20-36d4-49f0-89c4-101ad6461691\">\n",
              "    <div class=\"colab-df-container\">\n",
              "      <div>\n",
              "<style scoped>\n",
              "    .dataframe tbody tr th:only-of-type {\n",
              "        vertical-align: middle;\n",
              "    }\n",
              "\n",
              "    .dataframe tbody tr th {\n",
              "        vertical-align: top;\n",
              "    }\n",
              "\n",
              "    .dataframe thead th {\n",
              "        text-align: right;\n",
              "    }\n",
              "</style>\n",
              "<table border=\"1\" class=\"dataframe\">\n",
              "  <thead>\n",
              "    <tr style=\"text-align: right;\">\n",
              "      <th></th>\n",
              "      <th>gender</th>\n",
              "      <th>SeniorCitizen</th>\n",
              "      <th>Partner</th>\n",
              "      <th>Dependents</th>\n",
              "      <th>tenure</th>\n",
              "      <th>PhoneService</th>\n",
              "      <th>MultipleLines</th>\n",
              "      <th>InternetService</th>\n",
              "      <th>OnlineSecurity</th>\n",
              "      <th>OnlineBackup</th>\n",
              "      <th>DeviceProtection</th>\n",
              "      <th>TechSupport</th>\n",
              "      <th>StreamingTV</th>\n",
              "      <th>StreamingMovies</th>\n",
              "      <th>Contract</th>\n",
              "      <th>PaperlessBilling</th>\n",
              "      <th>PaymentMethod</th>\n",
              "      <th>MonthlyCharges</th>\n",
              "      <th>TotalCharges</th>\n",
              "      <th>Churn</th>\n",
              "    </tr>\n",
              "  </thead>\n",
              "  <tbody>\n",
              "    <tr>\n",
              "      <th>0</th>\n",
              "      <td>Female</td>\n",
              "      <td>No</td>\n",
              "      <td>Yes</td>\n",
              "      <td>No</td>\n",
              "      <td>1</td>\n",
              "      <td>No</td>\n",
              "      <td>No phone service</td>\n",
              "      <td>DSL</td>\n",
              "      <td>No</td>\n",
              "      <td>Yes</td>\n",
              "      <td>No</td>\n",
              "      <td>No</td>\n",
              "      <td>No</td>\n",
              "      <td>No</td>\n",
              "      <td>Month-to-month</td>\n",
              "      <td>Yes</td>\n",
              "      <td>Electronic check</td>\n",
              "      <td>29.85</td>\n",
              "      <td>29.85</td>\n",
              "      <td>0</td>\n",
              "    </tr>\n",
              "    <tr>\n",
              "      <th>1</th>\n",
              "      <td>Male</td>\n",
              "      <td>No</td>\n",
              "      <td>No</td>\n",
              "      <td>No</td>\n",
              "      <td>34</td>\n",
              "      <td>Yes</td>\n",
              "      <td>No</td>\n",
              "      <td>DSL</td>\n",
              "      <td>Yes</td>\n",
              "      <td>No</td>\n",
              "      <td>Yes</td>\n",
              "      <td>No</td>\n",
              "      <td>No</td>\n",
              "      <td>No</td>\n",
              "      <td>One year</td>\n",
              "      <td>No</td>\n",
              "      <td>Mailed check</td>\n",
              "      <td>56.95</td>\n",
              "      <td>1889.50</td>\n",
              "      <td>0</td>\n",
              "    </tr>\n",
              "    <tr>\n",
              "      <th>2</th>\n",
              "      <td>Male</td>\n",
              "      <td>No</td>\n",
              "      <td>No</td>\n",
              "      <td>No</td>\n",
              "      <td>2</td>\n",
              "      <td>Yes</td>\n",
              "      <td>No</td>\n",
              "      <td>DSL</td>\n",
              "      <td>Yes</td>\n",
              "      <td>Yes</td>\n",
              "      <td>No</td>\n",
              "      <td>No</td>\n",
              "      <td>No</td>\n",
              "      <td>No</td>\n",
              "      <td>Month-to-month</td>\n",
              "      <td>Yes</td>\n",
              "      <td>Mailed check</td>\n",
              "      <td>53.85</td>\n",
              "      <td>108.15</td>\n",
              "      <td>1</td>\n",
              "    </tr>\n",
              "    <tr>\n",
              "      <th>3</th>\n",
              "      <td>Male</td>\n",
              "      <td>No</td>\n",
              "      <td>No</td>\n",
              "      <td>No</td>\n",
              "      <td>45</td>\n",
              "      <td>No</td>\n",
              "      <td>No phone service</td>\n",
              "      <td>DSL</td>\n",
              "      <td>Yes</td>\n",
              "      <td>No</td>\n",
              "      <td>Yes</td>\n",
              "      <td>Yes</td>\n",
              "      <td>No</td>\n",
              "      <td>No</td>\n",
              "      <td>One year</td>\n",
              "      <td>No</td>\n",
              "      <td>Bank transfer (automatic)</td>\n",
              "      <td>42.30</td>\n",
              "      <td>1840.75</td>\n",
              "      <td>0</td>\n",
              "    </tr>\n",
              "    <tr>\n",
              "      <th>4</th>\n",
              "      <td>Female</td>\n",
              "      <td>No</td>\n",
              "      <td>No</td>\n",
              "      <td>No</td>\n",
              "      <td>2</td>\n",
              "      <td>Yes</td>\n",
              "      <td>No</td>\n",
              "      <td>Fiber optic</td>\n",
              "      <td>No</td>\n",
              "      <td>No</td>\n",
              "      <td>No</td>\n",
              "      <td>No</td>\n",
              "      <td>No</td>\n",
              "      <td>No</td>\n",
              "      <td>Month-to-month</td>\n",
              "      <td>Yes</td>\n",
              "      <td>Electronic check</td>\n",
              "      <td>70.70</td>\n",
              "      <td>151.65</td>\n",
              "      <td>1</td>\n",
              "    </tr>\n",
              "    <tr>\n",
              "      <th>...</th>\n",
              "      <td>...</td>\n",
              "      <td>...</td>\n",
              "      <td>...</td>\n",
              "      <td>...</td>\n",
              "      <td>...</td>\n",
              "      <td>...</td>\n",
              "      <td>...</td>\n",
              "      <td>...</td>\n",
              "      <td>...</td>\n",
              "      <td>...</td>\n",
              "      <td>...</td>\n",
              "      <td>...</td>\n",
              "      <td>...</td>\n",
              "      <td>...</td>\n",
              "      <td>...</td>\n",
              "      <td>...</td>\n",
              "      <td>...</td>\n",
              "      <td>...</td>\n",
              "      <td>...</td>\n",
              "      <td>...</td>\n",
              "    </tr>\n",
              "    <tr>\n",
              "      <th>7038</th>\n",
              "      <td>Male</td>\n",
              "      <td>No</td>\n",
              "      <td>Yes</td>\n",
              "      <td>Yes</td>\n",
              "      <td>24</td>\n",
              "      <td>Yes</td>\n",
              "      <td>Yes</td>\n",
              "      <td>DSL</td>\n",
              "      <td>Yes</td>\n",
              "      <td>No</td>\n",
              "      <td>Yes</td>\n",
              "      <td>Yes</td>\n",
              "      <td>Yes</td>\n",
              "      <td>Yes</td>\n",
              "      <td>One year</td>\n",
              "      <td>Yes</td>\n",
              "      <td>Mailed check</td>\n",
              "      <td>84.80</td>\n",
              "      <td>1990.50</td>\n",
              "      <td>0</td>\n",
              "    </tr>\n",
              "    <tr>\n",
              "      <th>7039</th>\n",
              "      <td>Female</td>\n",
              "      <td>No</td>\n",
              "      <td>Yes</td>\n",
              "      <td>Yes</td>\n",
              "      <td>72</td>\n",
              "      <td>Yes</td>\n",
              "      <td>Yes</td>\n",
              "      <td>Fiber optic</td>\n",
              "      <td>No</td>\n",
              "      <td>Yes</td>\n",
              "      <td>Yes</td>\n",
              "      <td>No</td>\n",
              "      <td>Yes</td>\n",
              "      <td>Yes</td>\n",
              "      <td>One year</td>\n",
              "      <td>Yes</td>\n",
              "      <td>Credit card (automatic)</td>\n",
              "      <td>103.20</td>\n",
              "      <td>7362.90</td>\n",
              "      <td>0</td>\n",
              "    </tr>\n",
              "    <tr>\n",
              "      <th>7040</th>\n",
              "      <td>Female</td>\n",
              "      <td>No</td>\n",
              "      <td>Yes</td>\n",
              "      <td>Yes</td>\n",
              "      <td>11</td>\n",
              "      <td>No</td>\n",
              "      <td>No phone service</td>\n",
              "      <td>DSL</td>\n",
              "      <td>Yes</td>\n",
              "      <td>No</td>\n",
              "      <td>No</td>\n",
              "      <td>No</td>\n",
              "      <td>No</td>\n",
              "      <td>No</td>\n",
              "      <td>Month-to-month</td>\n",
              "      <td>Yes</td>\n",
              "      <td>Electronic check</td>\n",
              "      <td>29.60</td>\n",
              "      <td>346.45</td>\n",
              "      <td>0</td>\n",
              "    </tr>\n",
              "    <tr>\n",
              "      <th>7041</th>\n",
              "      <td>Male</td>\n",
              "      <td>Yes</td>\n",
              "      <td>Yes</td>\n",
              "      <td>No</td>\n",
              "      <td>4</td>\n",
              "      <td>Yes</td>\n",
              "      <td>Yes</td>\n",
              "      <td>Fiber optic</td>\n",
              "      <td>No</td>\n",
              "      <td>No</td>\n",
              "      <td>No</td>\n",
              "      <td>No</td>\n",
              "      <td>No</td>\n",
              "      <td>No</td>\n",
              "      <td>Month-to-month</td>\n",
              "      <td>Yes</td>\n",
              "      <td>Mailed check</td>\n",
              "      <td>74.40</td>\n",
              "      <td>306.60</td>\n",
              "      <td>1</td>\n",
              "    </tr>\n",
              "    <tr>\n",
              "      <th>7042</th>\n",
              "      <td>Male</td>\n",
              "      <td>No</td>\n",
              "      <td>No</td>\n",
              "      <td>No</td>\n",
              "      <td>66</td>\n",
              "      <td>Yes</td>\n",
              "      <td>No</td>\n",
              "      <td>Fiber optic</td>\n",
              "      <td>Yes</td>\n",
              "      <td>No</td>\n",
              "      <td>Yes</td>\n",
              "      <td>Yes</td>\n",
              "      <td>Yes</td>\n",
              "      <td>Yes</td>\n",
              "      <td>Two year</td>\n",
              "      <td>Yes</td>\n",
              "      <td>Bank transfer (automatic)</td>\n",
              "      <td>105.65</td>\n",
              "      <td>6844.50</td>\n",
              "      <td>0</td>\n",
              "    </tr>\n",
              "  </tbody>\n",
              "</table>\n",
              "<p>7022 rows × 20 columns</p>\n",
              "</div>\n",
              "      <button class=\"colab-df-convert\" onclick=\"convertToInteractive('df-110efb20-36d4-49f0-89c4-101ad6461691')\"\n",
              "              title=\"Convert this dataframe to an interactive table.\"\n",
              "              style=\"display:none;\">\n",
              "        \n",
              "  <svg xmlns=\"http://www.w3.org/2000/svg\" height=\"24px\"viewBox=\"0 0 24 24\"\n",
              "       width=\"24px\">\n",
              "    <path d=\"M0 0h24v24H0V0z\" fill=\"none\"/>\n",
              "    <path d=\"M18.56 5.44l.94 2.06.94-2.06 2.06-.94-2.06-.94-.94-2.06-.94 2.06-2.06.94zm-11 1L8.5 8.5l.94-2.06 2.06-.94-2.06-.94L8.5 2.5l-.94 2.06-2.06.94zm10 10l.94 2.06.94-2.06 2.06-.94-2.06-.94-.94-2.06-.94 2.06-2.06.94z\"/><path d=\"M17.41 7.96l-1.37-1.37c-.4-.4-.92-.59-1.43-.59-.52 0-1.04.2-1.43.59L10.3 9.45l-7.72 7.72c-.78.78-.78 2.05 0 2.83L4 21.41c.39.39.9.59 1.41.59.51 0 1.02-.2 1.41-.59l7.78-7.78 2.81-2.81c.8-.78.8-2.07 0-2.86zM5.41 20L4 18.59l7.72-7.72 1.47 1.35L5.41 20z\"/>\n",
              "  </svg>\n",
              "      </button>\n",
              "      \n",
              "  <style>\n",
              "    .colab-df-container {\n",
              "      display:flex;\n",
              "      flex-wrap:wrap;\n",
              "      gap: 12px;\n",
              "    }\n",
              "\n",
              "    .colab-df-convert {\n",
              "      background-color: #E8F0FE;\n",
              "      border: none;\n",
              "      border-radius: 50%;\n",
              "      cursor: pointer;\n",
              "      display: none;\n",
              "      fill: #1967D2;\n",
              "      height: 32px;\n",
              "      padding: 0 0 0 0;\n",
              "      width: 32px;\n",
              "    }\n",
              "\n",
              "    .colab-df-convert:hover {\n",
              "      background-color: #E2EBFA;\n",
              "      box-shadow: 0px 1px 2px rgba(60, 64, 67, 0.3), 0px 1px 3px 1px rgba(60, 64, 67, 0.15);\n",
              "      fill: #174EA6;\n",
              "    }\n",
              "\n",
              "    [theme=dark] .colab-df-convert {\n",
              "      background-color: #3B4455;\n",
              "      fill: #D2E3FC;\n",
              "    }\n",
              "\n",
              "    [theme=dark] .colab-df-convert:hover {\n",
              "      background-color: #434B5C;\n",
              "      box-shadow: 0px 1px 3px 1px rgba(0, 0, 0, 0.15);\n",
              "      filter: drop-shadow(0px 1px 2px rgba(0, 0, 0, 0.3));\n",
              "      fill: #FFFFFF;\n",
              "    }\n",
              "  </style>\n",
              "\n",
              "      <script>\n",
              "        const buttonEl =\n",
              "          document.querySelector('#df-110efb20-36d4-49f0-89c4-101ad6461691 button.colab-df-convert');\n",
              "        buttonEl.style.display =\n",
              "          google.colab.kernel.accessAllowed ? 'block' : 'none';\n",
              "\n",
              "        async function convertToInteractive(key) {\n",
              "          const element = document.querySelector('#df-110efb20-36d4-49f0-89c4-101ad6461691');\n",
              "          const dataTable =\n",
              "            await google.colab.kernel.invokeFunction('convertToInteractive',\n",
              "                                                     [key], {});\n",
              "          if (!dataTable) return;\n",
              "\n",
              "          const docLinkHtml = 'Like what you see? Visit the ' +\n",
              "            '<a target=\"_blank\" href=https://colab.research.google.com/notebooks/data_table.ipynb>data table notebook</a>'\n",
              "            + ' to learn more about interactive tables.';\n",
              "          element.innerHTML = '';\n",
              "          dataTable['output_type'] = 'display_data';\n",
              "          await google.colab.output.renderOutput(dataTable, element);\n",
              "          const docLink = document.createElement('div');\n",
              "          docLink.innerHTML = docLinkHtml;\n",
              "          element.appendChild(docLink);\n",
              "        }\n",
              "      </script>\n",
              "    </div>\n",
              "  </div>\n",
              "  "
            ],
            "text/plain": [
              "      gender SeniorCitizen Partner Dependents  tenure PhoneService  \\\n",
              "0     Female            No     Yes         No       1           No   \n",
              "1       Male            No      No         No      34          Yes   \n",
              "2       Male            No      No         No       2          Yes   \n",
              "3       Male            No      No         No      45           No   \n",
              "4     Female            No      No         No       2          Yes   \n",
              "...      ...           ...     ...        ...     ...          ...   \n",
              "7038    Male            No     Yes        Yes      24          Yes   \n",
              "7039  Female            No     Yes        Yes      72          Yes   \n",
              "7040  Female            No     Yes        Yes      11           No   \n",
              "7041    Male           Yes     Yes         No       4          Yes   \n",
              "7042    Male            No      No         No      66          Yes   \n",
              "\n",
              "         MultipleLines InternetService OnlineSecurity OnlineBackup  \\\n",
              "0     No phone service             DSL             No          Yes   \n",
              "1                   No             DSL            Yes           No   \n",
              "2                   No             DSL            Yes          Yes   \n",
              "3     No phone service             DSL            Yes           No   \n",
              "4                   No     Fiber optic             No           No   \n",
              "...                ...             ...            ...          ...   \n",
              "7038               Yes             DSL            Yes           No   \n",
              "7039               Yes     Fiber optic             No          Yes   \n",
              "7040  No phone service             DSL            Yes           No   \n",
              "7041               Yes     Fiber optic             No           No   \n",
              "7042                No     Fiber optic            Yes           No   \n",
              "\n",
              "     DeviceProtection TechSupport StreamingTV StreamingMovies        Contract  \\\n",
              "0                  No          No          No              No  Month-to-month   \n",
              "1                 Yes          No          No              No        One year   \n",
              "2                  No          No          No              No  Month-to-month   \n",
              "3                 Yes         Yes          No              No        One year   \n",
              "4                  No          No          No              No  Month-to-month   \n",
              "...               ...         ...         ...             ...             ...   \n",
              "7038              Yes         Yes         Yes             Yes        One year   \n",
              "7039              Yes          No         Yes             Yes        One year   \n",
              "7040               No          No          No              No  Month-to-month   \n",
              "7041               No          No          No              No  Month-to-month   \n",
              "7042              Yes         Yes         Yes             Yes        Two year   \n",
              "\n",
              "     PaperlessBilling              PaymentMethod  MonthlyCharges  \\\n",
              "0                 Yes           Electronic check           29.85   \n",
              "1                  No               Mailed check           56.95   \n",
              "2                 Yes               Mailed check           53.85   \n",
              "3                  No  Bank transfer (automatic)           42.30   \n",
              "4                 Yes           Electronic check           70.70   \n",
              "...               ...                        ...             ...   \n",
              "7038              Yes               Mailed check           84.80   \n",
              "7039              Yes    Credit card (automatic)          103.20   \n",
              "7040              Yes           Electronic check           29.60   \n",
              "7041              Yes               Mailed check           74.40   \n",
              "7042              Yes  Bank transfer (automatic)          105.65   \n",
              "\n",
              "      TotalCharges  Churn  \n",
              "0            29.85      0  \n",
              "1          1889.50      0  \n",
              "2           108.15      1  \n",
              "3          1840.75      0  \n",
              "4           151.65      1  \n",
              "...            ...    ...  \n",
              "7038       1990.50      0  \n",
              "7039       7362.90      0  \n",
              "7040        346.45      0  \n",
              "7041        306.60      1  \n",
              "7042       6844.50      0  \n",
              "\n",
              "[7022 rows x 20 columns]"
            ]
          },
          "execution_count": 34,
          "metadata": {},
          "output_type": "execute_result"
        }
      ],
      "source": [
        "# Remove Inference-Set from Dataset\n",
        "\n",
        "data_train_test = data.drop(data_inf.index)\n",
        "data_train_test"
      ]
    },
    {
      "cell_type": "code",
      "execution_count": 35,
      "metadata": {
        "colab": {
          "base_uri": "https://localhost:8080/",
          "height": 627
        },
        "id": "aFiFjd0GtDQA",
        "outputId": "0094cb44-df62-4c6f-a027-10a41487fe5c"
      },
      "outputs": [
        {
          "data": {
            "text/html": [
              "\n",
              "  <div id=\"df-2547f4fb-ad2e-47c1-8100-4f31317e4da2\">\n",
              "    <div class=\"colab-df-container\">\n",
              "      <div>\n",
              "<style scoped>\n",
              "    .dataframe tbody tr th:only-of-type {\n",
              "        vertical-align: middle;\n",
              "    }\n",
              "\n",
              "    .dataframe tbody tr th {\n",
              "        vertical-align: top;\n",
              "    }\n",
              "\n",
              "    .dataframe thead th {\n",
              "        text-align: right;\n",
              "    }\n",
              "</style>\n",
              "<table border=\"1\" class=\"dataframe\">\n",
              "  <thead>\n",
              "    <tr style=\"text-align: right;\">\n",
              "      <th></th>\n",
              "      <th>gender</th>\n",
              "      <th>SeniorCitizen</th>\n",
              "      <th>Partner</th>\n",
              "      <th>Dependents</th>\n",
              "      <th>tenure</th>\n",
              "      <th>PhoneService</th>\n",
              "      <th>MultipleLines</th>\n",
              "      <th>InternetService</th>\n",
              "      <th>OnlineSecurity</th>\n",
              "      <th>OnlineBackup</th>\n",
              "      <th>DeviceProtection</th>\n",
              "      <th>TechSupport</th>\n",
              "      <th>StreamingTV</th>\n",
              "      <th>StreamingMovies</th>\n",
              "      <th>Contract</th>\n",
              "      <th>PaperlessBilling</th>\n",
              "      <th>PaymentMethod</th>\n",
              "      <th>MonthlyCharges</th>\n",
              "      <th>TotalCharges</th>\n",
              "      <th>Churn</th>\n",
              "    </tr>\n",
              "  </thead>\n",
              "  <tbody>\n",
              "    <tr>\n",
              "      <th>0</th>\n",
              "      <td>Female</td>\n",
              "      <td>No</td>\n",
              "      <td>Yes</td>\n",
              "      <td>No</td>\n",
              "      <td>1</td>\n",
              "      <td>No</td>\n",
              "      <td>No phone service</td>\n",
              "      <td>DSL</td>\n",
              "      <td>No</td>\n",
              "      <td>Yes</td>\n",
              "      <td>No</td>\n",
              "      <td>No</td>\n",
              "      <td>No</td>\n",
              "      <td>No</td>\n",
              "      <td>Month-to-month</td>\n",
              "      <td>Yes</td>\n",
              "      <td>Electronic check</td>\n",
              "      <td>29.85</td>\n",
              "      <td>29.85</td>\n",
              "      <td>0</td>\n",
              "    </tr>\n",
              "    <tr>\n",
              "      <th>1</th>\n",
              "      <td>Male</td>\n",
              "      <td>No</td>\n",
              "      <td>No</td>\n",
              "      <td>No</td>\n",
              "      <td>34</td>\n",
              "      <td>Yes</td>\n",
              "      <td>No</td>\n",
              "      <td>DSL</td>\n",
              "      <td>Yes</td>\n",
              "      <td>No</td>\n",
              "      <td>Yes</td>\n",
              "      <td>No</td>\n",
              "      <td>No</td>\n",
              "      <td>No</td>\n",
              "      <td>One year</td>\n",
              "      <td>No</td>\n",
              "      <td>Mailed check</td>\n",
              "      <td>56.95</td>\n",
              "      <td>1889.50</td>\n",
              "      <td>0</td>\n",
              "    </tr>\n",
              "    <tr>\n",
              "      <th>2</th>\n",
              "      <td>Male</td>\n",
              "      <td>No</td>\n",
              "      <td>No</td>\n",
              "      <td>No</td>\n",
              "      <td>2</td>\n",
              "      <td>Yes</td>\n",
              "      <td>No</td>\n",
              "      <td>DSL</td>\n",
              "      <td>Yes</td>\n",
              "      <td>Yes</td>\n",
              "      <td>No</td>\n",
              "      <td>No</td>\n",
              "      <td>No</td>\n",
              "      <td>No</td>\n",
              "      <td>Month-to-month</td>\n",
              "      <td>Yes</td>\n",
              "      <td>Mailed check</td>\n",
              "      <td>53.85</td>\n",
              "      <td>108.15</td>\n",
              "      <td>1</td>\n",
              "    </tr>\n",
              "    <tr>\n",
              "      <th>3</th>\n",
              "      <td>Male</td>\n",
              "      <td>No</td>\n",
              "      <td>No</td>\n",
              "      <td>No</td>\n",
              "      <td>45</td>\n",
              "      <td>No</td>\n",
              "      <td>No phone service</td>\n",
              "      <td>DSL</td>\n",
              "      <td>Yes</td>\n",
              "      <td>No</td>\n",
              "      <td>Yes</td>\n",
              "      <td>Yes</td>\n",
              "      <td>No</td>\n",
              "      <td>No</td>\n",
              "      <td>One year</td>\n",
              "      <td>No</td>\n",
              "      <td>Bank transfer (automatic)</td>\n",
              "      <td>42.30</td>\n",
              "      <td>1840.75</td>\n",
              "      <td>0</td>\n",
              "    </tr>\n",
              "    <tr>\n",
              "      <th>4</th>\n",
              "      <td>Female</td>\n",
              "      <td>No</td>\n",
              "      <td>No</td>\n",
              "      <td>No</td>\n",
              "      <td>2</td>\n",
              "      <td>Yes</td>\n",
              "      <td>No</td>\n",
              "      <td>Fiber optic</td>\n",
              "      <td>No</td>\n",
              "      <td>No</td>\n",
              "      <td>No</td>\n",
              "      <td>No</td>\n",
              "      <td>No</td>\n",
              "      <td>No</td>\n",
              "      <td>Month-to-month</td>\n",
              "      <td>Yes</td>\n",
              "      <td>Electronic check</td>\n",
              "      <td>70.70</td>\n",
              "      <td>151.65</td>\n",
              "      <td>1</td>\n",
              "    </tr>\n",
              "    <tr>\n",
              "      <th>...</th>\n",
              "      <td>...</td>\n",
              "      <td>...</td>\n",
              "      <td>...</td>\n",
              "      <td>...</td>\n",
              "      <td>...</td>\n",
              "      <td>...</td>\n",
              "      <td>...</td>\n",
              "      <td>...</td>\n",
              "      <td>...</td>\n",
              "      <td>...</td>\n",
              "      <td>...</td>\n",
              "      <td>...</td>\n",
              "      <td>...</td>\n",
              "      <td>...</td>\n",
              "      <td>...</td>\n",
              "      <td>...</td>\n",
              "      <td>...</td>\n",
              "      <td>...</td>\n",
              "      <td>...</td>\n",
              "      <td>...</td>\n",
              "    </tr>\n",
              "    <tr>\n",
              "      <th>7017</th>\n",
              "      <td>Male</td>\n",
              "      <td>No</td>\n",
              "      <td>Yes</td>\n",
              "      <td>Yes</td>\n",
              "      <td>24</td>\n",
              "      <td>Yes</td>\n",
              "      <td>Yes</td>\n",
              "      <td>DSL</td>\n",
              "      <td>Yes</td>\n",
              "      <td>No</td>\n",
              "      <td>Yes</td>\n",
              "      <td>Yes</td>\n",
              "      <td>Yes</td>\n",
              "      <td>Yes</td>\n",
              "      <td>One year</td>\n",
              "      <td>Yes</td>\n",
              "      <td>Mailed check</td>\n",
              "      <td>84.80</td>\n",
              "      <td>1990.50</td>\n",
              "      <td>0</td>\n",
              "    </tr>\n",
              "    <tr>\n",
              "      <th>7018</th>\n",
              "      <td>Female</td>\n",
              "      <td>No</td>\n",
              "      <td>Yes</td>\n",
              "      <td>Yes</td>\n",
              "      <td>72</td>\n",
              "      <td>Yes</td>\n",
              "      <td>Yes</td>\n",
              "      <td>Fiber optic</td>\n",
              "      <td>No</td>\n",
              "      <td>Yes</td>\n",
              "      <td>Yes</td>\n",
              "      <td>No</td>\n",
              "      <td>Yes</td>\n",
              "      <td>Yes</td>\n",
              "      <td>One year</td>\n",
              "      <td>Yes</td>\n",
              "      <td>Credit card (automatic)</td>\n",
              "      <td>103.20</td>\n",
              "      <td>7362.90</td>\n",
              "      <td>0</td>\n",
              "    </tr>\n",
              "    <tr>\n",
              "      <th>7019</th>\n",
              "      <td>Female</td>\n",
              "      <td>No</td>\n",
              "      <td>Yes</td>\n",
              "      <td>Yes</td>\n",
              "      <td>11</td>\n",
              "      <td>No</td>\n",
              "      <td>No phone service</td>\n",
              "      <td>DSL</td>\n",
              "      <td>Yes</td>\n",
              "      <td>No</td>\n",
              "      <td>No</td>\n",
              "      <td>No</td>\n",
              "      <td>No</td>\n",
              "      <td>No</td>\n",
              "      <td>Month-to-month</td>\n",
              "      <td>Yes</td>\n",
              "      <td>Electronic check</td>\n",
              "      <td>29.60</td>\n",
              "      <td>346.45</td>\n",
              "      <td>0</td>\n",
              "    </tr>\n",
              "    <tr>\n",
              "      <th>7020</th>\n",
              "      <td>Male</td>\n",
              "      <td>Yes</td>\n",
              "      <td>Yes</td>\n",
              "      <td>No</td>\n",
              "      <td>4</td>\n",
              "      <td>Yes</td>\n",
              "      <td>Yes</td>\n",
              "      <td>Fiber optic</td>\n",
              "      <td>No</td>\n",
              "      <td>No</td>\n",
              "      <td>No</td>\n",
              "      <td>No</td>\n",
              "      <td>No</td>\n",
              "      <td>No</td>\n",
              "      <td>Month-to-month</td>\n",
              "      <td>Yes</td>\n",
              "      <td>Mailed check</td>\n",
              "      <td>74.40</td>\n",
              "      <td>306.60</td>\n",
              "      <td>1</td>\n",
              "    </tr>\n",
              "    <tr>\n",
              "      <th>7021</th>\n",
              "      <td>Male</td>\n",
              "      <td>No</td>\n",
              "      <td>No</td>\n",
              "      <td>No</td>\n",
              "      <td>66</td>\n",
              "      <td>Yes</td>\n",
              "      <td>No</td>\n",
              "      <td>Fiber optic</td>\n",
              "      <td>Yes</td>\n",
              "      <td>No</td>\n",
              "      <td>Yes</td>\n",
              "      <td>Yes</td>\n",
              "      <td>Yes</td>\n",
              "      <td>Yes</td>\n",
              "      <td>Two year</td>\n",
              "      <td>Yes</td>\n",
              "      <td>Bank transfer (automatic)</td>\n",
              "      <td>105.65</td>\n",
              "      <td>6844.50</td>\n",
              "      <td>0</td>\n",
              "    </tr>\n",
              "  </tbody>\n",
              "</table>\n",
              "<p>7022 rows × 20 columns</p>\n",
              "</div>\n",
              "      <button class=\"colab-df-convert\" onclick=\"convertToInteractive('df-2547f4fb-ad2e-47c1-8100-4f31317e4da2')\"\n",
              "              title=\"Convert this dataframe to an interactive table.\"\n",
              "              style=\"display:none;\">\n",
              "        \n",
              "  <svg xmlns=\"http://www.w3.org/2000/svg\" height=\"24px\"viewBox=\"0 0 24 24\"\n",
              "       width=\"24px\">\n",
              "    <path d=\"M0 0h24v24H0V0z\" fill=\"none\"/>\n",
              "    <path d=\"M18.56 5.44l.94 2.06.94-2.06 2.06-.94-2.06-.94-.94-2.06-.94 2.06-2.06.94zm-11 1L8.5 8.5l.94-2.06 2.06-.94-2.06-.94L8.5 2.5l-.94 2.06-2.06.94zm10 10l.94 2.06.94-2.06 2.06-.94-2.06-.94-.94-2.06-.94 2.06-2.06.94z\"/><path d=\"M17.41 7.96l-1.37-1.37c-.4-.4-.92-.59-1.43-.59-.52 0-1.04.2-1.43.59L10.3 9.45l-7.72 7.72c-.78.78-.78 2.05 0 2.83L4 21.41c.39.39.9.59 1.41.59.51 0 1.02-.2 1.41-.59l7.78-7.78 2.81-2.81c.8-.78.8-2.07 0-2.86zM5.41 20L4 18.59l7.72-7.72 1.47 1.35L5.41 20z\"/>\n",
              "  </svg>\n",
              "      </button>\n",
              "      \n",
              "  <style>\n",
              "    .colab-df-container {\n",
              "      display:flex;\n",
              "      flex-wrap:wrap;\n",
              "      gap: 12px;\n",
              "    }\n",
              "\n",
              "    .colab-df-convert {\n",
              "      background-color: #E8F0FE;\n",
              "      border: none;\n",
              "      border-radius: 50%;\n",
              "      cursor: pointer;\n",
              "      display: none;\n",
              "      fill: #1967D2;\n",
              "      height: 32px;\n",
              "      padding: 0 0 0 0;\n",
              "      width: 32px;\n",
              "    }\n",
              "\n",
              "    .colab-df-convert:hover {\n",
              "      background-color: #E2EBFA;\n",
              "      box-shadow: 0px 1px 2px rgba(60, 64, 67, 0.3), 0px 1px 3px 1px rgba(60, 64, 67, 0.15);\n",
              "      fill: #174EA6;\n",
              "    }\n",
              "\n",
              "    [theme=dark] .colab-df-convert {\n",
              "      background-color: #3B4455;\n",
              "      fill: #D2E3FC;\n",
              "    }\n",
              "\n",
              "    [theme=dark] .colab-df-convert:hover {\n",
              "      background-color: #434B5C;\n",
              "      box-shadow: 0px 1px 3px 1px rgba(0, 0, 0, 0.15);\n",
              "      filter: drop-shadow(0px 1px 2px rgba(0, 0, 0, 0.3));\n",
              "      fill: #FFFFFF;\n",
              "    }\n",
              "  </style>\n",
              "\n",
              "      <script>\n",
              "        const buttonEl =\n",
              "          document.querySelector('#df-2547f4fb-ad2e-47c1-8100-4f31317e4da2 button.colab-df-convert');\n",
              "        buttonEl.style.display =\n",
              "          google.colab.kernel.accessAllowed ? 'block' : 'none';\n",
              "\n",
              "        async function convertToInteractive(key) {\n",
              "          const element = document.querySelector('#df-2547f4fb-ad2e-47c1-8100-4f31317e4da2');\n",
              "          const dataTable =\n",
              "            await google.colab.kernel.invokeFunction('convertToInteractive',\n",
              "                                                     [key], {});\n",
              "          if (!dataTable) return;\n",
              "\n",
              "          const docLinkHtml = 'Like what you see? Visit the ' +\n",
              "            '<a target=\"_blank\" href=https://colab.research.google.com/notebooks/data_table.ipynb>data table notebook</a>'\n",
              "            + ' to learn more about interactive tables.';\n",
              "          element.innerHTML = '';\n",
              "          dataTable['output_type'] = 'display_data';\n",
              "          await google.colab.output.renderOutput(dataTable, element);\n",
              "          const docLink = document.createElement('div');\n",
              "          docLink.innerHTML = docLinkHtml;\n",
              "          element.appendChild(docLink);\n",
              "        }\n",
              "      </script>\n",
              "    </div>\n",
              "  </div>\n",
              "  "
            ],
            "text/plain": [
              "      gender SeniorCitizen Partner Dependents  tenure PhoneService  \\\n",
              "0     Female            No     Yes         No       1           No   \n",
              "1       Male            No      No         No      34          Yes   \n",
              "2       Male            No      No         No       2          Yes   \n",
              "3       Male            No      No         No      45           No   \n",
              "4     Female            No      No         No       2          Yes   \n",
              "...      ...           ...     ...        ...     ...          ...   \n",
              "7017    Male            No     Yes        Yes      24          Yes   \n",
              "7018  Female            No     Yes        Yes      72          Yes   \n",
              "7019  Female            No     Yes        Yes      11           No   \n",
              "7020    Male           Yes     Yes         No       4          Yes   \n",
              "7021    Male            No      No         No      66          Yes   \n",
              "\n",
              "         MultipleLines InternetService OnlineSecurity OnlineBackup  \\\n",
              "0     No phone service             DSL             No          Yes   \n",
              "1                   No             DSL            Yes           No   \n",
              "2                   No             DSL            Yes          Yes   \n",
              "3     No phone service             DSL            Yes           No   \n",
              "4                   No     Fiber optic             No           No   \n",
              "...                ...             ...            ...          ...   \n",
              "7017               Yes             DSL            Yes           No   \n",
              "7018               Yes     Fiber optic             No          Yes   \n",
              "7019  No phone service             DSL            Yes           No   \n",
              "7020               Yes     Fiber optic             No           No   \n",
              "7021                No     Fiber optic            Yes           No   \n",
              "\n",
              "     DeviceProtection TechSupport StreamingTV StreamingMovies        Contract  \\\n",
              "0                  No          No          No              No  Month-to-month   \n",
              "1                 Yes          No          No              No        One year   \n",
              "2                  No          No          No              No  Month-to-month   \n",
              "3                 Yes         Yes          No              No        One year   \n",
              "4                  No          No          No              No  Month-to-month   \n",
              "...               ...         ...         ...             ...             ...   \n",
              "7017              Yes         Yes         Yes             Yes        One year   \n",
              "7018              Yes          No         Yes             Yes        One year   \n",
              "7019               No          No          No              No  Month-to-month   \n",
              "7020               No          No          No              No  Month-to-month   \n",
              "7021              Yes         Yes         Yes             Yes        Two year   \n",
              "\n",
              "     PaperlessBilling              PaymentMethod  MonthlyCharges  \\\n",
              "0                 Yes           Electronic check           29.85   \n",
              "1                  No               Mailed check           56.95   \n",
              "2                 Yes               Mailed check           53.85   \n",
              "3                  No  Bank transfer (automatic)           42.30   \n",
              "4                 Yes           Electronic check           70.70   \n",
              "...               ...                        ...             ...   \n",
              "7017              Yes               Mailed check           84.80   \n",
              "7018              Yes    Credit card (automatic)          103.20   \n",
              "7019              Yes           Electronic check           29.60   \n",
              "7020              Yes               Mailed check           74.40   \n",
              "7021              Yes  Bank transfer (automatic)          105.65   \n",
              "\n",
              "      TotalCharges  Churn  \n",
              "0            29.85      0  \n",
              "1          1889.50      0  \n",
              "2           108.15      1  \n",
              "3          1840.75      0  \n",
              "4           151.65      1  \n",
              "...            ...    ...  \n",
              "7017       1990.50      0  \n",
              "7018       7362.90      0  \n",
              "7019        346.45      0  \n",
              "7020        306.60      1  \n",
              "7021       6844.50      0  \n",
              "\n",
              "[7022 rows x 20 columns]"
            ]
          },
          "execution_count": 35,
          "metadata": {},
          "output_type": "execute_result"
        }
      ],
      "source": [
        "# Reset Index\n",
        "\n",
        "data_train_test.reset_index(drop=True, inplace=True)\n",
        "data_inf.reset_index(drop=True, inplace=True)\n",
        "data_train_test"
      ]
    },
    {
      "cell_type": "markdown",
      "metadata": {
        "id": "2gMVCo2l8wWQ"
      },
      "source": [
        "### Splitting Dataset"
      ]
    },
    {
      "cell_type": "code",
      "execution_count": 36,
      "metadata": {
        "id": "nBXapGPl8N8A"
      },
      "outputs": [],
      "source": [
        "# Splitting dataset into x and y\n",
        "x = data_train_test.drop('Churn', axis=1)\n",
        "y = data_train_test['Churn']"
      ]
    },
    {
      "cell_type": "code",
      "execution_count": 37,
      "metadata": {
        "colab": {
          "base_uri": "https://localhost:8080/"
        },
        "id": "UlBj8xup8N-q",
        "outputId": "8c811c04-22c9-44d8-e5ff-5abca398aaf8"
      },
      "outputs": [
        {
          "name": "stdout",
          "output_type": "stream",
          "text": [
            "Training data shape: (4493, 19)\n",
            "Validation data shape: (1124, 19)\n",
            "Testing data shape: (1405, 19)\n"
          ]
        }
      ],
      "source": [
        "# Splitting dataset into training, validation, and testing\n",
        "x_train_full, x_test,  y_train_full, y_test = train_test_split(x,\n",
        "                                                               y,\n",
        "                                                               shuffle=True, test_size=0.2)\n",
        "\n",
        "x_train, x_val, y_train, y_val = train_test_split(x_train_full,\n",
        "                                                  y_train_full,\n",
        "                                                  shuffle=True, test_size=0.2)\n",
        "\n",
        "print(\"Training data shape: {}\".format(x_train.shape))\n",
        "print(\"Validation data shape: {}\".format(x_val.shape))\n",
        "print(\"Testing data shape: {}\".format(x_test.shape))"
      ]
    },
    {
      "cell_type": "markdown",
      "metadata": {
        "id": "JslO-J0O_Jcs"
      },
      "source": [
        "### Split between Numerical Columns and Categorical Columns"
      ]
    },
    {
      "cell_type": "code",
      "execution_count": 38,
      "metadata": {
        "id": "fVqcdE4J8OBL"
      },
      "outputs": [],
      "source": [
        "# Decide numericals and categoricals columns\n",
        "num_features = ['tenure', 'MonthlyCharges', 'TotalCharges']\n",
        "cat_features = ['gender', 'SeniorCitizen', 'Partner', 'Dependents', 'PhoneService', 'MultipleLines', 'InternetService',\n",
        "'OnlineSecurity', 'OnlineBackup', 'DeviceProtection', 'TechSupport','StreamingTV', 'StreamingMovies', 'Contract', 'PaperlessBilling', 'PaymentMethod']\n"
      ]
    },
    {
      "cell_type": "markdown",
      "metadata": {
        "id": "CuctWGx4ALwu"
      },
      "source": [
        "### Feature Scaling & Encoding"
      ]
    },
    {
      "cell_type": "code",
      "execution_count": 39,
      "metadata": {
        "id": "_DLHYXZe_UHn"
      },
      "outputs": [],
      "source": [
        "# Create pipeline for numerical columns\n",
        "num_pipeline = Pipeline([\n",
        "    (\"imputer\", SimpleImputer(strategy=\"median\")),\n",
        "    (\"scaler\", StandardScaler())\n",
        "])"
      ]
    },
    {
      "cell_type": "code",
      "execution_count": 40,
      "metadata": {
        "id": "Y16BgFkw_beB"
      },
      "outputs": [],
      "source": [
        "# Create pipeline for categorical columns\n",
        "cat_pipeline = Pipeline([\n",
        "    (\"encoder\", OneHotEncoder(handle_unknown=\"ignore\"))\n",
        "])"
      ]
    },
    {
      "cell_type": "markdown",
      "metadata": {
        "id": "n4fThkMNAe58"
      },
      "source": [
        "### Concate between Ordinal Columns and Nominal Columns"
      ]
    },
    {
      "cell_type": "code",
      "execution_count": 41,
      "metadata": {
        "id": "NSHtSjge_nBn"
      },
      "outputs": [],
      "source": [
        "# Combine pipelines\n",
        "preproc_pipeline = ColumnTransformer([\n",
        "    (\"numbers\", num_pipeline, num_features),\n",
        "    (\"categories\", cat_pipeline, cat_features),\n",
        "    ], verbose=True)"
      ]
    },
    {
      "cell_type": "code",
      "execution_count": 42,
      "metadata": {
        "colab": {
          "base_uri": "https://localhost:8080/"
        },
        "id": "n-QX6XyYE51v",
        "outputId": "09084e27-f347-44b7-d6f1-948904fc9303"
      },
      "outputs": [
        {
          "name": "stdout",
          "output_type": "stream",
          "text": [
            "[ColumnTransformer] ....... (1 of 2) Processing numbers, total=   0.0s\n",
            "[ColumnTransformer] .... (2 of 2) Processing categories, total=   0.0s\n"
          ]
        }
      ],
      "source": [
        "# Fit pipeline to data\n",
        "x_train = preproc_pipeline.fit_transform(x_train)\n",
        "x_test = preproc_pipeline.transform(x_test)\n",
        "x_val = preproc_pipeline.transform(x_val)"
      ]
    },
    {
      "cell_type": "markdown",
      "metadata": {
        "id": "pmuhG64_E9KR"
      },
      "source": [
        "### Input Pipeline"
      ]
    },
    {
      "cell_type": "code",
      "execution_count": 43,
      "metadata": {
        "id": "6weYwhiYFT52"
      },
      "outputs": [],
      "source": [
        "# Creating tf dataset\n",
        "train_dataset = tf.data.Dataset.from_tensor_slices((x_train, y_train))\n",
        "train_dataset = train_dataset.shuffle(buffer_size=1024).batch(32)\n",
        "\n",
        "test_dataset = tf.data.Dataset.from_tensor_slices((x_test, y_test))\n",
        "test_dataset = test_dataset.batch(32)\n",
        "\n",
        "val_dataset = tf.data.Dataset.from_tensor_slices((x_val, y_val))\n",
        "val_dataset = val_dataset.batch(32)"
      ]
    },
    {
      "cell_type": "markdown",
      "metadata": {
        "id": "DTdL2AYB6fbr"
      },
      "source": [
        "# VI. Model Definition"
      ]
    },
    {
      "cell_type": "markdown",
      "metadata": {
        "id": "H3nxWuu9Lkwz"
      },
      "source": [
        "### Sequential API"
      ]
    },
    {
      "cell_type": "code",
      "execution_count": 44,
      "metadata": {
        "id": "g09Nw2gpEdd7"
      },
      "outputs": [],
      "source": [
        "# Define the sequential model\n",
        "sqt_model = keras.models.Sequential([\n",
        "    keras.layers.Dense(30, activation='relu', input_shape=x_train.shape[1:]),\n",
        "    keras.layers.Dense(1, activation='sigmoid')\n",
        "])\n",
        "\n",
        "# Compile the sequential model\n",
        "sqt_model.compile(optimizer='adam', loss='binary_crossentropy',  metrics=['accuracy'])"
      ]
    },
    {
      "cell_type": "markdown",
      "metadata": {
        "id": "62n_-kUACMCB"
      },
      "source": [
        "### Functional API"
      ]
    },
    {
      "cell_type": "code",
      "execution_count": 45,
      "metadata": {
        "id": "TvvkJS08HW7O"
      },
      "outputs": [],
      "source": [
        "# Define the functional model\n",
        "input_ = keras.layers.Input(shape=x_train.shape[1:])\n",
        "hidden1 = keras.layers.Dense(30, activation='relu')(input_)\n",
        "hidden2 = keras.layers.Dense(30, activation='relu')(hidden1)\n",
        "concat = keras.layers.concatenate([input_, hidden2])\n",
        "output = keras.layers.Dense(1, activation='sigmoid')(concat)\n",
        "fcn_model = keras.models.Model(inputs=[input_], outputs=[output])\n",
        "\n",
        "# Compile the functional model\n",
        "fcn_model.compile(optimizer='adam', loss='binary_crossentropy',  metrics=['accuracy'])"
      ]
    },
    {
      "cell_type": "markdown",
      "metadata": {
        "id": "g0RQYD326fbr"
      },
      "source": [
        "# VII. Model Training"
      ]
    },
    {
      "cell_type": "markdown",
      "metadata": {
        "id": "AQceV-XQpHhh"
      },
      "source": [
        "### Sequential API"
      ]
    },
    {
      "cell_type": "code",
      "execution_count": 46,
      "metadata": {
        "colab": {
          "base_uri": "https://localhost:8080/"
        },
        "id": "cVitI1cBFIPn",
        "outputId": "c188788b-d164-410a-a744-1f11750b0c8e"
      },
      "outputs": [
        {
          "name": "stdout",
          "output_type": "stream",
          "text": [
            "Epoch 1/20\n",
            "141/141 [==============================] - 1s 2ms/step - loss: 0.4756 - accuracy: 0.7734 - val_loss: 0.4234 - val_accuracy: 0.8016\n",
            "Epoch 2/20\n",
            "141/141 [==============================] - 0s 1ms/step - loss: 0.4249 - accuracy: 0.8010 - val_loss: 0.4181 - val_accuracy: 0.7936\n",
            "Epoch 3/20\n",
            "141/141 [==============================] - 0s 1ms/step - loss: 0.4188 - accuracy: 0.8041 - val_loss: 0.4148 - val_accuracy: 0.7927\n",
            "Epoch 4/20\n",
            "141/141 [==============================] - 0s 1ms/step - loss: 0.4152 - accuracy: 0.8059 - val_loss: 0.4193 - val_accuracy: 0.7909\n",
            "Epoch 5/20\n",
            "141/141 [==============================] - 0s 1ms/step - loss: 0.4139 - accuracy: 0.8075 - val_loss: 0.4262 - val_accuracy: 0.7927\n",
            "Epoch 6/20\n",
            "141/141 [==============================] - 0s 2ms/step - loss: 0.4134 - accuracy: 0.8079 - val_loss: 0.4182 - val_accuracy: 0.7883\n",
            "Epoch 7/20\n",
            "141/141 [==============================] - 0s 2ms/step - loss: 0.4113 - accuracy: 0.8097 - val_loss: 0.4112 - val_accuracy: 0.7954\n",
            "Epoch 8/20\n",
            "141/141 [==============================] - 0s 2ms/step - loss: 0.4102 - accuracy: 0.8070 - val_loss: 0.4159 - val_accuracy: 0.7883\n",
            "Epoch 9/20\n",
            "141/141 [==============================] - 0s 1ms/step - loss: 0.4102 - accuracy: 0.8057 - val_loss: 0.4106 - val_accuracy: 0.8007\n",
            "Epoch 10/20\n",
            "141/141 [==============================] - 0s 2ms/step - loss: 0.4080 - accuracy: 0.8106 - val_loss: 0.4131 - val_accuracy: 0.7972\n",
            "Epoch 11/20\n",
            "141/141 [==============================] - 0s 1ms/step - loss: 0.4074 - accuracy: 0.8110 - val_loss: 0.4119 - val_accuracy: 0.7972\n",
            "Epoch 12/20\n",
            "141/141 [==============================] - 0s 1ms/step - loss: 0.4077 - accuracy: 0.8099 - val_loss: 0.4096 - val_accuracy: 0.7954\n",
            "Epoch 13/20\n",
            "141/141 [==============================] - 0s 1ms/step - loss: 0.4055 - accuracy: 0.8150 - val_loss: 0.4163 - val_accuracy: 0.7945\n",
            "Epoch 14/20\n",
            "141/141 [==============================] - 0s 1ms/step - loss: 0.4062 - accuracy: 0.8159 - val_loss: 0.4179 - val_accuracy: 0.7936\n",
            "Epoch 15/20\n",
            "141/141 [==============================] - 0s 1ms/step - loss: 0.4057 - accuracy: 0.8115 - val_loss: 0.4134 - val_accuracy: 0.8007\n",
            "Epoch 16/20\n",
            "141/141 [==============================] - 0s 2ms/step - loss: 0.4041 - accuracy: 0.8110 - val_loss: 0.4214 - val_accuracy: 0.7856\n",
            "Epoch 17/20\n",
            "141/141 [==============================] - 0s 2ms/step - loss: 0.4032 - accuracy: 0.8150 - val_loss: 0.4114 - val_accuracy: 0.8007\n",
            "Epoch 18/20\n",
            "141/141 [==============================] - 0s 1ms/step - loss: 0.4027 - accuracy: 0.8144 - val_loss: 0.4128 - val_accuracy: 0.7989\n",
            "Epoch 19/20\n",
            "141/141 [==============================] - 0s 2ms/step - loss: 0.4031 - accuracy: 0.8139 - val_loss: 0.4131 - val_accuracy: 0.7972\n",
            "Epoch 20/20\n",
            "141/141 [==============================] - 0s 2ms/step - loss: 0.4012 - accuracy: 0.8162 - val_loss: 0.4086 - val_accuracy: 0.8007\n"
          ]
        }
      ],
      "source": [
        "# Training the data with sequential model\n",
        "history_sqt = sqt_model.fit(train_dataset, epochs=20, validation_data=val_dataset)"
      ]
    },
    {
      "cell_type": "markdown",
      "metadata": {
        "id": "TK8axHxqIV0L"
      },
      "source": [
        "### Functional API"
      ]
    },
    {
      "cell_type": "code",
      "execution_count": 47,
      "metadata": {
        "colab": {
          "base_uri": "https://localhost:8080/"
        },
        "id": "QhkRmz-2IVXL",
        "outputId": "39d34056-3ec3-4532-9a5d-2208365fd2b2"
      },
      "outputs": [
        {
          "name": "stdout",
          "output_type": "stream",
          "text": [
            "Epoch 1/20\n",
            "141/141 [==============================] - 1s 2ms/step - loss: 0.4947 - accuracy: 0.7592 - val_loss: 0.4342 - val_accuracy: 0.7758\n",
            "Epoch 2/20\n",
            "141/141 [==============================] - 0s 1ms/step - loss: 0.4276 - accuracy: 0.8044 - val_loss: 0.4218 - val_accuracy: 0.7838\n",
            "Epoch 3/20\n",
            "141/141 [==============================] - 0s 1ms/step - loss: 0.4193 - accuracy: 0.8057 - val_loss: 0.4168 - val_accuracy: 0.7945\n",
            "Epoch 4/20\n",
            "141/141 [==============================] - 0s 2ms/step - loss: 0.4144 - accuracy: 0.8097 - val_loss: 0.4138 - val_accuracy: 0.7918\n",
            "Epoch 5/20\n",
            "141/141 [==============================] - 0s 1ms/step - loss: 0.4122 - accuracy: 0.8110 - val_loss: 0.4199 - val_accuracy: 0.7954\n",
            "Epoch 6/20\n",
            "141/141 [==============================] - 0s 2ms/step - loss: 0.4110 - accuracy: 0.8115 - val_loss: 0.4157 - val_accuracy: 0.7945\n",
            "Epoch 7/20\n",
            "141/141 [==============================] - 0s 1ms/step - loss: 0.4091 - accuracy: 0.8113 - val_loss: 0.4127 - val_accuracy: 0.7954\n",
            "Epoch 8/20\n",
            "141/141 [==============================] - 0s 2ms/step - loss: 0.4062 - accuracy: 0.8110 - val_loss: 0.4227 - val_accuracy: 0.7927\n",
            "Epoch 9/20\n",
            "141/141 [==============================] - 0s 1ms/step - loss: 0.4061 - accuracy: 0.8101 - val_loss: 0.4199 - val_accuracy: 0.7927\n",
            "Epoch 10/20\n",
            "141/141 [==============================] - 0s 2ms/step - loss: 0.4049 - accuracy: 0.8108 - val_loss: 0.4219 - val_accuracy: 0.7963\n",
            "Epoch 11/20\n",
            "141/141 [==============================] - 0s 1ms/step - loss: 0.4030 - accuracy: 0.8139 - val_loss: 0.4130 - val_accuracy: 0.7980\n",
            "Epoch 12/20\n",
            "141/141 [==============================] - 0s 2ms/step - loss: 0.4012 - accuracy: 0.8139 - val_loss: 0.4228 - val_accuracy: 0.7980\n",
            "Epoch 13/20\n",
            "141/141 [==============================] - 0s 1ms/step - loss: 0.3999 - accuracy: 0.8182 - val_loss: 0.4116 - val_accuracy: 0.8007\n",
            "Epoch 14/20\n",
            "141/141 [==============================] - 0s 1ms/step - loss: 0.3982 - accuracy: 0.8162 - val_loss: 0.4166 - val_accuracy: 0.7972\n",
            "Epoch 15/20\n",
            "141/141 [==============================] - 0s 2ms/step - loss: 0.3965 - accuracy: 0.8191 - val_loss: 0.4238 - val_accuracy: 0.7927\n",
            "Epoch 16/20\n",
            "141/141 [==============================] - 0s 1ms/step - loss: 0.3957 - accuracy: 0.8191 - val_loss: 0.4161 - val_accuracy: 0.8016\n",
            "Epoch 17/20\n",
            "141/141 [==============================] - 0s 2ms/step - loss: 0.3951 - accuracy: 0.8166 - val_loss: 0.4340 - val_accuracy: 0.7909\n",
            "Epoch 18/20\n",
            "141/141 [==============================] - 0s 1ms/step - loss: 0.3910 - accuracy: 0.8184 - val_loss: 0.4393 - val_accuracy: 0.7856\n",
            "Epoch 19/20\n",
            "141/141 [==============================] - 0s 1ms/step - loss: 0.3909 - accuracy: 0.8177 - val_loss: 0.4206 - val_accuracy: 0.7963\n",
            "Epoch 20/20\n",
            "141/141 [==============================] - 0s 2ms/step - loss: 0.3894 - accuracy: 0.8193 - val_loss: 0.4293 - val_accuracy: 0.7963\n"
          ]
        }
      ],
      "source": [
        "# Training the data with functional model\n",
        "history_fcn = fcn_model.fit(train_dataset, epochs=20, validation_data=val_dataset)"
      ]
    },
    {
      "cell_type": "markdown",
      "metadata": {
        "id": "pLI3PqQX6fbr"
      },
      "source": [
        "# VIII. Model Evaluation"
      ]
    },
    {
      "cell_type": "markdown",
      "metadata": {
        "id": "boeW-8KKznI-"
      },
      "source": [
        "### Sequential API"
      ]
    },
    {
      "cell_type": "code",
      "execution_count": 48,
      "metadata": {
        "colab": {
          "base_uri": "https://localhost:8080/",
          "height": 644
        },
        "id": "NriQEQnFzptD",
        "outputId": "598face5-4ba0-42cf-efa9-049fead2f82b"
      },
      "outputs": [
        {
          "data": {
            "text/plain": [
              "<function matplotlib.pyplot.show(*args, **kw)>"
            ]
          },
          "execution_count": 48,
          "metadata": {},
          "output_type": "execute_result"
        },
        {
          "data": {
            "image/png": "[encoded data removed]",
            "text/plain": [
              "<Figure size 1440x720 with 1 Axes>"
            ]
          },
          "metadata": {},
          "output_type": "display_data"
        }
      ],
      "source": [
        "# Graph loss and accuracy of the model based on epochs\n",
        "metrics = pd.DataFrame(history_sqt.history)\n",
        "metrics.plot(figsize=(20, 10))\n",
        "plt.title(\"Graph of Model Loss and Accuracy in Comparison to Validation Data\")\n",
        "plt.xlabel('epochs')\n",
        "plt.show"
      ]
    },
    {
      "cell_type": "markdown",
      "metadata": {
        "id": "gG-xuD9OEZEz"
      },
      "source": [
        "From the result of the accuracy graph, we can see that for both the train data and the validation data, accuracy went up as epochs value increase, while the loss went down as epochs value increase. This show a very positive result for our model.\n",
        "\n",
        "Despite that, we can also see that between the value of train data and the validation data there are significant difference. Since the train data is performing better than the validation data, the model is overfitted, although the difference for this overfitted model is not that big."
      ]
    },
    {
      "cell_type": "code",
      "execution_count": 49,
      "metadata": {
        "colab": {
          "base_uri": "https://localhost:8080/"
        },
        "id": "WuoDft5MBmCz",
        "outputId": "1963a994-38de-41dd-bfae-4364f3f74fb0"
      },
      "outputs": [
        {
          "name": "stdout",
          "output_type": "stream",
          "text": [
            "44/44 [==============================] - 0s 881us/step - loss: 0.4247 - accuracy: 0.8021\n"
          ]
        },
        {
          "data": {
            "text/plain": [
              "[0.4246758818626404, 0.8021352291107178]"
            ]
          },
          "execution_count": 49,
          "metadata": {},
          "output_type": "execute_result"
        }
      ],
      "source": [
        "# Measure model evaluate\n",
        "sqt_model.evaluate(x_test, y_test)"
      ]
    },
    {
      "cell_type": "code",
      "execution_count": 50,
      "metadata": {
        "colab": {
          "base_uri": "https://localhost:8080/"
        },
        "id": "SAGkH19KJvFa",
        "outputId": "edf7486b-1da1-407e-d7ce-adafc3de66cc"
      },
      "outputs": [
        {
          "name": "stdout",
          "output_type": "stream",
          "text": [
            "44/44 [==============================] - 0s 902us/step\n"
          ]
        }
      ],
      "source": [
        "# Calculate y_pred value for sequential API and append into list\n",
        "y_pred = sqt_model.predict(x_test)\n",
        "y_pred_actual_sqt = []\n",
        "\n",
        "for ele in y_pred:\n",
        "  if ele > 0.5:\n",
        "    y_pred_actual_sqt.append(1)\n",
        "  else :\n",
        "    y_pred_actual_sqt.append(0)\n"
      ]
    },
    {
      "cell_type": "code",
      "execution_count": 51,
      "metadata": {
        "colab": {
          "base_uri": "https://localhost:8080/",
          "height": 465
        },
        "id": "g8ysEbp-DdME",
        "outputId": "65fa6203-9db1-4d35-f03d-9eaf7fca93bf"
      },
      "outputs": [
        {
          "data": {
            "text/plain": [
              "Text(57.5, 0.5, 'Actual')"
            ]
          },
          "execution_count": 51,
          "metadata": {},
          "output_type": "execute_result"
        },
        {
          "data": {
            "image/png": "[encoded data removed]",
            "text/plain": [
              "<Figure size 648x504 with 2 Axes>"
            ]
          },
          "metadata": {},
          "output_type": "display_data"
        }
      ],
      "source": [
        "# Graph Confusion Matrix\n",
        "cm_sqt = tf.math.confusion_matrix(labels=y_test, predictions=y_pred_actual_sqt)\n",
        "\n",
        "plt.figure(figsize=(9,7))\n",
        "sns.heatmap(cm_sqt,annot=True,fmt='d')\n",
        "plt.xlabel('Predicted')\n",
        "plt.ylabel('Actual')"
      ]
    },
    {
      "cell_type": "code",
      "execution_count": 52,
      "metadata": {
        "id": "mkcxnUf9Kul5"
      },
      "outputs": [],
      "source": [
        "# Define confusion matrix result into int value\n",
        "\n",
        "TP_cm_sqt = int(cm_sqt[0,0])\n",
        "FP_cm_sqt = int(cm_sqt[0,1])\n",
        "FN_cm_sqt = int(cm_sqt[1,0])\n",
        "TN_cm_sqt = int(cm_sqt[1,1])"
      ]
    },
    {
      "cell_type": "code",
      "execution_count": 53,
      "metadata": {
        "colab": {
          "base_uri": "https://localhost:8080/"
        },
        "id": "ZKF1z-0cGS8A",
        "outputId": "f4f2ed3a-54e6-4228-d3a2-c0142a914ec6"
      },
      "outputs": [
        {
          "name": "stdout",
          "output_type": "stream",
          "text": [
            "Accuracy from confusion matrix\n",
            "80.2%\n"
          ]
        }
      ],
      "source": [
        "# Print accuracy from confusion matrix\n",
        "calc = (TP_cm_sqt+TN_cm_sqt)/(TP_cm_sqt+FP_cm_sqt+FN_cm_sqt+TN_cm_sqt)\n",
        "print(f\"Accuracy from confusion matrix\")\n",
        "print(f\"{round(calc*100, 1)}%\")"
      ]
    },
    {
      "cell_type": "code",
      "execution_count": 54,
      "metadata": {
        "colab": {
          "base_uri": "https://localhost:8080/"
        },
        "id": "AfMpp_sBGTEg",
        "outputId": "371ea180-6df6-46b2-820f-c62681cfd188"
      },
      "outputs": [
        {
          "name": "stdout",
          "output_type": "stream",
          "text": [
            "Recall for those who churn from confusion matrix\n",
            "63.9%\n"
          ]
        }
      ],
      "source": [
        "# Print recall for those who churn from confusion matrix\n",
        "calc = (TN_cm_sqt)/(FP_cm_sqt+TN_cm_sqt)\n",
        "print(f\"Recall for those who churn from confusion matrix\")\n",
        "print(f\"{round(calc*100, 1)}%\")"
      ]
    },
    {
      "cell_type": "code",
      "execution_count": 55,
      "metadata": {
        "colab": {
          "base_uri": "https://localhost:8080/"
        },
        "id": "QdJ7ychWGTMP",
        "outputId": "3f0aed8c-be95-4f79-f152-5845f56648fa"
      },
      "outputs": [
        {
          "name": "stdout",
          "output_type": "stream",
          "text": [
            "Recall for those who did not churn from confusion matrix\n",
            "84.7%\n"
          ]
        }
      ],
      "source": [
        "# Print recall for those who did not churn from confusion matrix\n",
        "calc = (TP_cm_sqt)/(TP_cm_sqt+FN_cm_sqt)\n",
        "print(f\"Recall for those who did not churn from confusion matrix\")\n",
        "print(f\"{round(calc*100, 1)}%\")"
      ]
    },
    {
      "cell_type": "code",
      "execution_count": 56,
      "metadata": {
        "colab": {
          "base_uri": "https://localhost:8080/"
        },
        "id": "dsMz3bp-QU2x",
        "outputId": "ea797e18-5fa4-4f68-fdc1-c4cac26d06be"
      },
      "outputs": [
        {
          "name": "stdout",
          "output_type": "stream",
          "text": [
            "Classification Reports is:\n",
            "               precision    recall  f1-score   support\n",
            "\n",
            "           0       0.85      0.90      0.87      1043\n",
            "           1       0.64      0.53      0.58       362\n",
            "\n",
            "    accuracy                           0.80      1405\n",
            "   macro avg       0.74      0.71      0.73      1405\n",
            "weighted avg       0.79      0.80      0.80      1405\n",
            "\n"
          ]
        }
      ],
      "source": [
        "# Make classification report for sequential API\n",
        "\n",
        "print(\"Classification Reports is:\\n\",classification_report(y_test,y_pred_actual_sqt))"
      ]
    },
    {
      "cell_type": "markdown",
      "metadata": {
        "id": "Xds_2uOBHirg"
      },
      "source": [
        "We can see that the accuracy value for this model based on the model evaluation is 80.2%. Similarly, the accuracy value for this model based on the confusion matrix is also 80.2%. Meanwhile, the accuracy of for this model based on the classification report is 80%. From these three, we can conclude that the accuracy is around 80% for this model.\n",
        "\n",
        "For those who churn, the recall from confusion matrix is 63.9% while the recall from the classification report is 53%, which shows a quite difference between the two data. \n",
        "\n",
        "For those who did not churn, the recall from confusion matrix is 84.7% while the recall from the classification report is 90%, which also shows a quite difference between the two data. \n",
        "\n",
        "Overall, this model is a bit overfitted, although the model seems to be working alright in terms of accuracy of prediction. The recall for those who did not churn seems to be quite far and the recall for those who churn is even further in difference. "
      ]
    },
    {
      "cell_type": "markdown",
      "metadata": {
        "id": "5UxTjr-DPPl8"
      },
      "source": [
        "### Functional API"
      ]
    },
    {
      "cell_type": "code",
      "execution_count": 57,
      "metadata": {
        "colab": {
          "base_uri": "https://localhost:8080/",
          "height": 644
        },
        "id": "8-Q07YUmPPs6",
        "outputId": "4aa4787d-699a-40e9-9d14-4aab5e838210"
      },
      "outputs": [
        {
          "data": {
            "text/plain": [
              "<function matplotlib.pyplot.show(*args, **kw)>"
            ]
          },
          "execution_count": 57,
          "metadata": {},
          "output_type": "execute_result"
        },
        {
          "data": {
            "image/png": "[encoded data removed]",
            "text/plain": [
              "<Figure size 1440x720 with 1 Axes>"
            ]
          },
          "metadata": {},
          "output_type": "display_data"
        }
      ],
      "source": [
        "# Graph loss and accuracy of the model based on epochs\n",
        "metrics = pd.DataFrame(history_fcn.history)\n",
        "metrics.plot(figsize=(20, 10))\n",
        "plt.title(\"graph\")\n",
        "plt.xlabel('epoch')\n",
        "plt.show"
      ]
    },
    {
      "cell_type": "markdown",
      "metadata": {
        "id": "6sODdRykIHKG"
      },
      "source": [
        "From the result of the accuracy graph, we can see that for both the train data and the validation data, accuracy went up as epochs value increase, while the loss went down as epochs value increase. This show a very positive result for our model.\n",
        "\n",
        "Despite that, we can also see that between the value of train data and the validation data there are significant difference. Since the train data is performing better than the validation data, the model is overfitted, and the difference for this overfitted model is quite significant."
      ]
    },
    {
      "cell_type": "code",
      "execution_count": 58,
      "metadata": {
        "colab": {
          "base_uri": "https://localhost:8080/"
        },
        "id": "n4dv0Z0GIZ-p",
        "outputId": "e0ba5163-7071-45c7-8b5d-a59458996a49"
      },
      "outputs": [
        {
          "name": "stdout",
          "output_type": "stream",
          "text": [
            "44/44 [==============================] - 0s 856us/step - loss: 0.4496 - accuracy: 0.7779\n"
          ]
        },
        {
          "data": {
            "text/plain": [
              "[0.4495641887187958, 0.7779359221458435]"
            ]
          },
          "execution_count": 58,
          "metadata": {},
          "output_type": "execute_result"
        }
      ],
      "source": [
        "# Measure model evaluate for functional API\n",
        "fcn_model.evaluate(x_test, y_test)"
      ]
    },
    {
      "cell_type": "code",
      "execution_count": 59,
      "metadata": {
        "colab": {
          "base_uri": "https://localhost:8080/"
        },
        "id": "UvhW8GsCJXyX",
        "outputId": "827dbf50-d13c-4895-9e3b-8794bf7dab0a"
      },
      "outputs": [
        {
          "name": "stdout",
          "output_type": "stream",
          "text": [
            "44/44 [==============================] - 0s 896us/step\n"
          ]
        }
      ],
      "source": [
        "# Calculate y_pred value for functional API and append into list\n",
        "y_pred_fcn = fcn_model.predict(x_test)\n",
        "y_pred_actual_fcn = []\n",
        "\n",
        "for ele in y_pred:\n",
        "  if ele > 0.5:\n",
        "    y_pred_actual_fcn.append(1)\n",
        "  else :\n",
        "    y_pred_actual_fcn.append(0)"
      ]
    },
    {
      "cell_type": "code",
      "execution_count": 60,
      "metadata": {
        "colab": {
          "base_uri": "https://localhost:8080/",
          "height": 465
        },
        "id": "tdlppISuI_wz",
        "outputId": "2b65c83b-36b0-40db-c359-b59ba57947a4"
      },
      "outputs": [
        {
          "data": {
            "text/plain": [
              "Text(57.5, 0.5, 'Actual')"
            ]
          },
          "execution_count": 60,
          "metadata": {},
          "output_type": "execute_result"
        },
        {
          "data": {
            "image/png": "[encoded data removed]",
            "text/plain": [
              "<Figure size 648x504 with 2 Axes>"
            ]
          },
          "metadata": {},
          "output_type": "display_data"
        }
      ],
      "source": [
        "# Graph Confusion Matrix for functional API\n",
        "cm_fnc = tf.math.confusion_matrix(labels=y_test, predictions=y_pred_actual_fcn)\n",
        "\n",
        "plt.figure(figsize=(9,7))\n",
        "sns.heatmap(cm_fnc,annot=True,fmt='d')\n",
        "plt.xlabel('Predicted')\n",
        "plt.ylabel('Actual')"
      ]
    },
    {
      "cell_type": "code",
      "execution_count": 61,
      "metadata": {
        "id": "kfz2rfasMleb"
      },
      "outputs": [],
      "source": [
        "# Define confusion matrix result into int value\n",
        "\n",
        "TP_cm_fnc = int(cm_fnc[0,0])\n",
        "FP_cm_fnc = int(cm_fnc[0,1])\n",
        "FN_cm_fnc = int(cm_fnc[1,0])\n",
        "TN_cm_fnc = int(cm_fnc[1,1])"
      ]
    },
    {
      "cell_type": "code",
      "execution_count": 62,
      "metadata": {
        "colab": {
          "base_uri": "https://localhost:8080/"
        },
        "id": "H6S9S3yPJGUx",
        "outputId": "c07ad4ec-d665-450b-f35d-57649c5d4644"
      },
      "outputs": [
        {
          "name": "stdout",
          "output_type": "stream",
          "text": [
            "Accuracy from confusion matrix\n",
            "80.2%\n"
          ]
        }
      ],
      "source": [
        "# Print accuracy from confusion matrix\n",
        "calc = (TP_cm_fnc+TN_cm_fnc)/(TP_cm_fnc+FP_cm_fnc+FN_cm_fnc+TN_cm_fnc)\n",
        "print(f\"Accuracy from confusion matrix\")\n",
        "print(f\"{round(calc*100, 1)}%\")"
      ]
    },
    {
      "cell_type": "code",
      "execution_count": 63,
      "metadata": {
        "colab": {
          "base_uri": "https://localhost:8080/"
        },
        "id": "hWwF9aGcJGXU",
        "outputId": "81cfbe19-b1e0-4f65-dd3b-8874dc010f10"
      },
      "outputs": [
        {
          "name": "stdout",
          "output_type": "stream",
          "text": [
            "Recall for those who churn from confusion matrix\n",
            "63.9%\n"
          ]
        }
      ],
      "source": [
        "# Print recall for those who churn from confusion matrix\n",
        "calc = (TN_cm_fnc)/(FP_cm_fnc+TN_cm_fnc)\n",
        "print(f\"Recall for those who churn from confusion matrix\")\n",
        "print(f\"{round(calc*100, 1)}%\")"
      ]
    },
    {
      "cell_type": "code",
      "execution_count": 64,
      "metadata": {
        "colab": {
          "base_uri": "https://localhost:8080/"
        },
        "id": "aUzpzS7TJGZv",
        "outputId": "d1048850-73b7-4480-f76b-0b93a4e189a8"
      },
      "outputs": [
        {
          "name": "stdout",
          "output_type": "stream",
          "text": [
            "Recall for those who did not churn from confusion matrix\n",
            "84.7%\n"
          ]
        }
      ],
      "source": [
        "# Print recall for those who did not churn from confusion matrix\n",
        "calc = (TP_cm_fnc)/(TP_cm_fnc+FN_cm_fnc)\n",
        "print(f\"Recall for those who did not churn from confusion matrix\")\n",
        "print(f\"{round(calc*100, 1)}%\")"
      ]
    },
    {
      "cell_type": "code",
      "execution_count": 65,
      "metadata": {
        "colab": {
          "base_uri": "https://localhost:8080/"
        },
        "id": "iprEiyUVJGcV",
        "outputId": "d1e68273-f48a-461b-81f2-98764396fee3"
      },
      "outputs": [
        {
          "name": "stdout",
          "output_type": "stream",
          "text": [
            "Classification Reports is:\n",
            "               precision    recall  f1-score   support\n",
            "\n",
            "           0       0.85      0.90      0.87      1043\n",
            "           1       0.64      0.53      0.58       362\n",
            "\n",
            "    accuracy                           0.80      1405\n",
            "   macro avg       0.74      0.71      0.73      1405\n",
            "weighted avg       0.79      0.80      0.80      1405\n",
            "\n"
          ]
        }
      ],
      "source": [
        "# Make classification report for functional API\n",
        "\n",
        "print(\"Classification Reports is:\\n\",classification_report(y_test,y_pred_actual_fcn))"
      ]
    },
    {
      "cell_type": "markdown",
      "metadata": {
        "id": "UZaPAfuhNkgo"
      },
      "source": [
        "We can see that the accuracy value for this model based on the model evaluation is 77.8%. Similarly, the accuracy value for this model based on the confusion matrix is also 80.2%. Meanwhile, the accuracy of for this model based on the classification report is 80%. From these three, we can conclude that the accuracy is around 80% for this model.\n",
        "\n",
        "For those who churn, the recall from confusion matrix is 63.9% while the recall from the classification report is 53%, which shows a quite difference between the two data. \n",
        "\n",
        "For those who did not churn, the recall from confusion matrix is 84.7% while the recall from the classification report is 90%, which also shows a quite difference between the two data. \n",
        "\n",
        "Overall, this model is a bit overfitted, although the model seems to be working alright in terms of accuracy of prediction. The recall for those who did not churn seems to be quite far and the recall for those who churn is even further in difference. "
      ]
    },
    {
      "cell_type": "markdown",
      "metadata": {
        "id": "BJpxF4Y2OXqh"
      },
      "source": [
        "Although the two models are very similar, we can see that the sequential API model is performing better from the accuracy and the shape of the epoch graph with loss and accuracy. Hence, I decided to pick the sequential API model to be improved further with hyperparameter tuning."
      ]
    },
    {
      "cell_type": "markdown",
      "metadata": {
        "id": "P80lrccVO5RT"
      },
      "source": [
        "### Hyperparameter Tuning"
      ]
    },
    {
      "cell_type": "code",
      "execution_count": 66,
      "metadata": {
        "id": "H3v2HSEzQc6W"
      },
      "outputs": [],
      "source": [
        "# Define a test model for sequential API\n",
        "def build_model(n_hidden=1, n_neurons=30, learning_rate=3e-3):\n",
        "    sqt_model_test = keras.models.Sequential()\n",
        "    sqt_model_test.add(keras.layers.InputLayer(input_shape=x_train.shape[1:]))\n",
        "    for layer in range(n_hidden):\n",
        "        sqt_model_test.add(keras.layers.Dense(n_neurons, activation=\"relu\"))\n",
        "    sqt_model_test.add(keras.layers.Dense(1, activation='sigmoid'))\n",
        "    optimizer = tf.keras.optimizers.Adam(learning_rate)\n",
        "    sqt_model_test.compile(loss=\"binary_crossentropy\", optimizer=optimizer,  metrics=['accuracy'])\n",
        "    return sqt_model_test"
      ]
    },
    {
      "cell_type": "code",
      "execution_count": 67,
      "metadata": {
        "colab": {
          "base_uri": "https://localhost:8080/"
        },
        "id": "qoIA-ff-RCW3",
        "outputId": "1f09d36d-c563-4ff6-ac95-e5e0b10a406a"
      },
      "outputs": [
        {
          "name": "stderr",
          "output_type": "stream",
          "text": [
            "/usr/local/lib/python3.7/dist-packages/ipykernel_launcher.py:2: DeprecationWarning: KerasRegressor is deprecated, use Sci-Keras (https://github.com/adriangb/scikeras) instead. See https://www.adriangb.com/scikeras/stable/migration.html for help migrating.\n",
            "  \n"
          ]
        }
      ],
      "source": [
        "# Apply keras regressor on test model\n",
        "keras_reg = keras.wrappers.scikit_learn.KerasRegressor(build_model)"
      ]
    },
    {
      "cell_type": "code",
      "execution_count": 68,
      "metadata": {
        "colab": {
          "base_uri": "https://localhost:8080/"
        },
        "id": "2I8YbwmrRCc2",
        "outputId": "54ca548f-0b6f-4ae0-8124-50c03b815d13"
      },
      "outputs": [
        {
          "name": "stdout",
          "output_type": "stream",
          "text": [
            "Epoch 1/100\n",
            "141/141 [==============================] - 1s 2ms/step - loss: 0.4552 - accuracy: 0.7814 - val_loss: 0.4199 - val_accuracy: 0.7883\n",
            "Epoch 2/100\n",
            "141/141 [==============================] - 0s 2ms/step - loss: 0.4225 - accuracy: 0.8032 - val_loss: 0.4075 - val_accuracy: 0.7963\n",
            "Epoch 3/100\n",
            "141/141 [==============================] - 0s 2ms/step - loss: 0.4167 - accuracy: 0.8057 - val_loss: 0.4156 - val_accuracy: 0.7927\n",
            "Epoch 4/100\n",
            "141/141 [==============================] - 0s 2ms/step - loss: 0.4155 - accuracy: 0.8068 - val_loss: 0.4085 - val_accuracy: 0.7989\n",
            "Epoch 5/100\n",
            "141/141 [==============================] - 0s 2ms/step - loss: 0.4121 - accuracy: 0.8088 - val_loss: 0.4099 - val_accuracy: 0.8016\n",
            "Epoch 6/100\n",
            "141/141 [==============================] - 0s 1ms/step - loss: 0.4121 - accuracy: 0.8101 - val_loss: 0.4138 - val_accuracy: 0.7963\n",
            "Epoch 7/100\n",
            "141/141 [==============================] - 0s 1ms/step - loss: 0.4089 - accuracy: 0.8153 - val_loss: 0.4080 - val_accuracy: 0.7989\n",
            "Epoch 8/100\n",
            "141/141 [==============================] - 0s 2ms/step - loss: 0.4070 - accuracy: 0.8119 - val_loss: 0.4178 - val_accuracy: 0.7972\n",
            "Epoch 9/100\n",
            "141/141 [==============================] - 0s 3ms/step - loss: 0.4043 - accuracy: 0.8113 - val_loss: 0.4106 - val_accuracy: 0.7980\n",
            "Epoch 10/100\n",
            "141/141 [==============================] - 0s 3ms/step - loss: 0.4065 - accuracy: 0.8093 - val_loss: 0.4104 - val_accuracy: 0.7945\n",
            "Epoch 11/100\n",
            "141/141 [==============================] - 0s 2ms/step - loss: 0.4024 - accuracy: 0.8146 - val_loss: 0.4143 - val_accuracy: 0.7954\n",
            "Epoch 12/100\n",
            "141/141 [==============================] - 0s 2ms/step - loss: 0.4010 - accuracy: 0.8155 - val_loss: 0.4213 - val_accuracy: 0.7918\n"
          ]
        },
        {
          "data": {
            "text/plain": [
              "<keras.callbacks.History at 0x7ff9e44412d0>"
            ]
          },
          "execution_count": 68,
          "metadata": {},
          "output_type": "execute_result"
        }
      ],
      "source": [
        "# Fit test model on train data\n",
        "keras_reg.fit(x_train, y_train, epochs=100,\n",
        "              validation_data=(x_val, y_val),\n",
        "              callbacks=[keras.callbacks.EarlyStopping(patience=10)])"
      ]
    },
    {
      "cell_type": "code",
      "execution_count": 69,
      "metadata": {
        "colab": {
          "base_uri": "https://localhost:8080/"
        },
        "id": "tRy0z3HrQLTc",
        "outputId": "3d357c9f-361e-4b7b-8b3f-3e88a59fb7d7"
      },
      "outputs": [
        {
          "name": "stdout",
          "output_type": "stream",
          "text": [
            "Fitting 3 folds for each of 10 candidates, totalling 30 fits\n",
            "Epoch 1/100\n",
            "94/94 [==============================] - 0s 2ms/step - loss: 0.6270 - accuracy: 0.6718 - val_loss: 0.5144 - val_accuracy: 0.7438\n",
            "Epoch 2/100\n",
            "94/94 [==============================] - 0s 2ms/step - loss: 0.4835 - accuracy: 0.7656 - val_loss: 0.4530 - val_accuracy: 0.7838\n",
            "Epoch 3/100\n",
            "94/94 [==============================] - 0s 1ms/step - loss: 0.4475 - accuracy: 0.7977 - val_loss: 0.4349 - val_accuracy: 0.7963\n",
            "Epoch 4/100\n",
            "94/94 [==============================] - 0s 2ms/step - loss: 0.4356 - accuracy: 0.8020 - val_loss: 0.4275 - val_accuracy: 0.8034\n",
            "Epoch 5/100\n",
            "94/94 [==============================] - 0s 2ms/step - loss: 0.4305 - accuracy: 0.8010 - val_loss: 0.4250 - val_accuracy: 0.7989\n",
            "Epoch 6/100\n",
            "94/94 [==============================] - 0s 1ms/step - loss: 0.4274 - accuracy: 0.8003 - val_loss: 0.4208 - val_accuracy: 0.8007\n",
            "Epoch 7/100\n",
            "94/94 [==============================] - 0s 2ms/step - loss: 0.4251 - accuracy: 0.8023 - val_loss: 0.4233 - val_accuracy: 0.7989\n",
            "Epoch 8/100\n",
            "94/94 [==============================] - 0s 2ms/step - loss: 0.4238 - accuracy: 0.8050 - val_loss: 0.4190 - val_accuracy: 0.7989\n",
            "Epoch 9/100\n",
            "94/94 [==============================] - 0s 2ms/step - loss: 0.4238 - accuracy: 0.8040 - val_loss: 0.4216 - val_accuracy: 0.7972\n",
            "Epoch 10/100\n",
            "94/94 [==============================] - 0s 1ms/step - loss: 0.4227 - accuracy: 0.8070 - val_loss: 0.4220 - val_accuracy: 0.7963\n",
            "Epoch 11/100\n",
            "94/94 [==============================] - 0s 1ms/step - loss: 0.4219 - accuracy: 0.8067 - val_loss: 0.4198 - val_accuracy: 0.7963\n",
            "Epoch 12/100\n",
            "94/94 [==============================] - 0s 2ms/step - loss: 0.4215 - accuracy: 0.8077 - val_loss: 0.4193 - val_accuracy: 0.7980\n",
            "Epoch 13/100\n",
            "94/94 [==============================] - 0s 1ms/step - loss: 0.4211 - accuracy: 0.8093 - val_loss: 0.4218 - val_accuracy: 0.7936\n",
            "Epoch 14/100\n",
            "94/94 [==============================] - 0s 1ms/step - loss: 0.4214 - accuracy: 0.8057 - val_loss: 0.4215 - val_accuracy: 0.7927\n",
            "Epoch 15/100\n",
            "94/94 [==============================] - 0s 1ms/step - loss: 0.4211 - accuracy: 0.8067 - val_loss: 0.4191 - val_accuracy: 0.7963\n",
            "Epoch 16/100\n",
            "94/94 [==============================] - 0s 1ms/step - loss: 0.4204 - accuracy: 0.8090 - val_loss: 0.4222 - val_accuracy: 0.7909\n",
            "Epoch 17/100\n",
            "94/94 [==============================] - 0s 2ms/step - loss: 0.4211 - accuracy: 0.8063 - val_loss: 0.4236 - val_accuracy: 0.7891\n",
            "Epoch 18/100\n",
            "94/94 [==============================] - 0s 1ms/step - loss: 0.4206 - accuracy: 0.8070 - val_loss: 0.4194 - val_accuracy: 0.7945\n",
            "47/47 [==============================] - 0s 941us/step - loss: 0.4158 - accuracy: 0.8011\n",
            "[CV] END learning_rate=0.0021439685147170836, n_hidden=0, n_neurons=51; total time=  14.6s\n",
            "Epoch 1/100\n",
            "94/94 [==============================] - 1s 3ms/step - loss: 0.4994 - accuracy: 0.7513 - val_loss: 0.4464 - val_accuracy: 0.7874\n",
            "Epoch 2/100\n",
            "94/94 [==============================] - 0s 1ms/step - loss: 0.4471 - accuracy: 0.7913 - val_loss: 0.4317 - val_accuracy: 0.7865\n",
            "Epoch 3/100\n",
            "94/94 [==============================] - 0s 1ms/step - loss: 0.4341 - accuracy: 0.7987 - val_loss: 0.4217 - val_accuracy: 0.7927\n",
            "Epoch 4/100\n",
            "94/94 [==============================] - 0s 2ms/step - loss: 0.4288 - accuracy: 0.8013 - val_loss: 0.4199 - val_accuracy: 0.7874\n",
            "Epoch 5/100\n",
            "94/94 [==============================] - 0s 2ms/step - loss: 0.4262 - accuracy: 0.8047 - val_loss: 0.4224 - val_accuracy: 0.7891\n",
            "Epoch 6/100\n",
            "94/94 [==============================] - 0s 2ms/step - loss: 0.4237 - accuracy: 0.8080 - val_loss: 0.4171 - val_accuracy: 0.7909\n",
            "Epoch 7/100\n",
            "94/94 [==============================] - 0s 2ms/step - loss: 0.4228 - accuracy: 0.8080 - val_loss: 0.4159 - val_accuracy: 0.7927\n",
            "Epoch 8/100\n",
            "94/94 [==============================] - 0s 2ms/step - loss: 0.4230 - accuracy: 0.8063 - val_loss: 0.4167 - val_accuracy: 0.7927\n",
            "Epoch 9/100\n",
            "94/94 [==============================] - 0s 1ms/step - loss: 0.4223 - accuracy: 0.8067 - val_loss: 0.4173 - val_accuracy: 0.7918\n",
            "Epoch 10/100\n",
            "94/94 [==============================] - 0s 1ms/step - loss: 0.4214 - accuracy: 0.8067 - val_loss: 0.4145 - val_accuracy: 0.7954\n",
            "Epoch 11/100\n",
            "94/94 [==============================] - 0s 1ms/step - loss: 0.4211 - accuracy: 0.8060 - val_loss: 0.4158 - val_accuracy: 0.7954\n",
            "Epoch 12/100\n",
            "94/94 [==============================] - 0s 1ms/step - loss: 0.4214 - accuracy: 0.8043 - val_loss: 0.4148 - val_accuracy: 0.7989\n",
            "Epoch 13/100\n",
            "94/94 [==============================] - 0s 2ms/step - loss: 0.4208 - accuracy: 0.8063 - val_loss: 0.4146 - val_accuracy: 0.7980\n",
            "Epoch 14/100\n",
            "94/94 [==============================] - 0s 2ms/step - loss: 0.4204 - accuracy: 0.8073 - val_loss: 0.4135 - val_accuracy: 0.7972\n",
            "Epoch 15/100\n",
            "94/94 [==============================] - 0s 2ms/step - loss: 0.4206 - accuracy: 0.8067 - val_loss: 0.4146 - val_accuracy: 0.7972\n",
            "Epoch 16/100\n",
            "94/94 [==============================] - 0s 1ms/step - loss: 0.4203 - accuracy: 0.8077 - val_loss: 0.4179 - val_accuracy: 0.7874\n",
            "Epoch 17/100\n",
            "94/94 [==============================] - 0s 2ms/step - loss: 0.4197 - accuracy: 0.8030 - val_loss: 0.4135 - val_accuracy: 0.7989\n",
            "Epoch 18/100\n",
            "94/94 [==============================] - 0s 1ms/step - loss: 0.4205 - accuracy: 0.8077 - val_loss: 0.4144 - val_accuracy: 0.7989\n",
            "Epoch 19/100\n",
            "94/94 [==============================] - 0s 2ms/step - loss: 0.4202 - accuracy: 0.8063 - val_loss: 0.4147 - val_accuracy: 0.7989\n",
            "Epoch 20/100\n",
            "94/94 [==============================] - 0s 2ms/step - loss: 0.4197 - accuracy: 0.8037 - val_loss: 0.4133 - val_accuracy: 0.7980\n",
            "Epoch 21/100\n",
            "94/94 [==============================] - 0s 2ms/step - loss: 0.4202 - accuracy: 0.8077 - val_loss: 0.4154 - val_accuracy: 0.7972\n",
            "Epoch 22/100\n",
            "94/94 [==============================] - 0s 2ms/step - loss: 0.4201 - accuracy: 0.8070 - val_loss: 0.4188 - val_accuracy: 0.7865\n",
            "Epoch 23/100\n",
            "94/94 [==============================] - 0s 2ms/step - loss: 0.4196 - accuracy: 0.8070 - val_loss: 0.4168 - val_accuracy: 0.7918\n",
            "Epoch 24/100\n",
            "94/94 [==============================] - 0s 2ms/step - loss: 0.4197 - accuracy: 0.8067 - val_loss: 0.4179 - val_accuracy: 0.7891\n",
            "Epoch 25/100\n",
            "94/94 [==============================] - 0s 1ms/step - loss: 0.4195 - accuracy: 0.8057 - val_loss: 0.4154 - val_accuracy: 0.7945\n",
            "Epoch 26/100\n",
            "94/94 [==============================] - 0s 1ms/step - loss: 0.4194 - accuracy: 0.8060 - val_loss: 0.4150 - val_accuracy: 0.7954\n",
            "Epoch 27/100\n",
            "94/94 [==============================] - 0s 2ms/step - loss: 0.4196 - accuracy: 0.8047 - val_loss: 0.4143 - val_accuracy: 0.7998\n",
            "Epoch 28/100\n",
            "94/94 [==============================] - 0s 1ms/step - loss: 0.4192 - accuracy: 0.8053 - val_loss: 0.4163 - val_accuracy: 0.7900\n",
            "Epoch 29/100\n",
            "94/94 [==============================] - 0s 1ms/step - loss: 0.4194 - accuracy: 0.8073 - val_loss: 0.4174 - val_accuracy: 0.7891\n",
            "Epoch 30/100\n",
            "94/94 [==============================] - 0s 1ms/step - loss: 0.4193 - accuracy: 0.8097 - val_loss: 0.4156 - val_accuracy: 0.7927\n",
            "47/47 [==============================] - 0s 907us/step - loss: 0.4126 - accuracy: 0.7991\n",
            "[CV] END learning_rate=0.0021439685147170836, n_hidden=0, n_neurons=51; total time=   5.3s\n",
            "Epoch 1/100\n",
            "94/94 [==============================] - 1s 2ms/step - loss: 0.5350 - accuracy: 0.7236 - val_loss: 0.4695 - val_accuracy: 0.7642\n",
            "Epoch 2/100\n",
            "94/94 [==============================] - 0s 2ms/step - loss: 0.4539 - accuracy: 0.7881 - val_loss: 0.4367 - val_accuracy: 0.7820\n",
            "Epoch 3/100\n",
            "94/94 [==============================] - 0s 1ms/step - loss: 0.4330 - accuracy: 0.7917 - val_loss: 0.4259 - val_accuracy: 0.7945\n",
            "Epoch 4/100\n",
            "94/94 [==============================] - 0s 2ms/step - loss: 0.4244 - accuracy: 0.7977 - val_loss: 0.4197 - val_accuracy: 0.7963\n",
            "Epoch 5/100\n",
            "94/94 [==============================] - 0s 2ms/step - loss: 0.4197 - accuracy: 0.7991 - val_loss: 0.4170 - val_accuracy: 0.7989\n",
            "Epoch 6/100\n",
            "94/94 [==============================] - 0s 1ms/step - loss: 0.4160 - accuracy: 0.8051 - val_loss: 0.4203 - val_accuracy: 0.7865\n",
            "Epoch 7/100\n",
            "94/94 [==============================] - 0s 2ms/step - loss: 0.4138 - accuracy: 0.8047 - val_loss: 0.4144 - val_accuracy: 0.7945\n",
            "Epoch 8/100\n",
            "94/94 [==============================] - 0s 2ms/step - loss: 0.4129 - accuracy: 0.8034 - val_loss: 0.4142 - val_accuracy: 0.7954\n",
            "Epoch 9/100\n",
            "94/94 [==============================] - 0s 1ms/step - loss: 0.4115 - accuracy: 0.8051 - val_loss: 0.4154 - val_accuracy: 0.7980\n",
            "Epoch 10/100\n",
            "94/94 [==============================] - 0s 2ms/step - loss: 0.4104 - accuracy: 0.8091 - val_loss: 0.4136 - val_accuracy: 0.7927\n",
            "Epoch 11/100\n",
            "94/94 [==============================] - 0s 1ms/step - loss: 0.4102 - accuracy: 0.8071 - val_loss: 0.4135 - val_accuracy: 0.7927\n",
            "Epoch 12/100\n",
            "94/94 [==============================] - 0s 2ms/step - loss: 0.4101 - accuracy: 0.8054 - val_loss: 0.4145 - val_accuracy: 0.7927\n",
            "Epoch 13/100\n",
            "94/94 [==============================] - 0s 2ms/step - loss: 0.4092 - accuracy: 0.8044 - val_loss: 0.4146 - val_accuracy: 0.7909\n",
            "Epoch 14/100\n",
            "94/94 [==============================] - 0s 2ms/step - loss: 0.4090 - accuracy: 0.8057 - val_loss: 0.4150 - val_accuracy: 0.7891\n",
            "Epoch 15/100\n",
            "94/94 [==============================] - 0s 1ms/step - loss: 0.4088 - accuracy: 0.8064 - val_loss: 0.4141 - val_accuracy: 0.7918\n",
            "Epoch 16/100\n",
            "94/94 [==============================] - 0s 2ms/step - loss: 0.4090 - accuracy: 0.8051 - val_loss: 0.4150 - val_accuracy: 0.7918\n",
            "Epoch 17/100\n",
            "94/94 [==============================] - 0s 2ms/step - loss: 0.4085 - accuracy: 0.8041 - val_loss: 0.4150 - val_accuracy: 0.7883\n",
            "Epoch 18/100\n",
            "94/94 [==============================] - 0s 2ms/step - loss: 0.4089 - accuracy: 0.8037 - val_loss: 0.4167 - val_accuracy: 0.7865\n",
            "Epoch 19/100\n",
            "94/94 [==============================] - 0s 1ms/step - loss: 0.4081 - accuracy: 0.8044 - val_loss: 0.4136 - val_accuracy: 0.7909\n",
            "Epoch 20/100\n",
            "94/94 [==============================] - 0s 1ms/step - loss: 0.4079 - accuracy: 0.8061 - val_loss: 0.4126 - val_accuracy: 0.7927\n",
            "Epoch 21/100\n",
            "94/94 [==============================] - 0s 2ms/step - loss: 0.4085 - accuracy: 0.8051 - val_loss: 0.4136 - val_accuracy: 0.7918\n",
            "Epoch 22/100\n",
            "94/94 [==============================] - 0s 2ms/step - loss: 0.4080 - accuracy: 0.8054 - val_loss: 0.4141 - val_accuracy: 0.7954\n",
            "Epoch 23/100\n",
            "94/94 [==============================] - 0s 2ms/step - loss: 0.4081 - accuracy: 0.8074 - val_loss: 0.4143 - val_accuracy: 0.7918\n",
            "Epoch 24/100\n",
            "94/94 [==============================] - 0s 2ms/step - loss: 0.4078 - accuracy: 0.8061 - val_loss: 0.4136 - val_accuracy: 0.7909\n",
            "Epoch 25/100\n",
            "94/94 [==============================] - 0s 2ms/step - loss: 0.4076 - accuracy: 0.8017 - val_loss: 0.4130 - val_accuracy: 0.7936\n",
            "Epoch 26/100\n",
            "94/94 [==============================] - 0s 2ms/step - loss: 0.4080 - accuracy: 0.8031 - val_loss: 0.4136 - val_accuracy: 0.7918\n",
            "Epoch 27/100\n",
            "94/94 [==============================] - 0s 2ms/step - loss: 0.4082 - accuracy: 0.8031 - val_loss: 0.4130 - val_accuracy: 0.7927\n",
            "Epoch 28/100\n",
            "94/94 [==============================] - 0s 2ms/step - loss: 0.4077 - accuracy: 0.8054 - val_loss: 0.4143 - val_accuracy: 0.7909\n",
            "Epoch 29/100\n",
            "94/94 [==============================] - 0s 2ms/step - loss: 0.4075 - accuracy: 0.8057 - val_loss: 0.4126 - val_accuracy: 0.7945\n",
            "Epoch 30/100\n",
            "94/94 [==============================] - 0s 1ms/step - loss: 0.4080 - accuracy: 0.8047 - val_loss: 0.4131 - val_accuracy: 0.7945\n",
            "Epoch 31/100\n",
            "94/94 [==============================] - 0s 1ms/step - loss: 0.4075 - accuracy: 0.8054 - val_loss: 0.4131 - val_accuracy: 0.7936\n",
            "Epoch 32/100\n",
            "94/94 [==============================] - 0s 1ms/step - loss: 0.4078 - accuracy: 0.8031 - val_loss: 0.4124 - val_accuracy: 0.7927\n",
            "Epoch 33/100\n",
            "94/94 [==============================] - 0s 2ms/step - loss: 0.4076 - accuracy: 0.8054 - val_loss: 0.4117 - val_accuracy: 0.7918\n",
            "Epoch 34/100\n",
            "94/94 [==============================] - 0s 1ms/step - loss: 0.4075 - accuracy: 0.8061 - val_loss: 0.4128 - val_accuracy: 0.7963\n",
            "Epoch 35/100\n",
            "94/94 [==============================] - 0s 2ms/step - loss: 0.4077 - accuracy: 0.8054 - val_loss: 0.4128 - val_accuracy: 0.7954\n",
            "Epoch 36/100\n",
            "94/94 [==============================] - 0s 2ms/step - loss: 0.4070 - accuracy: 0.8054 - val_loss: 0.4130 - val_accuracy: 0.7963\n",
            "Epoch 37/100\n",
            "94/94 [==============================] - 0s 2ms/step - loss: 0.4073 - accuracy: 0.8037 - val_loss: 0.4119 - val_accuracy: 0.7918\n",
            "Epoch 38/100\n",
            "94/94 [==============================] - 0s 2ms/step - loss: 0.4071 - accuracy: 0.8054 - val_loss: 0.4131 - val_accuracy: 0.7927\n",
            "Epoch 39/100\n",
            "94/94 [==============================] - 0s 1ms/step - loss: 0.4071 - accuracy: 0.8024 - val_loss: 0.4117 - val_accuracy: 0.7918\n",
            "Epoch 40/100\n",
            "94/94 [==============================] - 0s 2ms/step - loss: 0.4075 - accuracy: 0.8064 - val_loss: 0.4119 - val_accuracy: 0.7918\n",
            "Epoch 41/100\n",
            "94/94 [==============================] - 0s 2ms/step - loss: 0.4073 - accuracy: 0.8041 - val_loss: 0.4115 - val_accuracy: 0.7918\n",
            "Epoch 42/100\n",
            "94/94 [==============================] - 0s 1ms/step - loss: 0.4073 - accuracy: 0.8064 - val_loss: 0.4127 - val_accuracy: 0.7936\n",
            "Epoch 43/100\n",
            "94/94 [==============================] - 0s 1ms/step - loss: 0.4071 - accuracy: 0.8041 - val_loss: 0.4126 - val_accuracy: 0.7936\n",
            "Epoch 44/100\n",
            "94/94 [==============================] - 0s 1ms/step - loss: 0.4069 - accuracy: 0.8017 - val_loss: 0.4140 - val_accuracy: 0.7936\n",
            "Epoch 45/100\n",
            "94/94 [==============================] - 0s 2ms/step - loss: 0.4069 - accuracy: 0.8077 - val_loss: 0.4167 - val_accuracy: 0.7847\n",
            "Epoch 46/100\n",
            "94/94 [==============================] - 0s 2ms/step - loss: 0.4076 - accuracy: 0.8051 - val_loss: 0.4117 - val_accuracy: 0.7900\n",
            "Epoch 47/100\n",
            "94/94 [==============================] - 0s 1ms/step - loss: 0.4070 - accuracy: 0.8074 - val_loss: 0.4134 - val_accuracy: 0.7945\n",
            "Epoch 48/100\n",
            "94/94 [==============================] - 0s 1ms/step - loss: 0.4066 - accuracy: 0.8061 - val_loss: 0.4119 - val_accuracy: 0.7918\n",
            "Epoch 49/100\n",
            "94/94 [==============================] - 0s 1ms/step - loss: 0.4067 - accuracy: 0.8044 - val_loss: 0.4122 - val_accuracy: 0.7927\n",
            "Epoch 50/100\n",
            "94/94 [==============================] - 0s 2ms/step - loss: 0.4072 - accuracy: 0.8064 - val_loss: 0.4125 - val_accuracy: 0.7927\n",
            "Epoch 51/100\n",
            "94/94 [==============================] - 0s 1ms/step - loss: 0.4068 - accuracy: 0.8044 - val_loss: 0.4143 - val_accuracy: 0.7909\n",
            "47/47 [==============================] - 0s 920us/step - loss: 0.4357 - accuracy: 0.8090\n",
            "[CV] END learning_rate=0.0021439685147170836, n_hidden=0, n_neurons=51; total time=   8.9s\n",
            "Epoch 1/100\n",
            "94/94 [==============================] - 1s 3ms/step - loss: 0.4727 - accuracy: 0.7776 - val_loss: 0.4210 - val_accuracy: 0.7865\n",
            "Epoch 2/100\n",
            "94/94 [==============================] - 0s 2ms/step - loss: 0.4240 - accuracy: 0.8070 - val_loss: 0.4246 - val_accuracy: 0.7856\n",
            "Epoch 3/100\n",
            "94/94 [==============================] - 0s 2ms/step - loss: 0.4189 - accuracy: 0.8077 - val_loss: 0.4200 - val_accuracy: 0.7936\n",
            "Epoch 4/100\n",
            "94/94 [==============================] - 0s 2ms/step - loss: 0.4131 - accuracy: 0.8130 - val_loss: 0.4150 - val_accuracy: 0.7945\n",
            "Epoch 5/100\n",
            "94/94 [==============================] - 0s 2ms/step - loss: 0.4112 - accuracy: 0.8104 - val_loss: 0.4195 - val_accuracy: 0.7918\n",
            "Epoch 6/100\n",
            "94/94 [==============================] - 0s 2ms/step - loss: 0.4082 - accuracy: 0.8127 - val_loss: 0.4169 - val_accuracy: 0.7980\n",
            "Epoch 7/100\n",
            "94/94 [==============================] - 0s 2ms/step - loss: 0.4023 - accuracy: 0.8170 - val_loss: 0.4133 - val_accuracy: 0.7927\n",
            "Epoch 8/100\n",
            "94/94 [==============================] - 0s 2ms/step - loss: 0.3986 - accuracy: 0.8160 - val_loss: 0.4200 - val_accuracy: 0.7936\n",
            "Epoch 9/100\n",
            "94/94 [==============================] - 0s 2ms/step - loss: 0.3959 - accuracy: 0.8187 - val_loss: 0.4330 - val_accuracy: 0.7900\n",
            "Epoch 10/100\n",
            "94/94 [==============================] - 0s 2ms/step - loss: 0.3940 - accuracy: 0.8210 - val_loss: 0.4623 - val_accuracy: 0.7767\n",
            "Epoch 11/100\n",
            "94/94 [==============================] - 0s 2ms/step - loss: 0.3921 - accuracy: 0.8160 - val_loss: 0.4300 - val_accuracy: 0.7954\n",
            "Epoch 12/100\n",
            "94/94 [==============================] - 0s 2ms/step - loss: 0.3838 - accuracy: 0.8220 - val_loss: 0.4251 - val_accuracy: 0.7874\n",
            "Epoch 13/100\n",
            "94/94 [==============================] - 0s 2ms/step - loss: 0.3806 - accuracy: 0.8230 - val_loss: 0.4223 - val_accuracy: 0.7909\n",
            "Epoch 14/100\n",
            "94/94 [==============================] - 0s 2ms/step - loss: 0.3780 - accuracy: 0.8277 - val_loss: 0.4250 - val_accuracy: 0.7998\n",
            "Epoch 15/100\n",
            "94/94 [==============================] - 0s 2ms/step - loss: 0.3726 - accuracy: 0.8277 - val_loss: 0.4556 - val_accuracy: 0.7811\n",
            "Epoch 16/100\n",
            "94/94 [==============================] - 0s 2ms/step - loss: 0.3667 - accuracy: 0.8314 - val_loss: 0.4345 - val_accuracy: 0.7972\n",
            "Epoch 17/100\n",
            "94/94 [==============================] - 0s 2ms/step - loss: 0.3674 - accuracy: 0.8247 - val_loss: 0.4430 - val_accuracy: 0.7909\n",
            "47/47 [==============================] - 0s 902us/step - loss: 0.4658 - accuracy: 0.7850\n",
            "[CV] END learning_rate=0.003930752147601202, n_hidden=2, n_neurons=30; total time=   5.6s\n",
            "Epoch 1/100\n",
            "94/94 [==============================] - 1s 3ms/step - loss: 0.4745 - accuracy: 0.7643 - val_loss: 0.4219 - val_accuracy: 0.7856\n",
            "Epoch 2/100\n",
            "94/94 [==============================] - 0s 2ms/step - loss: 0.4261 - accuracy: 0.8073 - val_loss: 0.4120 - val_accuracy: 0.7989\n",
            "Epoch 3/100\n",
            "94/94 [==============================] - 0s 2ms/step - loss: 0.4230 - accuracy: 0.8057 - val_loss: 0.4206 - val_accuracy: 0.7883\n",
            "Epoch 4/100\n",
            "94/94 [==============================] - 0s 2ms/step - loss: 0.4198 - accuracy: 0.8100 - val_loss: 0.4387 - val_accuracy: 0.7856\n",
            "Epoch 5/100\n",
            "94/94 [==============================] - 0s 2ms/step - loss: 0.4172 - accuracy: 0.8120 - val_loss: 0.4189 - val_accuracy: 0.7945\n",
            "Epoch 6/100\n",
            "94/94 [==============================] - 0s 2ms/step - loss: 0.4149 - accuracy: 0.8104 - val_loss: 0.4338 - val_accuracy: 0.7847\n",
            "Epoch 7/100\n",
            "94/94 [==============================] - 0s 2ms/step - loss: 0.4095 - accuracy: 0.8127 - val_loss: 0.4231 - val_accuracy: 0.7945\n",
            "Epoch 8/100\n",
            "94/94 [==============================] - 0s 2ms/step - loss: 0.4071 - accuracy: 0.8120 - val_loss: 0.4321 - val_accuracy: 0.7856\n",
            "Epoch 9/100\n",
            "94/94 [==============================] - 0s 2ms/step - loss: 0.4101 - accuracy: 0.8164 - val_loss: 0.4233 - val_accuracy: 0.7936\n",
            "Epoch 10/100\n",
            "94/94 [==============================] - 0s 2ms/step - loss: 0.4015 - accuracy: 0.8197 - val_loss: 0.4427 - val_accuracy: 0.7811\n",
            "Epoch 11/100\n",
            "94/94 [==============================] - 0s 2ms/step - loss: 0.4034 - accuracy: 0.8164 - val_loss: 0.4147 - val_accuracy: 0.7883\n",
            "Epoch 12/100\n",
            "94/94 [==============================] - 0s 2ms/step - loss: 0.3905 - accuracy: 0.8234 - val_loss: 0.4285 - val_accuracy: 0.7802\n",
            "47/47 [==============================] - 0s 956us/step - loss: 0.4243 - accuracy: 0.8111\n",
            "[CV] END learning_rate=0.003930752147601202, n_hidden=2, n_neurons=30; total time=   3.0s\n",
            "Epoch 1/100\n",
            "94/94 [==============================] - 1s 3ms/step - loss: 0.4414 - accuracy: 0.7820 - val_loss: 0.4189 - val_accuracy: 0.7847\n",
            "Epoch 2/100\n",
            "94/94 [==============================] - 0s 2ms/step - loss: 0.4147 - accuracy: 0.8047 - val_loss: 0.4152 - val_accuracy: 0.7963\n",
            "Epoch 3/100\n",
            "94/94 [==============================] - 0s 2ms/step - loss: 0.4104 - accuracy: 0.8007 - val_loss: 0.4294 - val_accuracy: 0.7811\n",
            "Epoch 4/100\n",
            "94/94 [==============================] - 0s 2ms/step - loss: 0.4054 - accuracy: 0.8041 - val_loss: 0.4262 - val_accuracy: 0.7909\n",
            "Epoch 5/100\n",
            "94/94 [==============================] - 0s 2ms/step - loss: 0.4003 - accuracy: 0.8111 - val_loss: 0.4247 - val_accuracy: 0.7927\n",
            "Epoch 6/100\n",
            "94/94 [==============================] - 0s 2ms/step - loss: 0.3977 - accuracy: 0.8107 - val_loss: 0.4231 - val_accuracy: 0.7883\n",
            "Epoch 7/100\n",
            "94/94 [==============================] - 0s 2ms/step - loss: 0.3955 - accuracy: 0.8134 - val_loss: 0.4397 - val_accuracy: 0.7891\n",
            "Epoch 8/100\n",
            "94/94 [==============================] - 0s 2ms/step - loss: 0.3936 - accuracy: 0.8154 - val_loss: 0.4243 - val_accuracy: 0.7954\n",
            "Epoch 9/100\n",
            "94/94 [==============================] - 0s 2ms/step - loss: 0.3838 - accuracy: 0.8178 - val_loss: 0.4354 - val_accuracy: 0.7900\n",
            "Epoch 10/100\n",
            "94/94 [==============================] - 0s 2ms/step - loss: 0.3855 - accuracy: 0.8184 - val_loss: 0.4319 - val_accuracy: 0.7963\n",
            "Epoch 11/100\n",
            "94/94 [==============================] - 0s 2ms/step - loss: 0.3821 - accuracy: 0.8208 - val_loss: 0.4532 - val_accuracy: 0.7794\n",
            "Epoch 12/100\n",
            "94/94 [==============================] - 0s 2ms/step - loss: 0.3750 - accuracy: 0.8198 - val_loss: 0.4449 - val_accuracy: 0.7891\n",
            "47/47 [==============================] - 0s 891us/step - loss: 0.4761 - accuracy: 0.7876\n",
            "[CV] END learning_rate=0.003930752147601202, n_hidden=2, n_neurons=30; total time=   2.9s\n",
            "Epoch 1/100\n",
            "94/94 [==============================] - 0s 2ms/step - loss: 0.5156 - accuracy: 0.7362 - val_loss: 0.4432 - val_accuracy: 0.7758\n",
            "Epoch 2/100\n",
            "94/94 [==============================] - 0s 1ms/step - loss: 0.4408 - accuracy: 0.7896 - val_loss: 0.4266 - val_accuracy: 0.7900\n",
            "Epoch 3/100\n",
            "94/94 [==============================] - 0s 2ms/step - loss: 0.4293 - accuracy: 0.8003 - val_loss: 0.4224 - val_accuracy: 0.7883\n",
            "Epoch 4/100\n",
            "94/94 [==============================] - 0s 2ms/step - loss: 0.4252 - accuracy: 0.8073 - val_loss: 0.4236 - val_accuracy: 0.7900\n",
            "Epoch 5/100\n",
            "94/94 [==============================] - 0s 1ms/step - loss: 0.4232 - accuracy: 0.8067 - val_loss: 0.4156 - val_accuracy: 0.7927\n",
            "Epoch 6/100\n",
            "94/94 [==============================] - 0s 2ms/step - loss: 0.4225 - accuracy: 0.8117 - val_loss: 0.4144 - val_accuracy: 0.8016\n",
            "Epoch 7/100\n",
            "94/94 [==============================] - 0s 2ms/step - loss: 0.4209 - accuracy: 0.8073 - val_loss: 0.4153 - val_accuracy: 0.7954\n",
            "Epoch 8/100\n",
            "94/94 [==============================] - 0s 1ms/step - loss: 0.4219 - accuracy: 0.8093 - val_loss: 0.4168 - val_accuracy: 0.7927\n",
            "Epoch 9/100\n",
            "94/94 [==============================] - 0s 1ms/step - loss: 0.4203 - accuracy: 0.8057 - val_loss: 0.4160 - val_accuracy: 0.7945\n",
            "Epoch 10/100\n",
            "94/94 [==============================] - 0s 2ms/step - loss: 0.4197 - accuracy: 0.8060 - val_loss: 0.4155 - val_accuracy: 0.7936\n",
            "Epoch 11/100\n",
            "94/94 [==============================] - 0s 2ms/step - loss: 0.4197 - accuracy: 0.8080 - val_loss: 0.4143 - val_accuracy: 0.8016\n",
            "Epoch 12/100\n",
            "94/94 [==============================] - 0s 2ms/step - loss: 0.4201 - accuracy: 0.8083 - val_loss: 0.4176 - val_accuracy: 0.7900\n",
            "Epoch 13/100\n",
            "94/94 [==============================] - 0s 2ms/step - loss: 0.4205 - accuracy: 0.8077 - val_loss: 0.4185 - val_accuracy: 0.7918\n",
            "Epoch 14/100\n",
            "94/94 [==============================] - 0s 2ms/step - loss: 0.4194 - accuracy: 0.8087 - val_loss: 0.4225 - val_accuracy: 0.7874\n",
            "Epoch 15/100\n",
            "94/94 [==============================] - 0s 2ms/step - loss: 0.4197 - accuracy: 0.8027 - val_loss: 0.4145 - val_accuracy: 0.8016\n",
            "Epoch 16/100\n",
            "94/94 [==============================] - 0s 2ms/step - loss: 0.4191 - accuracy: 0.8067 - val_loss: 0.4138 - val_accuracy: 0.8016\n",
            "Epoch 17/100\n",
            "94/94 [==============================] - 0s 2ms/step - loss: 0.4195 - accuracy: 0.8060 - val_loss: 0.4128 - val_accuracy: 0.8016\n",
            "Epoch 18/100\n",
            "94/94 [==============================] - 0s 2ms/step - loss: 0.4203 - accuracy: 0.8067 - val_loss: 0.4144 - val_accuracy: 0.8016\n",
            "Epoch 19/100\n",
            "94/94 [==============================] - 0s 1ms/step - loss: 0.4197 - accuracy: 0.8057 - val_loss: 0.4160 - val_accuracy: 0.7954\n",
            "Epoch 20/100\n",
            "94/94 [==============================] - 0s 1ms/step - loss: 0.4195 - accuracy: 0.8050 - val_loss: 0.4152 - val_accuracy: 0.7980\n",
            "Epoch 21/100\n",
            "94/94 [==============================] - 0s 1ms/step - loss: 0.4193 - accuracy: 0.8040 - val_loss: 0.4140 - val_accuracy: 0.8025\n",
            "Epoch 22/100\n",
            "94/94 [==============================] - 0s 2ms/step - loss: 0.4199 - accuracy: 0.8060 - val_loss: 0.4128 - val_accuracy: 0.8016\n",
            "Epoch 23/100\n",
            "94/94 [==============================] - 0s 1ms/step - loss: 0.4196 - accuracy: 0.8070 - val_loss: 0.4144 - val_accuracy: 0.8025\n",
            "Epoch 24/100\n",
            "94/94 [==============================] - 0s 2ms/step - loss: 0.4184 - accuracy: 0.8047 - val_loss: 0.4301 - val_accuracy: 0.7749\n",
            "Epoch 25/100\n",
            "94/94 [==============================] - 0s 2ms/step - loss: 0.4187 - accuracy: 0.8050 - val_loss: 0.4129 - val_accuracy: 0.8034\n",
            "Epoch 26/100\n",
            "94/94 [==============================] - 0s 1ms/step - loss: 0.4182 - accuracy: 0.8050 - val_loss: 0.4220 - val_accuracy: 0.7865\n",
            "Epoch 27/100\n",
            "94/94 [==============================] - 0s 2ms/step - loss: 0.4186 - accuracy: 0.8043 - val_loss: 0.4132 - val_accuracy: 0.8025\n",
            "47/47 [==============================] - 0s 1ms/step - loss: 0.4125 - accuracy: 0.8017\n",
            "[CV] END learning_rate=0.003785785054358825, n_hidden=0, n_neurons=44; total time=   4.9s\n",
            "Epoch 1/100\n",
            "94/94 [==============================] - 1s 3ms/step - loss: 0.5373 - accuracy: 0.7232 - val_loss: 0.4538 - val_accuracy: 0.7749\n",
            "Epoch 2/100\n",
            "94/94 [==============================] - 0s 2ms/step - loss: 0.4401 - accuracy: 0.8017 - val_loss: 0.4319 - val_accuracy: 0.7918\n",
            "Epoch 3/100\n",
            "94/94 [==============================] - 0s 2ms/step - loss: 0.4285 - accuracy: 0.8117 - val_loss: 0.4219 - val_accuracy: 0.7972\n",
            "Epoch 4/100\n",
            "94/94 [==============================] - 0s 1ms/step - loss: 0.4256 - accuracy: 0.8104 - val_loss: 0.4190 - val_accuracy: 0.7989\n",
            "Epoch 5/100\n",
            "94/94 [==============================] - 0s 2ms/step - loss: 0.4234 - accuracy: 0.8080 - val_loss: 0.4190 - val_accuracy: 0.7980\n",
            "Epoch 6/100\n",
            "94/94 [==============================] - 0s 2ms/step - loss: 0.4219 - accuracy: 0.8093 - val_loss: 0.4173 - val_accuracy: 0.7998\n",
            "Epoch 7/100\n",
            "94/94 [==============================] - 0s 2ms/step - loss: 0.4213 - accuracy: 0.8087 - val_loss: 0.4174 - val_accuracy: 0.7954\n",
            "Epoch 8/100\n",
            "94/94 [==============================] - 0s 1ms/step - loss: 0.4210 - accuracy: 0.8087 - val_loss: 0.4150 - val_accuracy: 0.7972\n",
            "Epoch 9/100\n",
            "94/94 [==============================] - 0s 2ms/step - loss: 0.4207 - accuracy: 0.8104 - val_loss: 0.4205 - val_accuracy: 0.7900\n",
            "Epoch 10/100\n",
            "94/94 [==============================] - 0s 2ms/step - loss: 0.4211 - accuracy: 0.8073 - val_loss: 0.4195 - val_accuracy: 0.7909\n",
            "Epoch 11/100\n",
            "94/94 [==============================] - 0s 2ms/step - loss: 0.4205 - accuracy: 0.8087 - val_loss: 0.4197 - val_accuracy: 0.7891\n",
            "Epoch 12/100\n",
            "94/94 [==============================] - 0s 2ms/step - loss: 0.4202 - accuracy: 0.8070 - val_loss: 0.4264 - val_accuracy: 0.7874\n",
            "Epoch 13/100\n",
            "94/94 [==============================] - 0s 2ms/step - loss: 0.4208 - accuracy: 0.8100 - val_loss: 0.4143 - val_accuracy: 0.7936\n",
            "Epoch 14/100\n",
            "94/94 [==============================] - 0s 2ms/step - loss: 0.4201 - accuracy: 0.8090 - val_loss: 0.4145 - val_accuracy: 0.7989\n",
            "Epoch 15/100\n",
            "94/94 [==============================] - 0s 1ms/step - loss: 0.4207 - accuracy: 0.8077 - val_loss: 0.4134 - val_accuracy: 0.7972\n",
            "Epoch 16/100\n",
            "94/94 [==============================] - 0s 2ms/step - loss: 0.4202 - accuracy: 0.8090 - val_loss: 0.4150 - val_accuracy: 0.7963\n",
            "Epoch 17/100\n",
            "94/94 [==============================] - 0s 2ms/step - loss: 0.4199 - accuracy: 0.8090 - val_loss: 0.4170 - val_accuracy: 0.7900\n",
            "Epoch 18/100\n",
            "94/94 [==============================] - 0s 2ms/step - loss: 0.4203 - accuracy: 0.8077 - val_loss: 0.4133 - val_accuracy: 0.7963\n",
            "Epoch 19/100\n",
            "94/94 [==============================] - 0s 2ms/step - loss: 0.4196 - accuracy: 0.8070 - val_loss: 0.4159 - val_accuracy: 0.7927\n",
            "Epoch 20/100\n",
            "94/94 [==============================] - 0s 2ms/step - loss: 0.4198 - accuracy: 0.8060 - val_loss: 0.4171 - val_accuracy: 0.7909\n",
            "Epoch 21/100\n",
            "94/94 [==============================] - 0s 1ms/step - loss: 0.4186 - accuracy: 0.8114 - val_loss: 0.4229 - val_accuracy: 0.7909\n",
            "Epoch 22/100\n",
            "94/94 [==============================] - 0s 1ms/step - loss: 0.4191 - accuracy: 0.8047 - val_loss: 0.4135 - val_accuracy: 0.7989\n",
            "Epoch 23/100\n",
            "94/94 [==============================] - 0s 2ms/step - loss: 0.4194 - accuracy: 0.8097 - val_loss: 0.4135 - val_accuracy: 0.7945\n",
            "Epoch 24/100\n",
            "94/94 [==============================] - 0s 2ms/step - loss: 0.4192 - accuracy: 0.8060 - val_loss: 0.4127 - val_accuracy: 0.7945\n",
            "Epoch 25/100\n",
            "94/94 [==============================] - 0s 2ms/step - loss: 0.4197 - accuracy: 0.8060 - val_loss: 0.4112 - val_accuracy: 0.7989\n",
            "Epoch 26/100\n",
            "94/94 [==============================] - 0s 2ms/step - loss: 0.4190 - accuracy: 0.8057 - val_loss: 0.4187 - val_accuracy: 0.7891\n",
            "Epoch 27/100\n",
            "94/94 [==============================] - 0s 2ms/step - loss: 0.4193 - accuracy: 0.8097 - val_loss: 0.4121 - val_accuracy: 0.7980\n",
            "Epoch 28/100\n",
            "94/94 [==============================] - 0s 2ms/step - loss: 0.4204 - accuracy: 0.8070 - val_loss: 0.4127 - val_accuracy: 0.7963\n",
            "Epoch 29/100\n",
            "94/94 [==============================] - 0s 1ms/step - loss: 0.4201 - accuracy: 0.8060 - val_loss: 0.4114 - val_accuracy: 0.7972\n",
            "Epoch 30/100\n",
            "94/94 [==============================] - 0s 1ms/step - loss: 0.4191 - accuracy: 0.8090 - val_loss: 0.4170 - val_accuracy: 0.7909\n",
            "Epoch 31/100\n",
            "94/94 [==============================] - 0s 2ms/step - loss: 0.4196 - accuracy: 0.8067 - val_loss: 0.4137 - val_accuracy: 0.7927\n",
            "Epoch 32/100\n",
            "94/94 [==============================] - 0s 2ms/step - loss: 0.4198 - accuracy: 0.8043 - val_loss: 0.4166 - val_accuracy: 0.7891\n",
            "Epoch 33/100\n",
            "94/94 [==============================] - 0s 1ms/step - loss: 0.4190 - accuracy: 0.8057 - val_loss: 0.4157 - val_accuracy: 0.7900\n",
            "Epoch 34/100\n",
            "94/94 [==============================] - 0s 2ms/step - loss: 0.4189 - accuracy: 0.8070 - val_loss: 0.4217 - val_accuracy: 0.7891\n",
            "Epoch 35/100\n",
            "94/94 [==============================] - 0s 2ms/step - loss: 0.4198 - accuracy: 0.8080 - val_loss: 0.4175 - val_accuracy: 0.7900\n",
            "47/47 [==============================] - 0s 931us/step - loss: 0.4122 - accuracy: 0.7984\n",
            "[CV] END learning_rate=0.003785785054358825, n_hidden=0, n_neurons=44; total time=  10.6s\n",
            "Epoch 1/100\n",
            "94/94 [==============================] - 0s 2ms/step - loss: 0.5817 - accuracy: 0.6862 - val_loss: 0.4609 - val_accuracy: 0.7722\n",
            "Epoch 2/100\n",
            "94/94 [==============================] - 0s 1ms/step - loss: 0.4433 - accuracy: 0.7881 - val_loss: 0.4263 - val_accuracy: 0.7900\n",
            "Epoch 3/100\n",
            "94/94 [==============================] - 0s 1ms/step - loss: 0.4235 - accuracy: 0.7991 - val_loss: 0.4172 - val_accuracy: 0.8016\n",
            "Epoch 4/100\n",
            "94/94 [==============================] - 0s 2ms/step - loss: 0.4157 - accuracy: 0.7997 - val_loss: 0.4143 - val_accuracy: 0.8034\n",
            "Epoch 5/100\n",
            "94/94 [==============================] - 0s 1ms/step - loss: 0.4124 - accuracy: 0.8057 - val_loss: 0.4136 - val_accuracy: 0.7972\n",
            "Epoch 6/100\n",
            "94/94 [==============================] - 0s 2ms/step - loss: 0.4130 - accuracy: 0.8051 - val_loss: 0.4142 - val_accuracy: 0.8043\n",
            "Epoch 7/100\n",
            "94/94 [==============================] - 0s 2ms/step - loss: 0.4098 - accuracy: 0.8081 - val_loss: 0.4177 - val_accuracy: 0.7927\n",
            "Epoch 8/100\n",
            "94/94 [==============================] - 0s 2ms/step - loss: 0.4090 - accuracy: 0.8034 - val_loss: 0.4141 - val_accuracy: 0.7998\n",
            "Epoch 9/100\n",
            "94/94 [==============================] - 0s 1ms/step - loss: 0.4094 - accuracy: 0.8101 - val_loss: 0.4133 - val_accuracy: 0.7963\n",
            "Epoch 10/100\n",
            "94/94 [==============================] - 0s 2ms/step - loss: 0.4085 - accuracy: 0.8054 - val_loss: 0.4139 - val_accuracy: 0.7954\n",
            "Epoch 11/100\n",
            "94/94 [==============================] - 0s 1ms/step - loss: 0.4091 - accuracy: 0.8054 - val_loss: 0.4135 - val_accuracy: 0.7918\n",
            "Epoch 12/100\n",
            "94/94 [==============================] - 0s 1ms/step - loss: 0.4080 - accuracy: 0.8084 - val_loss: 0.4152 - val_accuracy: 0.7909\n",
            "Epoch 13/100\n",
            "94/94 [==============================] - 0s 2ms/step - loss: 0.4074 - accuracy: 0.8081 - val_loss: 0.4121 - val_accuracy: 0.7927\n",
            "Epoch 14/100\n",
            "94/94 [==============================] - 0s 2ms/step - loss: 0.4084 - accuracy: 0.8057 - val_loss: 0.4124 - val_accuracy: 0.7927\n",
            "Epoch 15/100\n",
            "94/94 [==============================] - 0s 2ms/step - loss: 0.4075 - accuracy: 0.8074 - val_loss: 0.4122 - val_accuracy: 0.7963\n",
            "Epoch 16/100\n",
            "94/94 [==============================] - 0s 1ms/step - loss: 0.4093 - accuracy: 0.8064 - val_loss: 0.4126 - val_accuracy: 0.7909\n",
            "Epoch 17/100\n",
            "94/94 [==============================] - 0s 1ms/step - loss: 0.4079 - accuracy: 0.8044 - val_loss: 0.4119 - val_accuracy: 0.7954\n",
            "Epoch 18/100\n",
            "94/94 [==============================] - 0s 1ms/step - loss: 0.4078 - accuracy: 0.8064 - val_loss: 0.4143 - val_accuracy: 0.7936\n",
            "Epoch 19/100\n",
            "94/94 [==============================] - 0s 1ms/step - loss: 0.4075 - accuracy: 0.8067 - val_loss: 0.4136 - val_accuracy: 0.7945\n",
            "Epoch 20/100\n",
            "94/94 [==============================] - 0s 1ms/step - loss: 0.4073 - accuracy: 0.8067 - val_loss: 0.4114 - val_accuracy: 0.7927\n",
            "Epoch 21/100\n",
            "94/94 [==============================] - 0s 2ms/step - loss: 0.4077 - accuracy: 0.8047 - val_loss: 0.4121 - val_accuracy: 0.7927\n",
            "Epoch 22/100\n",
            "94/94 [==============================] - 0s 2ms/step - loss: 0.4086 - accuracy: 0.8067 - val_loss: 0.4112 - val_accuracy: 0.7891\n",
            "Epoch 23/100\n",
            "94/94 [==============================] - 0s 2ms/step - loss: 0.4078 - accuracy: 0.8064 - val_loss: 0.4114 - val_accuracy: 0.7927\n",
            "Epoch 24/100\n",
            "94/94 [==============================] - 0s 1ms/step - loss: 0.4072 - accuracy: 0.8061 - val_loss: 0.4112 - val_accuracy: 0.7927\n",
            "Epoch 25/100\n",
            "94/94 [==============================] - 0s 2ms/step - loss: 0.4081 - accuracy: 0.8061 - val_loss: 0.4197 - val_accuracy: 0.7856\n",
            "Epoch 26/100\n",
            "94/94 [==============================] - 0s 1ms/step - loss: 0.4085 - accuracy: 0.8044 - val_loss: 0.4127 - val_accuracy: 0.7963\n",
            "Epoch 27/100\n",
            "94/94 [==============================] - 0s 2ms/step - loss: 0.4077 - accuracy: 0.8044 - val_loss: 0.4111 - val_accuracy: 0.7927\n",
            "Epoch 28/100\n",
            "94/94 [==============================] - 0s 1ms/step - loss: 0.4066 - accuracy: 0.8081 - val_loss: 0.4141 - val_accuracy: 0.7900\n",
            "Epoch 29/100\n",
            "94/94 [==============================] - 0s 1ms/step - loss: 0.4071 - accuracy: 0.8057 - val_loss: 0.4116 - val_accuracy: 0.7945\n",
            "Epoch 30/100\n",
            "94/94 [==============================] - 0s 1ms/step - loss: 0.4067 - accuracy: 0.8044 - val_loss: 0.4107 - val_accuracy: 0.7918\n",
            "Epoch 31/100\n",
            "94/94 [==============================] - 0s 2ms/step - loss: 0.4070 - accuracy: 0.8061 - val_loss: 0.4146 - val_accuracy: 0.7900\n",
            "Epoch 32/100\n",
            "94/94 [==============================] - 0s 1ms/step - loss: 0.4073 - accuracy: 0.8057 - val_loss: 0.4117 - val_accuracy: 0.7945\n",
            "Epoch 33/100\n",
            "94/94 [==============================] - 0s 2ms/step - loss: 0.4070 - accuracy: 0.8061 - val_loss: 0.4105 - val_accuracy: 0.7954\n",
            "Epoch 34/100\n",
            "94/94 [==============================] - 0s 2ms/step - loss: 0.4070 - accuracy: 0.8024 - val_loss: 0.4112 - val_accuracy: 0.7954\n",
            "Epoch 35/100\n",
            "94/94 [==============================] - 0s 2ms/step - loss: 0.4070 - accuracy: 0.8087 - val_loss: 0.4107 - val_accuracy: 0.7927\n",
            "Epoch 36/100\n",
            "94/94 [==============================] - 0s 2ms/step - loss: 0.4065 - accuracy: 0.8087 - val_loss: 0.4111 - val_accuracy: 0.7909\n",
            "Epoch 37/100\n",
            "94/94 [==============================] - 0s 1ms/step - loss: 0.4063 - accuracy: 0.8071 - val_loss: 0.4166 - val_accuracy: 0.7883\n",
            "Epoch 38/100\n",
            "94/94 [==============================] - 0s 2ms/step - loss: 0.4084 - accuracy: 0.8034 - val_loss: 0.4112 - val_accuracy: 0.7945\n",
            "Epoch 39/100\n",
            "94/94 [==============================] - 0s 1ms/step - loss: 0.4074 - accuracy: 0.8047 - val_loss: 0.4124 - val_accuracy: 0.7945\n",
            "Epoch 40/100\n",
            "94/94 [==============================] - 0s 1ms/step - loss: 0.4061 - accuracy: 0.8071 - val_loss: 0.4123 - val_accuracy: 0.7927\n",
            "Epoch 41/100\n",
            "94/94 [==============================] - 0s 1ms/step - loss: 0.4060 - accuracy: 0.8081 - val_loss: 0.4119 - val_accuracy: 0.7972\n",
            "Epoch 42/100\n",
            "94/94 [==============================] - 0s 1ms/step - loss: 0.4073 - accuracy: 0.8087 - val_loss: 0.4112 - val_accuracy: 0.7954\n",
            "Epoch 43/100\n",
            "94/94 [==============================] - 0s 2ms/step - loss: 0.4064 - accuracy: 0.8081 - val_loss: 0.4164 - val_accuracy: 0.7874\n",
            "47/47 [==============================] - 0s 915us/step - loss: 0.4352 - accuracy: 0.8083\n",
            "[CV] END learning_rate=0.003785785054358825, n_hidden=0, n_neurons=44; total time=  10.6s\n",
            "Epoch 1/100\n",
            "94/94 [==============================] - 1s 3ms/step - loss: 0.5295 - accuracy: 0.7432 - val_loss: 0.4476 - val_accuracy: 0.7874\n",
            "Epoch 2/100\n",
            "94/94 [==============================] - 0s 2ms/step - loss: 0.4418 - accuracy: 0.7910 - val_loss: 0.4230 - val_accuracy: 0.7918\n",
            "Epoch 3/100\n",
            "94/94 [==============================] - 0s 2ms/step - loss: 0.4280 - accuracy: 0.8000 - val_loss: 0.4241 - val_accuracy: 0.7918\n",
            "Epoch 4/100\n",
            "94/94 [==============================] - 0s 2ms/step - loss: 0.4194 - accuracy: 0.8073 - val_loss: 0.4133 - val_accuracy: 0.7918\n",
            "Epoch 5/100\n",
            "94/94 [==============================] - 0s 2ms/step - loss: 0.4171 - accuracy: 0.8093 - val_loss: 0.4191 - val_accuracy: 0.7963\n",
            "Epoch 6/100\n",
            "94/94 [==============================] - 0s 2ms/step - loss: 0.4109 - accuracy: 0.8107 - val_loss: 0.4187 - val_accuracy: 0.7980\n",
            "Epoch 7/100\n",
            "94/94 [==============================] - 0s 2ms/step - loss: 0.4107 - accuracy: 0.8070 - val_loss: 0.4189 - val_accuracy: 0.7963\n",
            "Epoch 8/100\n",
            "94/94 [==============================] - 0s 2ms/step - loss: 0.4086 - accuracy: 0.8127 - val_loss: 0.4159 - val_accuracy: 0.7972\n",
            "Epoch 9/100\n",
            "94/94 [==============================] - 0s 2ms/step - loss: 0.4043 - accuracy: 0.8147 - val_loss: 0.4163 - val_accuracy: 0.7980\n",
            "Epoch 10/100\n",
            "94/94 [==============================] - 0s 2ms/step - loss: 0.4018 - accuracy: 0.8150 - val_loss: 0.4120 - val_accuracy: 0.7998\n",
            "Epoch 11/100\n",
            "94/94 [==============================] - 0s 2ms/step - loss: 0.3984 - accuracy: 0.8140 - val_loss: 0.4139 - val_accuracy: 0.8007\n",
            "Epoch 12/100\n",
            "94/94 [==============================] - 0s 2ms/step - loss: 0.3948 - accuracy: 0.8207 - val_loss: 0.4196 - val_accuracy: 0.7989\n",
            "Epoch 13/100\n",
            "94/94 [==============================] - 0s 2ms/step - loss: 0.3936 - accuracy: 0.8170 - val_loss: 0.4133 - val_accuracy: 0.7989\n",
            "Epoch 14/100\n",
            "94/94 [==============================] - 0s 2ms/step - loss: 0.3909 - accuracy: 0.8260 - val_loss: 0.4258 - val_accuracy: 0.7980\n",
            "Epoch 15/100\n",
            "94/94 [==============================] - 0s 2ms/step - loss: 0.3896 - accuracy: 0.8240 - val_loss: 0.4191 - val_accuracy: 0.7980\n",
            "Epoch 16/100\n",
            "94/94 [==============================] - 0s 2ms/step - loss: 0.3869 - accuracy: 0.8264 - val_loss: 0.4145 - val_accuracy: 0.7998\n",
            "Epoch 17/100\n",
            "94/94 [==============================] - 0s 2ms/step - loss: 0.3835 - accuracy: 0.8254 - val_loss: 0.4147 - val_accuracy: 0.7980\n",
            "Epoch 18/100\n",
            "94/94 [==============================] - 0s 2ms/step - loss: 0.3819 - accuracy: 0.8240 - val_loss: 0.4190 - val_accuracy: 0.8025\n",
            "Epoch 19/100\n",
            "94/94 [==============================] - 0s 2ms/step - loss: 0.3784 - accuracy: 0.8304 - val_loss: 0.4165 - val_accuracy: 0.7972\n",
            "Epoch 20/100\n",
            "94/94 [==============================] - 0s 2ms/step - loss: 0.3760 - accuracy: 0.8304 - val_loss: 0.4237 - val_accuracy: 0.7989\n",
            "47/47 [==============================] - 0s 1ms/step - loss: 0.4289 - accuracy: 0.8031\n",
            "[CV] END learning_rate=0.0004294007043659705, n_hidden=3, n_neurons=54; total time=   5.6s\n",
            "Epoch 1/100\n",
            "94/94 [==============================] - 1s 3ms/step - loss: 0.4922 - accuracy: 0.7626 - val_loss: 0.4369 - val_accuracy: 0.7820\n",
            "Epoch 2/100\n",
            "94/94 [==============================] - 0s 2ms/step - loss: 0.4353 - accuracy: 0.8007 - val_loss: 0.4216 - val_accuracy: 0.7918\n",
            "Epoch 3/100\n",
            "94/94 [==============================] - 0s 2ms/step - loss: 0.4263 - accuracy: 0.8027 - val_loss: 0.4243 - val_accuracy: 0.7936\n",
            "Epoch 4/100\n",
            "94/94 [==============================] - 0s 2ms/step - loss: 0.4212 - accuracy: 0.8077 - val_loss: 0.4193 - val_accuracy: 0.7972\n",
            "Epoch 5/100\n",
            "94/94 [==============================] - 0s 2ms/step - loss: 0.4174 - accuracy: 0.8097 - val_loss: 0.4200 - val_accuracy: 0.7918\n",
            "Epoch 6/100\n",
            "94/94 [==============================] - 0s 2ms/step - loss: 0.4139 - accuracy: 0.8100 - val_loss: 0.4260 - val_accuracy: 0.7847\n",
            "Epoch 7/100\n",
            "94/94 [==============================] - 0s 2ms/step - loss: 0.4114 - accuracy: 0.8100 - val_loss: 0.4179 - val_accuracy: 0.7900\n",
            "Epoch 8/100\n",
            "94/94 [==============================] - 0s 2ms/step - loss: 0.4104 - accuracy: 0.8097 - val_loss: 0.4145 - val_accuracy: 0.7972\n",
            "Epoch 9/100\n",
            "94/94 [==============================] - 0s 2ms/step - loss: 0.4073 - accuracy: 0.8127 - val_loss: 0.4141 - val_accuracy: 0.7980\n",
            "Epoch 10/100\n",
            "94/94 [==============================] - 0s 2ms/step - loss: 0.4058 - accuracy: 0.8117 - val_loss: 0.4183 - val_accuracy: 0.7883\n",
            "Epoch 11/100\n",
            "94/94 [==============================] - 0s 2ms/step - loss: 0.4033 - accuracy: 0.8144 - val_loss: 0.4225 - val_accuracy: 0.7891\n",
            "Epoch 12/100\n",
            "94/94 [==============================] - 0s 2ms/step - loss: 0.3999 - accuracy: 0.8167 - val_loss: 0.4146 - val_accuracy: 0.8007\n",
            "Epoch 13/100\n",
            "94/94 [==============================] - 0s 2ms/step - loss: 0.3967 - accuracy: 0.8174 - val_loss: 0.4152 - val_accuracy: 0.8025\n",
            "Epoch 14/100\n",
            "94/94 [==============================] - 0s 2ms/step - loss: 0.3942 - accuracy: 0.8174 - val_loss: 0.4112 - val_accuracy: 0.7936\n",
            "Epoch 15/100\n",
            "94/94 [==============================] - 0s 2ms/step - loss: 0.3909 - accuracy: 0.8237 - val_loss: 0.4141 - val_accuracy: 0.7945\n",
            "Epoch 16/100\n",
            "94/94 [==============================] - 0s 2ms/step - loss: 0.3898 - accuracy: 0.8227 - val_loss: 0.4143 - val_accuracy: 0.7972\n",
            "Epoch 17/100\n",
            "94/94 [==============================] - 0s 2ms/step - loss: 0.3865 - accuracy: 0.8194 - val_loss: 0.4198 - val_accuracy: 0.7918\n",
            "Epoch 18/100\n",
            "94/94 [==============================] - 0s 2ms/step - loss: 0.3842 - accuracy: 0.8301 - val_loss: 0.4140 - val_accuracy: 0.7883\n",
            "Epoch 19/100\n",
            "94/94 [==============================] - 0s 2ms/step - loss: 0.3802 - accuracy: 0.8270 - val_loss: 0.4285 - val_accuracy: 0.7891\n",
            "Epoch 20/100\n",
            "94/94 [==============================] - 0s 2ms/step - loss: 0.3754 - accuracy: 0.8327 - val_loss: 0.4344 - val_accuracy: 0.7838\n",
            "Epoch 21/100\n",
            "94/94 [==============================] - 0s 2ms/step - loss: 0.3748 - accuracy: 0.8314 - val_loss: 0.4259 - val_accuracy: 0.7856\n",
            "Epoch 22/100\n",
            "94/94 [==============================] - 0s 2ms/step - loss: 0.3713 - accuracy: 0.8327 - val_loss: 0.4325 - val_accuracy: 0.7900\n",
            "Epoch 23/100\n",
            "94/94 [==============================] - 0s 2ms/step - loss: 0.3684 - accuracy: 0.8290 - val_loss: 0.4214 - val_accuracy: 0.7865\n",
            "Epoch 24/100\n",
            "94/94 [==============================] - 0s 2ms/step - loss: 0.3631 - accuracy: 0.8317 - val_loss: 0.4311 - val_accuracy: 0.7883\n",
            "47/47 [==============================] - 0s 972us/step - loss: 0.4322 - accuracy: 0.7951\n",
            "[CV] END learning_rate=0.0004294007043659705, n_hidden=3, n_neurons=54; total time=   5.6s\n",
            "Epoch 1/100\n",
            "94/94 [==============================] - 1s 3ms/step - loss: 0.5076 - accuracy: 0.7417 - val_loss: 0.4294 - val_accuracy: 0.7847\n",
            "Epoch 2/100\n",
            "94/94 [==============================] - 0s 2ms/step - loss: 0.4265 - accuracy: 0.7907 - val_loss: 0.4161 - val_accuracy: 0.7900\n",
            "Epoch 3/100\n",
            "94/94 [==============================] - 0s 2ms/step - loss: 0.4136 - accuracy: 0.8037 - val_loss: 0.4163 - val_accuracy: 0.7838\n",
            "Epoch 4/100\n",
            "94/94 [==============================] - 0s 2ms/step - loss: 0.4070 - accuracy: 0.8024 - val_loss: 0.4172 - val_accuracy: 0.7856\n",
            "Epoch 5/100\n",
            "94/94 [==============================] - 0s 2ms/step - loss: 0.4033 - accuracy: 0.8121 - val_loss: 0.4146 - val_accuracy: 0.7874\n",
            "Epoch 6/100\n",
            "94/94 [==============================] - 0s 2ms/step - loss: 0.3999 - accuracy: 0.8124 - val_loss: 0.4118 - val_accuracy: 0.8025\n",
            "Epoch 7/100\n",
            "94/94 [==============================] - 0s 2ms/step - loss: 0.3947 - accuracy: 0.8201 - val_loss: 0.4243 - val_accuracy: 0.7785\n",
            "Epoch 8/100\n",
            "94/94 [==============================] - 0s 2ms/step - loss: 0.3957 - accuracy: 0.8131 - val_loss: 0.4132 - val_accuracy: 0.8007\n",
            "Epoch 9/100\n",
            "94/94 [==============================] - 0s 2ms/step - loss: 0.3918 - accuracy: 0.8141 - val_loss: 0.4140 - val_accuracy: 0.7927\n",
            "Epoch 10/100\n",
            "94/94 [==============================] - 0s 2ms/step - loss: 0.3877 - accuracy: 0.8218 - val_loss: 0.4166 - val_accuracy: 0.7909\n",
            "Epoch 11/100\n",
            "94/94 [==============================] - 0s 2ms/step - loss: 0.3849 - accuracy: 0.8238 - val_loss: 0.4162 - val_accuracy: 0.7936\n",
            "Epoch 12/100\n",
            "94/94 [==============================] - 0s 2ms/step - loss: 0.3847 - accuracy: 0.8191 - val_loss: 0.4173 - val_accuracy: 0.7945\n",
            "Epoch 13/100\n",
            "94/94 [==============================] - 0s 2ms/step - loss: 0.3805 - accuracy: 0.8191 - val_loss: 0.4197 - val_accuracy: 0.7918\n",
            "Epoch 14/100\n",
            "94/94 [==============================] - 0s 2ms/step - loss: 0.3768 - accuracy: 0.8228 - val_loss: 0.4196 - val_accuracy: 0.7891\n",
            "Epoch 15/100\n",
            "94/94 [==============================] - 0s 2ms/step - loss: 0.3746 - accuracy: 0.8241 - val_loss: 0.4194 - val_accuracy: 0.7900\n",
            "Epoch 16/100\n",
            "94/94 [==============================] - 0s 2ms/step - loss: 0.3718 - accuracy: 0.8244 - val_loss: 0.4206 - val_accuracy: 0.7998\n",
            "47/47 [==============================] - 0s 990us/step - loss: 0.4613 - accuracy: 0.7936\n",
            "[CV] END learning_rate=0.0004294007043659705, n_hidden=3, n_neurons=54; total time=   5.6s\n",
            "Epoch 1/100\n",
            "94/94 [==============================] - 1s 3ms/step - loss: 0.6148 - accuracy: 0.7289 - val_loss: 0.5474 - val_accuracy: 0.7420\n",
            "Epoch 2/100\n",
            "94/94 [==============================] - 0s 2ms/step - loss: 0.5244 - accuracy: 0.7289 - val_loss: 0.4828 - val_accuracy: 0.7420\n",
            "Epoch 3/100\n",
            "94/94 [==============================] - 0s 2ms/step - loss: 0.4842 - accuracy: 0.7289 - val_loss: 0.4525 - val_accuracy: 0.7420\n",
            "Epoch 4/100\n",
            "94/94 [==============================] - 0s 2ms/step - loss: 0.4645 - accuracy: 0.7389 - val_loss: 0.4340 - val_accuracy: 0.7785\n",
            "Epoch 5/100\n",
            "94/94 [==============================] - 0s 2ms/step - loss: 0.4493 - accuracy: 0.7803 - val_loss: 0.4212 - val_accuracy: 0.7963\n",
            "Epoch 6/100\n",
            "94/94 [==============================] - 0s 2ms/step - loss: 0.4394 - accuracy: 0.7987 - val_loss: 0.4159 - val_accuracy: 0.8016\n",
            "Epoch 7/100\n",
            "94/94 [==============================] - 0s 2ms/step - loss: 0.4335 - accuracy: 0.8027 - val_loss: 0.4125 - val_accuracy: 0.7980\n",
            "Epoch 8/100\n",
            "94/94 [==============================] - 0s 2ms/step - loss: 0.4290 - accuracy: 0.8040 - val_loss: 0.4137 - val_accuracy: 0.8025\n",
            "Epoch 9/100\n",
            "94/94 [==============================] - 0s 2ms/step - loss: 0.4255 - accuracy: 0.8067 - val_loss: 0.4135 - val_accuracy: 0.8025\n",
            "Epoch 10/100\n",
            "94/94 [==============================] - 0s 2ms/step - loss: 0.4229 - accuracy: 0.8070 - val_loss: 0.4125 - val_accuracy: 0.7989\n",
            "Epoch 11/100\n",
            "94/94 [==============================] - 0s 2ms/step - loss: 0.4197 - accuracy: 0.8073 - val_loss: 0.4125 - val_accuracy: 0.7963\n",
            "Epoch 12/100\n",
            "94/94 [==============================] - 0s 2ms/step - loss: 0.4185 - accuracy: 0.8080 - val_loss: 0.4141 - val_accuracy: 0.7972\n",
            "Epoch 13/100\n",
            "94/94 [==============================] - 0s 2ms/step - loss: 0.4167 - accuracy: 0.8093 - val_loss: 0.4154 - val_accuracy: 0.7980\n",
            "Epoch 14/100\n",
            "94/94 [==============================] - 0s 2ms/step - loss: 0.4164 - accuracy: 0.8063 - val_loss: 0.4175 - val_accuracy: 0.7945\n",
            "Epoch 15/100\n",
            "94/94 [==============================] - 0s 2ms/step - loss: 0.4148 - accuracy: 0.8110 - val_loss: 0.4201 - val_accuracy: 0.7936\n",
            "Epoch 16/100\n",
            "94/94 [==============================] - 0s 2ms/step - loss: 0.4145 - accuracy: 0.8107 - val_loss: 0.4157 - val_accuracy: 0.7980\n",
            "Epoch 17/100\n",
            "94/94 [==============================] - 0s 2ms/step - loss: 0.4130 - accuracy: 0.8093 - val_loss: 0.4164 - val_accuracy: 0.7927\n",
            "Epoch 18/100\n",
            "94/94 [==============================] - 0s 2ms/step - loss: 0.4126 - accuracy: 0.8114 - val_loss: 0.4154 - val_accuracy: 0.7954\n",
            "Epoch 19/100\n",
            "94/94 [==============================] - 0s 2ms/step - loss: 0.4122 - accuracy: 0.8087 - val_loss: 0.4144 - val_accuracy: 0.7989\n",
            "Epoch 20/100\n",
            "94/94 [==============================] - 0s 2ms/step - loss: 0.4119 - accuracy: 0.8127 - val_loss: 0.4157 - val_accuracy: 0.7963\n",
            "Epoch 21/100\n",
            "94/94 [==============================] - 0s 2ms/step - loss: 0.4108 - accuracy: 0.8124 - val_loss: 0.4166 - val_accuracy: 0.7963\n",
            "47/47 [==============================] - 0s 933us/step - loss: 0.4153 - accuracy: 0.8077\n",
            "[CV] END learning_rate=0.0008111719072524804, n_hidden=3, n_neurons=6; total time=   5.0s\n",
            "Epoch 1/100\n",
            "94/94 [==============================] - 1s 3ms/step - loss: 0.6650 - accuracy: 0.6327 - val_loss: 0.5927 - val_accuracy: 0.7456\n",
            "Epoch 2/100\n",
            "94/94 [==============================] - 0s 2ms/step - loss: 0.5165 - accuracy: 0.7673 - val_loss: 0.4533 - val_accuracy: 0.7874\n",
            "Epoch 3/100\n",
            "94/94 [==============================] - 0s 2ms/step - loss: 0.4474 - accuracy: 0.7960 - val_loss: 0.4301 - val_accuracy: 0.7972\n",
            "Epoch 4/100\n",
            "94/94 [==============================] - 0s 2ms/step - loss: 0.4366 - accuracy: 0.8020 - val_loss: 0.4259 - val_accuracy: 0.7918\n",
            "Epoch 5/100\n",
            "94/94 [==============================] - 0s 2ms/step - loss: 0.4318 - accuracy: 0.8060 - val_loss: 0.4296 - val_accuracy: 0.7954\n",
            "Epoch 6/100\n",
            "94/94 [==============================] - 0s 2ms/step - loss: 0.4286 - accuracy: 0.8050 - val_loss: 0.4205 - val_accuracy: 0.7980\n",
            "Epoch 7/100\n",
            "94/94 [==============================] - 0s 2ms/step - loss: 0.4271 - accuracy: 0.8127 - val_loss: 0.4205 - val_accuracy: 0.7954\n",
            "Epoch 8/100\n",
            "94/94 [==============================] - 0s 2ms/step - loss: 0.4250 - accuracy: 0.8144 - val_loss: 0.4204 - val_accuracy: 0.7954\n",
            "Epoch 9/100\n",
            "94/94 [==============================] - 0s 2ms/step - loss: 0.4234 - accuracy: 0.8127 - val_loss: 0.4207 - val_accuracy: 0.7972\n",
            "Epoch 10/100\n",
            "94/94 [==============================] - 0s 2ms/step - loss: 0.4223 - accuracy: 0.8120 - val_loss: 0.4166 - val_accuracy: 0.7989\n",
            "Epoch 11/100\n",
            "94/94 [==============================] - 0s 2ms/step - loss: 0.4218 - accuracy: 0.8110 - val_loss: 0.4191 - val_accuracy: 0.7945\n",
            "Epoch 12/100\n",
            "94/94 [==============================] - 0s 2ms/step - loss: 0.4204 - accuracy: 0.8127 - val_loss: 0.4154 - val_accuracy: 0.7980\n",
            "Epoch 13/100\n",
            "94/94 [==============================] - 0s 2ms/step - loss: 0.4201 - accuracy: 0.8127 - val_loss: 0.4186 - val_accuracy: 0.7945\n",
            "Epoch 14/100\n",
            "94/94 [==============================] - 0s 2ms/step - loss: 0.4196 - accuracy: 0.8157 - val_loss: 0.4171 - val_accuracy: 0.7963\n",
            "Epoch 15/100\n",
            "94/94 [==============================] - 0s 2ms/step - loss: 0.4194 - accuracy: 0.8130 - val_loss: 0.4155 - val_accuracy: 0.7945\n",
            "Epoch 16/100\n",
            "94/94 [==============================] - 0s 2ms/step - loss: 0.4191 - accuracy: 0.8140 - val_loss: 0.4161 - val_accuracy: 0.7963\n",
            "Epoch 17/100\n",
            "94/94 [==============================] - 0s 2ms/step - loss: 0.4180 - accuracy: 0.8137 - val_loss: 0.4163 - val_accuracy: 0.7945\n",
            "Epoch 18/100\n",
            "94/94 [==============================] - 0s 2ms/step - loss: 0.4173 - accuracy: 0.8144 - val_loss: 0.4170 - val_accuracy: 0.7954\n",
            "Epoch 19/100\n",
            "94/94 [==============================] - 0s 2ms/step - loss: 0.4173 - accuracy: 0.8110 - val_loss: 0.4221 - val_accuracy: 0.7918\n",
            "Epoch 20/100\n",
            "94/94 [==============================] - 0s 2ms/step - loss: 0.4164 - accuracy: 0.8127 - val_loss: 0.4156 - val_accuracy: 0.7936\n",
            "Epoch 21/100\n",
            "94/94 [==============================] - 0s 2ms/step - loss: 0.4158 - accuracy: 0.8124 - val_loss: 0.4172 - val_accuracy: 0.7980\n",
            "Epoch 22/100\n",
            "94/94 [==============================] - 0s 2ms/step - loss: 0.4153 - accuracy: 0.8117 - val_loss: 0.4199 - val_accuracy: 0.7945\n",
            "47/47 [==============================] - 0s 931us/step - loss: 0.4175 - accuracy: 0.7971\n",
            "[CV] END learning_rate=0.0008111719072524804, n_hidden=3, n_neurons=6; total time=   5.0s\n",
            "Epoch 1/100\n",
            "94/94 [==============================] - 1s 3ms/step - loss: 0.6271 - accuracy: 0.7250 - val_loss: 0.5248 - val_accuracy: 0.7420\n",
            "Epoch 2/100\n",
            "94/94 [==============================] - 0s 2ms/step - loss: 0.4663 - accuracy: 0.7634 - val_loss: 0.4326 - val_accuracy: 0.7785\n",
            "Epoch 3/100\n",
            "94/94 [==============================] - 0s 2ms/step - loss: 0.4248 - accuracy: 0.8014 - val_loss: 0.4231 - val_accuracy: 0.7838\n",
            "Epoch 4/100\n",
            "94/94 [==============================] - 0s 2ms/step - loss: 0.4169 - accuracy: 0.8004 - val_loss: 0.4214 - val_accuracy: 0.7891\n",
            "Epoch 5/100\n",
            "94/94 [==============================] - 0s 2ms/step - loss: 0.4162 - accuracy: 0.8037 - val_loss: 0.4183 - val_accuracy: 0.7891\n",
            "Epoch 6/100\n",
            "94/94 [==============================] - 0s 2ms/step - loss: 0.4126 - accuracy: 0.8037 - val_loss: 0.4212 - val_accuracy: 0.7820\n",
            "Epoch 7/100\n",
            "94/94 [==============================] - 0s 2ms/step - loss: 0.4118 - accuracy: 0.8024 - val_loss: 0.4182 - val_accuracy: 0.7883\n",
            "Epoch 8/100\n",
            "94/94 [==============================] - 0s 2ms/step - loss: 0.4109 - accuracy: 0.8064 - val_loss: 0.4173 - val_accuracy: 0.7883\n",
            "Epoch 9/100\n",
            "94/94 [==============================] - 0s 2ms/step - loss: 0.4092 - accuracy: 0.8067 - val_loss: 0.4173 - val_accuracy: 0.7874\n",
            "Epoch 10/100\n",
            "94/94 [==============================] - 0s 2ms/step - loss: 0.4085 - accuracy: 0.8014 - val_loss: 0.4202 - val_accuracy: 0.7829\n",
            "Epoch 11/100\n",
            "94/94 [==============================] - 0s 2ms/step - loss: 0.4077 - accuracy: 0.8104 - val_loss: 0.4165 - val_accuracy: 0.7918\n",
            "Epoch 12/100\n",
            "94/94 [==============================] - 0s 2ms/step - loss: 0.4064 - accuracy: 0.8091 - val_loss: 0.4157 - val_accuracy: 0.7963\n",
            "Epoch 13/100\n",
            "94/94 [==============================] - 0s 2ms/step - loss: 0.4061 - accuracy: 0.8094 - val_loss: 0.4156 - val_accuracy: 0.7918\n",
            "Epoch 14/100\n",
            "94/94 [==============================] - 0s 2ms/step - loss: 0.4062 - accuracy: 0.8044 - val_loss: 0.4158 - val_accuracy: 0.7891\n",
            "Epoch 15/100\n",
            "94/94 [==============================] - 0s 2ms/step - loss: 0.4052 - accuracy: 0.8081 - val_loss: 0.4151 - val_accuracy: 0.7900\n",
            "Epoch 16/100\n",
            "94/94 [==============================] - 0s 2ms/step - loss: 0.4046 - accuracy: 0.8084 - val_loss: 0.4148 - val_accuracy: 0.7945\n",
            "Epoch 17/100\n",
            "94/94 [==============================] - 0s 2ms/step - loss: 0.4041 - accuracy: 0.8104 - val_loss: 0.4172 - val_accuracy: 0.7865\n",
            "Epoch 18/100\n",
            "94/94 [==============================] - 0s 2ms/step - loss: 0.4031 - accuracy: 0.8111 - val_loss: 0.4146 - val_accuracy: 0.7936\n",
            "Epoch 19/100\n",
            "94/94 [==============================] - 0s 2ms/step - loss: 0.4032 - accuracy: 0.8064 - val_loss: 0.4175 - val_accuracy: 0.7891\n",
            "Epoch 20/100\n",
            "94/94 [==============================] - 0s 2ms/step - loss: 0.4015 - accuracy: 0.8094 - val_loss: 0.4158 - val_accuracy: 0.7874\n",
            "Epoch 21/100\n",
            "94/94 [==============================] - 0s 2ms/step - loss: 0.4024 - accuracy: 0.8094 - val_loss: 0.4169 - val_accuracy: 0.7874\n",
            "Epoch 22/100\n",
            "94/94 [==============================] - 0s 2ms/step - loss: 0.4019 - accuracy: 0.8064 - val_loss: 0.4148 - val_accuracy: 0.7945\n",
            "Epoch 23/100\n",
            "94/94 [==============================] - 0s 2ms/step - loss: 0.4021 - accuracy: 0.8094 - val_loss: 0.4159 - val_accuracy: 0.7909\n",
            "Epoch 24/100\n",
            "94/94 [==============================] - 0s 2ms/step - loss: 0.4010 - accuracy: 0.8074 - val_loss: 0.4144 - val_accuracy: 0.7945\n",
            "Epoch 25/100\n",
            "94/94 [==============================] - 0s 2ms/step - loss: 0.4011 - accuracy: 0.8111 - val_loss: 0.4156 - val_accuracy: 0.7909\n",
            "Epoch 26/100\n",
            "94/94 [==============================] - 0s 2ms/step - loss: 0.3993 - accuracy: 0.8101 - val_loss: 0.4146 - val_accuracy: 0.7989\n",
            "Epoch 27/100\n",
            "94/94 [==============================] - 0s 2ms/step - loss: 0.3990 - accuracy: 0.8144 - val_loss: 0.4206 - val_accuracy: 0.7874\n",
            "Epoch 28/100\n",
            "94/94 [==============================] - 0s 2ms/step - loss: 0.3984 - accuracy: 0.8128 - val_loss: 0.4153 - val_accuracy: 0.7954\n",
            "Epoch 29/100\n",
            "94/94 [==============================] - 0s 2ms/step - loss: 0.3981 - accuracy: 0.8111 - val_loss: 0.4149 - val_accuracy: 0.7936\n",
            "Epoch 30/100\n",
            "94/94 [==============================] - 0s 2ms/step - loss: 0.3970 - accuracy: 0.8091 - val_loss: 0.4143 - val_accuracy: 0.7989\n",
            "Epoch 31/100\n",
            "94/94 [==============================] - 0s 2ms/step - loss: 0.3976 - accuracy: 0.8134 - val_loss: 0.4144 - val_accuracy: 0.7963\n",
            "Epoch 32/100\n",
            "94/94 [==============================] - 0s 2ms/step - loss: 0.3975 - accuracy: 0.8128 - val_loss: 0.4158 - val_accuracy: 0.7900\n",
            "Epoch 33/100\n",
            "94/94 [==============================] - 0s 2ms/step - loss: 0.3969 - accuracy: 0.8101 - val_loss: 0.4145 - val_accuracy: 0.7945\n",
            "Epoch 34/100\n",
            "94/94 [==============================] - 0s 2ms/step - loss: 0.3965 - accuracy: 0.8087 - val_loss: 0.4154 - val_accuracy: 0.7936\n",
            "Epoch 35/100\n",
            "94/94 [==============================] - 0s 2ms/step - loss: 0.3975 - accuracy: 0.8084 - val_loss: 0.4166 - val_accuracy: 0.7900\n",
            "Epoch 36/100\n",
            "94/94 [==============================] - 0s 2ms/step - loss: 0.3963 - accuracy: 0.8138 - val_loss: 0.4137 - val_accuracy: 0.7954\n",
            "Epoch 37/100\n",
            "94/94 [==============================] - 0s 2ms/step - loss: 0.3963 - accuracy: 0.8074 - val_loss: 0.4139 - val_accuracy: 0.7989\n",
            "Epoch 38/100\n",
            "94/94 [==============================] - 0s 2ms/step - loss: 0.3952 - accuracy: 0.8134 - val_loss: 0.4134 - val_accuracy: 0.7972\n",
            "Epoch 39/100\n",
            "94/94 [==============================] - 0s 2ms/step - loss: 0.3955 - accuracy: 0.8094 - val_loss: 0.4140 - val_accuracy: 0.7989\n",
            "Epoch 40/100\n",
            "94/94 [==============================] - 0s 2ms/step - loss: 0.3940 - accuracy: 0.8128 - val_loss: 0.4154 - val_accuracy: 0.7936\n",
            "Epoch 41/100\n",
            "94/94 [==============================] - 0s 2ms/step - loss: 0.3938 - accuracy: 0.8144 - val_loss: 0.4135 - val_accuracy: 0.7998\n",
            "Epoch 42/100\n",
            "94/94 [==============================] - 0s 2ms/step - loss: 0.3939 - accuracy: 0.8097 - val_loss: 0.4195 - val_accuracy: 0.7936\n",
            "Epoch 43/100\n",
            "94/94 [==============================] - 0s 2ms/step - loss: 0.3935 - accuracy: 0.8131 - val_loss: 0.4184 - val_accuracy: 0.7936\n",
            "Epoch 44/100\n",
            "94/94 [==============================] - 0s 2ms/step - loss: 0.3930 - accuracy: 0.8154 - val_loss: 0.4131 - val_accuracy: 0.7954\n",
            "Epoch 45/100\n",
            "94/94 [==============================] - 0s 2ms/step - loss: 0.3920 - accuracy: 0.8161 - val_loss: 0.4152 - val_accuracy: 0.7954\n",
            "Epoch 46/100\n",
            "94/94 [==============================] - 0s 2ms/step - loss: 0.3934 - accuracy: 0.8164 - val_loss: 0.4135 - val_accuracy: 0.7954\n",
            "Epoch 47/100\n",
            "94/94 [==============================] - 0s 2ms/step - loss: 0.3913 - accuracy: 0.8171 - val_loss: 0.4162 - val_accuracy: 0.7936\n",
            "Epoch 48/100\n",
            "94/94 [==============================] - 0s 2ms/step - loss: 0.3905 - accuracy: 0.8144 - val_loss: 0.4153 - val_accuracy: 0.7945\n",
            "Epoch 49/100\n",
            "94/94 [==============================] - 0s 2ms/step - loss: 0.3909 - accuracy: 0.8158 - val_loss: 0.4172 - val_accuracy: 0.7980\n",
            "Epoch 50/100\n",
            "94/94 [==============================] - 0s 2ms/step - loss: 0.3909 - accuracy: 0.8164 - val_loss: 0.4143 - val_accuracy: 0.7945\n",
            "Epoch 51/100\n",
            "94/94 [==============================] - 0s 2ms/step - loss: 0.3910 - accuracy: 0.8144 - val_loss: 0.4185 - val_accuracy: 0.7963\n",
            "Epoch 52/100\n",
            "94/94 [==============================] - 0s 2ms/step - loss: 0.3903 - accuracy: 0.8164 - val_loss: 0.4145 - val_accuracy: 0.7936\n",
            "Epoch 53/100\n",
            "94/94 [==============================] - 0s 2ms/step - loss: 0.3890 - accuracy: 0.8214 - val_loss: 0.4179 - val_accuracy: 0.7980\n",
            "Epoch 54/100\n",
            "94/94 [==============================] - 0s 2ms/step - loss: 0.3893 - accuracy: 0.8168 - val_loss: 0.4152 - val_accuracy: 0.7891\n",
            "47/47 [==============================] - 0s 946us/step - loss: 0.4430 - accuracy: 0.8009\n",
            "[CV] END learning_rate=0.0008111719072524804, n_hidden=3, n_neurons=6; total time=  21.0s\n",
            "Epoch 1/100\n",
            "94/94 [==============================] - 1s 3ms/step - loss: 0.4690 - accuracy: 0.7773 - val_loss: 0.4305 - val_accuracy: 0.7865\n",
            "Epoch 2/100\n",
            "94/94 [==============================] - 0s 2ms/step - loss: 0.4344 - accuracy: 0.7903 - val_loss: 0.4154 - val_accuracy: 0.7874\n",
            "Epoch 3/100\n",
            "94/94 [==============================] - 0s 2ms/step - loss: 0.4380 - accuracy: 0.7990 - val_loss: 0.4273 - val_accuracy: 0.7891\n",
            "Epoch 4/100\n",
            "94/94 [==============================] - 0s 2ms/step - loss: 0.4268 - accuracy: 0.8020 - val_loss: 0.4271 - val_accuracy: 0.7891\n",
            "Epoch 5/100\n",
            "94/94 [==============================] - 0s 2ms/step - loss: 0.4248 - accuracy: 0.8027 - val_loss: 0.4365 - val_accuracy: 0.7847\n",
            "Epoch 6/100\n",
            "94/94 [==============================] - 0s 2ms/step - loss: 0.4217 - accuracy: 0.8087 - val_loss: 0.4170 - val_accuracy: 0.7972\n",
            "Epoch 7/100\n",
            "94/94 [==============================] - 0s 2ms/step - loss: 0.4217 - accuracy: 0.8003 - val_loss: 0.4365 - val_accuracy: 0.7918\n",
            "Epoch 8/100\n",
            "94/94 [==============================] - 0s 2ms/step - loss: 0.4184 - accuracy: 0.8030 - val_loss: 0.4219 - val_accuracy: 0.7891\n",
            "Epoch 9/100\n",
            "94/94 [==============================] - 0s 2ms/step - loss: 0.4152 - accuracy: 0.8104 - val_loss: 0.4209 - val_accuracy: 0.7847\n",
            "Epoch 10/100\n",
            "94/94 [==============================] - 0s 2ms/step - loss: 0.4207 - accuracy: 0.8043 - val_loss: 0.4353 - val_accuracy: 0.7936\n",
            "Epoch 11/100\n",
            "94/94 [==============================] - 0s 2ms/step - loss: 0.4164 - accuracy: 0.8047 - val_loss: 0.4269 - val_accuracy: 0.7883\n",
            "Epoch 12/100\n",
            "94/94 [==============================] - 0s 2ms/step - loss: 0.4104 - accuracy: 0.8104 - val_loss: 0.4370 - val_accuracy: 0.7954\n",
            "47/47 [==============================] - 0s 1ms/step - loss: 0.4386 - accuracy: 0.8031\n",
            "[CV] END learning_rate=0.02835682418386019, n_hidden=2, n_neurons=28; total time=   5.6s\n",
            "Epoch 1/100\n",
            "94/94 [==============================] - 1s 3ms/step - loss: 0.4690 - accuracy: 0.7820 - val_loss: 0.4266 - val_accuracy: 0.7998\n",
            "Epoch 2/100\n",
            "94/94 [==============================] - 0s 2ms/step - loss: 0.4358 - accuracy: 0.7993 - val_loss: 0.4237 - val_accuracy: 0.7891\n",
            "Epoch 3/100\n",
            "94/94 [==============================] - 0s 2ms/step - loss: 0.4297 - accuracy: 0.8083 - val_loss: 0.4275 - val_accuracy: 0.7927\n",
            "Epoch 4/100\n",
            "94/94 [==============================] - 0s 2ms/step - loss: 0.4345 - accuracy: 0.8030 - val_loss: 0.4119 - val_accuracy: 0.7936\n",
            "Epoch 5/100\n",
            "94/94 [==============================] - 0s 2ms/step - loss: 0.4296 - accuracy: 0.8017 - val_loss: 0.4227 - val_accuracy: 0.7945\n",
            "Epoch 6/100\n",
            "94/94 [==============================] - 0s 2ms/step - loss: 0.4245 - accuracy: 0.8063 - val_loss: 0.4079 - val_accuracy: 0.7954\n",
            "Epoch 7/100\n",
            "94/94 [==============================] - 0s 2ms/step - loss: 0.4304 - accuracy: 0.8013 - val_loss: 0.4187 - val_accuracy: 0.7936\n",
            "Epoch 8/100\n",
            "94/94 [==============================] - 0s 2ms/step - loss: 0.4244 - accuracy: 0.8097 - val_loss: 0.4216 - val_accuracy: 0.7909\n",
            "Epoch 9/100\n",
            "94/94 [==============================] - 0s 2ms/step - loss: 0.4229 - accuracy: 0.8104 - val_loss: 0.4103 - val_accuracy: 0.7980\n",
            "Epoch 10/100\n",
            "94/94 [==============================] - 0s 2ms/step - loss: 0.4198 - accuracy: 0.8184 - val_loss: 0.4161 - val_accuracy: 0.7927\n",
            "Epoch 11/100\n",
            "94/94 [==============================] - 0s 2ms/step - loss: 0.4263 - accuracy: 0.8033 - val_loss: 0.4108 - val_accuracy: 0.7909\n",
            "Epoch 12/100\n",
            "94/94 [==============================] - 0s 2ms/step - loss: 0.4192 - accuracy: 0.8157 - val_loss: 0.4141 - val_accuracy: 0.8016\n",
            "Epoch 13/100\n",
            "94/94 [==============================] - 0s 2ms/step - loss: 0.4175 - accuracy: 0.8110 - val_loss: 0.4113 - val_accuracy: 0.7883\n",
            "Epoch 14/100\n",
            "94/94 [==============================] - 0s 2ms/step - loss: 0.4183 - accuracy: 0.8110 - val_loss: 0.4191 - val_accuracy: 0.7998\n",
            "Epoch 15/100\n",
            "94/94 [==============================] - 0s 2ms/step - loss: 0.4207 - accuracy: 0.8083 - val_loss: 0.4477 - val_accuracy: 0.7945\n",
            "Epoch 16/100\n",
            "94/94 [==============================] - 0s 2ms/step - loss: 0.4193 - accuracy: 0.8093 - val_loss: 0.4171 - val_accuracy: 0.7963\n",
            "47/47 [==============================] - 0s 1ms/step - loss: 0.4179 - accuracy: 0.8017\n",
            "[CV] END learning_rate=0.02835682418386019, n_hidden=2, n_neurons=28; total time=   3.9s\n",
            "Epoch 1/100\n",
            "94/94 [==============================] - 1s 3ms/step - loss: 0.4451 - accuracy: 0.7907 - val_loss: 0.4300 - val_accuracy: 0.7883\n",
            "Epoch 2/100\n",
            "94/94 [==============================] - 0s 2ms/step - loss: 0.4178 - accuracy: 0.7987 - val_loss: 0.4216 - val_accuracy: 0.7829\n",
            "Epoch 3/100\n",
            "94/94 [==============================] - 0s 2ms/step - loss: 0.4181 - accuracy: 0.8041 - val_loss: 0.4223 - val_accuracy: 0.7891\n",
            "Epoch 4/100\n",
            "94/94 [==============================] - 0s 2ms/step - loss: 0.4178 - accuracy: 0.8014 - val_loss: 0.4246 - val_accuracy: 0.7954\n",
            "Epoch 5/100\n",
            "94/94 [==============================] - 0s 2ms/step - loss: 0.4151 - accuracy: 0.8047 - val_loss: 0.4256 - val_accuracy: 0.7883\n",
            "Epoch 6/100\n",
            "94/94 [==============================] - 0s 2ms/step - loss: 0.4114 - accuracy: 0.8051 - val_loss: 0.4362 - val_accuracy: 0.7820\n",
            "Epoch 7/100\n",
            "94/94 [==============================] - 0s 2ms/step - loss: 0.4091 - accuracy: 0.8051 - val_loss: 0.4217 - val_accuracy: 0.7838\n",
            "Epoch 8/100\n",
            "94/94 [==============================] - 0s 2ms/step - loss: 0.4063 - accuracy: 0.8014 - val_loss: 0.4344 - val_accuracy: 0.7785\n",
            "Epoch 9/100\n",
            "94/94 [==============================] - 0s 2ms/step - loss: 0.4053 - accuracy: 0.8094 - val_loss: 0.4203 - val_accuracy: 0.7794\n",
            "Epoch 10/100\n",
            "94/94 [==============================] - 0s 2ms/step - loss: 0.4149 - accuracy: 0.8067 - val_loss: 0.4449 - val_accuracy: 0.7847\n",
            "Epoch 11/100\n",
            "94/94 [==============================] - 0s 2ms/step - loss: 0.3997 - accuracy: 0.8101 - val_loss: 0.4347 - val_accuracy: 0.7856\n",
            "Epoch 12/100\n",
            "94/94 [==============================] - 0s 2ms/step - loss: 0.3974 - accuracy: 0.8007 - val_loss: 0.4307 - val_accuracy: 0.7802\n",
            "Epoch 13/100\n",
            "94/94 [==============================] - 0s 2ms/step - loss: 0.3973 - accuracy: 0.8037 - val_loss: 0.4313 - val_accuracy: 0.7705\n",
            "Epoch 14/100\n",
            "94/94 [==============================] - 0s 2ms/step - loss: 0.4032 - accuracy: 0.8014 - val_loss: 0.4337 - val_accuracy: 0.7838\n",
            "Epoch 15/100\n",
            "94/94 [==============================] - 0s 2ms/step - loss: 0.4018 - accuracy: 0.8047 - val_loss: 0.4419 - val_accuracy: 0.7820\n",
            "Epoch 16/100\n",
            "94/94 [==============================] - 0s 2ms/step - loss: 0.3918 - accuracy: 0.8024 - val_loss: 0.4273 - val_accuracy: 0.7883\n",
            "Epoch 17/100\n",
            "94/94 [==============================] - 0s 2ms/step - loss: 0.3960 - accuracy: 0.8051 - val_loss: 0.4351 - val_accuracy: 0.7633\n",
            "Epoch 18/100\n",
            "94/94 [==============================] - 0s 2ms/step - loss: 0.3953 - accuracy: 0.8071 - val_loss: 0.4542 - val_accuracy: 0.7749\n",
            "Epoch 19/100\n",
            "94/94 [==============================] - 0s 2ms/step - loss: 0.3920 - accuracy: 0.8111 - val_loss: 0.4428 - val_accuracy: 0.7696\n",
            "47/47 [==============================] - 0s 1ms/step - loss: 0.4558 - accuracy: 0.7769\n",
            "[CV] END learning_rate=0.02835682418386019, n_hidden=2, n_neurons=28; total time=   5.6s\n",
            "Epoch 1/100\n",
            "94/94 [==============================] - 1s 3ms/step - loss: 0.5019 - accuracy: 0.7469 - val_loss: 0.4314 - val_accuracy: 0.7776\n",
            "Epoch 2/100\n",
            "94/94 [==============================] - 0s 2ms/step - loss: 0.4341 - accuracy: 0.7947 - val_loss: 0.4191 - val_accuracy: 0.7829\n",
            "Epoch 3/100\n",
            "94/94 [==============================] - 0s 2ms/step - loss: 0.4237 - accuracy: 0.8030 - val_loss: 0.4144 - val_accuracy: 0.7856\n",
            "Epoch 4/100\n",
            "94/94 [==============================] - 0s 2ms/step - loss: 0.4171 - accuracy: 0.8093 - val_loss: 0.4297 - val_accuracy: 0.7847\n",
            "Epoch 5/100\n",
            "94/94 [==============================] - 0s 2ms/step - loss: 0.4175 - accuracy: 0.8114 - val_loss: 0.4241 - val_accuracy: 0.7936\n",
            "Epoch 6/100\n",
            "94/94 [==============================] - 0s 2ms/step - loss: 0.4132 - accuracy: 0.8114 - val_loss: 0.4121 - val_accuracy: 0.7972\n",
            "Epoch 7/100\n",
            "94/94 [==============================] - 0s 2ms/step - loss: 0.4144 - accuracy: 0.8127 - val_loss: 0.4122 - val_accuracy: 0.7972\n",
            "Epoch 8/100\n",
            "94/94 [==============================] - 0s 2ms/step - loss: 0.4090 - accuracy: 0.8104 - val_loss: 0.4200 - val_accuracy: 0.7918\n",
            "Epoch 9/100\n",
            "94/94 [==============================] - 0s 2ms/step - loss: 0.4088 - accuracy: 0.8160 - val_loss: 0.4331 - val_accuracy: 0.7954\n",
            "Epoch 10/100\n",
            "94/94 [==============================] - 0s 2ms/step - loss: 0.4040 - accuracy: 0.8160 - val_loss: 0.4206 - val_accuracy: 0.7972\n",
            "Epoch 11/100\n",
            "94/94 [==============================] - 0s 2ms/step - loss: 0.4033 - accuracy: 0.8137 - val_loss: 0.4178 - val_accuracy: 0.7927\n",
            "Epoch 12/100\n",
            "94/94 [==============================] - 0s 2ms/step - loss: 0.4002 - accuracy: 0.8154 - val_loss: 0.4283 - val_accuracy: 0.7900\n",
            "Epoch 13/100\n",
            "94/94 [==============================] - 0s 2ms/step - loss: 0.3975 - accuracy: 0.8214 - val_loss: 0.4294 - val_accuracy: 0.7927\n",
            "Epoch 14/100\n",
            "94/94 [==============================] - 0s 2ms/step - loss: 0.3983 - accuracy: 0.8177 - val_loss: 0.4326 - val_accuracy: 0.7963\n",
            "Epoch 15/100\n",
            "94/94 [==============================] - 0s 2ms/step - loss: 0.3959 - accuracy: 0.8190 - val_loss: 0.4240 - val_accuracy: 0.7909\n",
            "Epoch 16/100\n",
            "94/94 [==============================] - 0s 2ms/step - loss: 0.3947 - accuracy: 0.8214 - val_loss: 0.4255 - val_accuracy: 0.7927\n",
            "47/47 [==============================] - 0s 923us/step - loss: 0.4293 - accuracy: 0.7924\n",
            "[CV] END learning_rate=0.0021079169846687294, n_hidden=3, n_neurons=14; total time=   4.0s\n",
            "Epoch 1/100\n",
            "94/94 [==============================] - 1s 3ms/step - loss: 0.4999 - accuracy: 0.7566 - val_loss: 0.4274 - val_accuracy: 0.7856\n",
            "Epoch 2/100\n",
            "94/94 [==============================] - 0s 2ms/step - loss: 0.4297 - accuracy: 0.8050 - val_loss: 0.4195 - val_accuracy: 0.7883\n",
            "Epoch 3/100\n",
            "94/94 [==============================] - 0s 2ms/step - loss: 0.4230 - accuracy: 0.8053 - val_loss: 0.4185 - val_accuracy: 0.7909\n",
            "Epoch 4/100\n",
            "94/94 [==============================] - 0s 2ms/step - loss: 0.4175 - accuracy: 0.8087 - val_loss: 0.4341 - val_accuracy: 0.7856\n",
            "Epoch 5/100\n",
            "94/94 [==============================] - 0s 2ms/step - loss: 0.4163 - accuracy: 0.8107 - val_loss: 0.4197 - val_accuracy: 0.7909\n",
            "Epoch 6/100\n",
            "94/94 [==============================] - 0s 2ms/step - loss: 0.4162 - accuracy: 0.8107 - val_loss: 0.4202 - val_accuracy: 0.7909\n",
            "Epoch 7/100\n",
            "94/94 [==============================] - 0s 2ms/step - loss: 0.4103 - accuracy: 0.8100 - val_loss: 0.4224 - val_accuracy: 0.7883\n",
            "Epoch 8/100\n",
            "94/94 [==============================] - 0s 2ms/step - loss: 0.4120 - accuracy: 0.8147 - val_loss: 0.4237 - val_accuracy: 0.7927\n",
            "Epoch 9/100\n",
            "94/94 [==============================] - 0s 2ms/step - loss: 0.4102 - accuracy: 0.8137 - val_loss: 0.4250 - val_accuracy: 0.7945\n",
            "Epoch 10/100\n",
            "94/94 [==============================] - 0s 2ms/step - loss: 0.4090 - accuracy: 0.8200 - val_loss: 0.4151 - val_accuracy: 0.7909\n",
            "Epoch 11/100\n",
            "94/94 [==============================] - 0s 2ms/step - loss: 0.4072 - accuracy: 0.8180 - val_loss: 0.4152 - val_accuracy: 0.7856\n",
            "Epoch 12/100\n",
            "94/94 [==============================] - 0s 2ms/step - loss: 0.4059 - accuracy: 0.8160 - val_loss: 0.4165 - val_accuracy: 0.7865\n",
            "Epoch 13/100\n",
            "94/94 [==============================] - 0s 2ms/step - loss: 0.4033 - accuracy: 0.8200 - val_loss: 0.4233 - val_accuracy: 0.7874\n",
            "Epoch 14/100\n",
            "94/94 [==============================] - 0s 2ms/step - loss: 0.4024 - accuracy: 0.8184 - val_loss: 0.4340 - val_accuracy: 0.7900\n",
            "Epoch 15/100\n",
            "94/94 [==============================] - 0s 2ms/step - loss: 0.4052 - accuracy: 0.8130 - val_loss: 0.4317 - val_accuracy: 0.7820\n",
            "Epoch 16/100\n",
            "94/94 [==============================] - 0s 2ms/step - loss: 0.4013 - accuracy: 0.8180 - val_loss: 0.4204 - val_accuracy: 0.7918\n",
            "Epoch 17/100\n",
            "94/94 [==============================] - 0s 2ms/step - loss: 0.4007 - accuracy: 0.8190 - val_loss: 0.4165 - val_accuracy: 0.7909\n",
            "Epoch 18/100\n",
            "94/94 [==============================] - 0s 2ms/step - loss: 0.3981 - accuracy: 0.8227 - val_loss: 0.4169 - val_accuracy: 0.7927\n",
            "Epoch 19/100\n",
            "94/94 [==============================] - 0s 2ms/step - loss: 0.3978 - accuracy: 0.8210 - val_loss: 0.4322 - val_accuracy: 0.7838\n",
            "Epoch 20/100\n",
            "94/94 [==============================] - 0s 2ms/step - loss: 0.3964 - accuracy: 0.8237 - val_loss: 0.4253 - val_accuracy: 0.7963\n",
            "47/47 [==============================] - 0s 945us/step - loss: 0.4163 - accuracy: 0.8004\n",
            "[CV] END learning_rate=0.0021079169846687294, n_hidden=3, n_neurons=14; total time=   5.6s\n",
            "Epoch 1/100\n",
            "94/94 [==============================] - 1s 3ms/step - loss: 0.4871 - accuracy: 0.7657 - val_loss: 0.4255 - val_accuracy: 0.7802\n",
            "Epoch 2/100\n",
            "94/94 [==============================] - 0s 2ms/step - loss: 0.4217 - accuracy: 0.8041 - val_loss: 0.4238 - val_accuracy: 0.7874\n",
            "Epoch 3/100\n",
            "94/94 [==============================] - 0s 2ms/step - loss: 0.4151 - accuracy: 0.8041 - val_loss: 0.4174 - val_accuracy: 0.7927\n",
            "Epoch 4/100\n",
            "94/94 [==============================] - 0s 2ms/step - loss: 0.4076 - accuracy: 0.8074 - val_loss: 0.4209 - val_accuracy: 0.7909\n",
            "Epoch 5/100\n",
            "94/94 [==============================] - 0s 2ms/step - loss: 0.4048 - accuracy: 0.8074 - val_loss: 0.4253 - val_accuracy: 0.7802\n",
            "Epoch 6/100\n",
            "94/94 [==============================] - 0s 2ms/step - loss: 0.4016 - accuracy: 0.8064 - val_loss: 0.4193 - val_accuracy: 0.7847\n",
            "Epoch 7/100\n",
            "94/94 [==============================] - 0s 2ms/step - loss: 0.3999 - accuracy: 0.8097 - val_loss: 0.4167 - val_accuracy: 0.7865\n",
            "Epoch 8/100\n",
            "94/94 [==============================] - 0s 2ms/step - loss: 0.3986 - accuracy: 0.8101 - val_loss: 0.4192 - val_accuracy: 0.7785\n",
            "Epoch 9/100\n",
            "94/94 [==============================] - 0s 2ms/step - loss: 0.3961 - accuracy: 0.8117 - val_loss: 0.4178 - val_accuracy: 0.7865\n",
            "Epoch 10/100\n",
            "94/94 [==============================] - 0s 2ms/step - loss: 0.3932 - accuracy: 0.8114 - val_loss: 0.4200 - val_accuracy: 0.7891\n",
            "Epoch 11/100\n",
            "94/94 [==============================] - 0s 2ms/step - loss: 0.3931 - accuracy: 0.8131 - val_loss: 0.4281 - val_accuracy: 0.7865\n",
            "Epoch 12/100\n",
            "94/94 [==============================] - 0s 2ms/step - loss: 0.3915 - accuracy: 0.8158 - val_loss: 0.4211 - val_accuracy: 0.7820\n",
            "Epoch 13/100\n",
            "94/94 [==============================] - 0s 2ms/step - loss: 0.3880 - accuracy: 0.8198 - val_loss: 0.4198 - val_accuracy: 0.7883\n",
            "Epoch 14/100\n",
            "94/94 [==============================] - 0s 2ms/step - loss: 0.3884 - accuracy: 0.8164 - val_loss: 0.4284 - val_accuracy: 0.7794\n",
            "Epoch 15/100\n",
            "94/94 [==============================] - 0s 2ms/step - loss: 0.3857 - accuracy: 0.8181 - val_loss: 0.4269 - val_accuracy: 0.7794\n",
            "Epoch 16/100\n",
            "94/94 [==============================] - 0s 2ms/step - loss: 0.3819 - accuracy: 0.8191 - val_loss: 0.4266 - val_accuracy: 0.7731\n",
            "Epoch 17/100\n",
            "94/94 [==============================] - 0s 2ms/step - loss: 0.3813 - accuracy: 0.8201 - val_loss: 0.4289 - val_accuracy: 0.7794\n",
            "47/47 [==============================] - 0s 1ms/step - loss: 0.4490 - accuracy: 0.7963\n",
            "[CV] END learning_rate=0.0021079169846687294, n_hidden=3, n_neurons=14; total time=   5.6s\n",
            "Epoch 1/100\n",
            "94/94 [==============================] - 1s 3ms/step - loss: 0.4447 - accuracy: 0.7917 - val_loss: 0.4184 - val_accuracy: 0.7909\n",
            "Epoch 2/100\n",
            "94/94 [==============================] - 0s 2ms/step - loss: 0.4338 - accuracy: 0.7963 - val_loss: 0.4392 - val_accuracy: 0.7785\n",
            "Epoch 3/100\n",
            "94/94 [==============================] - 0s 2ms/step - loss: 0.4250 - accuracy: 0.7970 - val_loss: 0.4319 - val_accuracy: 0.7856\n",
            "Epoch 4/100\n",
            "94/94 [==============================] - 0s 2ms/step - loss: 0.4162 - accuracy: 0.8067 - val_loss: 0.4227 - val_accuracy: 0.7900\n",
            "Epoch 5/100\n",
            "94/94 [==============================] - 0s 2ms/step - loss: 0.4194 - accuracy: 0.8023 - val_loss: 0.4192 - val_accuracy: 0.7927\n",
            "Epoch 6/100\n",
            "94/94 [==============================] - 0s 2ms/step - loss: 0.4101 - accuracy: 0.8100 - val_loss: 0.4167 - val_accuracy: 0.7980\n",
            "Epoch 7/100\n",
            "94/94 [==============================] - 0s 2ms/step - loss: 0.4093 - accuracy: 0.8093 - val_loss: 0.4145 - val_accuracy: 0.7998\n",
            "Epoch 8/100\n",
            "94/94 [==============================] - 0s 2ms/step - loss: 0.4109 - accuracy: 0.8124 - val_loss: 0.4351 - val_accuracy: 0.7963\n",
            "Epoch 9/100\n",
            "94/94 [==============================] - 0s 2ms/step - loss: 0.4066 - accuracy: 0.8073 - val_loss: 0.4232 - val_accuracy: 0.7900\n",
            "Epoch 10/100\n",
            "94/94 [==============================] - 0s 2ms/step - loss: 0.4019 - accuracy: 0.8174 - val_loss: 0.4157 - val_accuracy: 0.8025\n",
            "Epoch 11/100\n",
            "94/94 [==============================] - 0s 2ms/step - loss: 0.3992 - accuracy: 0.8204 - val_loss: 0.4412 - val_accuracy: 0.7883\n",
            "Epoch 12/100\n",
            "94/94 [==============================] - 0s 2ms/step - loss: 0.3982 - accuracy: 0.8170 - val_loss: 0.4327 - val_accuracy: 0.8016\n",
            "Epoch 13/100\n",
            "94/94 [==============================] - 0s 2ms/step - loss: 0.3932 - accuracy: 0.8157 - val_loss: 0.4325 - val_accuracy: 0.7936\n",
            "Epoch 14/100\n",
            "94/94 [==============================] - 0s 2ms/step - loss: 0.3934 - accuracy: 0.8137 - val_loss: 0.4248 - val_accuracy: 0.7963\n",
            "Epoch 15/100\n",
            "94/94 [==============================] - 0s 2ms/step - loss: 0.3807 - accuracy: 0.8264 - val_loss: 0.4338 - val_accuracy: 0.7927\n",
            "Epoch 16/100\n",
            "94/94 [==============================] - 0s 2ms/step - loss: 0.3818 - accuracy: 0.8230 - val_loss: 0.4293 - val_accuracy: 0.7998\n",
            "Epoch 17/100\n",
            "94/94 [==============================] - 0s 2ms/step - loss: 0.3773 - accuracy: 0.8230 - val_loss: 0.4398 - val_accuracy: 0.7936\n",
            "47/47 [==============================] - 0s 956us/step - loss: 0.4533 - accuracy: 0.7957\n",
            "[CV] END learning_rate=0.008568905339777728, n_hidden=1, n_neurons=35; total time=   5.5s\n",
            "Epoch 1/100\n",
            "94/94 [==============================] - 1s 3ms/step - loss: 0.4551 - accuracy: 0.7866 - val_loss: 0.4159 - val_accuracy: 0.7945\n",
            "Epoch 2/100\n",
            "94/94 [==============================] - 0s 2ms/step - loss: 0.4288 - accuracy: 0.8040 - val_loss: 0.4126 - val_accuracy: 0.7954\n",
            "Epoch 3/100\n",
            "94/94 [==============================] - 0s 2ms/step - loss: 0.4232 - accuracy: 0.8040 - val_loss: 0.4104 - val_accuracy: 0.8016\n",
            "Epoch 4/100\n",
            "94/94 [==============================] - 0s 2ms/step - loss: 0.4176 - accuracy: 0.8117 - val_loss: 0.4121 - val_accuracy: 0.8025\n",
            "Epoch 5/100\n",
            "94/94 [==============================] - 0s 2ms/step - loss: 0.4176 - accuracy: 0.8067 - val_loss: 0.4207 - val_accuracy: 0.7936\n",
            "Epoch 6/100\n",
            "94/94 [==============================] - 0s 2ms/step - loss: 0.4137 - accuracy: 0.8110 - val_loss: 0.4373 - val_accuracy: 0.7891\n",
            "Epoch 7/100\n",
            "94/94 [==============================] - 0s 2ms/step - loss: 0.4147 - accuracy: 0.8110 - val_loss: 0.4385 - val_accuracy: 0.7820\n",
            "Epoch 8/100\n",
            "94/94 [==============================] - 0s 2ms/step - loss: 0.4115 - accuracy: 0.8124 - val_loss: 0.4207 - val_accuracy: 0.7972\n",
            "Epoch 9/100\n",
            "94/94 [==============================] - 0s 2ms/step - loss: 0.4108 - accuracy: 0.8110 - val_loss: 0.4148 - val_accuracy: 0.7998\n",
            "Epoch 10/100\n",
            "94/94 [==============================] - 0s 2ms/step - loss: 0.4120 - accuracy: 0.8120 - val_loss: 0.4174 - val_accuracy: 0.7963\n",
            "Epoch 11/100\n",
            "94/94 [==============================] - 0s 2ms/step - loss: 0.4061 - accuracy: 0.8167 - val_loss: 0.4178 - val_accuracy: 0.7945\n",
            "Epoch 12/100\n",
            "94/94 [==============================] - 0s 2ms/step - loss: 0.4113 - accuracy: 0.8160 - val_loss: 0.4295 - val_accuracy: 0.7963\n",
            "Epoch 13/100\n",
            "94/94 [==============================] - 0s 2ms/step - loss: 0.4051 - accuracy: 0.8117 - val_loss: 0.4250 - val_accuracy: 0.7900\n",
            "47/47 [==============================] - 0s 1ms/step - loss: 0.4177 - accuracy: 0.8004\n",
            "[CV] END learning_rate=0.008568905339777728, n_hidden=1, n_neurons=35; total time=   5.5s\n",
            "Epoch 1/100\n",
            "94/94 [==============================] - 1s 3ms/step - loss: 0.4342 - accuracy: 0.7951 - val_loss: 0.4124 - val_accuracy: 0.7945\n",
            "Epoch 2/100\n",
            "94/94 [==============================] - 0s 2ms/step - loss: 0.4151 - accuracy: 0.8044 - val_loss: 0.4156 - val_accuracy: 0.7865\n",
            "Epoch 3/100\n",
            "94/94 [==============================] - 0s 2ms/step - loss: 0.4107 - accuracy: 0.8051 - val_loss: 0.4236 - val_accuracy: 0.7847\n",
            "Epoch 4/100\n",
            "94/94 [==============================] - 0s 2ms/step - loss: 0.4081 - accuracy: 0.8054 - val_loss: 0.4240 - val_accuracy: 0.7883\n",
            "Epoch 5/100\n",
            "94/94 [==============================] - 0s 2ms/step - loss: 0.4044 - accuracy: 0.8154 - val_loss: 0.4178 - val_accuracy: 0.7936\n",
            "Epoch 6/100\n",
            "94/94 [==============================] - 0s 2ms/step - loss: 0.4077 - accuracy: 0.8094 - val_loss: 0.4114 - val_accuracy: 0.7936\n",
            "Epoch 7/100\n",
            "94/94 [==============================] - 0s 2ms/step - loss: 0.4003 - accuracy: 0.8128 - val_loss: 0.4275 - val_accuracy: 0.7820\n",
            "Epoch 8/100\n",
            "94/94 [==============================] - 0s 2ms/step - loss: 0.3978 - accuracy: 0.8097 - val_loss: 0.4194 - val_accuracy: 0.8043\n",
            "Epoch 9/100\n",
            "94/94 [==============================] - 0s 2ms/step - loss: 0.3964 - accuracy: 0.8124 - val_loss: 0.4289 - val_accuracy: 0.7865\n",
            "Epoch 10/100\n",
            "94/94 [==============================] - 0s 2ms/step - loss: 0.3961 - accuracy: 0.8131 - val_loss: 0.4229 - val_accuracy: 0.7900\n",
            "Epoch 11/100\n",
            "94/94 [==============================] - 0s 2ms/step - loss: 0.3908 - accuracy: 0.8224 - val_loss: 0.4147 - val_accuracy: 0.7909\n",
            "Epoch 12/100\n",
            "94/94 [==============================] - 0s 2ms/step - loss: 0.3869 - accuracy: 0.8231 - val_loss: 0.4289 - val_accuracy: 0.7838\n",
            "Epoch 13/100\n",
            "94/94 [==============================] - 0s 2ms/step - loss: 0.3880 - accuracy: 0.8171 - val_loss: 0.4152 - val_accuracy: 0.7945\n",
            "Epoch 14/100\n",
            "94/94 [==============================] - 0s 2ms/step - loss: 0.3814 - accuracy: 0.8271 - val_loss: 0.4277 - val_accuracy: 0.7909\n",
            "Epoch 15/100\n",
            "94/94 [==============================] - 0s 2ms/step - loss: 0.3865 - accuracy: 0.8224 - val_loss: 0.4259 - val_accuracy: 0.7909\n",
            "Epoch 16/100\n",
            "94/94 [==============================] - 0s 2ms/step - loss: 0.3811 - accuracy: 0.8228 - val_loss: 0.4342 - val_accuracy: 0.7820\n",
            "47/47 [==============================] - 0s 977us/step - loss: 0.4604 - accuracy: 0.7923\n",
            "[CV] END learning_rate=0.008568905339777728, n_hidden=1, n_neurons=35; total time=   5.5s\n",
            "Epoch 1/100\n",
            "94/94 [==============================] - 1s 3ms/step - loss: 0.4722 - accuracy: 0.7750 - val_loss: 0.4460 - val_accuracy: 0.7820\n",
            "Epoch 2/100\n",
            "94/94 [==============================] - 0s 2ms/step - loss: 0.4418 - accuracy: 0.7940 - val_loss: 0.4631 - val_accuracy: 0.7758\n",
            "Epoch 3/100\n",
            "94/94 [==============================] - 0s 2ms/step - loss: 0.4307 - accuracy: 0.7950 - val_loss: 0.4137 - val_accuracy: 0.7927\n",
            "Epoch 4/100\n",
            "94/94 [==============================] - 0s 2ms/step - loss: 0.4236 - accuracy: 0.8060 - val_loss: 0.4130 - val_accuracy: 0.7972\n",
            "Epoch 5/100\n",
            "94/94 [==============================] - 0s 2ms/step - loss: 0.4244 - accuracy: 0.8033 - val_loss: 0.4217 - val_accuracy: 0.7998\n",
            "Epoch 6/100\n",
            "94/94 [==============================] - 0s 2ms/step - loss: 0.4195 - accuracy: 0.8077 - val_loss: 0.4205 - val_accuracy: 0.7891\n",
            "Epoch 7/100\n",
            "94/94 [==============================] - 0s 2ms/step - loss: 0.4173 - accuracy: 0.8097 - val_loss: 0.4141 - val_accuracy: 0.7945\n",
            "Epoch 8/100\n",
            "94/94 [==============================] - 0s 2ms/step - loss: 0.4159 - accuracy: 0.8060 - val_loss: 0.4157 - val_accuracy: 0.7918\n",
            "Epoch 9/100\n",
            "94/94 [==============================] - 0s 2ms/step - loss: 0.4128 - accuracy: 0.8080 - val_loss: 0.4314 - val_accuracy: 0.7909\n",
            "Epoch 10/100\n",
            "94/94 [==============================] - 0s 2ms/step - loss: 0.4165 - accuracy: 0.8110 - val_loss: 0.4149 - val_accuracy: 0.7900\n",
            "Epoch 11/100\n",
            "94/94 [==============================] - 0s 2ms/step - loss: 0.4139 - accuracy: 0.8100 - val_loss: 0.4271 - val_accuracy: 0.7945\n",
            "Epoch 12/100\n",
            "94/94 [==============================] - 0s 2ms/step - loss: 0.4107 - accuracy: 0.8080 - val_loss: 0.4147 - val_accuracy: 0.7900\n",
            "Epoch 13/100\n",
            "94/94 [==============================] - 0s 2ms/step - loss: 0.4137 - accuracy: 0.8070 - val_loss: 0.4236 - val_accuracy: 0.7918\n",
            "Epoch 14/100\n",
            "94/94 [==============================] - 0s 2ms/step - loss: 0.4113 - accuracy: 0.8073 - val_loss: 0.4130 - val_accuracy: 0.7927\n",
            "Epoch 15/100\n",
            "94/94 [==============================] - 0s 2ms/step - loss: 0.4146 - accuracy: 0.8110 - val_loss: 0.4149 - val_accuracy: 0.7883\n",
            "Epoch 16/100\n",
            "94/94 [==============================] - 0s 2ms/step - loss: 0.4098 - accuracy: 0.8157 - val_loss: 0.4247 - val_accuracy: 0.7936\n",
            "Epoch 17/100\n",
            "94/94 [==============================] - 0s 2ms/step - loss: 0.4096 - accuracy: 0.8067 - val_loss: 0.4193 - val_accuracy: 0.7989\n",
            "Epoch 18/100\n",
            "94/94 [==============================] - 0s 2ms/step - loss: 0.4129 - accuracy: 0.8114 - val_loss: 0.4168 - val_accuracy: 0.7972\n",
            "Epoch 19/100\n",
            "94/94 [==============================] - 0s 2ms/step - loss: 0.4131 - accuracy: 0.8067 - val_loss: 0.4238 - val_accuracy: 0.7865\n",
            "Epoch 20/100\n",
            "94/94 [==============================] - 0s 2ms/step - loss: 0.4085 - accuracy: 0.8077 - val_loss: 0.4185 - val_accuracy: 0.7909\n",
            "Epoch 21/100\n",
            "94/94 [==============================] - 0s 2ms/step - loss: 0.4098 - accuracy: 0.8110 - val_loss: 0.4165 - val_accuracy: 0.7980\n",
            "Epoch 22/100\n",
            "94/94 [==============================] - 0s 2ms/step - loss: 0.4130 - accuracy: 0.8093 - val_loss: 0.4209 - val_accuracy: 0.7909\n",
            "Epoch 23/100\n",
            "94/94 [==============================] - 0s 2ms/step - loss: 0.4083 - accuracy: 0.8167 - val_loss: 0.4163 - val_accuracy: 0.7954\n",
            "Epoch 24/100\n",
            "94/94 [==============================] - 0s 2ms/step - loss: 0.4120 - accuracy: 0.8124 - val_loss: 0.4154 - val_accuracy: 0.7954\n",
            "47/47 [==============================] - 0s 1ms/step - loss: 0.4168 - accuracy: 0.8064\n",
            "[CV] END learning_rate=0.007944460892804577, n_hidden=3, n_neurons=4; total time=   5.6s\n",
            "Epoch 1/100\n",
            "94/94 [==============================] - 1s 3ms/step - loss: 0.6418 - accuracy: 0.7088 - val_loss: 0.5966 - val_accuracy: 0.7420\n",
            "Epoch 2/100\n",
            "94/94 [==============================] - 0s 2ms/step - loss: 0.5662 - accuracy: 0.7536 - val_loss: 0.5139 - val_accuracy: 0.7740\n",
            "Epoch 3/100\n",
            "94/94 [==============================] - 0s 2ms/step - loss: 0.4849 - accuracy: 0.8057 - val_loss: 0.4737 - val_accuracy: 0.7838\n",
            "Epoch 4/100\n",
            "94/94 [==============================] - 0s 2ms/step - loss: 0.4626 - accuracy: 0.8043 - val_loss: 0.4583 - val_accuracy: 0.7918\n",
            "Epoch 5/100\n",
            "94/94 [==============================] - 0s 2ms/step - loss: 0.4522 - accuracy: 0.8027 - val_loss: 0.4511 - val_accuracy: 0.7945\n",
            "Epoch 6/100\n",
            "94/94 [==============================] - 0s 2ms/step - loss: 0.4419 - accuracy: 0.8090 - val_loss: 0.4446 - val_accuracy: 0.7945\n",
            "Epoch 7/100\n",
            "94/94 [==============================] - 0s 2ms/step - loss: 0.4377 - accuracy: 0.8104 - val_loss: 0.4484 - val_accuracy: 0.7891\n",
            "Epoch 8/100\n",
            "94/94 [==============================] - 0s 2ms/step - loss: 0.4345 - accuracy: 0.8077 - val_loss: 0.4354 - val_accuracy: 0.7936\n",
            "Epoch 9/100\n",
            "94/94 [==============================] - 0s 2ms/step - loss: 0.4299 - accuracy: 0.8077 - val_loss: 0.4420 - val_accuracy: 0.7909\n",
            "Epoch 10/100\n",
            "94/94 [==============================] - 0s 2ms/step - loss: 0.4289 - accuracy: 0.8104 - val_loss: 0.4271 - val_accuracy: 0.7954\n",
            "Epoch 11/100\n",
            "94/94 [==============================] - 0s 2ms/step - loss: 0.4290 - accuracy: 0.8137 - val_loss: 0.4277 - val_accuracy: 0.7972\n",
            "Epoch 12/100\n",
            "94/94 [==============================] - 0s 2ms/step - loss: 0.4284 - accuracy: 0.8020 - val_loss: 0.4454 - val_accuracy: 0.7838\n",
            "Epoch 13/100\n",
            "94/94 [==============================] - 0s 2ms/step - loss: 0.4267 - accuracy: 0.8043 - val_loss: 0.4538 - val_accuracy: 0.7874\n",
            "Epoch 14/100\n",
            "94/94 [==============================] - 0s 2ms/step - loss: 0.4258 - accuracy: 0.8030 - val_loss: 0.4209 - val_accuracy: 0.8016\n",
            "Epoch 15/100\n",
            "94/94 [==============================] - 0s 2ms/step - loss: 0.4279 - accuracy: 0.8043 - val_loss: 0.4218 - val_accuracy: 0.7980\n",
            "Epoch 16/100\n",
            "94/94 [==============================] - 0s 2ms/step - loss: 0.4250 - accuracy: 0.8070 - val_loss: 0.4200 - val_accuracy: 0.7972\n",
            "Epoch 17/100\n",
            "94/94 [==============================] - 0s 2ms/step - loss: 0.4201 - accuracy: 0.8080 - val_loss: 0.4378 - val_accuracy: 0.7900\n",
            "Epoch 18/100\n",
            "94/94 [==============================] - 0s 2ms/step - loss: 0.4222 - accuracy: 0.8053 - val_loss: 0.4200 - val_accuracy: 0.7963\n",
            "Epoch 19/100\n",
            "94/94 [==============================] - 0s 2ms/step - loss: 0.4206 - accuracy: 0.8110 - val_loss: 0.4412 - val_accuracy: 0.7865\n",
            "Epoch 20/100\n",
            "94/94 [==============================] - 0s 2ms/step - loss: 0.4191 - accuracy: 0.8073 - val_loss: 0.4431 - val_accuracy: 0.7936\n",
            "Epoch 21/100\n",
            "94/94 [==============================] - 0s 2ms/step - loss: 0.4186 - accuracy: 0.8110 - val_loss: 0.4225 - val_accuracy: 0.7936\n",
            "Epoch 22/100\n",
            "94/94 [==============================] - 0s 2ms/step - loss: 0.4200 - accuracy: 0.8037 - val_loss: 0.4266 - val_accuracy: 0.7936\n",
            "Epoch 23/100\n",
            "94/94 [==============================] - 0s 2ms/step - loss: 0.4172 - accuracy: 0.8100 - val_loss: 0.4284 - val_accuracy: 0.7936\n",
            "Epoch 24/100\n",
            "94/94 [==============================] - 0s 2ms/step - loss: 0.4184 - accuracy: 0.8107 - val_loss: 0.4177 - val_accuracy: 0.7998\n",
            "Epoch 25/100\n",
            "94/94 [==============================] - 0s 2ms/step - loss: 0.4167 - accuracy: 0.8100 - val_loss: 0.4168 - val_accuracy: 0.7989\n",
            "Epoch 26/100\n",
            "94/94 [==============================] - 0s 2ms/step - loss: 0.4180 - accuracy: 0.8067 - val_loss: 0.4188 - val_accuracy: 0.7998\n",
            "Epoch 27/100\n",
            "94/94 [==============================] - 0s 2ms/step - loss: 0.4175 - accuracy: 0.8104 - val_loss: 0.4238 - val_accuracy: 0.7936\n",
            "Epoch 28/100\n",
            "94/94 [==============================] - 0s 2ms/step - loss: 0.4147 - accuracy: 0.8050 - val_loss: 0.4182 - val_accuracy: 0.7963\n",
            "Epoch 29/100\n",
            "94/94 [==============================] - 0s 2ms/step - loss: 0.4154 - accuracy: 0.8097 - val_loss: 0.4214 - val_accuracy: 0.7936\n",
            "Epoch 30/100\n",
            "94/94 [==============================] - 0s 2ms/step - loss: 0.4157 - accuracy: 0.8053 - val_loss: 0.4252 - val_accuracy: 0.7785\n",
            "Epoch 31/100\n",
            "94/94 [==============================] - 0s 2ms/step - loss: 0.4149 - accuracy: 0.8063 - val_loss: 0.4177 - val_accuracy: 0.8025\n",
            "Epoch 32/100\n",
            "94/94 [==============================] - 0s 2ms/step - loss: 0.4133 - accuracy: 0.8134 - val_loss: 0.4235 - val_accuracy: 0.7927\n",
            "Epoch 33/100\n",
            "94/94 [==============================] - 0s 2ms/step - loss: 0.4176 - accuracy: 0.8030 - val_loss: 0.4206 - val_accuracy: 0.7891\n",
            "Epoch 34/100\n",
            "94/94 [==============================] - 0s 2ms/step - loss: 0.4154 - accuracy: 0.8114 - val_loss: 0.4184 - val_accuracy: 0.7972\n",
            "Epoch 35/100\n",
            "94/94 [==============================] - 0s 2ms/step - loss: 0.4132 - accuracy: 0.8127 - val_loss: 0.4223 - val_accuracy: 0.7945\n",
            "47/47 [==============================] - 0s 986us/step - loss: 0.4176 - accuracy: 0.8011\n",
            "[CV] END learning_rate=0.007944460892804577, n_hidden=3, n_neurons=4; total time=   7.3s\n",
            "Epoch 1/100\n",
            "94/94 [==============================] - 1s 3ms/step - loss: 0.4646 - accuracy: 0.7470 - val_loss: 0.4287 - val_accuracy: 0.7891\n",
            "Epoch 2/100\n",
            "94/94 [==============================] - 0s 2ms/step - loss: 0.4299 - accuracy: 0.7997 - val_loss: 0.4136 - val_accuracy: 0.7945\n",
            "Epoch 3/100\n",
            "94/94 [==============================] - 0s 2ms/step - loss: 0.4228 - accuracy: 0.8001 - val_loss: 0.4093 - val_accuracy: 0.7847\n",
            "Epoch 4/100\n",
            "94/94 [==============================] - 0s 2ms/step - loss: 0.4240 - accuracy: 0.7957 - val_loss: 0.4276 - val_accuracy: 0.7883\n",
            "Epoch 5/100\n",
            "94/94 [==============================] - 0s 2ms/step - loss: 0.4142 - accuracy: 0.8047 - val_loss: 0.4062 - val_accuracy: 0.7954\n",
            "Epoch 6/100\n",
            "94/94 [==============================] - 0s 2ms/step - loss: 0.4119 - accuracy: 0.8021 - val_loss: 0.4048 - val_accuracy: 0.7972\n",
            "Epoch 7/100\n",
            "94/94 [==============================] - 0s 2ms/step - loss: 0.4165 - accuracy: 0.8021 - val_loss: 0.4049 - val_accuracy: 0.8025\n",
            "Epoch 8/100\n",
            "94/94 [==============================] - 0s 2ms/step - loss: 0.4091 - accuracy: 0.8081 - val_loss: 0.4053 - val_accuracy: 0.7998\n",
            "Epoch 9/100\n",
            "94/94 [==============================] - 0s 2ms/step - loss: 0.4113 - accuracy: 0.8054 - val_loss: 0.4105 - val_accuracy: 0.7954\n",
            "Epoch 10/100\n",
            "94/94 [==============================] - 0s 2ms/step - loss: 0.4074 - accuracy: 0.8084 - val_loss: 0.4073 - val_accuracy: 0.7998\n",
            "Epoch 11/100\n",
            "94/94 [==============================] - 0s 2ms/step - loss: 0.4067 - accuracy: 0.8031 - val_loss: 0.4070 - val_accuracy: 0.7980\n",
            "Epoch 12/100\n",
            "94/94 [==============================] - 0s 2ms/step - loss: 0.4059 - accuracy: 0.8057 - val_loss: 0.4135 - val_accuracy: 0.7891\n",
            "Epoch 13/100\n",
            "94/94 [==============================] - 0s 2ms/step - loss: 0.4055 - accuracy: 0.8128 - val_loss: 0.4072 - val_accuracy: 0.7918\n",
            "Epoch 14/100\n",
            "94/94 [==============================] - 0s 2ms/step - loss: 0.4059 - accuracy: 0.8087 - val_loss: 0.4104 - val_accuracy: 0.7945\n",
            "Epoch 15/100\n",
            "94/94 [==============================] - 0s 2ms/step - loss: 0.4048 - accuracy: 0.8081 - val_loss: 0.4078 - val_accuracy: 0.7989\n",
            "Epoch 16/100\n",
            "94/94 [==============================] - 0s 2ms/step - loss: 0.4055 - accuracy: 0.8128 - val_loss: 0.4077 - val_accuracy: 0.7936\n",
            "47/47 [==============================] - 0s 1ms/step - loss: 0.4354 - accuracy: 0.8150\n",
            "[CV] END learning_rate=0.007944460892804577, n_hidden=3, n_neurons=4; total time=   5.6s\n",
            "Epoch 1/100\n",
            "94/94 [==============================] - 1s 3ms/step - loss: 0.4429 - accuracy: 0.7950 - val_loss: 0.4197 - val_accuracy: 0.7936\n",
            "Epoch 2/100\n",
            "94/94 [==============================] - 0s 2ms/step - loss: 0.4293 - accuracy: 0.7970 - val_loss: 0.4139 - val_accuracy: 0.7963\n",
            "Epoch 3/100\n",
            "94/94 [==============================] - 0s 2ms/step - loss: 0.4296 - accuracy: 0.7967 - val_loss: 0.4183 - val_accuracy: 0.7909\n",
            "Epoch 4/100\n",
            "94/94 [==============================] - 0s 2ms/step - loss: 0.4308 - accuracy: 0.8020 - val_loss: 0.4222 - val_accuracy: 0.7883\n",
            "Epoch 5/100\n",
            "94/94 [==============================] - 0s 2ms/step - loss: 0.4284 - accuracy: 0.7960 - val_loss: 0.4409 - val_accuracy: 0.7651\n",
            "Epoch 6/100\n",
            "94/94 [==============================] - 0s 2ms/step - loss: 0.4259 - accuracy: 0.7990 - val_loss: 0.4126 - val_accuracy: 0.7954\n",
            "Epoch 7/100\n",
            "94/94 [==============================] - 0s 2ms/step - loss: 0.4307 - accuracy: 0.7987 - val_loss: 0.4157 - val_accuracy: 0.7980\n",
            "Epoch 8/100\n",
            "94/94 [==============================] - 0s 2ms/step - loss: 0.4298 - accuracy: 0.7957 - val_loss: 0.4217 - val_accuracy: 0.7998\n",
            "Epoch 9/100\n",
            "94/94 [==============================] - 0s 2ms/step - loss: 0.4304 - accuracy: 0.8007 - val_loss: 0.4706 - val_accuracy: 0.7625\n",
            "Epoch 10/100\n",
            "94/94 [==============================] - 0s 2ms/step - loss: 0.4304 - accuracy: 0.7933 - val_loss: 0.4154 - val_accuracy: 0.7998\n",
            "Epoch 11/100\n",
            "94/94 [==============================] - 0s 2ms/step - loss: 0.4264 - accuracy: 0.7960 - val_loss: 0.4213 - val_accuracy: 0.7900\n",
            "Epoch 12/100\n",
            "94/94 [==============================] - 0s 2ms/step - loss: 0.4270 - accuracy: 0.7973 - val_loss: 0.4099 - val_accuracy: 0.7989\n",
            "Epoch 13/100\n",
            "94/94 [==============================] - 0s 2ms/step - loss: 0.4252 - accuracy: 0.8040 - val_loss: 0.4146 - val_accuracy: 0.7900\n",
            "Epoch 14/100\n",
            "94/94 [==============================] - 0s 2ms/step - loss: 0.4276 - accuracy: 0.7937 - val_loss: 0.4149 - val_accuracy: 0.7954\n",
            "Epoch 15/100\n",
            "94/94 [==============================] - 0s 2ms/step - loss: 0.4256 - accuracy: 0.8003 - val_loss: 0.4273 - val_accuracy: 0.7820\n",
            "Epoch 16/100\n",
            "94/94 [==============================] - 0s 2ms/step - loss: 0.4264 - accuracy: 0.7940 - val_loss: 0.4175 - val_accuracy: 0.7865\n",
            "Epoch 17/100\n",
            "94/94 [==============================] - 0s 2ms/step - loss: 0.4341 - accuracy: 0.7927 - val_loss: 0.4396 - val_accuracy: 0.7731\n",
            "Epoch 18/100\n",
            "94/94 [==============================] - 0s 2ms/step - loss: 0.4237 - accuracy: 0.7987 - val_loss: 0.4357 - val_accuracy: 0.7829\n",
            "Epoch 19/100\n",
            "94/94 [==============================] - 0s 2ms/step - loss: 0.4266 - accuracy: 0.8040 - val_loss: 0.4129 - val_accuracy: 0.7963\n",
            "Epoch 20/100\n",
            "94/94 [==============================] - 0s 2ms/step - loss: 0.4260 - accuracy: 0.8013 - val_loss: 0.4137 - val_accuracy: 0.7954\n",
            "Epoch 21/100\n",
            "94/94 [==============================] - 0s 2ms/step - loss: 0.4312 - accuracy: 0.7967 - val_loss: 0.4274 - val_accuracy: 0.7874\n",
            "Epoch 22/100\n",
            "94/94 [==============================] - 0s 2ms/step - loss: 0.4254 - accuracy: 0.7967 - val_loss: 0.4126 - val_accuracy: 0.8016\n",
            "47/47 [==============================] - 0s 1ms/step - loss: 0.4174 - accuracy: 0.7991\n",
            "[CV] END learning_rate=0.025696364205231276, n_hidden=0, n_neurons=3; total time=   4.8s\n",
            "Epoch 1/100\n",
            "94/94 [==============================] - 1s 3ms/step - loss: 0.4507 - accuracy: 0.7836 - val_loss: 0.4166 - val_accuracy: 0.7963\n",
            "Epoch 2/100\n",
            "94/94 [==============================] - 0s 2ms/step - loss: 0.4297 - accuracy: 0.8057 - val_loss: 0.4475 - val_accuracy: 0.7794\n",
            "Epoch 3/100\n",
            "94/94 [==============================] - 0s 1ms/step - loss: 0.4349 - accuracy: 0.7967 - val_loss: 0.4310 - val_accuracy: 0.7838\n",
            "Epoch 4/100\n",
            "94/94 [==============================] - 0s 2ms/step - loss: 0.4313 - accuracy: 0.7977 - val_loss: 0.4218 - val_accuracy: 0.7918\n",
            "Epoch 5/100\n",
            "94/94 [==============================] - 0s 2ms/step - loss: 0.4295 - accuracy: 0.8013 - val_loss: 0.4185 - val_accuracy: 0.7918\n",
            "Epoch 6/100\n",
            "94/94 [==============================] - 0s 2ms/step - loss: 0.4307 - accuracy: 0.7993 - val_loss: 0.4129 - val_accuracy: 0.7989\n",
            "Epoch 7/100\n",
            "94/94 [==============================] - 0s 2ms/step - loss: 0.4335 - accuracy: 0.7980 - val_loss: 0.4127 - val_accuracy: 0.7936\n",
            "Epoch 8/100\n",
            "94/94 [==============================] - 0s 2ms/step - loss: 0.4305 - accuracy: 0.7987 - val_loss: 0.4167 - val_accuracy: 0.7945\n",
            "Epoch 9/100\n",
            "94/94 [==============================] - 0s 2ms/step - loss: 0.4310 - accuracy: 0.8010 - val_loss: 0.4187 - val_accuracy: 0.7936\n",
            "Epoch 10/100\n",
            "94/94 [==============================] - 0s 2ms/step - loss: 0.4310 - accuracy: 0.8023 - val_loss: 0.4193 - val_accuracy: 0.7954\n",
            "Epoch 11/100\n",
            "94/94 [==============================] - 0s 2ms/step - loss: 0.4293 - accuracy: 0.8020 - val_loss: 0.4422 - val_accuracy: 0.7714\n",
            "Epoch 12/100\n",
            "94/94 [==============================] - 0s 2ms/step - loss: 0.4286 - accuracy: 0.8043 - val_loss: 0.4214 - val_accuracy: 0.7838\n",
            "Epoch 13/100\n",
            "94/94 [==============================] - 0s 2ms/step - loss: 0.4345 - accuracy: 0.8017 - val_loss: 0.4172 - val_accuracy: 0.7927\n",
            "Epoch 14/100\n",
            "94/94 [==============================] - 0s 2ms/step - loss: 0.4319 - accuracy: 0.8033 - val_loss: 0.4192 - val_accuracy: 0.7927\n",
            "Epoch 15/100\n",
            "94/94 [==============================] - 0s 2ms/step - loss: 0.4274 - accuracy: 0.8087 - val_loss: 0.4278 - val_accuracy: 0.7847\n",
            "Epoch 16/100\n",
            "94/94 [==============================] - 0s 2ms/step - loss: 0.4336 - accuracy: 0.8020 - val_loss: 0.4086 - val_accuracy: 0.8007\n",
            "Epoch 17/100\n",
            "94/94 [==============================] - 0s 2ms/step - loss: 0.4291 - accuracy: 0.8053 - val_loss: 0.4269 - val_accuracy: 0.7918\n",
            "Epoch 18/100\n",
            "94/94 [==============================] - 0s 2ms/step - loss: 0.4282 - accuracy: 0.8013 - val_loss: 0.4279 - val_accuracy: 0.7891\n",
            "Epoch 19/100\n",
            "94/94 [==============================] - 0s 2ms/step - loss: 0.4295 - accuracy: 0.7980 - val_loss: 0.4104 - val_accuracy: 0.7963\n",
            "Epoch 20/100\n",
            "94/94 [==============================] - 0s 2ms/step - loss: 0.4304 - accuracy: 0.7973 - val_loss: 0.4190 - val_accuracy: 0.7856\n",
            "Epoch 21/100\n",
            "94/94 [==============================] - 0s 2ms/step - loss: 0.4315 - accuracy: 0.7993 - val_loss: 0.4215 - val_accuracy: 0.7900\n",
            "Epoch 22/100\n",
            "94/94 [==============================] - 0s 2ms/step - loss: 0.4272 - accuracy: 0.8027 - val_loss: 0.4150 - val_accuracy: 0.7927\n",
            "Epoch 23/100\n",
            "94/94 [==============================] - 0s 2ms/step - loss: 0.4258 - accuracy: 0.8083 - val_loss: 0.4094 - val_accuracy: 0.7998\n",
            "Epoch 24/100\n",
            "94/94 [==============================] - 0s 2ms/step - loss: 0.4281 - accuracy: 0.8077 - val_loss: 0.4389 - val_accuracy: 0.7802\n",
            "Epoch 25/100\n",
            "94/94 [==============================] - 0s 2ms/step - loss: 0.4309 - accuracy: 0.8063 - val_loss: 0.4143 - val_accuracy: 0.7980\n",
            "Epoch 26/100\n",
            "94/94 [==============================] - 0s 2ms/step - loss: 0.4274 - accuracy: 0.8050 - val_loss: 0.4573 - val_accuracy: 0.7660\n",
            "47/47 [==============================] - 0s 1ms/step - loss: 0.4392 - accuracy: 0.7784\n",
            "[CV] END learning_rate=0.025696364205231276, n_hidden=0, n_neurons=3; total time=   5.3s\n",
            "Epoch 1/100\n",
            "94/94 [==============================] - 1s 3ms/step - loss: 0.4378 - accuracy: 0.7904 - val_loss: 0.4188 - val_accuracy: 0.7945\n",
            "Epoch 2/100\n",
            "94/94 [==============================] - 0s 2ms/step - loss: 0.4177 - accuracy: 0.8011 - val_loss: 0.4272 - val_accuracy: 0.7874\n",
            "Epoch 3/100\n",
            "94/94 [==============================] - 0s 2ms/step - loss: 0.4175 - accuracy: 0.7994 - val_loss: 0.4208 - val_accuracy: 0.7883\n",
            "Epoch 4/100\n",
            "94/94 [==============================] - 0s 2ms/step - loss: 0.4244 - accuracy: 0.7974 - val_loss: 0.4520 - val_accuracy: 0.7714\n",
            "Epoch 5/100\n",
            "94/94 [==============================] - 0s 2ms/step - loss: 0.4226 - accuracy: 0.7981 - val_loss: 0.4202 - val_accuracy: 0.7829\n",
            "Epoch 6/100\n",
            "94/94 [==============================] - 0s 2ms/step - loss: 0.4186 - accuracy: 0.7981 - val_loss: 0.4441 - val_accuracy: 0.7794\n",
            "Epoch 7/100\n",
            "94/94 [==============================] - 0s 2ms/step - loss: 0.4198 - accuracy: 0.7981 - val_loss: 0.4289 - val_accuracy: 0.7883\n",
            "Epoch 8/100\n",
            "94/94 [==============================] - 0s 2ms/step - loss: 0.4204 - accuracy: 0.7941 - val_loss: 0.4167 - val_accuracy: 0.7900\n",
            "Epoch 9/100\n",
            "94/94 [==============================] - 0s 2ms/step - loss: 0.4173 - accuracy: 0.7987 - val_loss: 0.4208 - val_accuracy: 0.7883\n",
            "Epoch 10/100\n",
            "94/94 [==============================] - 0s 2ms/step - loss: 0.4193 - accuracy: 0.7977 - val_loss: 0.4147 - val_accuracy: 0.7883\n",
            "Epoch 11/100\n",
            "94/94 [==============================] - 0s 2ms/step - loss: 0.4168 - accuracy: 0.8051 - val_loss: 0.4147 - val_accuracy: 0.7874\n",
            "Epoch 12/100\n",
            "94/94 [==============================] - 0s 2ms/step - loss: 0.4167 - accuracy: 0.8047 - val_loss: 0.4251 - val_accuracy: 0.7847\n",
            "Epoch 13/100\n",
            "94/94 [==============================] - 0s 2ms/step - loss: 0.4165 - accuracy: 0.8007 - val_loss: 0.4192 - val_accuracy: 0.7865\n",
            "Epoch 14/100\n",
            "94/94 [==============================] - 0s 2ms/step - loss: 0.4243 - accuracy: 0.7924 - val_loss: 0.4175 - val_accuracy: 0.7829\n",
            "Epoch 15/100\n",
            "94/94 [==============================] - 0s 2ms/step - loss: 0.4167 - accuracy: 0.8024 - val_loss: 0.4273 - val_accuracy: 0.7918\n",
            "Epoch 16/100\n",
            "94/94 [==============================] - 0s 2ms/step - loss: 0.4157 - accuracy: 0.8014 - val_loss: 0.4097 - val_accuracy: 0.7891\n",
            "Epoch 17/100\n",
            "94/94 [==============================] - 0s 2ms/step - loss: 0.4139 - accuracy: 0.8044 - val_loss: 0.4141 - val_accuracy: 0.7891\n",
            "Epoch 18/100\n",
            "94/94 [==============================] - 0s 2ms/step - loss: 0.4146 - accuracy: 0.8027 - val_loss: 0.4202 - val_accuracy: 0.7847\n",
            "Epoch 19/100\n",
            "94/94 [==============================] - 0s 2ms/step - loss: 0.4180 - accuracy: 0.7997 - val_loss: 0.4145 - val_accuracy: 0.7945\n",
            "Epoch 20/100\n",
            "94/94 [==============================] - 0s 2ms/step - loss: 0.4178 - accuracy: 0.7994 - val_loss: 0.4122 - val_accuracy: 0.7954\n",
            "Epoch 21/100\n",
            "94/94 [==============================] - 0s 2ms/step - loss: 0.4167 - accuracy: 0.8041 - val_loss: 0.4242 - val_accuracy: 0.7945\n",
            "Epoch 22/100\n",
            "94/94 [==============================] - 0s 2ms/step - loss: 0.4150 - accuracy: 0.8011 - val_loss: 0.4259 - val_accuracy: 0.7731\n",
            "Epoch 23/100\n",
            "94/94 [==============================] - 0s 2ms/step - loss: 0.4171 - accuracy: 0.7984 - val_loss: 0.4169 - val_accuracy: 0.7900\n",
            "Epoch 24/100\n",
            "94/94 [==============================] - 0s 2ms/step - loss: 0.4217 - accuracy: 0.7901 - val_loss: 0.4154 - val_accuracy: 0.7963\n",
            "Epoch 25/100\n",
            "94/94 [==============================] - 0s 2ms/step - loss: 0.4210 - accuracy: 0.7997 - val_loss: 0.4153 - val_accuracy: 0.7900\n",
            "Epoch 26/100\n",
            "94/94 [==============================] - 0s 2ms/step - loss: 0.4127 - accuracy: 0.8057 - val_loss: 0.4119 - val_accuracy: 0.7954\n",
            "47/47 [==============================] - 0s 1ms/step - loss: 0.4533 - accuracy: 0.8056\n",
            "[CV] END learning_rate=0.025696364205231276, n_hidden=0, n_neurons=3; total time=   5.5s\n",
            "Epoch 1/100\n",
            "141/141 [==============================] - 1s 2ms/step - loss: 0.5045 - accuracy: 0.7449 - val_loss: 0.4330 - val_accuracy: 0.7731\n",
            "Epoch 2/100\n",
            "141/141 [==============================] - 0s 2ms/step - loss: 0.4343 - accuracy: 0.8006 - val_loss: 0.4214 - val_accuracy: 0.7900\n",
            "Epoch 3/100\n",
            "141/141 [==============================] - 0s 2ms/step - loss: 0.4240 - accuracy: 0.8048 - val_loss: 0.4167 - val_accuracy: 0.7954\n",
            "Epoch 4/100\n",
            "141/141 [==============================] - 0s 2ms/step - loss: 0.4204 - accuracy: 0.8064 - val_loss: 0.4142 - val_accuracy: 0.7954\n",
            "Epoch 5/100\n",
            "141/141 [==============================] - 0s 2ms/step - loss: 0.4191 - accuracy: 0.8081 - val_loss: 0.4131 - val_accuracy: 0.7954\n",
            "Epoch 6/100\n",
            "141/141 [==============================] - 0s 2ms/step - loss: 0.4181 - accuracy: 0.8061 - val_loss: 0.4168 - val_accuracy: 0.7936\n",
            "Epoch 7/100\n",
            "141/141 [==============================] - 0s 2ms/step - loss: 0.4176 - accuracy: 0.8037 - val_loss: 0.4207 - val_accuracy: 0.7829\n",
            "Epoch 8/100\n",
            "141/141 [==============================] - 0s 2ms/step - loss: 0.4182 - accuracy: 0.8064 - val_loss: 0.4147 - val_accuracy: 0.8007\n",
            "Epoch 9/100\n",
            "141/141 [==============================] - 0s 2ms/step - loss: 0.4177 - accuracy: 0.8044 - val_loss: 0.4162 - val_accuracy: 0.7883\n",
            "Epoch 10/100\n",
            "141/141 [==============================] - 0s 2ms/step - loss: 0.4175 - accuracy: 0.8066 - val_loss: 0.4144 - val_accuracy: 0.7927\n",
            "Epoch 11/100\n",
            "141/141 [==============================] - 0s 2ms/step - loss: 0.4172 - accuracy: 0.8064 - val_loss: 0.4145 - val_accuracy: 0.7909\n",
            "Epoch 12/100\n",
            "141/141 [==============================] - 0s 2ms/step - loss: 0.4173 - accuracy: 0.8035 - val_loss: 0.4148 - val_accuracy: 0.7891\n",
            "Epoch 13/100\n",
            "141/141 [==============================] - 0s 2ms/step - loss: 0.4166 - accuracy: 0.8044 - val_loss: 0.4118 - val_accuracy: 0.7972\n",
            "Epoch 14/100\n",
            "141/141 [==============================] - 0s 2ms/step - loss: 0.4175 - accuracy: 0.8048 - val_loss: 0.4115 - val_accuracy: 0.7998\n",
            "Epoch 15/100\n",
            "141/141 [==============================] - 0s 2ms/step - loss: 0.4170 - accuracy: 0.8055 - val_loss: 0.4145 - val_accuracy: 0.7945\n",
            "Epoch 16/100\n",
            "141/141 [==============================] - 0s 2ms/step - loss: 0.4166 - accuracy: 0.8046 - val_loss: 0.4107 - val_accuracy: 0.7954\n",
            "Epoch 17/100\n",
            "141/141 [==============================] - 0s 2ms/step - loss: 0.4173 - accuracy: 0.8073 - val_loss: 0.4112 - val_accuracy: 0.7980\n",
            "Epoch 18/100\n",
            "141/141 [==============================] - 0s 2ms/step - loss: 0.4159 - accuracy: 0.8050 - val_loss: 0.4253 - val_accuracy: 0.7829\n",
            "Epoch 19/100\n",
            "141/141 [==============================] - 0s 2ms/step - loss: 0.4155 - accuracy: 0.8075 - val_loss: 0.4124 - val_accuracy: 0.7954\n",
            "Epoch 20/100\n",
            "141/141 [==============================] - 0s 2ms/step - loss: 0.4164 - accuracy: 0.8075 - val_loss: 0.4112 - val_accuracy: 0.7972\n",
            "Epoch 21/100\n",
            "141/141 [==============================] - 0s 2ms/step - loss: 0.4158 - accuracy: 0.8059 - val_loss: 0.4102 - val_accuracy: 0.7972\n",
            "Epoch 22/100\n",
            "141/141 [==============================] - 0s 2ms/step - loss: 0.4166 - accuracy: 0.8077 - val_loss: 0.4120 - val_accuracy: 0.7963\n",
            "Epoch 23/100\n",
            "141/141 [==============================] - 0s 2ms/step - loss: 0.4160 - accuracy: 0.8053 - val_loss: 0.4134 - val_accuracy: 0.7989\n",
            "Epoch 24/100\n",
            "141/141 [==============================] - 0s 2ms/step - loss: 0.4161 - accuracy: 0.8064 - val_loss: 0.4098 - val_accuracy: 0.7989\n",
            "Epoch 25/100\n",
            "141/141 [==============================] - 0s 2ms/step - loss: 0.4164 - accuracy: 0.8064 - val_loss: 0.4129 - val_accuracy: 0.7954\n",
            "Epoch 26/100\n",
            "141/141 [==============================] - 0s 2ms/step - loss: 0.4154 - accuracy: 0.8039 - val_loss: 0.4123 - val_accuracy: 0.7998\n",
            "Epoch 27/100\n",
            "141/141 [==============================] - 0s 2ms/step - loss: 0.4158 - accuracy: 0.8066 - val_loss: 0.4094 - val_accuracy: 0.7980\n",
            "Epoch 28/100\n",
            "141/141 [==============================] - 0s 2ms/step - loss: 0.4161 - accuracy: 0.8046 - val_loss: 0.4124 - val_accuracy: 0.7980\n",
            "Epoch 29/100\n",
            "141/141 [==============================] - 0s 2ms/step - loss: 0.4157 - accuracy: 0.8057 - val_loss: 0.4101 - val_accuracy: 0.8007\n",
            "Epoch 30/100\n",
            "141/141 [==============================] - 0s 2ms/step - loss: 0.4164 - accuracy: 0.8061 - val_loss: 0.4145 - val_accuracy: 0.7936\n",
            "Epoch 31/100\n",
            "141/141 [==============================] - 0s 2ms/step - loss: 0.4157 - accuracy: 0.8053 - val_loss: 0.4147 - val_accuracy: 0.7918\n",
            "Epoch 32/100\n",
            "141/141 [==============================] - 0s 2ms/step - loss: 0.4153 - accuracy: 0.8057 - val_loss: 0.4148 - val_accuracy: 0.7918\n",
            "Epoch 33/100\n",
            "141/141 [==============================] - 0s 2ms/step - loss: 0.4160 - accuracy: 0.8048 - val_loss: 0.4121 - val_accuracy: 0.8025\n",
            "Epoch 34/100\n",
            "141/141 [==============================] - 0s 2ms/step - loss: 0.4154 - accuracy: 0.8084 - val_loss: 0.4111 - val_accuracy: 0.7989\n",
            "Epoch 35/100\n",
            "141/141 [==============================] - 0s 3ms/step - loss: 0.4165 - accuracy: 0.8039 - val_loss: 0.4109 - val_accuracy: 0.7972\n",
            "Epoch 36/100\n",
            "141/141 [==============================] - 0s 2ms/step - loss: 0.4159 - accuracy: 0.8079 - val_loss: 0.4092 - val_accuracy: 0.7963\n",
            "Epoch 37/100\n",
            "141/141 [==============================] - 0s 2ms/step - loss: 0.4156 - accuracy: 0.8039 - val_loss: 0.4162 - val_accuracy: 0.7918\n",
            "Epoch 38/100\n",
            "141/141 [==============================] - 0s 2ms/step - loss: 0.4158 - accuracy: 0.8061 - val_loss: 0.4117 - val_accuracy: 0.7963\n",
            "Epoch 39/100\n",
            "141/141 [==============================] - 0s 2ms/step - loss: 0.4160 - accuracy: 0.8070 - val_loss: 0.4128 - val_accuracy: 0.7980\n",
            "Epoch 40/100\n",
            "141/141 [==============================] - 0s 2ms/step - loss: 0.4155 - accuracy: 0.8075 - val_loss: 0.4121 - val_accuracy: 0.7989\n",
            "Epoch 41/100\n",
            "141/141 [==============================] - 0s 2ms/step - loss: 0.4166 - accuracy: 0.8061 - val_loss: 0.4151 - val_accuracy: 0.7927\n",
            "Epoch 42/100\n",
            "141/141 [==============================] - 0s 2ms/step - loss: 0.4162 - accuracy: 0.8030 - val_loss: 0.4104 - val_accuracy: 0.7998\n",
            "Epoch 43/100\n",
            "141/141 [==============================] - 0s 2ms/step - loss: 0.4160 - accuracy: 0.8068 - val_loss: 0.4151 - val_accuracy: 0.7900\n",
            "Epoch 44/100\n",
            "141/141 [==============================] - 0s 2ms/step - loss: 0.4156 - accuracy: 0.8068 - val_loss: 0.4096 - val_accuracy: 0.7998\n",
            "Epoch 45/100\n",
            "141/141 [==============================] - 0s 2ms/step - loss: 0.4156 - accuracy: 0.8044 - val_loss: 0.4103 - val_accuracy: 0.7972\n",
            "Epoch 46/100\n",
            "141/141 [==============================] - 0s 2ms/step - loss: 0.4156 - accuracy: 0.8068 - val_loss: 0.4122 - val_accuracy: 0.8007\n"
          ]
        },
        {
          "data": {
            "text/plain": [
              "RandomizedSearchCV(cv=3,\n",
              "                   estimator=<keras.wrappers.scikit_learn.KerasRegressor object at 0x7ff9e4292c50>,\n",
              "                   param_distributions={'learning_rate': [0.0006718218961904368,\n",
              "                                                          0.0009080909628274834,\n",
              "                                                          0.00955289886085042,\n",
              "                                                          0.02158573925008178,\n",
              "                                                          0.00778254053717612,\n",
              "                                                          0.0006947673240085873,\n",
              "                                                          0.0016690205596848963,\n",
              "                                                          0.00033081191765297046,\n",
              "                                                          0.007080211652501593,\n",
              "                                                          0.00098458651536851...\n",
              "                                                          0.01410639854970975,\n",
              "                                                          0.001289517688413503,\n",
              "                                                          0.0010902130614918566,\n",
              "                                                          0.0007636457467374354,\n",
              "                                                          0.02580633244669673,\n",
              "                                                          0.020119046015312003,\n",
              "                                                          0.001454912153344899,\n",
              "                                                          0.001101472185128944,\n",
              "                                                          0.004219659780063945,\n",
              "                                                          0.0009980910348788314,\n",
              "                                                          0.012631629915598247, ...],\n",
              "                                        'n_hidden': [0, 1, 2, 3],\n",
              "                                        'n_neurons': [1, 2, 3, 4, 5, 6, 7, 8, 9,\n",
              "                                                      10, 11, 12, 13, 14, 15,\n",
              "                                                      16, 17, 18, 19, 20, 21,\n",
              "                                                      22, 23, 24, 25, 26, 27,\n",
              "                                                      28, 29, 30, ...]},\n",
              "                   verbose=2)"
            ]
          },
          "execution_count": 69,
          "metadata": {},
          "output_type": "execute_result"
        }
      ],
      "source": [
        "# Apply randomizedsearchcv for finding best parameters for the sequential API model\n",
        "param_distribs = {\n",
        "    \"n_hidden\": [0, 1, 2, 3],\n",
        "    \"n_neurons\": np.arange(1, 100)               .tolist(),\n",
        "    \"learning_rate\": reciprocal(3e-4, 3e-2)      .rvs(1000).tolist(),\n",
        "}\n",
        "\n",
        "rnd_search_cv = RandomizedSearchCV(keras_reg, param_distribs, n_iter=10, cv=3, verbose=2)\n",
        "rnd_search_cv.fit(x_train, y_train, epochs=100,\n",
        "                  validation_data=(x_val, y_val),\n",
        "                  callbacks=[keras.callbacks.EarlyStopping(patience=10)])"
      ]
    },
    {
      "cell_type": "code",
      "execution_count": 70,
      "metadata": {
        "colab": {
          "base_uri": "https://localhost:8080/"
        },
        "id": "lEkZuRCjQLaS",
        "outputId": "be0d82b0-dc18-4ca6-c357-c82efc1a54c5"
      },
      "outputs": [
        {
          "data": {
            "text/plain": [
              "{'n_neurons': 44, 'n_hidden': 0, 'learning_rate': 0.003785785054358825}"
            ]
          },
          "execution_count": 70,
          "metadata": {},
          "output_type": "execute_result"
        }
      ],
      "source": [
        "# Check best parameters for the sequential API model\n",
        "rnd_search_cv.best_params_"
      ]
    },
    {
      "cell_type": "code",
      "execution_count": 71,
      "metadata": {
        "colab": {
          "base_uri": "https://localhost:8080/"
        },
        "id": "1TUas623SfR3",
        "outputId": "59763aa9-8e46-47ac-9788-3ce4e6ad431d"
      },
      "outputs": [
        {
          "data": {
            "text/plain": [
              "<keras.engine.sequential.Sequential at 0x7ff9d1c43c10>"
            ]
          },
          "execution_count": 71,
          "metadata": {},
          "output_type": "execute_result"
        }
      ],
      "source": [
        "# Define the hyperparameter tuned sequential API model\n",
        "sqt_model_hyper = rnd_search_cv.best_estimator_.model\n",
        "sqt_model_hyper"
      ]
    },
    {
      "cell_type": "markdown",
      "metadata": {
        "id": "q8yADtV0aMDe"
      },
      "source": [
        "### Hyperparameter Tuned Sequential API"
      ]
    },
    {
      "cell_type": "code",
      "execution_count": 72,
      "metadata": {
        "colab": {
          "base_uri": "https://localhost:8080/"
        },
        "id": "KPKo285yaRdt",
        "outputId": "0602ccb9-baf9-4b48-feff-77d0913f4d84"
      },
      "outputs": [
        {
          "name": "stdout",
          "output_type": "stream",
          "text": [
            "Epoch 1/20\n",
            "141/141 [==============================] - 0s 2ms/step - loss: 0.4152 - accuracy: 0.8057 - val_loss: 0.4108 - val_accuracy: 0.7980\n",
            "Epoch 2/20\n",
            "141/141 [==============================] - 0s 1ms/step - loss: 0.4153 - accuracy: 0.8070 - val_loss: 0.4147 - val_accuracy: 0.7945\n",
            "Epoch 3/20\n",
            "141/141 [==============================] - 0s 1ms/step - loss: 0.4158 - accuracy: 0.8077 - val_loss: 0.4167 - val_accuracy: 0.7900\n",
            "Epoch 4/20\n",
            "141/141 [==============================] - 0s 1ms/step - loss: 0.4155 - accuracy: 0.8079 - val_loss: 0.4148 - val_accuracy: 0.7980\n",
            "Epoch 5/20\n",
            "141/141 [==============================] - 0s 1ms/step - loss: 0.4156 - accuracy: 0.8064 - val_loss: 0.4130 - val_accuracy: 0.8016\n",
            "Epoch 6/20\n",
            "141/141 [==============================] - 0s 1ms/step - loss: 0.4158 - accuracy: 0.8075 - val_loss: 0.4195 - val_accuracy: 0.7883\n",
            "Epoch 7/20\n",
            "141/141 [==============================] - 0s 1ms/step - loss: 0.4145 - accuracy: 0.8075 - val_loss: 0.4184 - val_accuracy: 0.7900\n",
            "Epoch 8/20\n",
            "141/141 [==============================] - 0s 1ms/step - loss: 0.4154 - accuracy: 0.8055 - val_loss: 0.4138 - val_accuracy: 0.7954\n",
            "Epoch 9/20\n",
            "141/141 [==============================] - 0s 1ms/step - loss: 0.4154 - accuracy: 0.8079 - val_loss: 0.4228 - val_accuracy: 0.7874\n",
            "Epoch 10/20\n",
            "141/141 [==============================] - 0s 1ms/step - loss: 0.4171 - accuracy: 0.8081 - val_loss: 0.4216 - val_accuracy: 0.7874\n",
            "Epoch 11/20\n",
            "141/141 [==============================] - 0s 1ms/step - loss: 0.4165 - accuracy: 0.8075 - val_loss: 0.4096 - val_accuracy: 0.7989\n",
            "Epoch 12/20\n",
            "141/141 [==============================] - 0s 1ms/step - loss: 0.4168 - accuracy: 0.8075 - val_loss: 0.4183 - val_accuracy: 0.7883\n",
            "Epoch 13/20\n",
            "141/141 [==============================] - 0s 1ms/step - loss: 0.4152 - accuracy: 0.8070 - val_loss: 0.4137 - val_accuracy: 0.7972\n",
            "Epoch 14/20\n",
            "141/141 [==============================] - 0s 1ms/step - loss: 0.4147 - accuracy: 0.8077 - val_loss: 0.4206 - val_accuracy: 0.7891\n",
            "Epoch 15/20\n",
            "141/141 [==============================] - 0s 2ms/step - loss: 0.4164 - accuracy: 0.8055 - val_loss: 0.4140 - val_accuracy: 0.7989\n",
            "Epoch 16/20\n",
            "141/141 [==============================] - 0s 1ms/step - loss: 0.4160 - accuracy: 0.8099 - val_loss: 0.4175 - val_accuracy: 0.7874\n",
            "Epoch 17/20\n",
            "141/141 [==============================] - 0s 2ms/step - loss: 0.4153 - accuracy: 0.8039 - val_loss: 0.4191 - val_accuracy: 0.7883\n",
            "Epoch 18/20\n",
            "141/141 [==============================] - 0s 1ms/step - loss: 0.4152 - accuracy: 0.8077 - val_loss: 0.4126 - val_accuracy: 0.7998\n",
            "Epoch 19/20\n",
            "141/141 [==============================] - 0s 1ms/step - loss: 0.4152 - accuracy: 0.8086 - val_loss: 0.4134 - val_accuracy: 0.7989\n",
            "Epoch 20/20\n",
            "141/141 [==============================] - 0s 1ms/step - loss: 0.4154 - accuracy: 0.8081 - val_loss: 0.4157 - val_accuracy: 0.7909\n"
          ]
        }
      ],
      "source": [
        "# Training the data with hyperparameter tuned sequential model\n",
        "history_sqt_hyper = sqt_model_hyper.fit(train_dataset, epochs=20, validation_data=val_dataset)"
      ]
    },
    {
      "cell_type": "code",
      "execution_count": 73,
      "metadata": {
        "colab": {
          "base_uri": "https://localhost:8080/",
          "height": 644
        },
        "id": "H5NvheKUfVwY",
        "outputId": "532747b4-e529-4df7-fb42-28a9fc686769"
      },
      "outputs": [
        {
          "data": {
            "text/plain": [
              "<function matplotlib.pyplot.show(*args, **kw)>"
            ]
          },
          "execution_count": 73,
          "metadata": {},
          "output_type": "execute_result"
        },
        {
          "data": {
            "image/png": "[encoded data removed]",
            "text/plain": [
              "<Figure size 1440x720 with 1 Axes>"
            ]
          },
          "metadata": {},
          "output_type": "display_data"
        }
      ],
      "source": [
        "# Graph loss and accuracy of the model based on epochs\n",
        "metrics = pd.DataFrame(history_sqt.history)\n",
        "metrics.plot(figsize=(20, 10))\n",
        "plt.title(\"Graph of Model Loss and Accuracy in Comparison to Validation Data\")\n",
        "plt.xlabel('epochs')\n",
        "plt.show"
      ]
    },
    {
      "cell_type": "markdown",
      "metadata": {
        "id": "a2Ry2XThfesi"
      },
      "source": [
        "From the result of the accuracy graph, we can see that for both the train data and the validation data, accuracy went up as epochs value increase, while the loss went down as epochs value increase. This show a very positive result for our model.\n",
        "\n",
        "Additionally, we can also see that between the value of train data and the validation data there are smaller difference, compared to the first sequential API model that we made. Although train data is performing better than the validation data, the model is a good fit, since the difference between accuracy and loss in the train data and the validation data is not that big, as seen from the graph. \n"
      ]
    },
    {
      "cell_type": "code",
      "execution_count": 74,
      "metadata": {
        "colab": {
          "base_uri": "https://localhost:8080/"
        },
        "id": "Y7zJZQvkaodv",
        "outputId": "2641a926-fdac-4e38-e9f4-077e8a1c4a99"
      },
      "outputs": [
        {
          "name": "stdout",
          "output_type": "stream",
          "text": [
            "44/44 [==============================] - 0s 903us/step - loss: 0.4347 - accuracy: 0.7865\n"
          ]
        },
        {
          "data": {
            "text/plain": [
              "[0.4347156584262848, 0.7864768505096436]"
            ]
          },
          "execution_count": 74,
          "metadata": {},
          "output_type": "execute_result"
        }
      ],
      "source": [
        "# Measure model evaluate\n",
        "sqt_model_hyper.evaluate(x_test, y_test)"
      ]
    },
    {
      "cell_type": "code",
      "execution_count": 75,
      "metadata": {
        "colab": {
          "base_uri": "https://localhost:8080/"
        },
        "id": "gAV9vgjtgDD6",
        "outputId": "691fc944-74e4-4fff-bf6a-ee0b94d9d024"
      },
      "outputs": [
        {
          "name": "stdout",
          "output_type": "stream",
          "text": [
            "44/44 [==============================] - 0s 912us/step\n"
          ]
        }
      ],
      "source": [
        "# Calculate y_pred value for sequential API and append into list\n",
        "y_pred = sqt_model_hyper.predict(x_test)\n",
        "y_pred_actual_sqt_hyper = []\n",
        "\n",
        "for ele in y_pred:\n",
        "  if ele > 0.5:\n",
        "    y_pred_actual_sqt_hyper.append(1)\n",
        "  else :\n",
        "    y_pred_actual_sqt_hyper.append(0)"
      ]
    },
    {
      "cell_type": "code",
      "execution_count": 76,
      "metadata": {
        "colab": {
          "base_uri": "https://localhost:8080/",
          "height": 465
        },
        "id": "21E5m29Hf8uI",
        "outputId": "c7c23e16-b686-4558-e7dd-33713a807448"
      },
      "outputs": [
        {
          "data": {
            "text/plain": [
              "Text(57.5, 0.5, 'Actual')"
            ]
          },
          "execution_count": 76,
          "metadata": {},
          "output_type": "execute_result"
        },
        {
          "data": {
            "image/png": "[encoded data removed]",
            "text/plain": [
              "<Figure size 648x504 with 2 Axes>"
            ]
          },
          "metadata": {},
          "output_type": "display_data"
        }
      ],
      "source": [
        "# Graph Confusion Matrix\n",
        "cm_sqt_hyper = tf.math.confusion_matrix(labels=y_test, predictions=y_pred_actual_sqt_hyper)\n",
        "\n",
        "plt.figure(figsize=(9,7))\n",
        "sns.heatmap(cm_sqt_hyper,annot=True,fmt='d')\n",
        "plt.xlabel('Predicted')\n",
        "plt.ylabel('Actual')"
      ]
    },
    {
      "cell_type": "code",
      "execution_count": 77,
      "metadata": {
        "id": "zFHTmW_sgKZ1"
      },
      "outputs": [],
      "source": [
        "# Define confusion matrix result into int value\n",
        "\n",
        "TP_cm_sqt_hyper = int(cm_sqt_hyper[0,0])\n",
        "FP_cm_sqt_hyper = int(cm_sqt_hyper[0,1])\n",
        "FN_cm_sqt_hyper = int(cm_sqt_hyper[1,0])\n",
        "TN_cm_sqt_hyper = int(cm_sqt_hyper[1,1])"
      ]
    },
    {
      "cell_type": "code",
      "execution_count": 78,
      "metadata": {
        "colab": {
          "base_uri": "https://localhost:8080/"
        },
        "id": "7D4H-brygKhK",
        "outputId": "b4255a84-0638-444f-96b6-df9b7408385d"
      },
      "outputs": [
        {
          "name": "stdout",
          "output_type": "stream",
          "text": [
            "Accuracy from confusion matrix\n",
            "78.6%\n"
          ]
        }
      ],
      "source": [
        "# Print accuracy from confusion matrix\n",
        "calc = (TP_cm_sqt_hyper+TN_cm_sqt_hyper)/(TP_cm_sqt_hyper+FP_cm_sqt_hyper+FN_cm_sqt_hyper+TN_cm_sqt_hyper)\n",
        "print(f\"Accuracy from confusion matrix\")\n",
        "print(f\"{round(calc*100, 1)}%\")"
      ]
    },
    {
      "cell_type": "code",
      "execution_count": 79,
      "metadata": {
        "colab": {
          "base_uri": "https://localhost:8080/"
        },
        "id": "jr8F8ftHgVBu",
        "outputId": "01fa4f87-f84a-4224-d009-c6e3542b5899"
      },
      "outputs": [
        {
          "name": "stdout",
          "output_type": "stream",
          "text": [
            "Recall for those who churn from confusion matrix\n",
            "58.2%\n"
          ]
        }
      ],
      "source": [
        "# Print recall for those who churn from confusion matrix\n",
        "calc = (TN_cm_sqt_hyper)/(FP_cm_sqt_hyper+TN_cm_sqt_hyper)\n",
        "print(f\"Recall for those who churn from confusion matrix\")\n",
        "print(f\"{round(calc*100, 1)}%\")"
      ]
    },
    {
      "cell_type": "code",
      "execution_count": 80,
      "metadata": {
        "colab": {
          "base_uri": "https://localhost:8080/"
        },
        "id": "FRBqtXD0gVHK",
        "outputId": "31ad1cca-ede2-4eef-8c4f-8a22c9ae3413"
      },
      "outputs": [
        {
          "name": "stdout",
          "output_type": "stream",
          "text": [
            "Recall for those who did not churn from confusion matrix\n",
            "86.2%\n"
          ]
        }
      ],
      "source": [
        "# Print recall for those who did not churn from confusion matrix\n",
        "calc = (TP_cm_sqt_hyper)/(TP_cm_sqt_hyper+FN_cm_sqt_hyper)\n",
        "print(f\"Recall for those who did not churn from confusion matrix\")\n",
        "print(f\"{round(calc*100, 1)}%\")"
      ]
    },
    {
      "cell_type": "code",
      "execution_count": 81,
      "metadata": {
        "colab": {
          "base_uri": "https://localhost:8080/"
        },
        "id": "0cBgZl0egZ5E",
        "outputId": "28c3f45b-62fe-4c78-f013-ba907ce1f593"
      },
      "outputs": [
        {
          "name": "stdout",
          "output_type": "stream",
          "text": [
            "Classification Reports is:\n",
            "               precision    recall  f1-score   support\n",
            "\n",
            "           0       0.86      0.85      0.85      1043\n",
            "           1       0.58      0.61      0.60       362\n",
            "\n",
            "    accuracy                           0.79      1405\n",
            "   macro avg       0.72      0.73      0.73      1405\n",
            "weighted avg       0.79      0.79      0.79      1405\n",
            "\n"
          ]
        }
      ],
      "source": [
        "# Make classification report for sequential API\n",
        "\n",
        "print(\"Classification Reports is:\\n\",classification_report(y_test,y_pred_actual_sqt_hyper))"
      ]
    },
    {
      "cell_type": "markdown",
      "metadata": {
        "id": "BdEW-1hIg2j-"
      },
      "source": [
        "We can see that the accuracy value for this hyperparameter tuned model based on the model evaluation is 78.7%, which is similar to the normal sequential API model. Similarly, the accuracy value for this model based on the confusion matrix is also 78.6%. Meanwhile, the accuracy of for this model based on the classification report is 79%. From these three, we can conclude that the accuracy is around 79% for this model. Although there are a tiny bit of value difference, generally the accuracy remains the same as our normal sequential API model.\n",
        "\n",
        "For those who churn, the recall from confusion matrix is 58.2% while the recall from the classification report is 61%, which shows a quite difference between the two data. This result is lower than the result of our normal sequential API model.\n",
        "\n",
        "For those who did not churn, the recall from confusion matrix is 85% while the recall from the classification report is 85%, which also shows a quite difference between the two data. This result is is similar with the result of our normal sequential API model.\n",
        "\n",
        "Overall, this model seems to be a good fit, although the model accuracy of prediction for those who churn is quite low. Compared to our earlier model, this one perform better."
      ]
    },
    {
      "cell_type": "markdown",
      "metadata": {
        "id": "YeuVryck6fbr"
      },
      "source": [
        "# IX. Model Saving"
      ]
    },
    {
      "cell_type": "markdown",
      "metadata": {
        "id": "6gRex7dWowiP"
      },
      "source": [
        "For model saving, I will be saving the hyperparameter tuned sequential API model, which is the best model from the models I have made."
      ]
    },
    {
      "cell_type": "code",
      "execution_count": 82,
      "metadata": {
        "colab": {
          "base_uri": "https://localhost:8080/"
        },
        "id": "LdaN4GUrObpk",
        "outputId": "1a8e3679-d133-4cf8-c732-9c6ae1d9bb7c"
      },
      "outputs": [
        {
          "data": {
            "text/plain": [
              "['data_preprocessor.pkl']"
            ]
          },
          "execution_count": 82,
          "metadata": {},
          "output_type": "execute_result"
        }
      ],
      "source": [
        "# Save the preprocess file\n",
        "import joblib\n",
        "joblib.dump(preproc_pipeline, \"data_preprocessor.pkl\")"
      ]
    },
    {
      "cell_type": "code",
      "execution_count": 83,
      "metadata": {
        "id": "MdRNBMM_31mm"
      },
      "outputs": [],
      "source": [
        "# Freeze model\n",
        "sqt_model_hyper.trainable = False"
      ]
    },
    {
      "cell_type": "code",
      "execution_count": 84,
      "metadata": {
        "id": "spwmQdJjiGF4"
      },
      "outputs": [],
      "source": [
        "# Save model\n",
        "sqt_model_hyper.save(\"churn_model\")"
      ]
    },
    {
      "cell_type": "code",
      "execution_count": 85,
      "metadata": {
        "colab": {
          "base_uri": "https://localhost:8080/"
        },
        "id": "l41syCUj_rOc",
        "outputId": "3c9e92d1-a3b5-40be-9e44-b9363e41897e"
      },
      "outputs": [
        {
          "name": "stdout",
          "output_type": "stream",
          "text": [
            "  adding: churn_model/ (stored 0%)\n",
            "  adding: churn_model/assets/ (stored 0%)\n",
            "  adding: churn_model/keras_metadata.pb (deflated 78%)\n",
            "  adding: churn_model/saved_model.pb (deflated 86%)\n",
            "  adding: churn_model/variables/ (stored 0%)\n",
            "  adding: churn_model/variables/variables.index (deflated 55%)\n",
            "  adding: churn_model/variables/variables.data-00000-of-00001 (deflated 60%)\n"
          ]
        }
      ],
      "source": [
        "# Zip model\n",
        "! zip -r churn_model.zip churn_model"
      ]
    },
    {
      "cell_type": "markdown",
      "metadata": {
        "id": "2BH1Cv7x6fbr"
      },
      "source": [
        "# X. Model Inference\n",
        "\n"
      ]
    },
    {
      "cell_type": "markdown",
      "metadata": {
        "id": "Aed_A5OxrZMy"
      },
      "source": [
        "### Preparing Inference Data"
      ]
    },
    {
      "cell_type": "code",
      "execution_count": 86,
      "metadata": {
        "colab": {
          "base_uri": "https://localhost:8080/",
          "height": 601
        },
        "id": "QG7AEr36qePH",
        "outputId": "d27ad1a1-e19c-4d9f-c3d9-8816c089e908"
      },
      "outputs": [
        {
          "data": {
            "text/html": [
              "\n",
              "  <div id=\"df-1a768a8d-1422-446c-83ad-28b54b6b05fd\">\n",
              "    <div class=\"colab-df-container\">\n",
              "      <div>\n",
              "<style scoped>\n",
              "    .dataframe tbody tr th:only-of-type {\n",
              "        vertical-align: middle;\n",
              "    }\n",
              "\n",
              "    .dataframe tbody tr th {\n",
              "        vertical-align: top;\n",
              "    }\n",
              "\n",
              "    .dataframe thead th {\n",
              "        text-align: right;\n",
              "    }\n",
              "</style>\n",
              "<table border=\"1\" class=\"dataframe\">\n",
              "  <thead>\n",
              "    <tr style=\"text-align: right;\">\n",
              "      <th></th>\n",
              "      <th>gender</th>\n",
              "      <th>SeniorCitizen</th>\n",
              "      <th>Partner</th>\n",
              "      <th>Dependents</th>\n",
              "      <th>tenure</th>\n",
              "      <th>PhoneService</th>\n",
              "      <th>MultipleLines</th>\n",
              "      <th>InternetService</th>\n",
              "      <th>OnlineSecurity</th>\n",
              "      <th>OnlineBackup</th>\n",
              "      <th>DeviceProtection</th>\n",
              "      <th>TechSupport</th>\n",
              "      <th>StreamingTV</th>\n",
              "      <th>StreamingMovies</th>\n",
              "      <th>Contract</th>\n",
              "      <th>PaperlessBilling</th>\n",
              "      <th>PaymentMethod</th>\n",
              "      <th>MonthlyCharges</th>\n",
              "      <th>TotalCharges</th>\n",
              "      <th>Churn</th>\n",
              "    </tr>\n",
              "  </thead>\n",
              "  <tbody>\n",
              "    <tr>\n",
              "      <th>0</th>\n",
              "      <td>Female</td>\n",
              "      <td>No</td>\n",
              "      <td>No</td>\n",
              "      <td>No</td>\n",
              "      <td>23</td>\n",
              "      <td>Yes</td>\n",
              "      <td>No</td>\n",
              "      <td>DSL</td>\n",
              "      <td>No</td>\n",
              "      <td>Yes</td>\n",
              "      <td>Yes</td>\n",
              "      <td>No</td>\n",
              "      <td>No</td>\n",
              "      <td>No</td>\n",
              "      <td>One year</td>\n",
              "      <td>No</td>\n",
              "      <td>Bank transfer (automatic)</td>\n",
              "      <td>55.80</td>\n",
              "      <td>1327.85</td>\n",
              "      <td>0</td>\n",
              "    </tr>\n",
              "    <tr>\n",
              "      <th>1</th>\n",
              "      <td>Male</td>\n",
              "      <td>No</td>\n",
              "      <td>No</td>\n",
              "      <td>No</td>\n",
              "      <td>2</td>\n",
              "      <td>Yes</td>\n",
              "      <td>No</td>\n",
              "      <td>No</td>\n",
              "      <td>No internet service</td>\n",
              "      <td>No internet service</td>\n",
              "      <td>No internet service</td>\n",
              "      <td>No internet service</td>\n",
              "      <td>No internet service</td>\n",
              "      <td>No internet service</td>\n",
              "      <td>Month-to-month</td>\n",
              "      <td>No</td>\n",
              "      <td>Mailed check</td>\n",
              "      <td>19.75</td>\n",
              "      <td>39.30</td>\n",
              "      <td>0</td>\n",
              "    </tr>\n",
              "    <tr>\n",
              "      <th>2</th>\n",
              "      <td>Male</td>\n",
              "      <td>Yes</td>\n",
              "      <td>Yes</td>\n",
              "      <td>Yes</td>\n",
              "      <td>28</td>\n",
              "      <td>Yes</td>\n",
              "      <td>Yes</td>\n",
              "      <td>DSL</td>\n",
              "      <td>No</td>\n",
              "      <td>No</td>\n",
              "      <td>No</td>\n",
              "      <td>No</td>\n",
              "      <td>No</td>\n",
              "      <td>No</td>\n",
              "      <td>One year</td>\n",
              "      <td>Yes</td>\n",
              "      <td>Electronic check</td>\n",
              "      <td>51.00</td>\n",
              "      <td>1381.80</td>\n",
              "      <td>0</td>\n",
              "    </tr>\n",
              "    <tr>\n",
              "      <th>3</th>\n",
              "      <td>Male</td>\n",
              "      <td>No</td>\n",
              "      <td>Yes</td>\n",
              "      <td>Yes</td>\n",
              "      <td>70</td>\n",
              "      <td>Yes</td>\n",
              "      <td>No</td>\n",
              "      <td>No</td>\n",
              "      <td>No internet service</td>\n",
              "      <td>No internet service</td>\n",
              "      <td>No internet service</td>\n",
              "      <td>No internet service</td>\n",
              "      <td>No internet service</td>\n",
              "      <td>No internet service</td>\n",
              "      <td>Two year</td>\n",
              "      <td>No</td>\n",
              "      <td>Credit card (automatic)</td>\n",
              "      <td>20.05</td>\n",
              "      <td>1360.25</td>\n",
              "      <td>0</td>\n",
              "    </tr>\n",
              "    <tr>\n",
              "      <th>4</th>\n",
              "      <td>Male</td>\n",
              "      <td>No</td>\n",
              "      <td>Yes</td>\n",
              "      <td>Yes</td>\n",
              "      <td>13</td>\n",
              "      <td>Yes</td>\n",
              "      <td>Yes</td>\n",
              "      <td>Fiber optic</td>\n",
              "      <td>No</td>\n",
              "      <td>No</td>\n",
              "      <td>No</td>\n",
              "      <td>No</td>\n",
              "      <td>No</td>\n",
              "      <td>No</td>\n",
              "      <td>Month-to-month</td>\n",
              "      <td>Yes</td>\n",
              "      <td>Credit card (automatic)</td>\n",
              "      <td>74.40</td>\n",
              "      <td>896.75</td>\n",
              "      <td>1</td>\n",
              "    </tr>\n",
              "    <tr>\n",
              "      <th>5</th>\n",
              "      <td>Female</td>\n",
              "      <td>No</td>\n",
              "      <td>No</td>\n",
              "      <td>Yes</td>\n",
              "      <td>43</td>\n",
              "      <td>Yes</td>\n",
              "      <td>No</td>\n",
              "      <td>DSL</td>\n",
              "      <td>Yes</td>\n",
              "      <td>Yes</td>\n",
              "      <td>No</td>\n",
              "      <td>No</td>\n",
              "      <td>No</td>\n",
              "      <td>Yes</td>\n",
              "      <td>Month-to-month</td>\n",
              "      <td>Yes</td>\n",
              "      <td>Electronic check</td>\n",
              "      <td>63.95</td>\n",
              "      <td>2737.05</td>\n",
              "      <td>0</td>\n",
              "    </tr>\n",
              "    <tr>\n",
              "      <th>6</th>\n",
              "      <td>Female</td>\n",
              "      <td>No</td>\n",
              "      <td>Yes</td>\n",
              "      <td>No</td>\n",
              "      <td>67</td>\n",
              "      <td>Yes</td>\n",
              "      <td>Yes</td>\n",
              "      <td>Fiber optic</td>\n",
              "      <td>No</td>\n",
              "      <td>Yes</td>\n",
              "      <td>Yes</td>\n",
              "      <td>Yes</td>\n",
              "      <td>Yes</td>\n",
              "      <td>Yes</td>\n",
              "      <td>One year</td>\n",
              "      <td>Yes</td>\n",
              "      <td>Credit card (automatic)</td>\n",
              "      <td>109.70</td>\n",
              "      <td>7344.45</td>\n",
              "      <td>0</td>\n",
              "    </tr>\n",
              "    <tr>\n",
              "      <th>7</th>\n",
              "      <td>Female</td>\n",
              "      <td>No</td>\n",
              "      <td>Yes</td>\n",
              "      <td>Yes</td>\n",
              "      <td>12</td>\n",
              "      <td>No</td>\n",
              "      <td>No phone service</td>\n",
              "      <td>DSL</td>\n",
              "      <td>No</td>\n",
              "      <td>No</td>\n",
              "      <td>No</td>\n",
              "      <td>Yes</td>\n",
              "      <td>No</td>\n",
              "      <td>No</td>\n",
              "      <td>One year</td>\n",
              "      <td>No</td>\n",
              "      <td>Credit card (automatic)</td>\n",
              "      <td>30.25</td>\n",
              "      <td>368.85</td>\n",
              "      <td>0</td>\n",
              "    </tr>\n",
              "    <tr>\n",
              "      <th>8</th>\n",
              "      <td>Male</td>\n",
              "      <td>No</td>\n",
              "      <td>No</td>\n",
              "      <td>No</td>\n",
              "      <td>16</td>\n",
              "      <td>Yes</td>\n",
              "      <td>No</td>\n",
              "      <td>No</td>\n",
              "      <td>No internet service</td>\n",
              "      <td>No internet service</td>\n",
              "      <td>No internet service</td>\n",
              "      <td>No internet service</td>\n",
              "      <td>No internet service</td>\n",
              "      <td>No internet service</td>\n",
              "      <td>Month-to-month</td>\n",
              "      <td>Yes</td>\n",
              "      <td>Mailed check</td>\n",
              "      <td>19.70</td>\n",
              "      <td>342.40</td>\n",
              "      <td>1</td>\n",
              "    </tr>\n",
              "    <tr>\n",
              "      <th>9</th>\n",
              "      <td>Male</td>\n",
              "      <td>No</td>\n",
              "      <td>Yes</td>\n",
              "      <td>Yes</td>\n",
              "      <td>23</td>\n",
              "      <td>Yes</td>\n",
              "      <td>No</td>\n",
              "      <td>DSL</td>\n",
              "      <td>Yes</td>\n",
              "      <td>No</td>\n",
              "      <td>No</td>\n",
              "      <td>Yes</td>\n",
              "      <td>No</td>\n",
              "      <td>No</td>\n",
              "      <td>One year</td>\n",
              "      <td>No</td>\n",
              "      <td>Credit card (automatic)</td>\n",
              "      <td>57.20</td>\n",
              "      <td>1423.35</td>\n",
              "      <td>0</td>\n",
              "    </tr>\n",
              "  </tbody>\n",
              "</table>\n",
              "</div>\n",
              "      <button class=\"colab-df-convert\" onclick=\"convertToInteractive('df-1a768a8d-1422-446c-83ad-28b54b6b05fd')\"\n",
              "              title=\"Convert this dataframe to an interactive table.\"\n",
              "              style=\"display:none;\">\n",
              "        \n",
              "  <svg xmlns=\"http://www.w3.org/2000/svg\" height=\"24px\"viewBox=\"0 0 24 24\"\n",
              "       width=\"24px\">\n",
              "    <path d=\"M0 0h24v24H0V0z\" fill=\"none\"/>\n",
              "    <path d=\"M18.56 5.44l.94 2.06.94-2.06 2.06-.94-2.06-.94-.94-2.06-.94 2.06-2.06.94zm-11 1L8.5 8.5l.94-2.06 2.06-.94-2.06-.94L8.5 2.5l-.94 2.06-2.06.94zm10 10l.94 2.06.94-2.06 2.06-.94-2.06-.94-.94-2.06-.94 2.06-2.06.94z\"/><path d=\"M17.41 7.96l-1.37-1.37c-.4-.4-.92-.59-1.43-.59-.52 0-1.04.2-1.43.59L10.3 9.45l-7.72 7.72c-.78.78-.78 2.05 0 2.83L4 21.41c.39.39.9.59 1.41.59.51 0 1.02-.2 1.41-.59l7.78-7.78 2.81-2.81c.8-.78.8-2.07 0-2.86zM5.41 20L4 18.59l7.72-7.72 1.47 1.35L5.41 20z\"/>\n",
              "  </svg>\n",
              "      </button>\n",
              "      \n",
              "  <style>\n",
              "    .colab-df-container {\n",
              "      display:flex;\n",
              "      flex-wrap:wrap;\n",
              "      gap: 12px;\n",
              "    }\n",
              "\n",
              "    .colab-df-convert {\n",
              "      background-color: #E8F0FE;\n",
              "      border: none;\n",
              "      border-radius: 50%;\n",
              "      cursor: pointer;\n",
              "      display: none;\n",
              "      fill: #1967D2;\n",
              "      height: 32px;\n",
              "      padding: 0 0 0 0;\n",
              "      width: 32px;\n",
              "    }\n",
              "\n",
              "    .colab-df-convert:hover {\n",
              "      background-color: #E2EBFA;\n",
              "      box-shadow: 0px 1px 2px rgba(60, 64, 67, 0.3), 0px 1px 3px 1px rgba(60, 64, 67, 0.15);\n",
              "      fill: #174EA6;\n",
              "    }\n",
              "\n",
              "    [theme=dark] .colab-df-convert {\n",
              "      background-color: #3B4455;\n",
              "      fill: #D2E3FC;\n",
              "    }\n",
              "\n",
              "    [theme=dark] .colab-df-convert:hover {\n",
              "      background-color: #434B5C;\n",
              "      box-shadow: 0px 1px 3px 1px rgba(0, 0, 0, 0.15);\n",
              "      filter: drop-shadow(0px 1px 2px rgba(0, 0, 0, 0.3));\n",
              "      fill: #FFFFFF;\n",
              "    }\n",
              "  </style>\n",
              "\n",
              "      <script>\n",
              "        const buttonEl =\n",
              "          document.querySelector('#df-1a768a8d-1422-446c-83ad-28b54b6b05fd button.colab-df-convert');\n",
              "        buttonEl.style.display =\n",
              "          google.colab.kernel.accessAllowed ? 'block' : 'none';\n",
              "\n",
              "        async function convertToInteractive(key) {\n",
              "          const element = document.querySelector('#df-1a768a8d-1422-446c-83ad-28b54b6b05fd');\n",
              "          const dataTable =\n",
              "            await google.colab.kernel.invokeFunction('convertToInteractive',\n",
              "                                                     [key], {});\n",
              "          if (!dataTable) return;\n",
              "\n",
              "          const docLinkHtml = 'Like what you see? Visit the ' +\n",
              "            '<a target=\"_blank\" href=https://colab.research.google.com/notebooks/data_table.ipynb>data table notebook</a>'\n",
              "            + ' to learn more about interactive tables.';\n",
              "          element.innerHTML = '';\n",
              "          dataTable['output_type'] = 'display_data';\n",
              "          await google.colab.output.renderOutput(dataTable, element);\n",
              "          const docLink = document.createElement('div');\n",
              "          docLink.innerHTML = docLinkHtml;\n",
              "          element.appendChild(docLink);\n",
              "        }\n",
              "      </script>\n",
              "    </div>\n",
              "  </div>\n",
              "  "
            ],
            "text/plain": [
              "   gender SeniorCitizen Partner Dependents  tenure PhoneService  \\\n",
              "0  Female            No      No         No      23          Yes   \n",
              "1    Male            No      No         No       2          Yes   \n",
              "2    Male           Yes     Yes        Yes      28          Yes   \n",
              "3    Male            No     Yes        Yes      70          Yes   \n",
              "4    Male            No     Yes        Yes      13          Yes   \n",
              "5  Female            No      No        Yes      43          Yes   \n",
              "6  Female            No     Yes         No      67          Yes   \n",
              "7  Female            No     Yes        Yes      12           No   \n",
              "8    Male            No      No         No      16          Yes   \n",
              "9    Male            No     Yes        Yes      23          Yes   \n",
              "\n",
              "      MultipleLines InternetService       OnlineSecurity         OnlineBackup  \\\n",
              "0                No             DSL                   No                  Yes   \n",
              "1                No              No  No internet service  No internet service   \n",
              "2               Yes             DSL                   No                   No   \n",
              "3                No              No  No internet service  No internet service   \n",
              "4               Yes     Fiber optic                   No                   No   \n",
              "5                No             DSL                  Yes                  Yes   \n",
              "6               Yes     Fiber optic                   No                  Yes   \n",
              "7  No phone service             DSL                   No                   No   \n",
              "8                No              No  No internet service  No internet service   \n",
              "9                No             DSL                  Yes                   No   \n",
              "\n",
              "      DeviceProtection          TechSupport          StreamingTV  \\\n",
              "0                  Yes                   No                   No   \n",
              "1  No internet service  No internet service  No internet service   \n",
              "2                   No                   No                   No   \n",
              "3  No internet service  No internet service  No internet service   \n",
              "4                   No                   No                   No   \n",
              "5                   No                   No                   No   \n",
              "6                  Yes                  Yes                  Yes   \n",
              "7                   No                  Yes                   No   \n",
              "8  No internet service  No internet service  No internet service   \n",
              "9                   No                  Yes                   No   \n",
              "\n",
              "       StreamingMovies        Contract PaperlessBilling  \\\n",
              "0                   No        One year               No   \n",
              "1  No internet service  Month-to-month               No   \n",
              "2                   No        One year              Yes   \n",
              "3  No internet service        Two year               No   \n",
              "4                   No  Month-to-month              Yes   \n",
              "5                  Yes  Month-to-month              Yes   \n",
              "6                  Yes        One year              Yes   \n",
              "7                   No        One year               No   \n",
              "8  No internet service  Month-to-month              Yes   \n",
              "9                   No        One year               No   \n",
              "\n",
              "               PaymentMethod  MonthlyCharges  TotalCharges  Churn  \n",
              "0  Bank transfer (automatic)           55.80       1327.85      0  \n",
              "1               Mailed check           19.75         39.30      0  \n",
              "2           Electronic check           51.00       1381.80      0  \n",
              "3    Credit card (automatic)           20.05       1360.25      0  \n",
              "4    Credit card (automatic)           74.40        896.75      1  \n",
              "5           Electronic check           63.95       2737.05      0  \n",
              "6    Credit card (automatic)          109.70       7344.45      0  \n",
              "7    Credit card (automatic)           30.25        368.85      0  \n",
              "8               Mailed check           19.70        342.40      1  \n",
              "9    Credit card (automatic)           57.20       1423.35      0  "
            ]
          },
          "execution_count": 86,
          "metadata": {},
          "output_type": "execute_result"
        }
      ],
      "source": [
        "# Check inference data\n",
        "data_inf"
      ]
    },
    {
      "cell_type": "code",
      "execution_count": 87,
      "metadata": {
        "id": "m5IUhfS3rbfA"
      },
      "outputs": [],
      "source": [
        "# Splitting dataset into x_inf and y_inf\n",
        "x_inf = data_inf.drop('Churn', axis=1)\n",
        "y_inf = data_inf['Churn']"
      ]
    },
    {
      "cell_type": "code",
      "execution_count": 88,
      "metadata": {
        "id": "cx6WVyirsUSS"
      },
      "outputs": [],
      "source": [
        "# Get duplicate of y_inf for making comparison table\n",
        "y_inf_data = copy.copy(y_inf)"
      ]
    },
    {
      "cell_type": "code",
      "execution_count": 89,
      "metadata": {
        "colab": {
          "base_uri": "https://localhost:8080/"
        },
        "id": "Wvhua47nrvAl",
        "outputId": "05206b3d-04ae-47ee-b925-648a77424917"
      },
      "outputs": [
        {
          "name": "stdout",
          "output_type": "stream",
          "text": [
            "[ColumnTransformer] ....... (1 of 2) Processing numbers, total=   0.0s\n",
            "[ColumnTransformer] .... (2 of 2) Processing categories, total=   0.0s\n"
          ]
        }
      ],
      "source": [
        "# Fit pipeline to data\n",
        "x_inf = preproc_pipeline.fit_transform(x_inf)"
      ]
    },
    {
      "cell_type": "markdown",
      "metadata": {
        "id": "v9DLk3J6qVQY"
      },
      "source": [
        "### Sequential API"
      ]
    },
    {
      "cell_type": "code",
      "execution_count": 90,
      "metadata": {
        "colab": {
          "base_uri": "https://localhost:8080/"
        },
        "id": "W41zHxTZzgM0",
        "outputId": "a766f734-fff6-4c8d-d8a7-7ce1734c6fda"
      },
      "outputs": [
        {
          "name": "stdout",
          "output_type": "stream",
          "text": [
            "1/1 [==============================] - 0s 14ms/step - loss: 0.3674 - accuracy: 0.9000\n"
          ]
        },
        {
          "data": {
            "text/plain": [
              "[0.36743393540382385, 0.8999999761581421]"
            ]
          },
          "execution_count": 90,
          "metadata": {},
          "output_type": "execute_result"
        }
      ],
      "source": [
        "# Measure model evaluate\n",
        "sqt_model.evaluate(x_inf, y_inf)"
      ]
    },
    {
      "cell_type": "code",
      "execution_count": 91,
      "metadata": {
        "colab": {
          "base_uri": "https://localhost:8080/"
        },
        "id": "I2Nk3xNxqmIe",
        "outputId": "dac2ed63-3a52-45f8-ae83-a9fe7ef428ab"
      },
      "outputs": [
        {
          "name": "stdout",
          "output_type": "stream",
          "text": [
            "1/1 [==============================] - 0s 12ms/step\n"
          ]
        }
      ],
      "source": [
        "# Calculate y_pred value for sequential API and append into list\n",
        "y_pred_inf = sqt_model.predict(x_inf)\n",
        "y_pred_actual_sqt_inf = []\n",
        "\n",
        "for ele in y_pred_inf:\n",
        "  if ele > 0.5:\n",
        "    y_pred_actual_sqt_inf.append(1)\n",
        "  else :\n",
        "    y_pred_actual_sqt_inf.append(0)"
      ]
    },
    {
      "cell_type": "code",
      "execution_count": 92,
      "metadata": {
        "id": "txSF-0x6qmPr"
      },
      "outputs": [],
      "source": [
        "# Make result into dataframe\n",
        "y_inf_sqt = pd.DataFrame (y_pred_actual_sqt_inf[:10], columns = ['sequential prediction'])"
      ]
    },
    {
      "cell_type": "code",
      "execution_count": 93,
      "metadata": {
        "colab": {
          "base_uri": "https://localhost:8080/",
          "height": 363
        },
        "id": "0Phgtm_gqmWP",
        "outputId": "c495e13c-04e8-493c-8453-62a21f65339d"
      },
      "outputs": [
        {
          "data": {
            "text/html": [
              "\n",
              "  <div id=\"df-786f562b-75bc-4078-a313-0ea89af084c0\">\n",
              "    <div class=\"colab-df-container\">\n",
              "      <div>\n",
              "<style scoped>\n",
              "    .dataframe tbody tr th:only-of-type {\n",
              "        vertical-align: middle;\n",
              "    }\n",
              "\n",
              "    .dataframe tbody tr th {\n",
              "        vertical-align: top;\n",
              "    }\n",
              "\n",
              "    .dataframe thead th {\n",
              "        text-align: right;\n",
              "    }\n",
              "</style>\n",
              "<table border=\"1\" class=\"dataframe\">\n",
              "  <thead>\n",
              "    <tr style=\"text-align: right;\">\n",
              "      <th></th>\n",
              "      <th>Churn</th>\n",
              "      <th>sequential prediction</th>\n",
              "    </tr>\n",
              "  </thead>\n",
              "  <tbody>\n",
              "    <tr>\n",
              "      <th>0</th>\n",
              "      <td>0</td>\n",
              "      <td>0</td>\n",
              "    </tr>\n",
              "    <tr>\n",
              "      <th>1</th>\n",
              "      <td>0</td>\n",
              "      <td>0</td>\n",
              "    </tr>\n",
              "    <tr>\n",
              "      <th>2</th>\n",
              "      <td>0</td>\n",
              "      <td>0</td>\n",
              "    </tr>\n",
              "    <tr>\n",
              "      <th>3</th>\n",
              "      <td>0</td>\n",
              "      <td>0</td>\n",
              "    </tr>\n",
              "    <tr>\n",
              "      <th>4</th>\n",
              "      <td>1</td>\n",
              "      <td>1</td>\n",
              "    </tr>\n",
              "    <tr>\n",
              "      <th>5</th>\n",
              "      <td>0</td>\n",
              "      <td>0</td>\n",
              "    </tr>\n",
              "    <tr>\n",
              "      <th>6</th>\n",
              "      <td>0</td>\n",
              "      <td>0</td>\n",
              "    </tr>\n",
              "    <tr>\n",
              "      <th>7</th>\n",
              "      <td>0</td>\n",
              "      <td>0</td>\n",
              "    </tr>\n",
              "    <tr>\n",
              "      <th>8</th>\n",
              "      <td>1</td>\n",
              "      <td>0</td>\n",
              "    </tr>\n",
              "    <tr>\n",
              "      <th>9</th>\n",
              "      <td>0</td>\n",
              "      <td>0</td>\n",
              "    </tr>\n",
              "  </tbody>\n",
              "</table>\n",
              "</div>\n",
              "      <button class=\"colab-df-convert\" onclick=\"convertToInteractive('df-786f562b-75bc-4078-a313-0ea89af084c0')\"\n",
              "              title=\"Convert this dataframe to an interactive table.\"\n",
              "              style=\"display:none;\">\n",
              "        \n",
              "  <svg xmlns=\"http://www.w3.org/2000/svg\" height=\"24px\"viewBox=\"0 0 24 24\"\n",
              "       width=\"24px\">\n",
              "    <path d=\"M0 0h24v24H0V0z\" fill=\"none\"/>\n",
              "    <path d=\"M18.56 5.44l.94 2.06.94-2.06 2.06-.94-2.06-.94-.94-2.06-.94 2.06-2.06.94zm-11 1L8.5 8.5l.94-2.06 2.06-.94-2.06-.94L8.5 2.5l-.94 2.06-2.06.94zm10 10l.94 2.06.94-2.06 2.06-.94-2.06-.94-.94-2.06-.94 2.06-2.06.94z\"/><path d=\"M17.41 7.96l-1.37-1.37c-.4-.4-.92-.59-1.43-.59-.52 0-1.04.2-1.43.59L10.3 9.45l-7.72 7.72c-.78.78-.78 2.05 0 2.83L4 21.41c.39.39.9.59 1.41.59.51 0 1.02-.2 1.41-.59l7.78-7.78 2.81-2.81c.8-.78.8-2.07 0-2.86zM5.41 20L4 18.59l7.72-7.72 1.47 1.35L5.41 20z\"/>\n",
              "  </svg>\n",
              "      </button>\n",
              "      \n",
              "  <style>\n",
              "    .colab-df-container {\n",
              "      display:flex;\n",
              "      flex-wrap:wrap;\n",
              "      gap: 12px;\n",
              "    }\n",
              "\n",
              "    .colab-df-convert {\n",
              "      background-color: #E8F0FE;\n",
              "      border: none;\n",
              "      border-radius: 50%;\n",
              "      cursor: pointer;\n",
              "      display: none;\n",
              "      fill: #1967D2;\n",
              "      height: 32px;\n",
              "      padding: 0 0 0 0;\n",
              "      width: 32px;\n",
              "    }\n",
              "\n",
              "    .colab-df-convert:hover {\n",
              "      background-color: #E2EBFA;\n",
              "      box-shadow: 0px 1px 2px rgba(60, 64, 67, 0.3), 0px 1px 3px 1px rgba(60, 64, 67, 0.15);\n",
              "      fill: #174EA6;\n",
              "    }\n",
              "\n",
              "    [theme=dark] .colab-df-convert {\n",
              "      background-color: #3B4455;\n",
              "      fill: #D2E3FC;\n",
              "    }\n",
              "\n",
              "    [theme=dark] .colab-df-convert:hover {\n",
              "      background-color: #434B5C;\n",
              "      box-shadow: 0px 1px 3px 1px rgba(0, 0, 0, 0.15);\n",
              "      filter: drop-shadow(0px 1px 2px rgba(0, 0, 0, 0.3));\n",
              "      fill: #FFFFFF;\n",
              "    }\n",
              "  </style>\n",
              "\n",
              "      <script>\n",
              "        const buttonEl =\n",
              "          document.querySelector('#df-786f562b-75bc-4078-a313-0ea89af084c0 button.colab-df-convert');\n",
              "        buttonEl.style.display =\n",
              "          google.colab.kernel.accessAllowed ? 'block' : 'none';\n",
              "\n",
              "        async function convertToInteractive(key) {\n",
              "          const element = document.querySelector('#df-786f562b-75bc-4078-a313-0ea89af084c0');\n",
              "          const dataTable =\n",
              "            await google.colab.kernel.invokeFunction('convertToInteractive',\n",
              "                                                     [key], {});\n",
              "          if (!dataTable) return;\n",
              "\n",
              "          const docLinkHtml = 'Like what you see? Visit the ' +\n",
              "            '<a target=\"_blank\" href=https://colab.research.google.com/notebooks/data_table.ipynb>data table notebook</a>'\n",
              "            + ' to learn more about interactive tables.';\n",
              "          element.innerHTML = '';\n",
              "          dataTable['output_type'] = 'display_data';\n",
              "          await google.colab.output.renderOutput(dataTable, element);\n",
              "          const docLink = document.createElement('div');\n",
              "          docLink.innerHTML = docLinkHtml;\n",
              "          element.appendChild(docLink);\n",
              "        }\n",
              "      </script>\n",
              "    </div>\n",
              "  </div>\n",
              "  "
            ],
            "text/plain": [
              "   Churn  sequential prediction\n",
              "0      0                      0\n",
              "1      0                      0\n",
              "2      0                      0\n",
              "3      0                      0\n",
              "4      1                      1\n",
              "5      0                      0\n",
              "6      0                      0\n",
              "7      0                      0\n",
              "8      1                      0\n",
              "9      0                      0"
            ]
          },
          "execution_count": 93,
          "metadata": {},
          "output_type": "execute_result"
        }
      ],
      "source": [
        "# Compare result with actual result\n",
        "df_inf = pd.concat([y_inf_data, y_inf_sqt], axis=1)\n",
        "df_inf"
      ]
    },
    {
      "cell_type": "markdown",
      "metadata": {
        "id": "iWbMVgboLtGo"
      },
      "source": [
        "We can see in our sequential API model that from the 10 inference data we took, the income prediction is 90% accurate. This shows that our sequential API model is working quite well when dealing with new data outside the training data."
      ]
    },
    {
      "cell_type": "markdown",
      "metadata": {
        "id": "l3JAG72rqVYs"
      },
      "source": [
        "### Functional API"
      ]
    },
    {
      "cell_type": "code",
      "execution_count": 94,
      "metadata": {
        "colab": {
          "base_uri": "https://localhost:8080/"
        },
        "id": "aaQcj-9M1VPU",
        "outputId": "01894460-8c2b-4129-fb43-96955e2d8864"
      },
      "outputs": [
        {
          "name": "stdout",
          "output_type": "stream",
          "text": [
            "1/1 [==============================] - 0s 13ms/step - loss: 0.3454 - accuracy: 0.9000\n"
          ]
        },
        {
          "data": {
            "text/plain": [
              "[0.3454269766807556, 0.8999999761581421]"
            ]
          },
          "execution_count": 94,
          "metadata": {},
          "output_type": "execute_result"
        }
      ],
      "source": [
        "# Measure model evaluate\n",
        "fcn_model.evaluate(x_inf, y_inf)"
      ]
    },
    {
      "cell_type": "code",
      "execution_count": 95,
      "metadata": {
        "colab": {
          "base_uri": "https://localhost:8080/"
        },
        "id": "fHx1JBU31VPU",
        "outputId": "fff617a1-5f18-4cfe-8e40-f762dfa80d36"
      },
      "outputs": [
        {
          "name": "stdout",
          "output_type": "stream",
          "text": [
            "1/1 [==============================] - 0s 12ms/step\n"
          ]
        }
      ],
      "source": [
        "# Calculate y_pred value for sequential API and append into list\n",
        "y_pred_inf = fcn_model.predict(x_inf)\n",
        "y_pred_actual_fcn_inf = []\n",
        "\n",
        "for ele in y_pred_inf:\n",
        "  if ele > 0.5:\n",
        "    y_pred_actual_fcn_inf.append(1)\n",
        "  else :\n",
        "    y_pred_actual_fcn_inf.append(0)"
      ]
    },
    {
      "cell_type": "code",
      "execution_count": 96,
      "metadata": {
        "id": "Ilmczhbp1VPU"
      },
      "outputs": [],
      "source": [
        "# Make result into dataframe\n",
        "y_inf_fcn = pd.DataFrame (y_pred_actual_fcn_inf[:10], columns = ['functional prediction'])"
      ]
    },
    {
      "cell_type": "code",
      "execution_count": 97,
      "metadata": {
        "colab": {
          "base_uri": "https://localhost:8080/",
          "height": 363
        },
        "id": "vizw6_mK1VPU",
        "outputId": "95557485-6b53-4e03-d1cd-4f749564f954"
      },
      "outputs": [
        {
          "data": {
            "text/html": [
              "\n",
              "  <div id=\"df-ee30ebfd-2b6b-47f0-ac24-ce2fffdbbea7\">\n",
              "    <div class=\"colab-df-container\">\n",
              "      <div>\n",
              "<style scoped>\n",
              "    .dataframe tbody tr th:only-of-type {\n",
              "        vertical-align: middle;\n",
              "    }\n",
              "\n",
              "    .dataframe tbody tr th {\n",
              "        vertical-align: top;\n",
              "    }\n",
              "\n",
              "    .dataframe thead th {\n",
              "        text-align: right;\n",
              "    }\n",
              "</style>\n",
              "<table border=\"1\" class=\"dataframe\">\n",
              "  <thead>\n",
              "    <tr style=\"text-align: right;\">\n",
              "      <th></th>\n",
              "      <th>Churn</th>\n",
              "      <th>functional prediction</th>\n",
              "    </tr>\n",
              "  </thead>\n",
              "  <tbody>\n",
              "    <tr>\n",
              "      <th>0</th>\n",
              "      <td>0</td>\n",
              "      <td>0</td>\n",
              "    </tr>\n",
              "    <tr>\n",
              "      <th>1</th>\n",
              "      <td>0</td>\n",
              "      <td>0</td>\n",
              "    </tr>\n",
              "    <tr>\n",
              "      <th>2</th>\n",
              "      <td>0</td>\n",
              "      <td>0</td>\n",
              "    </tr>\n",
              "    <tr>\n",
              "      <th>3</th>\n",
              "      <td>0</td>\n",
              "      <td>0</td>\n",
              "    </tr>\n",
              "    <tr>\n",
              "      <th>4</th>\n",
              "      <td>1</td>\n",
              "      <td>1</td>\n",
              "    </tr>\n",
              "    <tr>\n",
              "      <th>5</th>\n",
              "      <td>0</td>\n",
              "      <td>0</td>\n",
              "    </tr>\n",
              "    <tr>\n",
              "      <th>6</th>\n",
              "      <td>0</td>\n",
              "      <td>0</td>\n",
              "    </tr>\n",
              "    <tr>\n",
              "      <th>7</th>\n",
              "      <td>0</td>\n",
              "      <td>0</td>\n",
              "    </tr>\n",
              "    <tr>\n",
              "      <th>8</th>\n",
              "      <td>1</td>\n",
              "      <td>0</td>\n",
              "    </tr>\n",
              "    <tr>\n",
              "      <th>9</th>\n",
              "      <td>0</td>\n",
              "      <td>0</td>\n",
              "    </tr>\n",
              "  </tbody>\n",
              "</table>\n",
              "</div>\n",
              "      <button class=\"colab-df-convert\" onclick=\"convertToInteractive('df-ee30ebfd-2b6b-47f0-ac24-ce2fffdbbea7')\"\n",
              "              title=\"Convert this dataframe to an interactive table.\"\n",
              "              style=\"display:none;\">\n",
              "        \n",
              "  <svg xmlns=\"http://www.w3.org/2000/svg\" height=\"24px\"viewBox=\"0 0 24 24\"\n",
              "       width=\"24px\">\n",
              "    <path d=\"M0 0h24v24H0V0z\" fill=\"none\"/>\n",
              "    <path d=\"M18.56 5.44l.94 2.06.94-2.06 2.06-.94-2.06-.94-.94-2.06-.94 2.06-2.06.94zm-11 1L8.5 8.5l.94-2.06 2.06-.94-2.06-.94L8.5 2.5l-.94 2.06-2.06.94zm10 10l.94 2.06.94-2.06 2.06-.94-2.06-.94-.94-2.06-.94 2.06-2.06.94z\"/><path d=\"M17.41 7.96l-1.37-1.37c-.4-.4-.92-.59-1.43-.59-.52 0-1.04.2-1.43.59L10.3 9.45l-7.72 7.72c-.78.78-.78 2.05 0 2.83L4 21.41c.39.39.9.59 1.41.59.51 0 1.02-.2 1.41-.59l7.78-7.78 2.81-2.81c.8-.78.8-2.07 0-2.86zM5.41 20L4 18.59l7.72-7.72 1.47 1.35L5.41 20z\"/>\n",
              "  </svg>\n",
              "      </button>\n",
              "      \n",
              "  <style>\n",
              "    .colab-df-container {\n",
              "      display:flex;\n",
              "      flex-wrap:wrap;\n",
              "      gap: 12px;\n",
              "    }\n",
              "\n",
              "    .colab-df-convert {\n",
              "      background-color: #E8F0FE;\n",
              "      border: none;\n",
              "      border-radius: 50%;\n",
              "      cursor: pointer;\n",
              "      display: none;\n",
              "      fill: #1967D2;\n",
              "      height: 32px;\n",
              "      padding: 0 0 0 0;\n",
              "      width: 32px;\n",
              "    }\n",
              "\n",
              "    .colab-df-convert:hover {\n",
              "      background-color: #E2EBFA;\n",
              "      box-shadow: 0px 1px 2px rgba(60, 64, 67, 0.3), 0px 1px 3px 1px rgba(60, 64, 67, 0.15);\n",
              "      fill: #174EA6;\n",
              "    }\n",
              "\n",
              "    [theme=dark] .colab-df-convert {\n",
              "      background-color: #3B4455;\n",
              "      fill: #D2E3FC;\n",
              "    }\n",
              "\n",
              "    [theme=dark] .colab-df-convert:hover {\n",
              "      background-color: #434B5C;\n",
              "      box-shadow: 0px 1px 3px 1px rgba(0, 0, 0, 0.15);\n",
              "      filter: drop-shadow(0px 1px 2px rgba(0, 0, 0, 0.3));\n",
              "      fill: #FFFFFF;\n",
              "    }\n",
              "  </style>\n",
              "\n",
              "      <script>\n",
              "        const buttonEl =\n",
              "          document.querySelector('#df-ee30ebfd-2b6b-47f0-ac24-ce2fffdbbea7 button.colab-df-convert');\n",
              "        buttonEl.style.display =\n",
              "          google.colab.kernel.accessAllowed ? 'block' : 'none';\n",
              "\n",
              "        async function convertToInteractive(key) {\n",
              "          const element = document.querySelector('#df-ee30ebfd-2b6b-47f0-ac24-ce2fffdbbea7');\n",
              "          const dataTable =\n",
              "            await google.colab.kernel.invokeFunction('convertToInteractive',\n",
              "                                                     [key], {});\n",
              "          if (!dataTable) return;\n",
              "\n",
              "          const docLinkHtml = 'Like what you see? Visit the ' +\n",
              "            '<a target=\"_blank\" href=https://colab.research.google.com/notebooks/data_table.ipynb>data table notebook</a>'\n",
              "            + ' to learn more about interactive tables.';\n",
              "          element.innerHTML = '';\n",
              "          dataTable['output_type'] = 'display_data';\n",
              "          await google.colab.output.renderOutput(dataTable, element);\n",
              "          const docLink = document.createElement('div');\n",
              "          docLink.innerHTML = docLinkHtml;\n",
              "          element.appendChild(docLink);\n",
              "        }\n",
              "      </script>\n",
              "    </div>\n",
              "  </div>\n",
              "  "
            ],
            "text/plain": [
              "   Churn  functional prediction\n",
              "0      0                      0\n",
              "1      0                      0\n",
              "2      0                      0\n",
              "3      0                      0\n",
              "4      1                      1\n",
              "5      0                      0\n",
              "6      0                      0\n",
              "7      0                      0\n",
              "8      1                      0\n",
              "9      0                      0"
            ]
          },
          "execution_count": 97,
          "metadata": {},
          "output_type": "execute_result"
        }
      ],
      "source": [
        "# Compare result with actual result\n",
        "df_inf = pd.concat([y_inf_data, y_inf_fcn], axis=1)\n",
        "df_inf"
      ]
    },
    {
      "cell_type": "markdown",
      "metadata": {
        "id": "ARRClbLmLrEI"
      },
      "source": [
        "We can see in our functional API model that from the 10 inference data we took, the income prediction is 90% accurate. This shows that our functional API model is working quite well when dealing with new data outside the training data."
      ]
    },
    {
      "cell_type": "markdown",
      "metadata": {
        "id": "pfcQrmQVqVft"
      },
      "source": [
        "### Hyperparameter Tuned Sequential API"
      ]
    },
    {
      "cell_type": "code",
      "execution_count": 99,
      "metadata": {
        "colab": {
          "base_uri": "https://localhost:8080/"
        },
        "id": "fR0rPypz0Fjw",
        "outputId": "aa3cbf8e-44da-4431-eb05-5112919fb946"
      },
      "outputs": [
        {
          "name": "stdout",
          "output_type": "stream",
          "text": [
            "1/1 [==============================] - 0s 28ms/step - loss: 0.3433 - accuracy: 0.9000\n"
          ]
        },
        {
          "data": {
            "text/plain": [
              "[0.3433048129081726, 0.8999999761581421]"
            ]
          },
          "execution_count": 99,
          "metadata": {},
          "output_type": "execute_result"
        }
      ],
      "source": [
        "# Measure model evaluate\n",
        "sqt_model_hyper.evaluate(x_inf, y_inf)"
      ]
    },
    {
      "cell_type": "code",
      "execution_count": 100,
      "metadata": {
        "colab": {
          "base_uri": "https://localhost:8080/"
        },
        "id": "yH1IpflS0Fjw",
        "outputId": "9a4ed511-aa21-4f76-b101-ddf1709d0f22"
      },
      "outputs": [
        {
          "name": "stdout",
          "output_type": "stream",
          "text": [
            "1/1 [==============================] - 0s 28ms/step\n"
          ]
        }
      ],
      "source": [
        "# Calculate y_pred value for sequential API and append into list\n",
        "y_pred_inf = sqt_model_hyper.predict(x_inf)\n",
        "y_pred_actual_sqt_hyper_inf = []\n",
        "\n",
        "for ele in y_pred_inf:\n",
        "  if ele > 0.5:\n",
        "    y_pred_actual_sqt_hyper_inf.append(1)\n",
        "  else :\n",
        "    y_pred_actual_sqt_hyper_inf.append(0)"
      ]
    },
    {
      "cell_type": "code",
      "execution_count": 101,
      "metadata": {
        "id": "nrXG8noz0Fjx"
      },
      "outputs": [],
      "source": [
        "# Make result into dataframe\n",
        "y_inf_sqt_hyper = pd.DataFrame (y_pred_actual_sqt_hyper_inf[:10], columns = ['sequential hyperparameter prediction'])"
      ]
    },
    {
      "cell_type": "code",
      "execution_count": 102,
      "metadata": {
        "colab": {
          "base_uri": "https://localhost:8080/",
          "height": 363
        },
        "id": "xJtA6t8aiGr5",
        "outputId": "fa2be3db-3679-4265-9eb4-8cff04d5d055"
      },
      "outputs": [
        {
          "data": {
            "text/html": [
              "\n",
              "  <div id=\"df-aea1068c-9a03-4689-a365-90957ef06069\">\n",
              "    <div class=\"colab-df-container\">\n",
              "      <div>\n",
              "<style scoped>\n",
              "    .dataframe tbody tr th:only-of-type {\n",
              "        vertical-align: middle;\n",
              "    }\n",
              "\n",
              "    .dataframe tbody tr th {\n",
              "        vertical-align: top;\n",
              "    }\n",
              "\n",
              "    .dataframe thead th {\n",
              "        text-align: right;\n",
              "    }\n",
              "</style>\n",
              "<table border=\"1\" class=\"dataframe\">\n",
              "  <thead>\n",
              "    <tr style=\"text-align: right;\">\n",
              "      <th></th>\n",
              "      <th>Churn</th>\n",
              "      <th>sequential hyperparameter prediction</th>\n",
              "    </tr>\n",
              "  </thead>\n",
              "  <tbody>\n",
              "    <tr>\n",
              "      <th>0</th>\n",
              "      <td>0</td>\n",
              "      <td>0</td>\n",
              "    </tr>\n",
              "    <tr>\n",
              "      <th>1</th>\n",
              "      <td>0</td>\n",
              "      <td>0</td>\n",
              "    </tr>\n",
              "    <tr>\n",
              "      <th>2</th>\n",
              "      <td>0</td>\n",
              "      <td>0</td>\n",
              "    </tr>\n",
              "    <tr>\n",
              "      <th>3</th>\n",
              "      <td>0</td>\n",
              "      <td>0</td>\n",
              "    </tr>\n",
              "    <tr>\n",
              "      <th>4</th>\n",
              "      <td>1</td>\n",
              "      <td>1</td>\n",
              "    </tr>\n",
              "    <tr>\n",
              "      <th>5</th>\n",
              "      <td>0</td>\n",
              "      <td>0</td>\n",
              "    </tr>\n",
              "    <tr>\n",
              "      <th>6</th>\n",
              "      <td>0</td>\n",
              "      <td>0</td>\n",
              "    </tr>\n",
              "    <tr>\n",
              "      <th>7</th>\n",
              "      <td>0</td>\n",
              "      <td>0</td>\n",
              "    </tr>\n",
              "    <tr>\n",
              "      <th>8</th>\n",
              "      <td>1</td>\n",
              "      <td>0</td>\n",
              "    </tr>\n",
              "    <tr>\n",
              "      <th>9</th>\n",
              "      <td>0</td>\n",
              "      <td>0</td>\n",
              "    </tr>\n",
              "  </tbody>\n",
              "</table>\n",
              "</div>\n",
              "      <button class=\"colab-df-convert\" onclick=\"convertToInteractive('df-aea1068c-9a03-4689-a365-90957ef06069')\"\n",
              "              title=\"Convert this dataframe to an interactive table.\"\n",
              "              style=\"display:none;\">\n",
              "        \n",
              "  <svg xmlns=\"http://www.w3.org/2000/svg\" height=\"24px\"viewBox=\"0 0 24 24\"\n",
              "       width=\"24px\">\n",
              "    <path d=\"M0 0h24v24H0V0z\" fill=\"none\"/>\n",
              "    <path d=\"M18.56 5.44l.94 2.06.94-2.06 2.06-.94-2.06-.94-.94-2.06-.94 2.06-2.06.94zm-11 1L8.5 8.5l.94-2.06 2.06-.94-2.06-.94L8.5 2.5l-.94 2.06-2.06.94zm10 10l.94 2.06.94-2.06 2.06-.94-2.06-.94-.94-2.06-.94 2.06-2.06.94z\"/><path d=\"M17.41 7.96l-1.37-1.37c-.4-.4-.92-.59-1.43-.59-.52 0-1.04.2-1.43.59L10.3 9.45l-7.72 7.72c-.78.78-.78 2.05 0 2.83L4 21.41c.39.39.9.59 1.41.59.51 0 1.02-.2 1.41-.59l7.78-7.78 2.81-2.81c.8-.78.8-2.07 0-2.86zM5.41 20L4 18.59l7.72-7.72 1.47 1.35L5.41 20z\"/>\n",
              "  </svg>\n",
              "      </button>\n",
              "      \n",
              "  <style>\n",
              "    .colab-df-container {\n",
              "      display:flex;\n",
              "      flex-wrap:wrap;\n",
              "      gap: 12px;\n",
              "    }\n",
              "\n",
              "    .colab-df-convert {\n",
              "      background-color: #E8F0FE;\n",
              "      border: none;\n",
              "      border-radius: 50%;\n",
              "      cursor: pointer;\n",
              "      display: none;\n",
              "      fill: #1967D2;\n",
              "      height: 32px;\n",
              "      padding: 0 0 0 0;\n",
              "      width: 32px;\n",
              "    }\n",
              "\n",
              "    .colab-df-convert:hover {\n",
              "      background-color: #E2EBFA;\n",
              "      box-shadow: 0px 1px 2px rgba(60, 64, 67, 0.3), 0px 1px 3px 1px rgba(60, 64, 67, 0.15);\n",
              "      fill: #174EA6;\n",
              "    }\n",
              "\n",
              "    [theme=dark] .colab-df-convert {\n",
              "      background-color: #3B4455;\n",
              "      fill: #D2E3FC;\n",
              "    }\n",
              "\n",
              "    [theme=dark] .colab-df-convert:hover {\n",
              "      background-color: #434B5C;\n",
              "      box-shadow: 0px 1px 3px 1px rgba(0, 0, 0, 0.15);\n",
              "      filter: drop-shadow(0px 1px 2px rgba(0, 0, 0, 0.3));\n",
              "      fill: #FFFFFF;\n",
              "    }\n",
              "  </style>\n",
              "\n",
              "      <script>\n",
              "        const buttonEl =\n",
              "          document.querySelector('#df-aea1068c-9a03-4689-a365-90957ef06069 button.colab-df-convert');\n",
              "        buttonEl.style.display =\n",
              "          google.colab.kernel.accessAllowed ? 'block' : 'none';\n",
              "\n",
              "        async function convertToInteractive(key) {\n",
              "          const element = document.querySelector('#df-aea1068c-9a03-4689-a365-90957ef06069');\n",
              "          const dataTable =\n",
              "            await google.colab.kernel.invokeFunction('convertToInteractive',\n",
              "                                                     [key], {});\n",
              "          if (!dataTable) return;\n",
              "\n",
              "          const docLinkHtml = 'Like what you see? Visit the ' +\n",
              "            '<a target=\"_blank\" href=https://colab.research.google.com/notebooks/data_table.ipynb>data table notebook</a>'\n",
              "            + ' to learn more about interactive tables.';\n",
              "          element.innerHTML = '';\n",
              "          dataTable['output_type'] = 'display_data';\n",
              "          await google.colab.output.renderOutput(dataTable, element);\n",
              "          const docLink = document.createElement('div');\n",
              "          docLink.innerHTML = docLinkHtml;\n",
              "          element.appendChild(docLink);\n",
              "        }\n",
              "      </script>\n",
              "    </div>\n",
              "  </div>\n",
              "  "
            ],
            "text/plain": [
              "   Churn  sequential hyperparameter prediction\n",
              "0      0                                     0\n",
              "1      0                                     0\n",
              "2      0                                     0\n",
              "3      0                                     0\n",
              "4      1                                     1\n",
              "5      0                                     0\n",
              "6      0                                     0\n",
              "7      0                                     0\n",
              "8      1                                     0\n",
              "9      0                                     0"
            ]
          },
          "execution_count": 102,
          "metadata": {},
          "output_type": "execute_result"
        }
      ],
      "source": [
        "# Compare result with actual result\n",
        "df_inf = pd.concat([y_inf_data, y_inf_sqt_hyper], axis=1)\n",
        "df_inf"
      ]
    },
    {
      "cell_type": "markdown",
      "metadata": {
        "id": "taLZELk-LsDS"
      },
      "source": [
        "We can see in our sequential API hyperparameter tuned model that from the 10 inference data we took, the income prediction is 90% accurate. This shows that our sequential API hyperparameter tuned model is working quite well when dealing with new data outside the training data."
      ]
    },
    {
      "cell_type": "markdown",
      "metadata": {
        "id": "6h_tZX-E187t"
      },
      "source": [
        "### Conclusion"
      ]
    },
    {
      "cell_type": "code",
      "execution_count": 103,
      "metadata": {
        "colab": {
          "base_uri": "https://localhost:8080/",
          "height": 363
        },
        "id": "_bRJ4Js718M-",
        "outputId": "8ce7134a-19f0-4100-ec73-1ba4ae3ebd96"
      },
      "outputs": [
        {
          "data": {
            "text/html": [
              "\n",
              "  <div id=\"df-45af0dfb-c5aa-459a-96d4-d871f49ea0dc\">\n",
              "    <div class=\"colab-df-container\">\n",
              "      <div>\n",
              "<style scoped>\n",
              "    .dataframe tbody tr th:only-of-type {\n",
              "        vertical-align: middle;\n",
              "    }\n",
              "\n",
              "    .dataframe tbody tr th {\n",
              "        vertical-align: top;\n",
              "    }\n",
              "\n",
              "    .dataframe thead th {\n",
              "        text-align: right;\n",
              "    }\n",
              "</style>\n",
              "<table border=\"1\" class=\"dataframe\">\n",
              "  <thead>\n",
              "    <tr style=\"text-align: right;\">\n",
              "      <th></th>\n",
              "      <th>Churn</th>\n",
              "      <th>sequential prediction</th>\n",
              "      <th>functional prediction</th>\n",
              "      <th>sequential hyperparameter prediction</th>\n",
              "    </tr>\n",
              "  </thead>\n",
              "  <tbody>\n",
              "    <tr>\n",
              "      <th>0</th>\n",
              "      <td>0</td>\n",
              "      <td>0</td>\n",
              "      <td>0</td>\n",
              "      <td>0</td>\n",
              "    </tr>\n",
              "    <tr>\n",
              "      <th>1</th>\n",
              "      <td>0</td>\n",
              "      <td>0</td>\n",
              "      <td>0</td>\n",
              "      <td>0</td>\n",
              "    </tr>\n",
              "    <tr>\n",
              "      <th>2</th>\n",
              "      <td>0</td>\n",
              "      <td>0</td>\n",
              "      <td>0</td>\n",
              "      <td>0</td>\n",
              "    </tr>\n",
              "    <tr>\n",
              "      <th>3</th>\n",
              "      <td>0</td>\n",
              "      <td>0</td>\n",
              "      <td>0</td>\n",
              "      <td>0</td>\n",
              "    </tr>\n",
              "    <tr>\n",
              "      <th>4</th>\n",
              "      <td>1</td>\n",
              "      <td>1</td>\n",
              "      <td>1</td>\n",
              "      <td>1</td>\n",
              "    </tr>\n",
              "    <tr>\n",
              "      <th>5</th>\n",
              "      <td>0</td>\n",
              "      <td>0</td>\n",
              "      <td>0</td>\n",
              "      <td>0</td>\n",
              "    </tr>\n",
              "    <tr>\n",
              "      <th>6</th>\n",
              "      <td>0</td>\n",
              "      <td>0</td>\n",
              "      <td>0</td>\n",
              "      <td>0</td>\n",
              "    </tr>\n",
              "    <tr>\n",
              "      <th>7</th>\n",
              "      <td>0</td>\n",
              "      <td>0</td>\n",
              "      <td>0</td>\n",
              "      <td>0</td>\n",
              "    </tr>\n",
              "    <tr>\n",
              "      <th>8</th>\n",
              "      <td>1</td>\n",
              "      <td>0</td>\n",
              "      <td>0</td>\n",
              "      <td>0</td>\n",
              "    </tr>\n",
              "    <tr>\n",
              "      <th>9</th>\n",
              "      <td>0</td>\n",
              "      <td>0</td>\n",
              "      <td>0</td>\n",
              "      <td>0</td>\n",
              "    </tr>\n",
              "  </tbody>\n",
              "</table>\n",
              "</div>\n",
              "      <button class=\"colab-df-convert\" onclick=\"convertToInteractive('df-45af0dfb-c5aa-459a-96d4-d871f49ea0dc')\"\n",
              "              title=\"Convert this dataframe to an interactive table.\"\n",
              "              style=\"display:none;\">\n",
              "        \n",
              "  <svg xmlns=\"http://www.w3.org/2000/svg\" height=\"24px\"viewBox=\"0 0 24 24\"\n",
              "       width=\"24px\">\n",
              "    <path d=\"M0 0h24v24H0V0z\" fill=\"none\"/>\n",
              "    <path d=\"M18.56 5.44l.94 2.06.94-2.06 2.06-.94-2.06-.94-.94-2.06-.94 2.06-2.06.94zm-11 1L8.5 8.5l.94-2.06 2.06-.94-2.06-.94L8.5 2.5l-.94 2.06-2.06.94zm10 10l.94 2.06.94-2.06 2.06-.94-2.06-.94-.94-2.06-.94 2.06-2.06.94z\"/><path d=\"M17.41 7.96l-1.37-1.37c-.4-.4-.92-.59-1.43-.59-.52 0-1.04.2-1.43.59L10.3 9.45l-7.72 7.72c-.78.78-.78 2.05 0 2.83L4 21.41c.39.39.9.59 1.41.59.51 0 1.02-.2 1.41-.59l7.78-7.78 2.81-2.81c.8-.78.8-2.07 0-2.86zM5.41 20L4 18.59l7.72-7.72 1.47 1.35L5.41 20z\"/>\n",
              "  </svg>\n",
              "      </button>\n",
              "      \n",
              "  <style>\n",
              "    .colab-df-container {\n",
              "      display:flex;\n",
              "      flex-wrap:wrap;\n",
              "      gap: 12px;\n",
              "    }\n",
              "\n",
              "    .colab-df-convert {\n",
              "      background-color: #E8F0FE;\n",
              "      border: none;\n",
              "      border-radius: 50%;\n",
              "      cursor: pointer;\n",
              "      display: none;\n",
              "      fill: #1967D2;\n",
              "      height: 32px;\n",
              "      padding: 0 0 0 0;\n",
              "      width: 32px;\n",
              "    }\n",
              "\n",
              "    .colab-df-convert:hover {\n",
              "      background-color: #E2EBFA;\n",
              "      box-shadow: 0px 1px 2px rgba(60, 64, 67, 0.3), 0px 1px 3px 1px rgba(60, 64, 67, 0.15);\n",
              "      fill: #174EA6;\n",
              "    }\n",
              "\n",
              "    [theme=dark] .colab-df-convert {\n",
              "      background-color: #3B4455;\n",
              "      fill: #D2E3FC;\n",
              "    }\n",
              "\n",
              "    [theme=dark] .colab-df-convert:hover {\n",
              "      background-color: #434B5C;\n",
              "      box-shadow: 0px 1px 3px 1px rgba(0, 0, 0, 0.15);\n",
              "      filter: drop-shadow(0px 1px 2px rgba(0, 0, 0, 0.3));\n",
              "      fill: #FFFFFF;\n",
              "    }\n",
              "  </style>\n",
              "\n",
              "      <script>\n",
              "        const buttonEl =\n",
              "          document.querySelector('#df-45af0dfb-c5aa-459a-96d4-d871f49ea0dc button.colab-df-convert');\n",
              "        buttonEl.style.display =\n",
              "          google.colab.kernel.accessAllowed ? 'block' : 'none';\n",
              "\n",
              "        async function convertToInteractive(key) {\n",
              "          const element = document.querySelector('#df-45af0dfb-c5aa-459a-96d4-d871f49ea0dc');\n",
              "          const dataTable =\n",
              "            await google.colab.kernel.invokeFunction('convertToInteractive',\n",
              "                                                     [key], {});\n",
              "          if (!dataTable) return;\n",
              "\n",
              "          const docLinkHtml = 'Like what you see? Visit the ' +\n",
              "            '<a target=\"_blank\" href=https://colab.research.google.com/notebooks/data_table.ipynb>data table notebook</a>'\n",
              "            + ' to learn more about interactive tables.';\n",
              "          element.innerHTML = '';\n",
              "          dataTable['output_type'] = 'display_data';\n",
              "          await google.colab.output.renderOutput(dataTable, element);\n",
              "          const docLink = document.createElement('div');\n",
              "          docLink.innerHTML = docLinkHtml;\n",
              "          element.appendChild(docLink);\n",
              "        }\n",
              "      </script>\n",
              "    </div>\n",
              "  </div>\n",
              "  "
            ],
            "text/plain": [
              "   Churn  sequential prediction  functional prediction  \\\n",
              "0      0                      0                      0   \n",
              "1      0                      0                      0   \n",
              "2      0                      0                      0   \n",
              "3      0                      0                      0   \n",
              "4      1                      1                      1   \n",
              "5      0                      0                      0   \n",
              "6      0                      0                      0   \n",
              "7      0                      0                      0   \n",
              "8      1                      0                      0   \n",
              "9      0                      0                      0   \n",
              "\n",
              "   sequential hyperparameter prediction  \n",
              "0                                     0  \n",
              "1                                     0  \n",
              "2                                     0  \n",
              "3                                     0  \n",
              "4                                     1  \n",
              "5                                     0  \n",
              "6                                     0  \n",
              "7                                     0  \n",
              "8                                     0  \n",
              "9                                     0  "
            ]
          },
          "execution_count": 103,
          "metadata": {},
          "output_type": "execute_result"
        }
      ],
      "source": [
        "# Compare result with actual result\n",
        "df_inf = pd.concat([y_inf_data,y_inf_sqt, y_inf_fcn, y_inf_sqt_hyper], axis=1)\n",
        "df_inf"
      ]
    },
    {
      "cell_type": "markdown",
      "metadata": {
        "id": "nzOhfQquLvFm"
      },
      "source": [
        "Overall, from the result of the inference data prediction, we can see that overall our models are working with 90% accuracy. This is an interesting result and this result might just come because we only have small sample of inference data. For further improvement, adjustment might be needed to train the model and more inference data to test the model would be needed."
      ]
    },
    {
      "cell_type": "markdown",
      "metadata": {
        "id": "l0jIx_dh6fbr"
      },
      "source": [
        "# XI. Pengambilan Kesimpulan"
      ]
    },
    {
      "cell_type": "markdown",
      "metadata": {
        "id": "neozJ0WfNAwu"
      },
      "source": [
        "From my analysis above, I have found that:\n",
        "\n",
        "In the exploratory data analysis: \n",
        "- a quarter of the customers from the data are stopped using Telco's product or service during a certain time frame.\n",
        "- Senior customers have more tendency to churn, hence we can see that age does affect churn rate.\n",
        "- Customers without partners or dependents have more tendency to churn, as they do not require telecommunication services as much as customers with partners or dependents. \n",
        "- Phone customers have more tendency to churn, which implies that Telco's phone services showed high customer dissatisfaction.\n",
        "- Customers with fiber optics internet have more tendency to churn, unlike customers with DSL internet. This implies a problem in fiber optics internet service from Telco.\n",
        "- Internet customers without online security, online backup, device protection, and tech support services have more tendency to churn.\n",
        "- TV and movies streaming services in internet customers does not affect customers tendency to churn.\n",
        "- Customers with longer tenure and contracts show more commitment and loyalty, as shown by the less churn tendency the longer they became Telco's customers.\n",
        "- From the graph, we can see that there are more tendency to churn on customers with paperless bill and on customers with electronic check compared to other payment methods. This could implies a problem in electronic check payment system or e-billing system.\n",
        "- There are not much difference in monthly payments between customers who continue and stopped using Telco's product or service during a certain time frame.\n",
        "\n",
        "In the model evaluation: \n",
        "- both sequential API and functional API model are overfitting.\n",
        "- The sequential API hyperparameter tuned model does not show a lot of difference from the default sequential API model in terms of accuracy based on classification report and confusion matrix.\n",
        "- All three models have similar accuracy from the result of classification reports.\n",
        "- Optimizing the parameters of the model improve model from overfitting into a good fit.  \n",
        "\n",
        "In the model inference:\n",
        "- all three models are working with 90% accuracy in inference data\n",
        "- The accuracy is in line with the similarities of three models accuracy calculation.\n",
        "- The size of the inference data is small and this could be the reason of the accuracy / lack of accuracy. \n",
        "\n",
        "Future improvement:\n",
        "- Get more data for better accuracy\n",
        "- Try to handle missing datas and outliers data even better for more accuracy\n",
        "- Try out other algorithm as comparison"
      ]
    }
  ],
  "metadata": {
    "colab": {
      "collapsed_sections": [
        "2gMVCo2l8wWQ",
        "DTdL2AYB6fbr",
        "62n_-kUACMCB",
        "AQceV-XQpHhh",
        "TK8axHxqIV0L",
        "boeW-8KKznI-",
        "v9DLk3J6qVQY",
        "l3JAG72rqVYs",
        "pfcQrmQVqVft",
        "6h_tZX-E187t"
      ],
      "provenance": []
    },
    "gpuClass": "standard",
    "kernelspec": {
      "display_name": "Python 3.9.12 ('base')",
      "language": "python",
      "name": "python3"
    },
    "language_info": {
      "codemirror_mode": {
        "name": "ipython",
        "version": 3
      },
      "file_extension": ".py",
      "mimetype": "text/x-python",
      "name": "python",
      "nbconvert_exporter": "python",
      "pygments_lexer": "ipython3",
      "version": "3.9.12"
    },
    "orig_nbformat": 4,
    "vscode": {
      "interpreter": {
        "hash": "690fcc030dbde6f3f652c519b06a0d95da528e66105ed58c88e506e5818277cb"
      }
    }
  },
  "nbformat": 4,
  "nbformat_minor": 0
}
